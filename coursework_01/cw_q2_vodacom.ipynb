{
 "cells": [
  {
   "cell_type": "markdown",
   "metadata": {},
   "source": [
    "# Coursework 1: Question 2 - Vodacom Dataset"
   ]
  },
  {
   "cell_type": "markdown",
   "metadata": {},
   "source": [
    "## Import Libraries"
   ]
  },
  {
   "cell_type": "code",
   "execution_count": 1,
   "metadata": {},
   "outputs": [],
   "source": [
    "import pandas as pd\n",
    "from tqdm.notebook import tqdm"
   ]
  },
  {
   "cell_type": "markdown",
   "metadata": {},
   "source": [
    "## Source Data\n",
    "\n",
    "Get the source data to use for clustering."
   ]
  },
  {
   "cell_type": "markdown",
   "metadata": {},
   "source": [
    "### Data Load\n",
    "\n",
    "Load customers reviews that was previously downloaded from Hellopeter in the [DSM020](https://github.com/JohnnyFoulds/dsm020-2021-oct) git repository."
   ]
  },
  {
   "cell_type": "code",
   "execution_count": 2,
   "metadata": {},
   "outputs": [
    {
     "data": {
      "text/plain": [
       "(35072, 17)"
      ]
     },
     "execution_count": 2,
     "metadata": {},
     "output_type": "execute_result"
    }
   ],
   "source": [
    "df_source = pd.read_parquet('https://github.com/JohnnyFoulds/dsm020-2021-oct/blob/master/coursework_01/data/output/telecommunications.gzip?raw=true')\n",
    "df_source.shape"
   ]
  },
  {
   "cell_type": "code",
   "execution_count": 3,
   "metadata": {},
   "outputs": [
    {
     "data": {
      "text/html": [
       "<div>\n",
       "<style scoped>\n",
       "    .dataframe tbody tr th:only-of-type {\n",
       "        vertical-align: middle;\n",
       "    }\n",
       "\n",
       "    .dataframe tbody tr th {\n",
       "        vertical-align: top;\n",
       "    }\n",
       "\n",
       "    .dataframe thead th {\n",
       "        text-align: right;\n",
       "    }\n",
       "</style>\n",
       "<table border=\"1\" class=\"dataframe\">\n",
       "  <thead>\n",
       "    <tr style=\"text-align: right;\">\n",
       "      <th></th>\n",
       "      <th>id</th>\n",
       "      <th>created_at</th>\n",
       "      <th>author</th>\n",
       "      <th>author_id</th>\n",
       "      <th>review_title</th>\n",
       "      <th>review_rating</th>\n",
       "      <th>review_content</th>\n",
       "      <th>business_slug</th>\n",
       "      <th>permalink</th>\n",
       "      <th>replied</th>\n",
       "      <th>messages</th>\n",
       "      <th>industry_slug</th>\n",
       "      <th>nps_rating</th>\n",
       "      <th>author_created_date</th>\n",
       "      <th>author_total_reviews_count</th>\n",
       "      <th>review_title_clean</th>\n",
       "      <th>review_content_clean</th>\n",
       "    </tr>\n",
       "  </thead>\n",
       "  <tbody>\n",
       "    <tr>\n",
       "      <th>0</th>\n",
       "      <td>3750417</td>\n",
       "      <td>2021-12-21 15:27:08</td>\n",
       "      <td>Barry S</td>\n",
       "      <td>05c6e290-6186-11ec-b1c0-cd74559df45d</td>\n",
       "      <td>Worst Service</td>\n",
       "      <td>1</td>\n",
       "      <td>Worst service I’ve received in my life. Non of...</td>\n",
       "      <td>vodacom</td>\n",
       "      <td>worst-service-04099ff193227e2908f31413b00ffb30...</td>\n",
       "      <td>False</td>\n",
       "      <td>[]</td>\n",
       "      <td>telecommunications</td>\n",
       "      <td>NaN</td>\n",
       "      <td>2021-12-20</td>\n",
       "      <td>1</td>\n",
       "      <td>Worst Service</td>\n",
       "      <td>Worst service I’ve received in my life. Non of...</td>\n",
       "    </tr>\n",
       "    <tr>\n",
       "      <th>1</th>\n",
       "      <td>3750406</td>\n",
       "      <td>2021-12-21 15:19:45</td>\n",
       "      <td>Kulani Marry-Aan</td>\n",
       "      <td>0a616360-6260-11ec-b18f-0f0735b462a0</td>\n",
       "      <td>Complaint about customer service</td>\n",
       "      <td>1</td>\n",
       "      <td>18/12/2021 i bought a router at Vodacom Bushbu...</td>\n",
       "      <td>vodacom</td>\n",
       "      <td>complaint-about-customer-service-28c9107344f3a...</td>\n",
       "      <td>False</td>\n",
       "      <td>[]</td>\n",
       "      <td>telecommunications</td>\n",
       "      <td>NaN</td>\n",
       "      <td>2021-12-21</td>\n",
       "      <td>1</td>\n",
       "      <td>Complaint about customer service</td>\n",
       "      <td>18/12/2021 i bought a router at Vodacom Bushbu...</td>\n",
       "    </tr>\n",
       "  </tbody>\n",
       "</table>\n",
       "</div>"
      ],
      "text/plain": [
       "        id          created_at            author  \\\n",
       "0  3750417 2021-12-21 15:27:08           Barry S   \n",
       "1  3750406 2021-12-21 15:19:45  Kulani Marry-Aan   \n",
       "\n",
       "                              author_id                      review_title  \\\n",
       "0  05c6e290-6186-11ec-b1c0-cd74559df45d                     Worst Service   \n",
       "1  0a616360-6260-11ec-b18f-0f0735b462a0  Complaint about customer service   \n",
       "\n",
       "   review_rating                                     review_content  \\\n",
       "0              1  Worst service I’ve received in my life. Non of...   \n",
       "1              1  18/12/2021 i bought a router at Vodacom Bushbu...   \n",
       "\n",
       "  business_slug                                          permalink  replied  \\\n",
       "0       vodacom  worst-service-04099ff193227e2908f31413b00ffb30...    False   \n",
       "1       vodacom  complaint-about-customer-service-28c9107344f3a...    False   \n",
       "\n",
       "  messages       industry_slug  nps_rating author_created_date  \\\n",
       "0       []  telecommunications         NaN          2021-12-20   \n",
       "1       []  telecommunications         NaN          2021-12-21   \n",
       "\n",
       "   author_total_reviews_count                review_title_clean  \\\n",
       "0                           1                     Worst Service   \n",
       "1                           1  Complaint about customer service   \n",
       "\n",
       "                                review_content_clean  \n",
       "0  Worst service I’ve received in my life. Non of...  \n",
       "1  18/12/2021 i bought a router at Vodacom Bushbu...  "
      ]
     },
     "execution_count": 3,
     "metadata": {},
     "output_type": "execute_result"
    }
   ],
   "source": [
    "df_source.head(2)"
   ]
  },
  {
   "cell_type": "markdown",
   "metadata": {},
   "source": [
    "### Data Selection\n",
    "\n",
    "Select only reviews from `vodacom` with the `review_title` and `review_content_clean` being the only data of interest."
   ]
  },
  {
   "cell_type": "code",
   "execution_count": 4,
   "metadata": {},
   "outputs": [
    {
     "data": {
      "text/plain": [
       "(13699, 3)"
      ]
     },
     "execution_count": 4,
     "metadata": {},
     "output_type": "execute_result"
    }
   ],
   "source": [
    "df_reviews = df_source.query('business_slug == \"vodacom\"')[['id', 'review_title', 'review_content_clean']].reset_index(drop=True)\n",
    "df_reviews.shape"
   ]
  },
  {
   "cell_type": "code",
   "execution_count": 5,
   "metadata": {},
   "outputs": [
    {
     "data": {
      "text/html": [
       "<div>\n",
       "<style scoped>\n",
       "    .dataframe tbody tr th:only-of-type {\n",
       "        vertical-align: middle;\n",
       "    }\n",
       "\n",
       "    .dataframe tbody tr th {\n",
       "        vertical-align: top;\n",
       "    }\n",
       "\n",
       "    .dataframe thead th {\n",
       "        text-align: right;\n",
       "    }\n",
       "</style>\n",
       "<table border=\"1\" class=\"dataframe\">\n",
       "  <thead>\n",
       "    <tr style=\"text-align: right;\">\n",
       "      <th></th>\n",
       "      <th>id</th>\n",
       "      <th>review_title</th>\n",
       "      <th>review_content_clean</th>\n",
       "    </tr>\n",
       "  </thead>\n",
       "  <tbody>\n",
       "    <tr>\n",
       "      <th>0</th>\n",
       "      <td>3750417</td>\n",
       "      <td>Worst Service</td>\n",
       "      <td>Worst service I’ve received in my life. Non of...</td>\n",
       "    </tr>\n",
       "    <tr>\n",
       "      <th>1</th>\n",
       "      <td>3750406</td>\n",
       "      <td>Complaint about customer service</td>\n",
       "      <td>18/12/2021 i bought a router at Vodacom Bushbu...</td>\n",
       "    </tr>\n",
       "    <tr>\n",
       "      <th>2</th>\n",
       "      <td>3750373</td>\n",
       "      <td>VODACOM not living up to promises and just wan...</td>\n",
       "      <td>I need help with Vodacom.  I have been a custo...</td>\n",
       "    </tr>\n",
       "  </tbody>\n",
       "</table>\n",
       "</div>"
      ],
      "text/plain": [
       "        id                                       review_title  \\\n",
       "0  3750417                                      Worst Service   \n",
       "1  3750406                   Complaint about customer service   \n",
       "2  3750373  VODACOM not living up to promises and just wan...   \n",
       "\n",
       "                                review_content_clean  \n",
       "0  Worst service I’ve received in my life. Non of...  \n",
       "1  18/12/2021 i bought a router at Vodacom Bushbu...  \n",
       "2  I need help with Vodacom.  I have been a custo...  "
      ]
     },
     "execution_count": 5,
     "metadata": {},
     "output_type": "execute_result"
    }
   ],
   "source": [
    "df_reviews.head(3)"
   ]
  },
  {
   "cell_type": "markdown",
   "metadata": {},
   "source": [
    "### Data Preparation\n",
    "\n",
    "Create an individual text file for each review for upload to HDFS."
   ]
  },
  {
   "cell_type": "code",
   "execution_count": 10,
   "metadata": {},
   "outputs": [
    {
     "data": {
      "application/vnd.jupyter.widget-view+json": {
       "model_id": "8c64b8d3307b4637ae3db1809f90795b",
       "version_major": 2,
       "version_minor": 0
      },
      "text/plain": [
       "  0%|          | 0/3 [00:00<?, ?it/s]"
      ]
     },
     "metadata": {},
     "output_type": "display_data"
    }
   ],
   "source": [
    "def create_files(data:pd.DataFrame, output_path:str, id_column:str='id', title_column:str='review_title', content_column:str='review_content_clean') -> None:\n",
    "    \"\"\"\n",
    "    Create a output .txt file for each review in the dataset.\n",
    "\n",
    "    Parameters\n",
    "    ----------\n",
    "    data : pandas.DataFrame\n",
    "        The DataFrame containint the reviews to process.\n",
    "\n",
    "    output_path : str\n",
    "        The path where the .txt files should be stored\n",
    "\n",
    "    id_column : str\n",
    "        The name of the ID column that will be used for the filename.\n",
    "\n",
    "    title_column : str\n",
    "        The name of the column in the DataFrame containing the review title.\n",
    "\n",
    "    content_column : str\n",
    "        The name of the column in the DataFrame containing the review text.\n",
    "    \"\"\"\n",
    "    for index, row in tqdm(data.iterrows(), total=data.shape[0]):\n",
    "        # get the output filename\n",
    "        filename = '%s/%s.txt' % (output_path, row[id_column])\n",
    "\n",
    "        # get the text to write to file\n",
    "        output_text = '%s\\n\\n%s' % (row[title_column], row[content_column])\n",
    "\n",
    "        # create the output file\n",
    "        with open(filename, 'w') as f:\n",
    "            f.write(output_text)\n",
    "\n",
    "# create the output files\n",
    "create_files(df_reviews, 'data/input/vodacom')"
   ]
  }
 ],
 "metadata": {
  "interpreter": {
   "hash": "429f3e8d45833d845e6e031dbf3e229703adf0bd2129019c99d8da7ba46dd29e"
  },
  "kernelspec": {
   "display_name": "Python 3.8.12 64-bit ('dsm010': conda)",
   "language": "python",
   "name": "python3"
  },
  "language_info": {
   "codemirror_mode": {
    "name": "ipython",
    "version": 3
   },
   "file_extension": ".py",
   "mimetype": "text/x-python",
   "name": "python",
   "nbconvert_exporter": "python",
   "pygments_lexer": "ipython3",
   "version": "3.8.12"
  },
  "orig_nbformat": 4
 },
 "nbformat": 4,
 "nbformat_minor": 2
}
