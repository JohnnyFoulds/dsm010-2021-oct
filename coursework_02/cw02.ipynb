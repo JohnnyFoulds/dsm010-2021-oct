{
 "cells": [
  {
   "cell_type": "markdown",
   "metadata": {},
   "source": [
    "## Web References\n",
    "\n",
    "### System\n",
    "\n",
    "- [How to copy a file without using scp inside an ssh session?](https://superuser.com/questions/291423/how-to-copy-a-file-without-using-scp-inside-an-ssh-session)\n",
    "\n",
    "### PySpark\n",
    "\n",
    "- [Complete Machine Learning Project with PySpark MLlib Tutorial](https://www.youtube.com/watch?v=1a7bB1ZcZ3k)\n",
    "- [The ONLY PySpark Tutorial You Will Ever Need.](https://www.youtube.com/watch?v=cZS5xYYIPzk)\n",
    "- [PySpark When Otherwise | SQL Case When Usage](https://sparkbyexamples.com/pyspark/pyspark-when-otherwise/)\n",
    "- [Spark rlike() Working with Regex Matching Examples](https://sparkbyexamples.com/spark/spark-rlike-regex-matching-examples/)\n",
    "\n",
    "### Anomaly Detection\n",
    "\n",
    "- [How to Build an Anomaly Detection Engine with Spark, Akka and Cassandra](https://learning.oreilly.com/videos/how-to-build/9781491955253/9781491955253-video244545/)\n",
    "- [Real Time Detection of Anomalies in the Database Infrastructure using Apache Spark](https://www.youtube.com/watch?v=1IsMMmug5q0)\n",
    "\n",
    "### Other\n",
    "\n",
    "- [What is CRISP DM?](https://www.datascience-pm.com/crisp-dm-2/)\n",
    "\n",
    "### Internet Traffic\n",
    "\n",
    "- [Data mining approach for predicting the daily Internet data traffic of a smart university](https://journalofbigdata.springeropen.com/articles/10.1186/s40537-019-0176-5)"
   ]
  },
  {
   "cell_type": "markdown",
   "metadata": {},
   "source": [
    "## Import Libraries"
   ]
  },
  {
   "cell_type": "code",
   "execution_count": 71,
   "metadata": {},
   "outputs": [],
   "source": [
    "import pyspark\n",
    "from pyspark.sql import SparkSession\n",
    "from pyspark.sql.functions import when, asc, desc, col"
   ]
  },
  {
   "cell_type": "markdown",
   "metadata": {},
   "source": [
    "## HDFS Preparation"
   ]
  },
  {
   "cell_type": "code",
   "execution_count": 2,
   "metadata": {},
   "outputs": [
    {
     "name": "stdout",
     "output_type": "stream",
     "text": [
      "Deleted router/output\n",
      "Found 1 items\n",
      "-rw-r--r--   3 jfoul001 users    1136415 2022-03-04 12:05 router/raw/bandwidth.csv\n"
     ]
    }
   ],
   "source": [
    "%%bash\n",
    "#!/bin/bash\n",
    "\n",
    "# delete the \n",
    "if hadoop fs -test -d router; then\n",
    "    # delete the output directory\n",
    "    hadoop fs -rm -r router/output\n",
    "\n",
    "    # create a new output directory\n",
    "    hadoop fs -mkdir router/output\n",
    "else\n",
    "    # create the router directory and upload the input files\n",
    "    hadoop fs -mkdir router\n",
    "    hadoop fs -mkdir router/raw\n",
    "    hadoop fs -put data/bandwidth.csv router/raw/\n",
    "\n",
    "    # create the output directory\n",
    "    hadoop fs -mkdir router/output\n",
    "fi\n",
    "\n",
    "hadoop fs -ls router/raw\n"
   ]
  },
  {
   "cell_type": "markdown",
   "metadata": {},
   "source": [
    "## Initialize the Spark Session"
   ]
  },
  {
   "cell_type": "code",
   "execution_count": 3,
   "metadata": {},
   "outputs": [
    {
     "name": "stderr",
     "output_type": "stream",
     "text": [
      "WARNING: An illegal reflective access operation has occurred\n",
      "WARNING: Illegal reflective access by org.apache.spark.unsafe.Platform (file:/opt/spark/spark-3.0.1-bin-hadoop3.2/jars/spark-unsafe_2.12-3.0.1.jar) to constructor java.nio.DirectByteBuffer(long,int)\n",
      "WARNING: Please consider reporting this to the maintainers of org.apache.spark.unsafe.Platform\n",
      "WARNING: Use --illegal-access=warn to enable warnings of further illegal reflective access operations\n",
      "WARNING: All illegal access operations will be denied in a future release\n",
      "Setting default log level to \"ERROR\".\n",
      "To adjust logging level use sc.setLogLevel(newLevel). For SparkR, use setLogLevel(newLevel).\n"
     ]
    },
    {
     "data": {
      "text/html": [
       "\n",
       "            <div>\n",
       "                <p><b>SparkSession - in-memory</b></p>\n",
       "                \n",
       "        <div>\n",
       "            <p><b>SparkContext</b></p>\n",
       "\n",
       "            <p><a href=\"http://lena-master:4059\">Spark UI</a></p>\n",
       "\n",
       "            <dl>\n",
       "              <dt>Version</dt>\n",
       "                <dd><code>v3.0.1</code></dd>\n",
       "              <dt>Master</dt>\n",
       "                <dd><code>yarn</code></dd>\n",
       "              <dt>AppName</dt>\n",
       "                <dd><code>cw02</code></dd>\n",
       "            </dl>\n",
       "        </div>\n",
       "        \n",
       "            </div>\n",
       "        "
      ],
      "text/plain": [
       "<pyspark.sql.session.SparkSession at 0x7fec281835e0>"
      ]
     },
     "execution_count": 3,
     "metadata": {},
     "output_type": "execute_result"
    }
   ],
   "source": [
    "spark = SparkSession.builder.appName('cw02').getOrCreate()\n",
    "spark"
   ]
  },
  {
   "cell_type": "markdown",
   "metadata": {},
   "source": [
    "## I. Data Understanding\n",
    "\n",
    "Identify, collect, and analyze the data sets that will help accomplish the project goals"
   ]
  },
  {
   "cell_type": "markdown",
   "metadata": {},
   "source": [
    "### A. Collect Initial Data"
   ]
  },
  {
   "cell_type": "code",
   "execution_count": 4,
   "metadata": {},
   "outputs": [
    {
     "name": "stderr",
     "output_type": "stream",
     "text": [
      "                                                                                \r"
     ]
    }
   ],
   "source": [
    "df_raw = spark.read.csv('router/raw/bandwidth.csv', header=False, inferSchema=True).toDF('Direction','Interval Length','Intervals Saved','IP','Interval Start','Interval End','Bytes Used')"
   ]
  },
  {
   "cell_type": "markdown",
   "metadata": {},
   "source": [
    "### B. Describe data\n",
    "\n",
    "Examine the data and document its surface properties like data format, number of records, or field identities."
   ]
  },
  {
   "cell_type": "markdown",
   "metadata": {},
   "source": [
    "#### 1. Data Format"
   ]
  },
  {
   "cell_type": "code",
   "execution_count": 5,
   "metadata": {},
   "outputs": [
    {
     "name": "stdout",
     "output_type": "stream",
     "text": [
      "root\n",
      " |-- Direction: string (nullable = true)\n",
      " |-- Interval Length: string (nullable = true)\n",
      " |-- Intervals Saved: string (nullable = true)\n",
      " |-- IP: string (nullable = true)\n",
      " |-- Interval Start: string (nullable = true)\n",
      " |-- Interval End: integer (nullable = true)\n",
      " |-- Bytes Used: long (nullable = true)\n",
      "\n"
     ]
    }
   ],
   "source": [
    "df_raw.printSchema()"
   ]
  },
  {
   "cell_type": "code",
   "execution_count": 9,
   "metadata": {},
   "outputs": [
    {
     "name": "stderr",
     "output_type": "stream",
     "text": [
      "                                                                                \r"
     ]
    },
    {
     "data": {
      "text/plain": [
       "20278"
      ]
     },
     "execution_count": 9,
     "metadata": {},
     "output_type": "execute_result"
    }
   ],
   "source": [
    "df_raw.count()"
   ]
  },
  {
   "cell_type": "code",
   "execution_count": 6,
   "metadata": {},
   "outputs": [
    {
     "name": "stdout",
     "output_type": "stream",
     "text": [
      "+---------+---------------+---------------+--------+--------------+------------+----------+\n",
      "|Direction|Interval Length|Intervals Saved|      IP|Interval Start|Interval End|Bytes Used|\n",
      "+---------+---------------+---------------+--------+--------------+------------+----------+\n",
      "| download|              2|            449|COMBINED|    1646313474|  1646313476|    937174|\n",
      "| download|              2|            449|COMBINED|    1646313476|  1646313478|    479125|\n",
      "| download|              2|            449|COMBINED|    1646313478|  1646313480|    779950|\n",
      "| download|              2|            449|COMBINED|    1646313480|  1646313482|   1241356|\n",
      "| download|              2|            449|COMBINED|    1646313482|  1646313484|    440434|\n",
      "+---------+---------------+---------------+--------+--------------+------------+----------+\n",
      "only showing top 5 rows\n",
      "\n"
     ]
    }
   ],
   "source": [
    "df_raw.show(5)"
   ]
  },
  {
   "cell_type": "markdown",
   "metadata": {},
   "source": [
    "#### 2. Unique Categories"
   ]
  },
  {
   "cell_type": "code",
   "execution_count": 76,
   "metadata": {},
   "outputs": [
    {
     "name": "stdout",
     "output_type": "stream",
     "text": [
      "+-------------+-----+\n",
      "|interval_type|count|\n",
      "+-------------+-----+\n",
      "|           15|   86|\n",
      "|           31|  323|\n",
      "|          449| 2256|\n",
      "|           24|  286|\n",
      "|           IP|12106|\n",
      "|           12|   71|\n",
      "|     COMBINED| 5150|\n",
      "+-------------+-----+\n",
      "\n"
     ]
    }
   ],
   "source": [
    "# if an IP address is stored in the IP column recode it as simply 'IP'\n",
    "df_interval_type = df_raw.withColumn('interval_type', \n",
    "    when(df_raw['IP']\n",
    "    .rlike('^((25[0-5]|2[0-4][0-9]|[01]?[0-9][0-9]?)\\.){3}(25[0-5]|2[0-4][0-9]|[01]?[0-9][0-9]?)$'), 'IP')\n",
    "    .otherwise(df_raw['IP'])\n",
    ")\n",
    "\n",
    "df_interval_type.groupBy(['interval_type']).count().show()"
   ]
  },
  {
   "cell_type": "code",
   "execution_count": 78,
   "metadata": {},
   "outputs": [
    {
     "name": "stdout",
     "output_type": "stream",
     "text": [
      "+---------------+-------------+---------------+-----+\n",
      "|Interval Length|interval_type|Intervals Saved|count|\n",
      "+---------------+-------------+---------------+-----+\n",
      "|            180|     COMBINED|            479|  960|\n",
      "|              2|     COMBINED|            449| 1800|\n",
      "|              2|           IP|            449| 2700|\n",
      "|           7200|     COMBINED|            359|  720|\n",
      "|            900|           IP|             24| 1165|\n",
      "|            900|     COMBINED|             24|   50|\n",
      "|            day|     COMBINED|            365|  732|\n",
      "|            day|     COMBINED|             31|   64|\n",
      "|            day|           IP|             31| 3363|\n",
      "|       dclass_1|           15|         minute|   16|\n",
      "|       dclass_1|          449|              2|  450|\n",
      "|       dclass_1|           24|            900|   25|\n",
      "|       dclass_1|           12|          month|   13|\n",
      "|       dclass_1|           24|           hour|   25|\n",
      "|       dclass_1|           31|            day|   32|\n",
      "|       dclass_2|           24|           hour|   25|\n",
      "|       dclass_2|           15|         minute|   16|\n",
      "|       dclass_2|           24|            900|   25|\n",
      "|       dclass_2|           31|            day|   32|\n",
      "|       dclass_2|          449|              2|  450|\n",
      "|       dclass_2|           12|          month|   13|\n",
      "|       dclass_3|           15|         minute|    1|\n",
      "|       dclass_3|          449|              2|    1|\n",
      "|       dclass_3|           31|            day|   32|\n",
      "|       dclass_3|           24|           hour|    1|\n",
      "|       dclass_3|           12|          month|    3|\n",
      "|       dclass_3|           24|            900|    1|\n",
      "|       dclass_4|           15|         minute|    1|\n",
      "|       dclass_4|           24|            900|    1|\n",
      "|       dclass_4|           24|           hour|   25|\n",
      "|       dclass_4|          449|              2|    1|\n",
      "|       dclass_4|           12|          month|    3|\n",
      "|       dclass_4|           31|            day|   32|\n",
      "|       dclass_5|           24|           hour|    1|\n",
      "|       dclass_5|           15|         minute|    1|\n",
      "|       dclass_5|           12|          month|    3|\n",
      "|       dclass_5|           24|            900|    1|\n",
      "|       dclass_5|          449|              2|    1|\n",
      "|       dclass_5|           31|            day|   32|\n",
      "|       dclass_6|           24|            900|    1|\n",
      "|       dclass_6|           12|          month|    3|\n",
      "|       dclass_6|           24|           hour|    1|\n",
      "|       dclass_6|           15|         minute|    1|\n",
      "|       dclass_6|          449|              2|    1|\n",
      "|       dclass_6|           31|            day|   32|\n",
      "|       dclass_7|           24|           hour|    1|\n",
      "|       dclass_7|          449|              2|    1|\n",
      "|       dclass_7|           31|            day|   32|\n",
      "|       dclass_7|           15|         minute|    1|\n",
      "|       dclass_7|           24|            900|    1|\n",
      "|       dclass_7|           12|          month|    3|\n",
      "|       dclass_8|           12|          month|    1|\n",
      "|       dclass_8|           24|            900|   25|\n",
      "|       dclass_8|           31|            day|    3|\n",
      "|       dclass_8|          449|              2|  450|\n",
      "|       dclass_8|           15|         minute|   16|\n",
      "|       dclass_8|           24|           hour|   25|\n",
      "|           hour|           IP|             24| 1271|\n",
      "|           hour|     COMBINED|             24|   50|\n",
      "|         minute|     COMBINED|            359|  720|\n",
      "|         minute|     COMBINED|             15|   32|\n",
      "|         minute|           IP|             15|  722|\n",
      "|          month|     COMBINED|             12|   22|\n",
      "|          month|           IP|             12| 2885|\n",
      "|       uclass_1|           15|         minute|   16|\n",
      "|       uclass_1|           31|            day|   32|\n",
      "|       uclass_1|          449|              2|  450|\n",
      "|       uclass_1|           12|          month|   13|\n",
      "|       uclass_1|           24|           hour|   25|\n",
      "|       uclass_1|           24|            900|   25|\n",
      "|       uclass_2|          449|              2|  450|\n",
      "|       uclass_2|           12|          month|   13|\n",
      "|       uclass_2|           24|            900|   25|\n",
      "|       uclass_2|           24|           hour|   25|\n",
      "|       uclass_2|           31|            day|   32|\n",
      "|       uclass_2|           15|         minute|   16|\n",
      "|       uclass_3|           24|           hour|    1|\n",
      "|       uclass_3|           31|            day|   32|\n",
      "|       uclass_3|          449|              2|    1|\n",
      "|       uclass_3|           24|            900|    1|\n",
      "|       uclass_3|           12|          month|    3|\n",
      "|       uclass_3|           15|         minute|    1|\n",
      "+---------------+-------------+---------------+-----+\n",
      "\n"
     ]
    }
   ],
   "source": [
    "df_interval_type.groupBy(['Interval Length', 'interval_type', 'Intervals Saved']) \\\n",
    "    .count() \\\n",
    "    .orderBy(['Interval Length'], ascending=True) \\\n",
    "    .show(df_interval_type.count())"
   ]
  },
  {
   "cell_type": "markdown",
   "metadata": {},
   "source": [
    "#### 3. How many records are available for the various intervals?"
   ]
  },
  {
   "cell_type": "code",
   "execution_count": 94,
   "metadata": {},
   "outputs": [
    {
     "name": "stderr",
     "output_type": "stream",
     "text": [
      "[Stage 383:===============================================>     (179 + 1) / 200]\r"
     ]
    },
    {
     "name": "stdout",
     "output_type": "stream",
     "text": [
      "+---------------+-------------+-----+\n",
      "|Interval Length|interval_type|count|\n",
      "+---------------+-------------+-----+\n",
      "|            180|     COMBINED|  480|\n",
      "|              2|     COMBINED|  452|\n",
      "|              2|           IP|  450|\n",
      "|           7200|     COMBINED|  360|\n",
      "|            900|           IP|   25|\n",
      "|            900|     COMBINED|   25|\n",
      "|            day|           IP|   32|\n",
      "|            day|     COMBINED|  366|\n",
      "|       dclass_1|           12|   13|\n",
      "|       dclass_1|           15|   16|\n",
      "|       dclass_1|           24|   44|\n",
      "|       dclass_1|          449|  450|\n",
      "|       dclass_1|           31|   32|\n",
      "|       dclass_2|           24|   44|\n",
      "|       dclass_2|           12|   13|\n",
      "|       dclass_2|          449|  450|\n",
      "|       dclass_2|           31|   32|\n",
      "|       dclass_2|           15|   16|\n",
      "|       dclass_3|           31|   32|\n",
      "|       dclass_3|           15|    1|\n",
      "|       dclass_3|          449|    1|\n",
      "|       dclass_3|           12|    3|\n",
      "|       dclass_3|           24|    2|\n",
      "|       dclass_4|           24|   26|\n",
      "|       dclass_4|          449|    1|\n",
      "|       dclass_4|           15|    1|\n",
      "|       dclass_4|           12|    3|\n",
      "|       dclass_4|           31|   32|\n",
      "|       dclass_5|          449|    1|\n",
      "|       dclass_5|           31|   32|\n",
      "|       dclass_5|           15|    1|\n",
      "|       dclass_5|           12|    3|\n",
      "|       dclass_5|           24|    2|\n",
      "|       dclass_6|           12|    3|\n",
      "|       dclass_6|          449|    1|\n",
      "|       dclass_6|           31|   32|\n",
      "|       dclass_6|           15|    1|\n",
      "|       dclass_6|           24|    2|\n",
      "|       dclass_7|           24|    2|\n",
      "|       dclass_7|           15|    1|\n",
      "|       dclass_7|           12|    3|\n",
      "|       dclass_7|           31|   32|\n",
      "|       dclass_7|          449|    1|\n",
      "|       dclass_8|           12|    1|\n",
      "|       dclass_8|           15|   16|\n",
      "|       dclass_8|           31|    3|\n",
      "|       dclass_8|           24|   44|\n",
      "|       dclass_8|          449|  450|\n",
      "|           hour|     COMBINED|   25|\n",
      "|           hour|           IP|   25|\n",
      "|         minute|     COMBINED|  360|\n",
      "|         minute|           IP|   16|\n",
      "|          month|           IP|   15|\n",
      "|          month|     COMBINED|   14|\n",
      "|       uclass_1|           24|   44|\n",
      "|       uclass_1|           12|   13|\n",
      "|       uclass_1|           15|   16|\n",
      "|       uclass_1|          449|  450|\n",
      "|       uclass_1|           31|   32|\n",
      "|       uclass_2|           12|   13|\n",
      "|       uclass_2|          449|  450|\n",
      "|       uclass_2|           31|   32|\n",
      "|       uclass_2|           24|   44|\n",
      "|       uclass_2|           15|   16|\n",
      "|       uclass_3|           31|   32|\n",
      "|       uclass_3|           15|    1|\n",
      "|       uclass_3|           24|    2|\n",
      "|       uclass_3|           12|    3|\n",
      "|       uclass_3|          449|    1|\n",
      "+---------------+-------------+-----+\n",
      "\n"
     ]
    },
    {
     "name": "stderr",
     "output_type": "stream",
     "text": [
      "                                                                                \r"
     ]
    }
   ],
   "source": [
    "df_interval_type.drop_duplicates(['Interval Length', 'interval_type', 'Interval Start', 'Interval End']) \\\n",
    "    .groupBy(['Interval Length', 'interval_type']) \\\n",
    "    .count() \\\n",
    "    .orderBy(['Interval Length'], ascending=True) \\\n",
    "    .show(df_interval_type.count())"
   ]
  }
 ],
 "metadata": {
  "interpreter": {
   "hash": "429f3e8d45833d845e6e031dbf3e229703adf0bd2129019c99d8da7ba46dd29e"
  },
  "kernelspec": {
   "display_name": "Python 3.8.12 ('dsm010')",
   "language": "python",
   "name": "python3"
  },
  "language_info": {
   "codemirror_mode": {
    "name": "ipython",
    "version": 3
   },
   "file_extension": ".py",
   "mimetype": "text/x-python",
   "name": "python",
   "nbconvert_exporter": "python",
   "pygments_lexer": "ipython3",
   "version": "3.8.12"
  },
  "orig_nbformat": 4
 },
 "nbformat": 4,
 "nbformat_minor": 2
}
