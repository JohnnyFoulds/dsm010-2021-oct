{
 "cells": [
  {
   "cell_type": "markdown",
   "metadata": {},
   "source": [
    "## Web References\n",
    "\n",
    "### System\n",
    "\n",
    "- [How to copy a file without using scp inside an ssh session?](https://superuser.com/questions/291423/how-to-copy-a-file-without-using-scp-inside-an-ssh-session)\n",
    "\n",
    "### PySpark\n",
    "\n",
    "- [Complete Machine Learning Project with PySpark MLlib Tutorial](https://www.youtube.com/watch?v=1a7bB1ZcZ3k)\n",
    "- [The ONLY PySpark Tutorial You Will Ever Need.](https://www.youtube.com/watch?v=cZS5xYYIPzk)\n",
    "- [PySpark When Otherwise | SQL Case When Usage](https://sparkbyexamples.com/pyspark/pyspark-when-otherwise/)\n",
    "- [Spark rlike() Working with Regex Matching Examples](https://sparkbyexamples.com/spark/spark-rlike-regex-matching-examples/)\n",
    "- [spark dataframe drop duplicates and keep first](https://stackoverflow.com/questions/38687212/spark-dataframe-drop-duplicates-and-keep-first)\n",
    "- [Spark SQL Window functions using plain SQL](https://www.linkedin.com/pulse/spark-sql-window-functions-using-plain-ram-ghadiyaram/)\n",
    "- [Calculate difference with previous row in PySpark](https://www.arundhaj.com/blog/calculate-difference-with-previous-row-in-pyspark.html)\n",
    "- [forward fill with last observation for a DataFrame](https://stackoverflow.com/questions/36019847/pyspark-forward-fill-with-last-observation-for-a-dataframe)\n",
    "- [Imputer](https://spark.apache.org/docs/latest/api/python/reference/api/pyspark.ml.feature.Imputer.html)\n",
    "\n",
    "### Pandas\n",
    "\n",
    "- [Pandas resample() tricks you should know for manipulating time-series data](https://towardsdatascience.com/pandas-resample-tricks-you-should-know-for-manipulating-time-series-data-7e9643a7e7f3)\n",
    "- [Resample with categories in pandas, keep non-numerical columns](https://stackoverflow.com/questions/56001927/resample-with-categories-in-pandas-keep-non-numerical-columns)\n",
    "\n",
    "### Time Series\n",
    "\n",
    "- [Time Series Analysis with Spark](https://www.youtube.com/watch?v=tKkneWcAIqU)\n",
    "- [Time Series Stream Processing with Spark and Cassandra](https://www.youtube.com/watch?v=fBWLzB0FMX4)\n",
    "- [Spark Basics: Missing Data and Time Series](https://www.youtube.com/watch?v=kvLCxHvL7U0)\n",
    "- [Spark Resampling, Spark UDFs, Resampling Time Series Data with Spark](https://www.youtube.com/watch?v=uFws-jPywmc)\n",
    "\n",
    "### Spark ML\n",
    "- [K Means Clustering using PySpark on Big Data](https://towardsdatascience.com/k-means-clustering-using-pyspark-on-big-data-6214beacdc8b)\n",
    "- [K Means Clustering with PySpark hack data](https://www.youtube.com/watch?v=mbYNKM3hdPI)\n",
    "- [Tutorial : K-Means Clustering On Spark](https://www.data4v.com/tutorial-k-means-clustering-on-spark/)\n",
    "- [Spark Clustering](https://runawayhorse001.github.io/LearningApacheSpark/clustering.html)\n",
    "- [How to apply pyspark-mllib-kmeans to categorical variables](https://stackoverflow.com/questions/34700623/how-to-apply-pyspark-mllib-kmeans-to-categorical-variables)\n",
    "\n",
    "### Anomaly Detection\n",
    "\n",
    "- [How to Build an Anomaly Detection Engine with Spark, Akka and Cassandra](https://learning.oreilly.com/videos/how-to-build/9781491955253/9781491955253-video244545/)\n",
    "- [Real Time Detection of Anomalies in the Database Infrastructure using Apache Spark](https://www.youtube.com/watch?v=1IsMMmug5q0)\n",
    "\n",
    "### Other\n",
    "\n",
    "- [What is CRISP DM?](https://www.datascience-pm.com/crisp-dm-2/)\n",
    "\n",
    "### Internet Traffic\n",
    "\n",
    "- [Data mining approach for predicting the daily Internet data traffic of a smart university](https://journalofbigdata.springeropen.com/articles/10.1186/s40537-019-0176-5)"
   ]
  },
  {
   "cell_type": "markdown",
   "metadata": {},
   "source": [
    "## Import Libraries"
   ]
  },
  {
   "cell_type": "code",
   "execution_count": 66,
   "metadata": {},
   "outputs": [],
   "source": [
    "import datetime\n",
    "import calendar\n",
    "import pandas as pd\n",
    "import pyspark\n",
    "from pyspark.sql import SparkSession\n",
    "from pyspark.sql.functions import when, asc, desc, col, expr, lag, isnull, from_unixtime, year, month, dayofmonth, dayofweek, hour, minute\n",
    "from pyspark.sql.window import Window\n",
    "from pyspark.ml.feature import VectorAssembler, StandardScaler\n",
    "from pyspark.ml.clustering import KMeans\n",
    "from pyspark.ml.evaluation import ClusteringEvaluator\n",
    "\n",
    "import matplotlib.pyplot as plt\n",
    "import seaborn as sns"
   ]
  },
  {
   "cell_type": "markdown",
   "metadata": {},
   "source": [
    "## HDFS Preparation"
   ]
  },
  {
   "cell_type": "code",
   "execution_count": 2,
   "metadata": {},
   "outputs": [
    {
     "name": "stdout",
     "output_type": "stream",
     "text": [
      "-rw-r--r--   3 jfoul001 users     142352 2022-03-11 03:49 router/raw/20220311T0210.csv.gz\n",
      "-rw-r--r--   3 jfoul001 users     143443 2022-03-11 03:49 router/raw/20220311T0220.csv.gz\n",
      "-rw-r--r--   3 jfoul001 users     145045 2022-03-11 03:49 router/raw/20220311T0230.csv.gz\n",
      "-rw-r--r--   3 jfoul001 users     145422 2022-03-11 03:49 router/raw/20220311T0240.csv.gz\n",
      "-rw-r--r--   3 jfoul001 users     142855 2022-03-11 03:49 router/raw/20220311T0250.csv.gz\n",
      "-rw-r--r--   3 jfoul001 users     142633 2022-03-11 03:49 router/raw/20220311T0300.csv.gz\n",
      "-rw-r--r--   3 jfoul001 users     142225 2022-03-11 03:49 router/raw/20220311T0310.csv.gz\n",
      "-rw-r--r--   3 jfoul001 users     140703 2022-03-11 03:49 router/raw/20220311T0320.csv.gz\n",
      "-rw-r--r--   3 jfoul001 users     141220 2022-03-11 03:49 router/raw/20220311T0330.csv.gz\n",
      "-rw-r--r--   3 jfoul001 users     142236 2022-03-11 03:49 router/raw/20220311T0340.csv.gz\n"
     ]
    }
   ],
   "source": [
    "%%bash\n",
    "#!/bin/bash\n",
    "\n",
    "# delete the \n",
    "if hadoop fs -test -d router; then\n",
    "    # delete the output directory\n",
    "    hadoop fs -rm -r router/output\n",
    "\n",
    "    # create a new output directory\n",
    "    hadoop fs -mkdir router/output\n",
    "else\n",
    "    # create the router directory and upload the input files\n",
    "    hadoop fs -mkdir router\n",
    "    hadoop fs -mkdir router/sample\n",
    "    hadoop fs -put data/bandwidth.csv router/sample/\n",
    "\n",
    "    hadoop fs -put data/raw router/raw\n",
    "\n",
    "    # create the output directory\n",
    "    hadoop fs -mkdir router/output\n",
    "fi\n",
    "\n",
    "hadoop fs -ls router/raw | tail"
   ]
  },
  {
   "cell_type": "markdown",
   "metadata": {},
   "source": [
    "## Initialize the Spark Session"
   ]
  },
  {
   "cell_type": "code",
   "execution_count": 3,
   "metadata": {},
   "outputs": [
    {
     "name": "stderr",
     "output_type": "stream",
     "text": [
      "WARNING: An illegal reflective access operation has occurred\n",
      "WARNING: Illegal reflective access by org.apache.spark.unsafe.Platform (file:/opt/spark/spark-3.0.1-bin-hadoop3.2/jars/spark-unsafe_2.12-3.0.1.jar) to constructor java.nio.DirectByteBuffer(long,int)\n",
      "WARNING: Please consider reporting this to the maintainers of org.apache.spark.unsafe.Platform\n",
      "WARNING: Use --illegal-access=warn to enable warnings of further illegal reflective access operations\n",
      "WARNING: All illegal access operations will be denied in a future release\n",
      "Setting default log level to \"ERROR\".\n",
      "To adjust logging level use sc.setLogLevel(newLevel). For SparkR, use setLogLevel(newLevel).\n"
     ]
    },
    {
     "data": {
      "text/html": [
       "\n",
       "            <div>\n",
       "                <p><b>SparkSession - in-memory</b></p>\n",
       "                \n",
       "        <div>\n",
       "            <p><b>SparkContext</b></p>\n",
       "\n",
       "            <p><a href=\"http://lena-master:4040\">Spark UI</a></p>\n",
       "\n",
       "            <dl>\n",
       "              <dt>Version</dt>\n",
       "                <dd><code>v3.0.1</code></dd>\n",
       "              <dt>Master</dt>\n",
       "                <dd><code>yarn</code></dd>\n",
       "              <dt>AppName</dt>\n",
       "                <dd><code>cw02</code></dd>\n",
       "            </dl>\n",
       "        </div>\n",
       "        \n",
       "            </div>\n",
       "        "
      ],
      "text/plain": [
       "<pyspark.sql.session.SparkSession at 0x7fb073eee1f0>"
      ]
     },
     "execution_count": 3,
     "metadata": {},
     "output_type": "execute_result"
    }
   ],
   "source": [
    "spark = SparkSession.builder.appName('cw02').getOrCreate()\n",
    "spark"
   ]
  },
  {
   "cell_type": "markdown",
   "metadata": {},
   "source": [
    "## I. Data Understanding\n",
    "\n",
    "Identify, collect, and analyze the data sets that will help accomplish the project goals"
   ]
  },
  {
   "cell_type": "markdown",
   "metadata": {},
   "source": [
    "### A. Collect Initial Data"
   ]
  },
  {
   "cell_type": "code",
   "execution_count": 4,
   "metadata": {},
   "outputs": [
    {
     "name": "stderr",
     "output_type": "stream",
     "text": [
      "                                                                                \r"
     ]
    }
   ],
   "source": [
    "#input_path = 'router/sample/bandwidth.csv'\n",
    "input_path = 'router/raw/'\n",
    "\n",
    "# read the full batch to process\n",
    "df_batch = spark.read.csv(input_path, header=False, inferSchema=True) \\\n",
    "    .toDF('direction','interval_length','intervals_saved','ip','interval_start','interval_end','bytes_used')"
   ]
  },
  {
   "cell_type": "code",
   "execution_count": 5,
   "metadata": {},
   "outputs": [
    {
     "name": "stderr",
     "output_type": "stream",
     "text": [
      "[Stage 3:=======================================================> (28 + 1) / 29]\r"
     ]
    },
    {
     "name": "stdout",
     "output_type": "stream",
     "text": [
      "Row Count: 18,417,870\n"
     ]
    },
    {
     "name": "stderr",
     "output_type": "stream",
     "text": [
      "                                                                                \r"
     ]
    }
   ],
   "source": [
    "# drop the intervals saved column\n",
    "df_batch = df_batch.drop('intervals_saved')\n",
    "print(f'Row Count: {df_batch.count():,}')"
   ]
  },
  {
   "cell_type": "markdown",
   "metadata": {},
   "source": [
    "Remove records related to a specific upload or download class. This is done because this information is not relevant to the project, and have an additional column that will complicate data processing."
   ]
  },
  {
   "cell_type": "code",
   "execution_count": 6,
   "metadata": {},
   "outputs": [
    {
     "name": "stderr",
     "output_type": "stream",
     "text": [
      "[Stage 5:=====================================================>   (27 + 2) / 29]\r"
     ]
    },
    {
     "name": "stdout",
     "output_type": "stream",
     "text": [
      "Row Count: 15,045,495\n"
     ]
    },
    {
     "name": "stderr",
     "output_type": "stream",
     "text": [
      "                                                                                \r"
     ]
    }
   ],
   "source": [
    "df_batch_preproc = df_batch.where(df_batch['interval_length'].contains('class_') == False)\n",
    "print(f'Row Count: {df_batch_preproc.count():,}')"
   ]
  },
  {
   "cell_type": "markdown",
   "metadata": {},
   "source": [
    "### B. Describe data\n",
    "\n",
    "Examine the data and document its surface properties like data format, number of records, or field identities."
   ]
  },
  {
   "cell_type": "markdown",
   "metadata": {},
   "source": [
    "#### 1. Data Format"
   ]
  },
  {
   "cell_type": "code",
   "execution_count": 7,
   "metadata": {},
   "outputs": [
    {
     "name": "stdout",
     "output_type": "stream",
     "text": [
      "root\n",
      " |-- direction: string (nullable = true)\n",
      " |-- interval_length: string (nullable = true)\n",
      " |-- ip: string (nullable = true)\n",
      " |-- interval_start: string (nullable = true)\n",
      " |-- interval_end: integer (nullable = true)\n",
      " |-- bytes_used: long (nullable = true)\n",
      "\n"
     ]
    }
   ],
   "source": [
    "df_batch_preproc.printSchema()"
   ]
  },
  {
   "cell_type": "code",
   "execution_count": 8,
   "metadata": {},
   "outputs": [
    {
     "name": "stderr",
     "output_type": "stream",
     "text": [
      "[Stage 7:=====================================================>   (27 + 2) / 29]\r"
     ]
    },
    {
     "name": "stdout",
     "output_type": "stream",
     "text": [
      "Row Count: 15,045,495\n"
     ]
    },
    {
     "name": "stderr",
     "output_type": "stream",
     "text": [
      "                                                                                \r"
     ]
    }
   ],
   "source": [
    "print(f'Row Count: {df_batch_preproc.count():,}')"
   ]
  },
  {
   "cell_type": "markdown",
   "metadata": {},
   "source": [
    "#### 2. Remove Duplicates\n",
    "\n",
    "Many duplicate records are present in the raw data since the data snapshots overlaps."
   ]
  },
  {
   "cell_type": "code",
   "execution_count": 9,
   "metadata": {},
   "outputs": [
    {
     "name": "stderr",
     "output_type": "stream",
     "text": [
      "[Stage 10:===================================================>  (189 + 2) / 200]\r"
     ]
    },
    {
     "name": "stdout",
     "output_type": "stream",
     "text": [
      "Row Count: 2,765,603\n"
     ]
    },
    {
     "name": "stderr",
     "output_type": "stream",
     "text": [
      "                                                                                \r"
     ]
    }
   ],
   "source": [
    "# drop duplicates\n",
    "df_unique = df_batch_preproc.drop_duplicates()\n",
    "print(f'Row Count: {df_unique.count():,}')"
   ]
  },
  {
   "cell_type": "markdown",
   "metadata": {},
   "source": [
    "There are duplicates where only the `Bytes Used` field is different due to when the data snapshot was taken."
   ]
  },
  {
   "cell_type": "code",
   "execution_count": 10,
   "metadata": {},
   "outputs": [
    {
     "name": "stderr",
     "output_type": "stream",
     "text": [
      "[Stage 14:=====================================================>(199 + 1) / 200]\r"
     ]
    },
    {
     "name": "stdout",
     "output_type": "stream",
     "text": [
      "Row Count: 2,662,803\n"
     ]
    },
    {
     "name": "stderr",
     "output_type": "stream",
     "text": [
      "                                                                                \r"
     ]
    }
   ],
   "source": [
    "df_unique = df_unique.groupBy(['direction','interval_length','ip','interval_start','interval_end']) \\\n",
    "    .max('bytes_used') \\\n",
    "    .withColumnRenamed('max(bytes_used)', 'bytes_used')\n",
    "\n",
    "print(f'Row Count: {df_unique.count():,}')"
   ]
  },
  {
   "cell_type": "code",
   "execution_count": 11,
   "metadata": {},
   "outputs": [
    {
     "name": "stderr",
     "output_type": "stream",
     "text": [
      "[Stage 17:===================================================>  (190 + 2) / 200]\r"
     ]
    },
    {
     "name": "stdout",
     "output_type": "stream",
     "text": [
      "+---------+---------------+-------------+--------------+------------+----------+\n",
      "|direction|interval_length|           ip|interval_start|interval_end|bytes_used|\n",
      "+---------+---------------+-------------+--------------+------------+----------+\n",
      "|   upload|              2|192.168.1.108|    1646652812|  1646652814|         0|\n",
      "|   upload|              2| 192.168.1.11|    1646642370|  1646642372|      4280|\n",
      "| download|         minute|192.168.3.224|    1646676600|  1646676660|         0|\n",
      "|   upload|              2| 192.168.1.11|    1646653978|  1646653980|         0|\n",
      "| download|              2|192.168.1.108|    1646647972|  1646647974|         0|\n",
      "+---------+---------------+-------------+--------------+------------+----------+\n",
      "only showing top 5 rows\n",
      "\n"
     ]
    },
    {
     "name": "stderr",
     "output_type": "stream",
     "text": [
      "                                                                                \r"
     ]
    }
   ],
   "source": [
    "df_unique.show(5)"
   ]
  },
  {
   "cell_type": "markdown",
   "metadata": {},
   "source": [
    "### C. Explore data\n",
    "\n",
    "Dig deeper into the data. Query it, visualize it, and identify relationships among the data."
   ]
  },
  {
   "cell_type": "markdown",
   "metadata": {},
   "source": [
    "#### 1. Unique Categories"
   ]
  },
  {
   "cell_type": "code",
   "execution_count": 12,
   "metadata": {},
   "outputs": [
    {
     "name": "stderr",
     "output_type": "stream",
     "text": [
      "                                                                                \r"
     ]
    },
    {
     "name": "stdout",
     "output_type": "stream",
     "text": [
      "+-------------+-------+\n",
      "|interval_type|  count|\n",
      "+-------------+-------+\n",
      "|           IP|2087586|\n",
      "|     COMBINED| 575217|\n",
      "+-------------+-------+\n",
      "\n"
     ]
    }
   ],
   "source": [
    "# if an IP address is stored in the IP column recode it as simply 'IP'\n",
    "df_interval_type = df_unique.withColumn('interval_type', \n",
    "    when(df_unique['ip']\n",
    "    .rlike('^((25[0-5]|2[0-4][0-9]|[01]?[0-9][0-9]?)\\.){3}(25[0-5]|2[0-4][0-9]|[01]?[0-9][0-9]?)$'), 'IP')\n",
    "    .otherwise(df_unique['ip'])\n",
    ")\n",
    "\n",
    "df_interval_type.groupBy(['interval_type']).count().show()"
   ]
  },
  {
   "cell_type": "code",
   "execution_count": 13,
   "metadata": {},
   "outputs": [
    {
     "name": "stderr",
     "output_type": "stream",
     "text": [
      "[Stage 45:===================================================>  (190 + 2) / 200]\r"
     ]
    },
    {
     "name": "stdout",
     "output_type": "stream",
     "text": [
      "+---------------+-------------+-------+\n",
      "|interval_length|interval_type|  count|\n",
      "+---------------+-------------+-------+\n",
      "|            180|     COMBINED|   9172|\n",
      "|              2|     COMBINED| 540735|\n",
      "|              2|           IP|1681005|\n",
      "|           7200|     COMBINED|   1016|\n",
      "|            900|     COMBINED|   2442|\n",
      "|            900|           IP|  55204|\n",
      "|            day|     COMBINED|    756|\n",
      "|            day|           IP|   4650|\n",
      "|           hour|     COMBINED|    622|\n",
      "|           hour|           IP|  17234|\n",
      "|         minute|     COMBINED|  20452|\n",
      "|         minute|           IP| 326608|\n",
      "|          month|     COMBINED|     22|\n",
      "|          month|           IP|   2885|\n",
      "+---------------+-------------+-------+\n",
      "\n"
     ]
    },
    {
     "name": "stderr",
     "output_type": "stream",
     "text": [
      "                                                                                \r"
     ]
    }
   ],
   "source": [
    "# record count per catergory\n",
    "df_interval_type.groupBy(['interval_length', 'interval_type']) \\\n",
    "    .count() \\\n",
    "    .orderBy(['interval_length', 'interval_type',], ascending=True) \\\n",
    "    .show(df_interval_type.count())"
   ]
  },
  {
   "cell_type": "markdown",
   "metadata": {},
   "source": [
    "#### 2. How many intervals are available for the various categories?\n",
    "\n",
    "This number should be less as for every interval there could be multiple IP addresses (where `interval_type == 'IP'`)."
   ]
  },
  {
   "cell_type": "code",
   "execution_count": 14,
   "metadata": {},
   "outputs": [
    {
     "name": "stderr",
     "output_type": "stream",
     "text": [
      "[Stage 54:=================================================>    (184 + 2) / 200]\r"
     ]
    },
    {
     "name": "stdout",
     "output_type": "stream",
     "text": [
      "+---------------+-------------+------+\n",
      "|interval_length|interval_type| count|\n",
      "+---------------+-------------+------+\n",
      "|            180|     COMBINED|  9172|\n",
      "|              2|     COMBINED|540735|\n",
      "|              2|           IP|540919|\n",
      "|           7200|     COMBINED|  1016|\n",
      "|            900|     COMBINED|  2442|\n",
      "|            900|           IP|  2442|\n",
      "|            day|     COMBINED|   756|\n",
      "|            day|           IP|    88|\n",
      "|           hour|     COMBINED|   622|\n",
      "|           hour|           IP|   622|\n",
      "|         minute|     COMBINED| 20452|\n",
      "|         minute|           IP| 19754|\n",
      "|          month|     COMBINED|    22|\n",
      "|          month|           IP|    28|\n",
      "+---------------+-------------+------+\n",
      "\n"
     ]
    },
    {
     "name": "stderr",
     "output_type": "stream",
     "text": [
      "                                                                                \r"
     ]
    }
   ],
   "source": [
    "df_interval_type.drop_duplicates(['direction', 'interval_length', 'interval_type', 'interval_start', 'interval_end']) \\\n",
    "    .groupBy(['interval_length', 'interval_type']) \\\n",
    "    .count() \\\n",
    "    .orderBy(['interval_length', 'interval_type',], ascending=True) \\\n",
    "    .show(df_interval_type.count())"
   ]
  },
  {
   "cell_type": "markdown",
   "metadata": {},
   "source": [
    "#### 3. Minute Plot\n",
    "\n",
    "Group the minute data by interval and show a line plot of the first twho hours for a visual overview of the data."
   ]
  },
  {
   "cell_type": "code",
   "execution_count": 15,
   "metadata": {},
   "outputs": [
    {
     "name": "stderr",
     "output_type": "stream",
     "text": [
      "                                                                                \r"
     ]
    },
    {
     "data": {
      "text/html": [
       "<div>\n",
       "<style scoped>\n",
       "    .dataframe tbody tr th:only-of-type {\n",
       "        vertical-align: middle;\n",
       "    }\n",
       "\n",
       "    .dataframe tbody tr th {\n",
       "        vertical-align: top;\n",
       "    }\n",
       "\n",
       "    .dataframe thead th {\n",
       "        text-align: right;\n",
       "    }\n",
       "</style>\n",
       "<table border=\"1\" class=\"dataframe\">\n",
       "  <thead>\n",
       "    <tr style=\"text-align: right;\">\n",
       "      <th></th>\n",
       "      <th>bytes_used</th>\n",
       "    </tr>\n",
       "  </thead>\n",
       "  <tbody>\n",
       "    <tr>\n",
       "      <th>count</th>\n",
       "      <td>1.200000e+02</td>\n",
       "    </tr>\n",
       "    <tr>\n",
       "      <th>mean</th>\n",
       "      <td>2.216871e+07</td>\n",
       "    </tr>\n",
       "    <tr>\n",
       "      <th>std</th>\n",
       "      <td>3.043667e+07</td>\n",
       "    </tr>\n",
       "    <tr>\n",
       "      <th>min</th>\n",
       "      <td>4.337154e+06</td>\n",
       "    </tr>\n",
       "    <tr>\n",
       "      <th>25%</th>\n",
       "      <td>7.530486e+06</td>\n",
       "    </tr>\n",
       "    <tr>\n",
       "      <th>50%</th>\n",
       "      <td>9.770354e+06</td>\n",
       "    </tr>\n",
       "    <tr>\n",
       "      <th>75%</th>\n",
       "      <td>1.722035e+07</td>\n",
       "    </tr>\n",
       "    <tr>\n",
       "      <th>max</th>\n",
       "      <td>1.445253e+08</td>\n",
       "    </tr>\n",
       "  </tbody>\n",
       "</table>\n",
       "</div>"
      ],
      "text/plain": [
       "         bytes_used\n",
       "count  1.200000e+02\n",
       "mean   2.216871e+07\n",
       "std    3.043667e+07\n",
       "min    4.337154e+06\n",
       "25%    7.530486e+06\n",
       "50%    9.770354e+06\n",
       "75%    1.722035e+07\n",
       "max    1.445253e+08"
      ]
     },
     "execution_count": 15,
     "metadata": {},
     "output_type": "execute_result"
    }
   ],
   "source": [
    "# get the summarized data\n",
    "df_interval_bandwidth = df_interval_type \\\n",
    "    .where((df_interval_type['interval_length'] == 'minute') & \n",
    "           (df_interval_type['interval_type'] == 'IP')) \\\n",
    "    .groupBy(['interval_start']) \\\n",
    "    .sum('bytes_used') \\\n",
    "    .orderBy(['interval_start'], ascending=True) \\\n",
    "    .withColumnRenamed('sum(bytes_used)', 'bytes_used') \\\n",
    "    .limit(2 * 60) \\\n",
    "    .toPandas()\n",
    "\n",
    "df_interval_bandwidth.describe()"
   ]
  },
  {
   "cell_type": "code",
   "execution_count": 16,
   "metadata": {},
   "outputs": [
    {
     "data": {
      "image/png": "[encoded data removed]",
      "text/plain": [
       "<Figure size 1080x396 with 1 Axes>"
      ]
     },
     "metadata": {
      "needs_background": "light"
     },
     "output_type": "display_data"
    }
   ],
   "source": [
    "# plot the data\n",
    "fig_dims = (15, 5.5)\n",
    "fig, ax = plt.subplots(figsize=fig_dims)\n",
    "\n",
    "sns.lineplot(\n",
    "    data=df_interval_bandwidth,\n",
    "    x='interval_start',\n",
    "    y='bytes_used',\n",
    "    ax=ax\n",
    ").set(\n",
    "    title='Bandwidth Usage: First Two Hours',\n",
    "    ylabel='Bytes Used',\n",
    "    xlabel='Time',\n",
    "    xticklabels=[])\n",
    "\n",
    "plt.show()"
   ]
  },
  {
   "cell_type": "markdown",
   "metadata": {},
   "source": [
    "#### 4. Number of IP addresses in the last two hours\n",
    "\n",
    "Notes:\n",
    "\n",
    "- To count the number of local IP addresses use the `startswith` filter of `192.`\n",
    "- The dataset contains incomplete intervals where `Interval End == 0` to indicate that the interval was not yet complete when the snapshot was taken."
   ]
  },
  {
   "cell_type": "code",
   "execution_count": 17,
   "metadata": {},
   "outputs": [
    {
     "name": "stderr",
     "output_type": "stream",
     "text": [
      "                                                                                \r"
     ]
    },
    {
     "data": {
      "text/html": [
       "<div>\n",
       "<style scoped>\n",
       "    .dataframe tbody tr th:only-of-type {\n",
       "        vertical-align: middle;\n",
       "    }\n",
       "\n",
       "    .dataframe tbody tr th {\n",
       "        vertical-align: top;\n",
       "    }\n",
       "\n",
       "    .dataframe thead th {\n",
       "        text-align: right;\n",
       "    }\n",
       "</style>\n",
       "<table border=\"1\" class=\"dataframe\">\n",
       "  <thead>\n",
       "    <tr style=\"text-align: right;\">\n",
       "      <th></th>\n",
       "      <th>count</th>\n",
       "    </tr>\n",
       "  </thead>\n",
       "  <tbody>\n",
       "    <tr>\n",
       "      <th>count</th>\n",
       "      <td>120.000000</td>\n",
       "    </tr>\n",
       "    <tr>\n",
       "      <th>mean</th>\n",
       "      <td>13.100000</td>\n",
       "    </tr>\n",
       "    <tr>\n",
       "      <th>std</th>\n",
       "      <td>0.301258</td>\n",
       "    </tr>\n",
       "    <tr>\n",
       "      <th>min</th>\n",
       "      <td>13.000000</td>\n",
       "    </tr>\n",
       "    <tr>\n",
       "      <th>25%</th>\n",
       "      <td>13.000000</td>\n",
       "    </tr>\n",
       "    <tr>\n",
       "      <th>50%</th>\n",
       "      <td>13.000000</td>\n",
       "    </tr>\n",
       "    <tr>\n",
       "      <th>75%</th>\n",
       "      <td>13.000000</td>\n",
       "    </tr>\n",
       "    <tr>\n",
       "      <th>max</th>\n",
       "      <td>14.000000</td>\n",
       "    </tr>\n",
       "  </tbody>\n",
       "</table>\n",
       "</div>"
      ],
      "text/plain": [
       "            count\n",
       "count  120.000000\n",
       "mean    13.100000\n",
       "std      0.301258\n",
       "min     13.000000\n",
       "25%     13.000000\n",
       "50%     13.000000\n",
       "75%     13.000000\n",
       "max     14.000000"
      ]
     },
     "execution_count": 17,
     "metadata": {},
     "output_type": "execute_result"
    }
   ],
   "source": [
    "# the filter on IP is to select only local IP addresses\n",
    "df_interval_clients = spark.createDataFrame(df_interval_type \\\n",
    "    .where((df_interval_type['interval_length'] == 'minute') & \n",
    "           (df_interval_type['interval_type'] == 'IP') &\n",
    "           (df_interval_type['ip'].startswith('192.')) &\n",
    "           (df_interval_type['interval_end'] > 0)) \\\n",
    "    .drop_duplicates(['ip', 'interval_start', 'interval_end']) \\\n",
    "    .groupBy(['interval_start']) \\\n",
    "    .count() \\\n",
    "    .orderBy(['interval_start'], ascending=True) \\\n",
    "    .tail(2 * 60)) \\\n",
    "    .toPandas()\n",
    "\n",
    "df_interval_clients.describe()"
   ]
  },
  {
   "cell_type": "code",
   "execution_count": 18,
   "metadata": {},
   "outputs": [
    {
     "data": {
      "image/png": "[encoded data removed]",
      "text/plain": [
       "<Figure size 1080x396 with 1 Axes>"
      ]
     },
     "metadata": {
      "needs_background": "light"
     },
     "output_type": "display_data"
    }
   ],
   "source": [
    "# plot the data\n",
    "fig_dims = (15, 5.5)\n",
    "fig, ax = plt.subplots(figsize=fig_dims)\n",
    "\n",
    "sns.lineplot(\n",
    "    data=df_interval_clients,\n",
    "    x='interval_start',\n",
    "    y='count',\n",
    "    ax=ax\n",
    ").set(\n",
    "    title='Number of IP Addresses: Last Two Hours',\n",
    "    xlabel='Time',\n",
    "    xticklabels=[])\n",
    "\n",
    "plt.show()"
   ]
  },
  {
   "cell_type": "markdown",
   "metadata": {},
   "source": [
    "### D. Verify data quality"
   ]
  },
  {
   "cell_type": "markdown",
   "metadata": {},
   "source": [
    "#### 1. Select only data by minute with an IP address"
   ]
  },
  {
   "cell_type": "code",
   "execution_count": 19,
   "metadata": {},
   "outputs": [
    {
     "name": "stderr",
     "output_type": "stream",
     "text": [
      "[Stage 80:==============================================>       (173 + 2) / 200]\r"
     ]
    },
    {
     "name": "stdout",
     "output_type": "stream",
     "text": [
      "Row Count: 296,551\n"
     ]
    },
    {
     "name": "stderr",
     "output_type": "stream",
     "text": [
      "                                                                                \r"
     ]
    }
   ],
   "source": [
    "df_minute = df_interval_type \\\n",
    "    .where((df_interval_type['interval_length'] == 'minute') & \n",
    "           (df_interval_type['interval_type'] == 'IP') &\n",
    "           ((df_interval_type['interval_end'] > 0))) \n",
    "\n",
    "print(f'Row Count: {df_minute.count():,}')"
   ]
  },
  {
   "cell_type": "code",
   "execution_count": 20,
   "metadata": {},
   "outputs": [
    {
     "name": "stderr",
     "output_type": "stream",
     "text": [
      "                                                                                \r"
     ]
    }
   ],
   "source": [
    "# verify that no null values are present in the dataset\n",
    "assert df_minute.count() == df_minute.dropna().count()"
   ]
  },
  {
   "cell_type": "code",
   "execution_count": 21,
   "metadata": {},
   "outputs": [
    {
     "name": "stderr",
     "output_type": "stream",
     "text": [
      "                                                                                \r"
     ]
    }
   ],
   "source": [
    "# save the dataset to HDFS\n",
    "df_minute.write.parquet('router/output/minute', mode='overwrite', compression='gzip')"
   ]
  },
  {
   "cell_type": "markdown",
   "metadata": {},
   "source": [
    "#### 2. Find data gaps"
   ]
  },
  {
   "cell_type": "code",
   "execution_count": 22,
   "metadata": {},
   "outputs": [
    {
     "name": "stderr",
     "output_type": "stream",
     "text": [
      "[Stage 96:==============================================>       (172 + 2) / 200]\r"
     ]
    },
    {
     "name": "stdout",
     "output_type": "stream",
     "text": [
      "+--------------+-------------------+----+\n",
      "|interval_start|prev_interval_start|diff|\n",
      "+--------------+-------------------+----+\n",
      "|    1646430900|               null| 0.0|\n",
      "|    1646430960|         1646430900|60.0|\n",
      "|    1646431020|         1646430960|60.0|\n",
      "|    1646431080|         1646431020|60.0|\n",
      "|    1646431140|         1646431080|60.0|\n",
      "|    1646431200|         1646431140|60.0|\n",
      "|    1646431260|         1646431200|60.0|\n",
      "|    1646431320|         1646431260|60.0|\n",
      "|    1646431380|         1646431320|60.0|\n",
      "|    1646431440|         1646431380|60.0|\n",
      "+--------------+-------------------+----+\n",
      "only showing top 10 rows\n",
      "\n"
     ]
    },
    {
     "name": "stderr",
     "output_type": "stream",
     "text": [
      "                                                                                \r"
     ]
    }
   ],
   "source": [
    "# get the unique intervals\n",
    "df_unique_intervals = df_minute \\\n",
    "    .drop_duplicates(['interval_start', 'interval_end']) \\\n",
    "    .drop('direction') \\\n",
    "    .drop('interval_length') \\\n",
    "    .drop('interval_end') \\\n",
    "    .drop('ip') \\\n",
    "    .drop('bytes_used') \\\n",
    "    .drop('interval_type')\n",
    "\n",
    "interval_window = Window.partitionBy().orderBy('interval_start')\n",
    "\n",
    "# add the previous interval start value\n",
    "df_prev = df_unique_intervals \\\n",
    "    .withColumn('prev_interval_start', lag('interval_start', 1).over(interval_window))\n",
    "\n",
    "# calculate the difference\n",
    "df_prev = df_prev \\\n",
    "    .withColumn('diff', when(isnull(df_prev.prev_interval_start), 0) \\\n",
    "                       .otherwise(df_prev['interval_start'] - df_prev['prev_interval_start']))\n",
    "\n",
    "\n",
    "df_prev.show(10)\n"
   ]
  },
  {
   "cell_type": "code",
   "execution_count": 23,
   "metadata": {},
   "outputs": [
    {
     "name": "stderr",
     "output_type": "stream",
     "text": [
      "[Stage 101:==================================================>  (189 + 2) / 200]\r"
     ]
    },
    {
     "name": "stdout",
     "output_type": "stream",
     "text": [
      "+-------+------------------+\n",
      "|summary|              diff|\n",
      "+-------+------------------+\n",
      "|  count|              8980|\n",
      "|   mean| 60.02672605790646|\n",
      "| stddev|3.2285614535880858|\n",
      "|    min|               0.0|\n",
      "|    25%|              60.0|\n",
      "|    50%|              60.0|\n",
      "|    75%|             360.0|\n",
      "|    max|             360.0|\n",
      "+-------+------------------+\n",
      "\n"
     ]
    },
    {
     "name": "stderr",
     "output_type": "stream",
     "text": [
      "                                                                                \r"
     ]
    }
   ],
   "source": [
    "df_prev.select('diff').summary().show()"
   ]
  },
  {
   "cell_type": "code",
   "execution_count": 24,
   "metadata": {},
   "outputs": [
    {
     "name": "stderr",
     "output_type": "stream",
     "text": [
      "[Stage 105:=================================================>   (187 + 2) / 200]\r"
     ]
    },
    {
     "name": "stdout",
     "output_type": "stream",
     "text": [
      "+--------------+-------------------+-----+\n",
      "|interval_start|prev_interval_start| diff|\n",
      "+--------------+-------------------+-----+\n",
      "|    1646574900|         1646574540|360.0|\n",
      "+--------------+-------------------+-----+\n",
      "\n"
     ]
    },
    {
     "name": "stderr",
     "output_type": "stream",
     "text": [
      "                                                                                \r"
     ]
    }
   ],
   "source": [
    "df_prev.where('diff > 60').show()"
   ]
  },
  {
   "cell_type": "markdown",
   "metadata": {},
   "source": [
    "## II. Data Preparation"
   ]
  },
  {
   "cell_type": "markdown",
   "metadata": {},
   "source": [
    "### A. Select Data"
   ]
  },
  {
   "cell_type": "code",
   "execution_count": 25,
   "metadata": {},
   "outputs": [
    {
     "name": "stdout",
     "output_type": "stream",
     "text": [
      "Row Count: 296,551\n"
     ]
    },
    {
     "name": "stderr",
     "output_type": "stream",
     "text": [
      "                                                                                \r"
     ]
    }
   ],
   "source": [
    "# load the dataset form the previous section\n",
    "df_source = spark.read.parquet('router/output/minute')\n",
    "print(f'Row Count: {df_source.count():,}')"
   ]
  },
  {
   "cell_type": "code",
   "execution_count": 26,
   "metadata": {},
   "outputs": [
    {
     "name": "stdout",
     "output_type": "stream",
     "text": [
      "root\n",
      " |-- direction: string (nullable = true)\n",
      " |-- interval_length: string (nullable = true)\n",
      " |-- ip: string (nullable = true)\n",
      " |-- interval_start: string (nullable = true)\n",
      " |-- interval_end: integer (nullable = true)\n",
      " |-- bytes_used: long (nullable = true)\n",
      " |-- interval_type: string (nullable = true)\n",
      "\n"
     ]
    }
   ],
   "source": [
    "df_source.printSchema()"
   ]
  },
  {
   "cell_type": "markdown",
   "metadata": {},
   "source": [
    "### B. Clean Data"
   ]
  },
  {
   "cell_type": "markdown",
   "metadata": {},
   "source": [
    "#### 1. Remove the `interval_type` and `interval_length` columns"
   ]
  },
  {
   "cell_type": "code",
   "execution_count": 27,
   "metadata": {},
   "outputs": [
    {
     "name": "stdout",
     "output_type": "stream",
     "text": [
      "+---------+-------------+--------------+------------+----------+\n",
      "|direction|           ip|interval_start|interval_end|bytes_used|\n",
      "+---------+-------------+--------------+------------+----------+\n",
      "| download|192.168.1.107|    1646657580|  1646657640|       868|\n",
      "|   upload|192.168.3.103|    1646517180|  1646517240|     70121|\n",
      "| download|192.168.3.103|    1646617800|  1646617860|    367114|\n",
      "| download|192.168.3.242|    1646589420|  1646589480|     49383|\n",
      "| download|192.168.3.188|    1646472060|  1646472120|         0|\n",
      "+---------+-------------+--------------+------------+----------+\n",
      "only showing top 5 rows\n",
      "\n"
     ]
    }
   ],
   "source": [
    "df_minute = df_source \\\n",
    "    .drop('interval_type') \\\n",
    "    .drop('interval_length')\n",
    "\n",
    "df_minute.show(5)"
   ]
  },
  {
   "cell_type": "markdown",
   "metadata": {},
   "source": [
    "#### 2. Add a `time` columns from the interval start end end epoch"
   ]
  },
  {
   "cell_type": "code",
   "execution_count": 28,
   "metadata": {},
   "outputs": [
    {
     "name": "stdout",
     "output_type": "stream",
     "text": [
      "+---------+-------------+--------------+------------+----------+-------------------+-------------------+\n",
      "|direction|           ip|interval_start|interval_end|bytes_used|interval_start_time|  interval_end_time|\n",
      "+---------+-------------+--------------+------------+----------+-------------------+-------------------+\n",
      "| download|192.168.1.107|    1646657580|  1646657640|       868|2022-03-07 12:53:00|2022-03-07 12:54:00|\n",
      "|   upload|192.168.3.103|    1646517180|  1646517240|     70121|2022-03-05 21:53:00|2022-03-05 21:54:00|\n",
      "| download|192.168.3.103|    1646617800|  1646617860|    367114|2022-03-07 01:50:00|2022-03-07 01:51:00|\n",
      "| download|192.168.3.242|    1646589420|  1646589480|     49383|2022-03-06 17:57:00|2022-03-06 17:58:00|\n",
      "| download|192.168.3.188|    1646472060|  1646472120|         0|2022-03-05 09:21:00|2022-03-05 09:22:00|\n",
      "+---------+-------------+--------------+------------+----------+-------------------+-------------------+\n",
      "only showing top 5 rows\n",
      "\n"
     ]
    }
   ],
   "source": [
    "# convert epoch columns to datetime\n",
    "df_minute = df_minute \\\n",
    "    .withColumn('interval_start_time', from_unixtime(df_minute['interval_start'])) \\\n",
    "    .withColumn('interval_end_time', from_unixtime(df_minute['interval_end']))\n",
    "\n",
    "df_minute.show(5)"
   ]
  },
  {
   "cell_type": "markdown",
   "metadata": {},
   "source": [
    "### C. Construct Data"
   ]
  },
  {
   "cell_type": "markdown",
   "metadata": {},
   "source": [
    "#### 1. Add Date Features"
   ]
  },
  {
   "cell_type": "code",
   "execution_count": 29,
   "metadata": {},
   "outputs": [
    {
     "name": "stdout",
     "output_type": "stream",
     "text": [
      "+---------+-------------+--------------+------------+----------+-------------------+-------------------+----+-----+---+-----------+----+------+\n",
      "|direction|           ip|interval_start|interval_end|bytes_used|interval_start_time|  interval_end_time|year|month|day|day_of_week|hour|minute|\n",
      "+---------+-------------+--------------+------------+----------+-------------------+-------------------+----+-----+---+-----------+----+------+\n",
      "| download|192.168.1.107|    1646657580|  1646657640|       868|2022-03-07 12:53:00|2022-03-07 12:54:00|2022|    3|  7|          2|  12|    53|\n",
      "|   upload|192.168.3.103|    1646517180|  1646517240|     70121|2022-03-05 21:53:00|2022-03-05 21:54:00|2022|    3|  5|          7|  21|    53|\n",
      "| download|192.168.3.103|    1646617800|  1646617860|    367114|2022-03-07 01:50:00|2022-03-07 01:51:00|2022|    3|  7|          2|   1|    50|\n",
      "| download|192.168.3.242|    1646589420|  1646589480|     49383|2022-03-06 17:57:00|2022-03-06 17:58:00|2022|    3|  6|          1|  17|    57|\n",
      "| download|192.168.3.188|    1646472060|  1646472120|         0|2022-03-05 09:21:00|2022-03-05 09:22:00|2022|    3|  5|          7|   9|    21|\n",
      "+---------+-------------+--------------+------------+----------+-------------------+-------------------+----+-----+---+-----------+----+------+\n",
      "only showing top 5 rows\n",
      "\n"
     ]
    }
   ],
   "source": [
    "df_minute_date = df_minute \\\n",
    "    .withColumn('year', year(df_minute['interval_start_time'])) \\\n",
    "    .withColumn('month', month(df_minute['interval_start_time'])) \\\n",
    "    .withColumn('day', dayofmonth(df_minute['interval_start_time'])) \\\n",
    "    .withColumn('day_of_week', dayofweek(df_minute['interval_start_time'])) \\\n",
    "    .withColumn('hour', hour(df_minute['interval_start_time'])) \\\n",
    "    .withColumn('minute', minute(df_minute['interval_start_time']))\n",
    "\n",
    "df_minute_date.show(5)"
   ]
  },
  {
   "cell_type": "markdown",
   "metadata": {},
   "source": [
    "#### 2. VLAN Feature"
   ]
  },
  {
   "cell_type": "code",
   "execution_count": 30,
   "metadata": {},
   "outputs": [
    {
     "name": "stdout",
     "output_type": "stream",
     "text": [
      "+---------+-------------+--------------+------------+----------+-------------------+-------------------+----+-----+---+-----------+----+------+-------+\n",
      "|direction|           ip|interval_start|interval_end|bytes_used|interval_start_time|  interval_end_time|year|month|day|day_of_week|hour|minute|   vlan|\n",
      "+---------+-------------+--------------+------------+----------+-------------------+-------------------+----+-----+---+-----------+----+------+-------+\n",
      "| download|192.168.1.107|    1646657580|  1646657640|       868|2022-03-07 12:53:00|2022-03-07 12:54:00|2022|    3|  7|          2|  12|    53|private|\n",
      "|   upload|192.168.3.103|    1646517180|  1646517240|     70121|2022-03-05 21:53:00|2022-03-05 21:54:00|2022|    3|  5|          7|  21|    53|tenants|\n",
      "| download|192.168.3.103|    1646617800|  1646617860|    367114|2022-03-07 01:50:00|2022-03-07 01:51:00|2022|    3|  7|          2|   1|    50|tenants|\n",
      "| download|192.168.3.242|    1646589420|  1646589480|     49383|2022-03-06 17:57:00|2022-03-06 17:58:00|2022|    3|  6|          1|  17|    57|tenants|\n",
      "| download|192.168.3.188|    1646472060|  1646472120|         0|2022-03-05 09:21:00|2022-03-05 09:22:00|2022|    3|  5|          7|   9|    21|tenants|\n",
      "+---------+-------------+--------------+------------+----------+-------------------+-------------------+----+-----+---+-----------+----+------+-------+\n",
      "only showing top 5 rows\n",
      "\n"
     ]
    }
   ],
   "source": [
    "df_minute_vlan_all = df_minute_date \\\n",
    "    .withColumn('vlan', when(df_minute_date['ip'].startswith('192.168.1'), 'private') \\\n",
    "                        .when(df_minute_date['ip'].startswith('192.168.3'), 'tenants') \\\n",
    "                        .when(df_minute_date['ip'].startswith('192.168'), 'other') \\\n",
    "                        .otherwise('internal'))\n",
    "\n",
    "df_minute_vlan_all.show(5)"
   ]
  },
  {
   "cell_type": "code",
   "execution_count": 31,
   "metadata": {},
   "outputs": [
    {
     "name": "stdout",
     "output_type": "stream",
     "text": [
      "+--------+-----+\n",
      "|    vlan|count|\n",
      "+--------+-----+\n",
      "| tenants|   22|\n",
      "|internal|    2|\n",
      "| private|   11|\n",
      "+--------+-----+\n",
      "\n"
     ]
    }
   ],
   "source": [
    "# summary of networks in the dataset\n",
    "df_distinct_ip = df_minute_vlan_all \\\n",
    "    .select('ip', 'vlan') \\\n",
    "    .distinct()\n",
    "\n",
    "df_distinct_ip.groupBy('vlan').count().show()"
   ]
  },
  {
   "cell_type": "markdown",
   "metadata": {},
   "source": [
    "- `197.95.152.171` is the public IP of the switch.\n",
    "- `172.17.0.2` is the internal IP address of the router."
   ]
  },
  {
   "cell_type": "code",
   "execution_count": 32,
   "metadata": {},
   "outputs": [
    {
     "name": "stderr",
     "output_type": "stream",
     "text": [
      "                                                                                \r"
     ]
    },
    {
     "name": "stdout",
     "output_type": "stream",
     "text": [
      "+--------------+--------+\n",
      "|            ip|    vlan|\n",
      "+--------------+--------+\n",
      "|197.94.242.117|internal|\n",
      "|    172.17.0.2|internal|\n",
      "+--------------+--------+\n",
      "\n"
     ]
    }
   ],
   "source": [
    "df_distinct_ip.where('vlan == \"internal\"').show()"
   ]
  },
  {
   "cell_type": "code",
   "execution_count": 33,
   "metadata": {},
   "outputs": [
    {
     "name": "stderr",
     "output_type": "stream",
     "text": [
      "[Stage 140:================================>                        (4 + 2) / 7]\r"
     ]
    },
    {
     "name": "stdout",
     "output_type": "stream",
     "text": [
      "+---------+--------+---------------+\n",
      "|direction|    vlan|sum(bytes_used)|\n",
      "+---------+--------+---------------+\n",
      "| download|internal|      106228724|\n",
      "| download| private|    57006902223|\n",
      "| download| tenants|   131351041797|\n",
      "|   upload|internal|       46220390|\n",
      "|   upload| private|     6242595380|\n",
      "|   upload| tenants|    19518650190|\n",
      "+---------+--------+---------------+\n",
      "\n"
     ]
    },
    {
     "name": "stderr",
     "output_type": "stream",
     "text": [
      "                                                                                \r"
     ]
    }
   ],
   "source": [
    "# how much data are used by the vlan categories\n",
    "df_summary_vlan = df_minute_vlan_all \\\n",
    "    .groupBy('direction', 'vlan') \\\n",
    "    .sum('bytes_used') \\\n",
    "    .orderBy('direction', 'vlan') \\\n",
    "\n",
    "df_summary_vlan.show()"
   ]
  },
  {
   "cell_type": "code",
   "execution_count": 34,
   "metadata": {},
   "outputs": [
    {
     "name": "stderr",
     "output_type": "stream",
     "text": [
      "                                                                                \r"
     ]
    },
    {
     "data": {
      "text/plain": [
       "[Text(0.5, 1.0, 'Bandwidth Usage by VLAN'),\n",
       " Text(0, 0.5, 'Bytes Used'),\n",
       " Text(0.5, 0, 'VLAN')]"
      ]
     },
     "execution_count": 34,
     "metadata": {},
     "output_type": "execute_result"
    },
    {
     "data": {
      "image/png": "[encoded data removed]",
      "text/plain": [
       "<Figure size 432x288 with 1 Axes>"
      ]
     },
     "metadata": {
      "needs_background": "light"
     },
     "output_type": "display_data"
    }
   ],
   "source": [
    "# plot the vlan summary\n",
    "sns.barplot(\n",
    "    data=df_summary_vlan.toPandas(),\n",
    "    x='vlan',\n",
    "    y='sum(bytes_used)',\n",
    "    hue='direction'\n",
    ").set(\n",
    "    title='Bandwidth Usage by VLAN',\n",
    "    ylabel='Bytes Used',\n",
    "    xlabel='VLAN'\n",
    ")"
   ]
  },
  {
   "cell_type": "code",
   "execution_count": 35,
   "metadata": {},
   "outputs": [
    {
     "name": "stderr",
     "output_type": "stream",
     "text": [
      "[Stage 147:========================================>                (5 + 2) / 7]\r"
     ]
    },
    {
     "name": "stdout",
     "output_type": "stream",
     "text": [
      "Row Count: 276,878\n"
     ]
    },
    {
     "name": "stderr",
     "output_type": "stream",
     "text": [
      "                                                                                \r"
     ]
    }
   ],
   "source": [
    "# remove the internal ip addresses form the dataset\n",
    "df_minute_vlan = df_minute_vlan_all \\\n",
    "    .where('vlan != \"internal\"')\n",
    "\n",
    "print(f'Row Count: {df_minute_vlan.count():,}')"
   ]
  },
  {
   "cell_type": "markdown",
   "metadata": {},
   "source": [
    "##### Daily Bandwidth Usage"
   ]
  },
  {
   "cell_type": "code",
   "execution_count": 36,
   "metadata": {},
   "outputs": [
    {
     "name": "stderr",
     "output_type": "stream",
     "text": [
      "                                                                                \r"
     ]
    },
    {
     "data": {
      "text/html": [
       "<div>\n",
       "<style scoped>\n",
       "    .dataframe tbody tr th:only-of-type {\n",
       "        vertical-align: middle;\n",
       "    }\n",
       "\n",
       "    .dataframe tbody tr th {\n",
       "        vertical-align: top;\n",
       "    }\n",
       "\n",
       "    .dataframe thead th {\n",
       "        text-align: right;\n",
       "    }\n",
       "</style>\n",
       "<table border=\"1\" class=\"dataframe\">\n",
       "  <thead>\n",
       "    <tr style=\"text-align: right;\">\n",
       "      <th></th>\n",
       "      <th>year</th>\n",
       "      <th>month</th>\n",
       "      <th>day</th>\n",
       "      <th>vlan</th>\n",
       "      <th>sum(bytes_used)</th>\n",
       "    </tr>\n",
       "  </thead>\n",
       "  <tbody>\n",
       "    <tr>\n",
       "      <th>0</th>\n",
       "      <td>2022</td>\n",
       "      <td>3</td>\n",
       "      <td>4</td>\n",
       "      <td>private</td>\n",
       "      <td>138364651</td>\n",
       "    </tr>\n",
       "    <tr>\n",
       "      <th>1</th>\n",
       "      <td>2022</td>\n",
       "      <td>3</td>\n",
       "      <td>4</td>\n",
       "      <td>tenants</td>\n",
       "      <td>2518310329</td>\n",
       "    </tr>\n",
       "    <tr>\n",
       "      <th>2</th>\n",
       "      <td>2022</td>\n",
       "      <td>3</td>\n",
       "      <td>5</td>\n",
       "      <td>private</td>\n",
       "      <td>13337844087</td>\n",
       "    </tr>\n",
       "    <tr>\n",
       "      <th>3</th>\n",
       "      <td>2022</td>\n",
       "      <td>3</td>\n",
       "      <td>5</td>\n",
       "      <td>tenants</td>\n",
       "      <td>21974716480</td>\n",
       "    </tr>\n",
       "    <tr>\n",
       "      <th>4</th>\n",
       "      <td>2022</td>\n",
       "      <td>3</td>\n",
       "      <td>6</td>\n",
       "      <td>private</td>\n",
       "      <td>9746012979</td>\n",
       "    </tr>\n",
       "  </tbody>\n",
       "</table>\n",
       "</div>"
      ],
      "text/plain": [
       "   year  month  day     vlan  sum(bytes_used)\n",
       "0  2022      3    4  private        138364651\n",
       "1  2022      3    4  tenants       2518310329\n",
       "2  2022      3    5  private      13337844087\n",
       "3  2022      3    5  tenants      21974716480\n",
       "4  2022      3    6  private       9746012979"
      ]
     },
     "execution_count": 36,
     "metadata": {},
     "output_type": "execute_result"
    }
   ],
   "source": [
    "# get the summary data\n",
    "df_daily_summary = df_minute_vlan \\\n",
    "    .groupBy('year', 'month', 'day', 'vlan') \\\n",
    "    .sum('bytes_used') \\\n",
    "    .orderBy('year', 'month', 'day', 'vlan').toPandas()\n",
    "\n",
    "df_daily_summary.head()"
   ]
  },
  {
   "cell_type": "code",
   "execution_count": 37,
   "metadata": {},
   "outputs": [
    {
     "data": {
      "text/html": [
       "<div>\n",
       "<style scoped>\n",
       "    .dataframe tbody tr th:only-of-type {\n",
       "        vertical-align: middle;\n",
       "    }\n",
       "\n",
       "    .dataframe tbody tr th {\n",
       "        vertical-align: top;\n",
       "    }\n",
       "\n",
       "    .dataframe thead th {\n",
       "        text-align: right;\n",
       "    }\n",
       "</style>\n",
       "<table border=\"1\" class=\"dataframe\">\n",
       "  <thead>\n",
       "    <tr style=\"text-align: right;\">\n",
       "      <th></th>\n",
       "      <th>vlan</th>\n",
       "      <th>sum(bytes_used)</th>\n",
       "      <th>date</th>\n",
       "    </tr>\n",
       "  </thead>\n",
       "  <tbody>\n",
       "    <tr>\n",
       "      <th>0</th>\n",
       "      <td>private</td>\n",
       "      <td>138364651</td>\n",
       "      <td>2022-03-04</td>\n",
       "    </tr>\n",
       "    <tr>\n",
       "      <th>1</th>\n",
       "      <td>tenants</td>\n",
       "      <td>2518310329</td>\n",
       "      <td>2022-03-04</td>\n",
       "    </tr>\n",
       "    <tr>\n",
       "      <th>2</th>\n",
       "      <td>private</td>\n",
       "      <td>13337844087</td>\n",
       "      <td>2022-03-05</td>\n",
       "    </tr>\n",
       "    <tr>\n",
       "      <th>3</th>\n",
       "      <td>tenants</td>\n",
       "      <td>21974716480</td>\n",
       "      <td>2022-03-05</td>\n",
       "    </tr>\n",
       "    <tr>\n",
       "      <th>4</th>\n",
       "      <td>private</td>\n",
       "      <td>9746012979</td>\n",
       "      <td>2022-03-06</td>\n",
       "    </tr>\n",
       "  </tbody>\n",
       "</table>\n",
       "</div>"
      ],
      "text/plain": [
       "      vlan  sum(bytes_used)       date\n",
       "0  private        138364651 2022-03-04\n",
       "1  tenants       2518310329 2022-03-04\n",
       "2  private      13337844087 2022-03-05\n",
       "3  tenants      21974716480 2022-03-05\n",
       "4  private       9746012979 2022-03-06"
      ]
     },
     "execution_count": 37,
     "metadata": {},
     "output_type": "execute_result"
    }
   ],
   "source": [
    "# add a date column\n",
    "df_daily_summary['date'] = pd.to_datetime(df_daily_summary[['year', 'month', 'day']])\n",
    "df_daily_summary.drop(columns=['year', 'month', 'day'], inplace=True)\n",
    "\n",
    "df_daily_summary.head()"
   ]
  },
  {
   "cell_type": "code",
   "execution_count": 38,
   "metadata": {},
   "outputs": [
    {
     "data": {
      "text/html": [
       "<div>\n",
       "<style scoped>\n",
       "    .dataframe tbody tr th:only-of-type {\n",
       "        vertical-align: middle;\n",
       "    }\n",
       "\n",
       "    .dataframe tbody tr th {\n",
       "        vertical-align: top;\n",
       "    }\n",
       "\n",
       "    .dataframe thead th {\n",
       "        text-align: right;\n",
       "    }\n",
       "</style>\n",
       "<table border=\"1\" class=\"dataframe\">\n",
       "  <thead>\n",
       "    <tr style=\"text-align: right;\">\n",
       "      <th></th>\n",
       "      <th>vlan</th>\n",
       "      <th>date</th>\n",
       "      <th>sum(bytes_used)</th>\n",
       "      <th>gigabytes</th>\n",
       "    </tr>\n",
       "  </thead>\n",
       "  <tbody>\n",
       "    <tr>\n",
       "      <th>0</th>\n",
       "      <td>private</td>\n",
       "      <td>2022-03-04</td>\n",
       "      <td>138364651</td>\n",
       "      <td>0.138365</td>\n",
       "    </tr>\n",
       "    <tr>\n",
       "      <th>1</th>\n",
       "      <td>private</td>\n",
       "      <td>2022-03-05</td>\n",
       "      <td>13337844087</td>\n",
       "      <td>13.337844</td>\n",
       "    </tr>\n",
       "    <tr>\n",
       "      <th>2</th>\n",
       "      <td>private</td>\n",
       "      <td>2022-03-06</td>\n",
       "      <td>9746012979</td>\n",
       "      <td>9.746013</td>\n",
       "    </tr>\n",
       "    <tr>\n",
       "      <th>3</th>\n",
       "      <td>private</td>\n",
       "      <td>2022-03-07</td>\n",
       "      <td>12818470359</td>\n",
       "      <td>12.818470</td>\n",
       "    </tr>\n",
       "    <tr>\n",
       "      <th>4</th>\n",
       "      <td>private</td>\n",
       "      <td>2022-03-08</td>\n",
       "      <td>9636907707</td>\n",
       "      <td>9.636908</td>\n",
       "    </tr>\n",
       "    <tr>\n",
       "      <th>5</th>\n",
       "      <td>private</td>\n",
       "      <td>2022-03-09</td>\n",
       "      <td>9629446249</td>\n",
       "      <td>9.629446</td>\n",
       "    </tr>\n",
       "    <tr>\n",
       "      <th>6</th>\n",
       "      <td>private</td>\n",
       "      <td>2022-03-10</td>\n",
       "      <td>6903323581</td>\n",
       "      <td>6.903324</td>\n",
       "    </tr>\n",
       "    <tr>\n",
       "      <th>7</th>\n",
       "      <td>private</td>\n",
       "      <td>2022-03-11</td>\n",
       "      <td>1039127990</td>\n",
       "      <td>1.039128</td>\n",
       "    </tr>\n",
       "    <tr>\n",
       "      <th>8</th>\n",
       "      <td>tenants</td>\n",
       "      <td>2022-03-04</td>\n",
       "      <td>2518310329</td>\n",
       "      <td>2.518310</td>\n",
       "    </tr>\n",
       "    <tr>\n",
       "      <th>9</th>\n",
       "      <td>tenants</td>\n",
       "      <td>2022-03-05</td>\n",
       "      <td>21974716480</td>\n",
       "      <td>21.974716</td>\n",
       "    </tr>\n",
       "  </tbody>\n",
       "</table>\n",
       "</div>"
      ],
      "text/plain": [
       "      vlan       date  sum(bytes_used)  gigabytes\n",
       "0  private 2022-03-04        138364651   0.138365\n",
       "1  private 2022-03-05      13337844087  13.337844\n",
       "2  private 2022-03-06       9746012979   9.746013\n",
       "3  private 2022-03-07      12818470359  12.818470\n",
       "4  private 2022-03-08       9636907707   9.636908\n",
       "5  private 2022-03-09       9629446249   9.629446\n",
       "6  private 2022-03-10       6903323581   6.903324\n",
       "7  private 2022-03-11       1039127990   1.039128\n",
       "8  tenants 2022-03-04       2518310329   2.518310\n",
       "9  tenants 2022-03-05      21974716480  21.974716"
      ]
     },
     "execution_count": 38,
     "metadata": {},
     "output_type": "execute_result"
    }
   ],
   "source": [
    "# resample the data to fill gaps if present\n",
    "df_daily_summary_resampled = df_daily_summary \\\n",
    "    .set_index('date') \\\n",
    "    .groupby('vlan') \\\n",
    "    .resample('D') \\\n",
    "    .sum() \\\n",
    "    .ffill() \\\n",
    "    .reset_index()\n",
    "\n",
    "# add a gigabytes column\n",
    "df_daily_summary_resampled['gigabytes'] = df_daily_summary_resampled['sum(bytes_used)'] / 1e9\n",
    "#df_daily_summary_resampled.sort_values('vlan', inplace=True)\n",
    "\n",
    "df_daily_summary_resampled.head(10)"
   ]
  },
  {
   "cell_type": "code",
   "execution_count": 39,
   "metadata": {},
   "outputs": [
    {
     "data": {
      "image/png": "[encoded data removed]",
      "text/plain": [
       "<Figure size 1080x396 with 1 Axes>"
      ]
     },
     "metadata": {
      "needs_background": "light"
     },
     "output_type": "display_data"
    }
   ],
   "source": [
    "# configure the plot\n",
    "fig_dims = (15, 5.5)\n",
    "fig, ax = plt.subplots(figsize=fig_dims)\n",
    "\n",
    "# get x tick labels\n",
    "x_dates = df_daily_summary_resampled['date'].dt.strftime('%Y-%m-%d').sort_values().unique()\n",
    "\n",
    "sns.lineplot(\n",
    "    data=df_daily_summary_resampled,\n",
    "    x='date',\n",
    "    y='gigabytes',\n",
    "    hue='vlan',\n",
    "    ax=ax\n",
    ").set(\n",
    "    title='Bandwidth Usage by VLAN',\n",
    "    ylabel='Usage in GB',\n",
    "    xticks=df_daily_summary_resampled.date.unique()\n",
    ")\n",
    "\n",
    "plt.show()"
   ]
  },
  {
   "cell_type": "markdown",
   "metadata": {},
   "source": [
    "##### Summarize by IP and total bytes used"
   ]
  },
  {
   "cell_type": "code",
   "execution_count": 40,
   "metadata": {},
   "outputs": [
    {
     "name": "stderr",
     "output_type": "stream",
     "text": [
      "                                                                                \r"
     ]
    },
    {
     "data": {
      "text/html": [
       "<div>\n",
       "<style scoped>\n",
       "    .dataframe tbody tr th:only-of-type {\n",
       "        vertical-align: middle;\n",
       "    }\n",
       "\n",
       "    .dataframe tbody tr th {\n",
       "        vertical-align: top;\n",
       "    }\n",
       "\n",
       "    .dataframe thead th {\n",
       "        text-align: right;\n",
       "    }\n",
       "</style>\n",
       "<table border=\"1\" class=\"dataframe\">\n",
       "  <thead>\n",
       "    <tr style=\"text-align: right;\">\n",
       "      <th></th>\n",
       "      <th>IP</th>\n",
       "      <th>vlan</th>\n",
       "      <th>sum(bytes_used)</th>\n",
       "      <th>gigabytes</th>\n",
       "    </tr>\n",
       "  </thead>\n",
       "  <tbody>\n",
       "    <tr>\n",
       "      <th>0</th>\n",
       "      <td>192.168.3.126</td>\n",
       "      <td>tenants</td>\n",
       "      <td>39796089043</td>\n",
       "      <td>39.796089</td>\n",
       "    </tr>\n",
       "    <tr>\n",
       "      <th>1</th>\n",
       "      <td>192.168.1.108</td>\n",
       "      <td>private</td>\n",
       "      <td>32282607928</td>\n",
       "      <td>32.282608</td>\n",
       "    </tr>\n",
       "    <tr>\n",
       "      <th>2</th>\n",
       "      <td>192.168.3.185</td>\n",
       "      <td>tenants</td>\n",
       "      <td>31226504678</td>\n",
       "      <td>31.226505</td>\n",
       "    </tr>\n",
       "    <tr>\n",
       "      <th>3</th>\n",
       "      <td>192.168.3.224</td>\n",
       "      <td>tenants</td>\n",
       "      <td>16712150047</td>\n",
       "      <td>16.712150</td>\n",
       "    </tr>\n",
       "    <tr>\n",
       "      <th>4</th>\n",
       "      <td>192.168.3.103</td>\n",
       "      <td>tenants</td>\n",
       "      <td>15230307004</td>\n",
       "      <td>15.230307</td>\n",
       "    </tr>\n",
       "    <tr>\n",
       "      <th>5</th>\n",
       "      <td>192.168.1.189</td>\n",
       "      <td>private</td>\n",
       "      <td>13439564067</td>\n",
       "      <td>13.439564</td>\n",
       "    </tr>\n",
       "    <tr>\n",
       "      <th>6</th>\n",
       "      <td>192.168.3.111</td>\n",
       "      <td>tenants</td>\n",
       "      <td>11545142181</td>\n",
       "      <td>11.545142</td>\n",
       "    </tr>\n",
       "    <tr>\n",
       "      <th>7</th>\n",
       "      <td>192.168.3.125</td>\n",
       "      <td>tenants</td>\n",
       "      <td>10485606483</td>\n",
       "      <td>10.485606</td>\n",
       "    </tr>\n",
       "    <tr>\n",
       "      <th>8</th>\n",
       "      <td>192.168.1.186</td>\n",
       "      <td>private</td>\n",
       "      <td>8987459005</td>\n",
       "      <td>8.987459</td>\n",
       "    </tr>\n",
       "    <tr>\n",
       "      <th>9</th>\n",
       "      <td>192.168.3.246</td>\n",
       "      <td>tenants</td>\n",
       "      <td>6003659108</td>\n",
       "      <td>6.003659</td>\n",
       "    </tr>\n",
       "  </tbody>\n",
       "</table>\n",
       "</div>"
      ],
      "text/plain": [
       "              IP     vlan  sum(bytes_used)  gigabytes\n",
       "0  192.168.3.126  tenants      39796089043  39.796089\n",
       "1  192.168.1.108  private      32282607928  32.282608\n",
       "2  192.168.3.185  tenants      31226504678  31.226505\n",
       "3  192.168.3.224  tenants      16712150047  16.712150\n",
       "4  192.168.3.103  tenants      15230307004  15.230307\n",
       "5  192.168.1.189  private      13439564067  13.439564\n",
       "6  192.168.3.111  tenants      11545142181  11.545142\n",
       "7  192.168.3.125  tenants      10485606483  10.485606\n",
       "8  192.168.1.186  private       8987459005   8.987459\n",
       "9  192.168.3.246  tenants       6003659108   6.003659"
      ]
     },
     "execution_count": 40,
     "metadata": {},
     "output_type": "execute_result"
    }
   ],
   "source": [
    "# get the summarized data\n",
    "df_total_usage = df_minute_vlan \\\n",
    "    .select('IP', 'vlan', 'bytes_used') \\\n",
    "    .groupBy('IP', 'vlan')\\\n",
    "    .sum() \\\n",
    "    .sort('sum(bytes_used)', ascending=False) \\\n",
    "    .toPandas()\n",
    "\n",
    "df_total_usage['gigabytes'] = df_total_usage['sum(bytes_used)'] / 1e9\n",
    "df_total_usage.head(10)"
   ]
  },
  {
   "cell_type": "code",
   "execution_count": 41,
   "metadata": {},
   "outputs": [
    {
     "data": {
      "image/png": "[encoded data removed]",
      "text/plain": [
       "<Figure size 1080x396 with 1 Axes>"
      ]
     },
     "metadata": {
      "needs_background": "light"
     },
     "output_type": "display_data"
    }
   ],
   "source": [
    "# plot the results\n",
    "fig_dims = (15, 5.5)\n",
    "fig, ax = plt.subplots(figsize=fig_dims)\n",
    "\n",
    "sns.barplot(\n",
    "    data=df_total_usage,\n",
    "    x='IP',\n",
    "    y='gigabytes',\n",
    "    palette='Blues_d',\n",
    "    ax=ax\n",
    ").set(\n",
    "    title='Bandwidth Usage by IP Address',\n",
    "    ylabel='Usage in GB',\n",
    "    xlabel='IP Address'\n",
    ")\n",
    "\n",
    "ax.tick_params(axis='x', rotation=90)\n",
    "plt.show()"
   ]
  },
  {
   "cell_type": "markdown",
   "metadata": {},
   "source": [
    "##### Show Daily usage for a visitor\n",
    "\n",
    "The IP address `192.168.3.193` is of a known vistor cellphone. Visualize the daily usage data for this IP address."
   ]
  },
  {
   "cell_type": "code",
   "execution_count": 139,
   "metadata": {},
   "outputs": [
    {
     "name": "stderr",
     "output_type": "stream",
     "text": [
      "                                                                                \r"
     ]
    }
   ],
   "source": [
    "# get the summary from the spark dataframe\n",
    "df_visitor = df_minute_vlan \\\n",
    "    .where('IP == \"192.168.3.193\"') \\\n",
    "    .groupBy('year', 'month', 'day') \\\n",
    "    .sum('bytes_used') \\\n",
    "    .withColumnRenamed('sum(bytes_used)', 'bytes_used') \\\n",
    "    .withColumn('date', expr(\"make_date(year, month, day)\")) \\\n",
    "    .orderBy('date') \\\n",
    "    .toPandas()"
   ]
  },
  {
   "cell_type": "code",
   "execution_count": 140,
   "metadata": {},
   "outputs": [],
   "source": [
    "# prepare the pandas dataframe for plotting\n",
    "df_visitor['date'] = pd.to_datetime(df_visitor['date'])\n",
    "\n",
    "df_visitor = df_visitor \\\n",
    "    .set_index('date') \\\n",
    "    .bytes_used \\\n",
    "    .resample('D') \\\n",
    "    .sum() \\\n",
    "    .reset_index()"
   ]
  },
  {
   "cell_type": "code",
   "execution_count": 141,
   "metadata": {},
   "outputs": [],
   "source": [
    "df_visitor['connected'] = df_visitor['bytes_used'] > 0"
   ]
  },
  {
   "cell_type": "code",
   "execution_count": 144,
   "metadata": {},
   "outputs": [
    {
     "data": {
      "image/png": "[encoded data removed]",
      "text/plain": [
       "<Figure size 1080x396 with 1 Axes>"
      ]
     },
     "metadata": {
      "needs_background": "light"
     },
     "output_type": "display_data"
    }
   ],
   "source": [
    "# visualize the data\n",
    "fig_dims = (15, 5.5)\n",
    "fig, ax = plt.subplots(figsize=fig_dims)\n",
    "\n",
    "sns.lineplot(\n",
    "    data=df_visitor,\n",
    "    x='date',\n",
    "    y='connected',\n",
    "    ax=ax\n",
    ").set(\n",
    "    title='Active Status for 192.168.3.193',\n",
    "    ylabel='Active',\n",
    "    xticks=df_visitor.date.unique(),\n",
    "    yticks=[True, False]\n",
    ")\n",
    "\n",
    "plt.show()"
   ]
  },
  {
   "cell_type": "markdown",
   "metadata": {},
   "source": [
    "#### 3. Create Features for each IP Address"
   ]
  },
  {
   "cell_type": "code",
   "execution_count": 42,
   "metadata": {},
   "outputs": [
    {
     "name": "stdout",
     "output_type": "stream",
     "text": [
      "root\n",
      " |-- direction: string (nullable = true)\n",
      " |-- ip: string (nullable = true)\n",
      " |-- interval_start: string (nullable = true)\n",
      " |-- interval_end: integer (nullable = true)\n",
      " |-- bytes_used: long (nullable = true)\n",
      " |-- interval_start_time: string (nullable = true)\n",
      " |-- interval_end_time: string (nullable = true)\n",
      " |-- year: integer (nullable = true)\n",
      " |-- month: integer (nullable = true)\n",
      " |-- day: integer (nullable = true)\n",
      " |-- day_of_week: integer (nullable = true)\n",
      " |-- hour: integer (nullable = true)\n",
      " |-- minute: integer (nullable = true)\n",
      " |-- vlan: string (nullable = false)\n",
      "\n"
     ]
    }
   ],
   "source": [
    "df_minute_vlan.printSchema()"
   ]
  },
  {
   "cell_type": "code",
   "execution_count": 43,
   "metadata": {},
   "outputs": [
    {
     "name": "stderr",
     "output_type": "stream",
     "text": [
      "                                                                                \r"
     ]
    },
    {
     "name": "stdout",
     "output_type": "stream",
     "text": [
      "Row Count: 33\n"
     ]
    }
   ],
   "source": [
    "# create the base users table\n",
    "df_users = df_minute_vlan \\\n",
    "    .select('IP', 'vlan', 'bytes_used') \\\n",
    "    .groupBy('IP', 'vlan') \\\n",
    "    .sum() \\\n",
    "    .withColumnRenamed('sum(bytes_used)', 'total_bytes') \\\n",
    "    .sort('IP', ascending=False).toPandas()\n",
    "\n",
    "print(f'Row Count: {df_users.shape[0]:,}')"
   ]
  },
  {
   "cell_type": "code",
   "execution_count": 44,
   "metadata": {},
   "outputs": [
    {
     "name": "stderr",
     "output_type": "stream",
     "text": [
      "                                                                                \r"
     ]
    },
    {
     "data": {
      "text/html": [
       "<div>\n",
       "<style scoped>\n",
       "    .dataframe tbody tr th:only-of-type {\n",
       "        vertical-align: middle;\n",
       "    }\n",
       "\n",
       "    .dataframe tbody tr th {\n",
       "        vertical-align: top;\n",
       "    }\n",
       "\n",
       "    .dataframe thead th {\n",
       "        text-align: right;\n",
       "    }\n",
       "</style>\n",
       "<table border=\"1\" class=\"dataframe\">\n",
       "  <thead>\n",
       "    <tr style=\"text-align: right;\">\n",
       "      <th></th>\n",
       "      <th>IP</th>\n",
       "      <th>vlan</th>\n",
       "      <th>total_bytes</th>\n",
       "      <th>dowload_bytes</th>\n",
       "    </tr>\n",
       "  </thead>\n",
       "  <tbody>\n",
       "    <tr>\n",
       "      <th>0</th>\n",
       "      <td>192.168.3.246</td>\n",
       "      <td>tenants</td>\n",
       "      <td>6003659108</td>\n",
       "      <td>4339881106</td>\n",
       "    </tr>\n",
       "    <tr>\n",
       "      <th>1</th>\n",
       "      <td>192.168.3.242</td>\n",
       "      <td>tenants</td>\n",
       "      <td>812834465</td>\n",
       "      <td>747345496</td>\n",
       "    </tr>\n",
       "    <tr>\n",
       "      <th>2</th>\n",
       "      <td>192.168.3.240</td>\n",
       "      <td>tenants</td>\n",
       "      <td>2093325722</td>\n",
       "      <td>1677547740</td>\n",
       "    </tr>\n",
       "    <tr>\n",
       "      <th>3</th>\n",
       "      <td>192.168.3.224</td>\n",
       "      <td>tenants</td>\n",
       "      <td>16712150047</td>\n",
       "      <td>16287480169</td>\n",
       "    </tr>\n",
       "    <tr>\n",
       "      <th>4</th>\n",
       "      <td>192.168.3.193</td>\n",
       "      <td>tenants</td>\n",
       "      <td>484145977</td>\n",
       "      <td>284428423</td>\n",
       "    </tr>\n",
       "  </tbody>\n",
       "</table>\n",
       "</div>"
      ],
      "text/plain": [
       "              IP     vlan  total_bytes  dowload_bytes\n",
       "0  192.168.3.246  tenants   6003659108     4339881106\n",
       "1  192.168.3.242  tenants    812834465      747345496\n",
       "2  192.168.3.240  tenants   2093325722     1677547740\n",
       "3  192.168.3.224  tenants  16712150047    16287480169\n",
       "4  192.168.3.193  tenants    484145977      284428423"
      ]
     },
     "execution_count": 44,
     "metadata": {},
     "output_type": "execute_result"
    }
   ],
   "source": [
    "# calculate the download bytes used\n",
    "df_users_download = df_minute_vlan \\\n",
    "    .select('IP', 'bytes_used') \\\n",
    "    .where('direction == \"download\"') \\\n",
    "    .groupBy('IP') \\\n",
    "    .sum() \\\n",
    "    .withColumnRenamed('sum(bytes_used)', 'dowload_bytes') \\\n",
    "    .sort('IP', ascending=False).toPandas()\n",
    "\n",
    "df_users = df_users.merge(df_users_download, on='IP', how='left')\n",
    "df_users.head()"
   ]
  },
  {
   "cell_type": "code",
   "execution_count": 45,
   "metadata": {},
   "outputs": [
    {
     "name": "stderr",
     "output_type": "stream",
     "text": [
      "                                                                                \r"
     ]
    },
    {
     "data": {
      "text/html": [
       "<div>\n",
       "<style scoped>\n",
       "    .dataframe tbody tr th:only-of-type {\n",
       "        vertical-align: middle;\n",
       "    }\n",
       "\n",
       "    .dataframe tbody tr th {\n",
       "        vertical-align: top;\n",
       "    }\n",
       "\n",
       "    .dataframe thead th {\n",
       "        text-align: right;\n",
       "    }\n",
       "</style>\n",
       "<table border=\"1\" class=\"dataframe\">\n",
       "  <thead>\n",
       "    <tr style=\"text-align: right;\">\n",
       "      <th></th>\n",
       "      <th>IP</th>\n",
       "      <th>vlan</th>\n",
       "      <th>total_bytes</th>\n",
       "      <th>dowload_bytes</th>\n",
       "      <th>upload_bytes</th>\n",
       "    </tr>\n",
       "  </thead>\n",
       "  <tbody>\n",
       "    <tr>\n",
       "      <th>0</th>\n",
       "      <td>192.168.3.246</td>\n",
       "      <td>tenants</td>\n",
       "      <td>6003659108</td>\n",
       "      <td>4339881106</td>\n",
       "      <td>1663778002</td>\n",
       "    </tr>\n",
       "    <tr>\n",
       "      <th>1</th>\n",
       "      <td>192.168.3.242</td>\n",
       "      <td>tenants</td>\n",
       "      <td>812834465</td>\n",
       "      <td>747345496</td>\n",
       "      <td>65488969</td>\n",
       "    </tr>\n",
       "    <tr>\n",
       "      <th>2</th>\n",
       "      <td>192.168.3.240</td>\n",
       "      <td>tenants</td>\n",
       "      <td>2093325722</td>\n",
       "      <td>1677547740</td>\n",
       "      <td>415777982</td>\n",
       "    </tr>\n",
       "    <tr>\n",
       "      <th>3</th>\n",
       "      <td>192.168.3.224</td>\n",
       "      <td>tenants</td>\n",
       "      <td>16712150047</td>\n",
       "      <td>16287480169</td>\n",
       "      <td>424669878</td>\n",
       "    </tr>\n",
       "    <tr>\n",
       "      <th>4</th>\n",
       "      <td>192.168.3.193</td>\n",
       "      <td>tenants</td>\n",
       "      <td>484145977</td>\n",
       "      <td>284428423</td>\n",
       "      <td>199717554</td>\n",
       "    </tr>\n",
       "  </tbody>\n",
       "</table>\n",
       "</div>"
      ],
      "text/plain": [
       "              IP     vlan  total_bytes  dowload_bytes  upload_bytes\n",
       "0  192.168.3.246  tenants   6003659108     4339881106    1663778002\n",
       "1  192.168.3.242  tenants    812834465      747345496      65488969\n",
       "2  192.168.3.240  tenants   2093325722     1677547740     415777982\n",
       "3  192.168.3.224  tenants  16712150047    16287480169     424669878\n",
       "4  192.168.3.193  tenants    484145977      284428423     199717554"
      ]
     },
     "execution_count": 45,
     "metadata": {},
     "output_type": "execute_result"
    }
   ],
   "source": [
    "# calculate the upload bytes used\n",
    "df_users_upload = df_minute_vlan \\\n",
    "    .select('IP', 'bytes_used') \\\n",
    "    .where('direction == \"upload\"') \\\n",
    "    .groupBy('IP') \\\n",
    "    .sum() \\\n",
    "    .withColumnRenamed('sum(bytes_used)', 'upload_bytes') \\\n",
    "    .sort('IP', ascending=False).toPandas()\n",
    "\n",
    "df_users = df_users.merge(df_users_upload, on='IP', how='left')\n",
    "df_users.head()"
   ]
  },
  {
   "cell_type": "markdown",
   "metadata": {},
   "source": [
    "##### Bandwidth usage by day of week"
   ]
  },
  {
   "cell_type": "code",
   "execution_count": 46,
   "metadata": {},
   "outputs": [],
   "source": [
    "def get_dayofweek_usage(df_source, dayofweek):\n",
    "    \"\"\"\n",
    "    Get the usage for a specific day of the week\n",
    "\n",
    "    Parameters\n",
    "    ----------\n",
    "    df_source : pySpark dataframe\n",
    "        The source dataframe\n",
    "    dayofweek : int\n",
    "        The day of the week to get the usage for\n",
    "\n",
    "    Returns\n",
    "    -------\n",
    "    df_dayofweek : pySpark dataframe\n",
    "        The dataframe with the day of the week usage\n",
    "    \"\"\"\n",
    "    day_name = calendar.day_name[dayofweek - 1]\n",
    "\n",
    "    df_dayofweek_usage = df_source \\\n",
    "        .select('IP', 'bytes_used') \\\n",
    "        .where(f'day_of_week == \"{dayofweek}\"') \\\n",
    "        .groupBy('IP') \\\n",
    "        .avg() \\\n",
    "        .withColumnRenamed('avg(bytes_used)', f'{day_name}_avg_bytes') \\\n",
    "        .sort('IP', ascending=False).toPandas()\n",
    "\n",
    "    # change the average bytes to an integer\n",
    "    df_dayofweek_usage[f'{day_name}_avg_bytes'] = \\\n",
    "        df_dayofweek_usage[f'{day_name}_avg_bytes'].astype(int)\n",
    "\n",
    "    return df_dayofweek_usage"
   ]
  },
  {
   "cell_type": "code",
   "execution_count": 47,
   "metadata": {},
   "outputs": [
    {
     "name": "stderr",
     "output_type": "stream",
     "text": [
      "                                                                                \r"
     ]
    },
    {
     "data": {
      "text/html": [
       "<div>\n",
       "<style scoped>\n",
       "    .dataframe tbody tr th:only-of-type {\n",
       "        vertical-align: middle;\n",
       "    }\n",
       "\n",
       "    .dataframe tbody tr th {\n",
       "        vertical-align: top;\n",
       "    }\n",
       "\n",
       "    .dataframe thead th {\n",
       "        text-align: right;\n",
       "    }\n",
       "</style>\n",
       "<table border=\"1\" class=\"dataframe\">\n",
       "  <thead>\n",
       "    <tr style=\"text-align: right;\">\n",
       "      <th></th>\n",
       "      <th>IP</th>\n",
       "      <th>vlan</th>\n",
       "      <th>total_bytes</th>\n",
       "      <th>dowload_bytes</th>\n",
       "      <th>upload_bytes</th>\n",
       "      <th>Monday_avg_bytes</th>\n",
       "      <th>Tuesday_avg_bytes</th>\n",
       "      <th>Wednesday_avg_bytes</th>\n",
       "      <th>Thursday_avg_bytes</th>\n",
       "      <th>Friday_avg_bytes</th>\n",
       "      <th>Saturday_avg_bytes</th>\n",
       "      <th>Sunday_avg_bytes</th>\n",
       "    </tr>\n",
       "  </thead>\n",
       "  <tbody>\n",
       "    <tr>\n",
       "      <th>0</th>\n",
       "      <td>192.168.3.246</td>\n",
       "      <td>tenants</td>\n",
       "      <td>6003659108</td>\n",
       "      <td>4339881106</td>\n",
       "      <td>1663778002</td>\n",
       "      <td>884371.0</td>\n",
       "      <td>731149.0</td>\n",
       "      <td>686591.0</td>\n",
       "      <td>NaN</td>\n",
       "      <td>NaN</td>\n",
       "      <td>132844.0</td>\n",
       "      <td>1143805.0</td>\n",
       "    </tr>\n",
       "    <tr>\n",
       "      <th>1</th>\n",
       "      <td>192.168.3.242</td>\n",
       "      <td>tenants</td>\n",
       "      <td>812834465</td>\n",
       "      <td>747345496</td>\n",
       "      <td>65488969</td>\n",
       "      <td>110405.0</td>\n",
       "      <td>15476.0</td>\n",
       "      <td>70635.0</td>\n",
       "      <td>69328.0</td>\n",
       "      <td>23617.0</td>\n",
       "      <td>13800.0</td>\n",
       "      <td>16132.0</td>\n",
       "    </tr>\n",
       "    <tr>\n",
       "      <th>2</th>\n",
       "      <td>192.168.3.240</td>\n",
       "      <td>tenants</td>\n",
       "      <td>2093325722</td>\n",
       "      <td>1677547740</td>\n",
       "      <td>415777982</td>\n",
       "      <td>12195.0</td>\n",
       "      <td>25176.0</td>\n",
       "      <td>336888.0</td>\n",
       "      <td>341015.0</td>\n",
       "      <td>11545.0</td>\n",
       "      <td>28055.0</td>\n",
       "      <td>351155.0</td>\n",
       "    </tr>\n",
       "    <tr>\n",
       "      <th>3</th>\n",
       "      <td>192.168.3.224</td>\n",
       "      <td>tenants</td>\n",
       "      <td>16712150047</td>\n",
       "      <td>16287480169</td>\n",
       "      <td>424669878</td>\n",
       "      <td>NaN</td>\n",
       "      <td>9517041.0</td>\n",
       "      <td>24160.0</td>\n",
       "      <td>2962873.0</td>\n",
       "      <td>2897.0</td>\n",
       "      <td>NaN</td>\n",
       "      <td>NaN</td>\n",
       "    </tr>\n",
       "    <tr>\n",
       "      <th>4</th>\n",
       "      <td>192.168.3.193</td>\n",
       "      <td>tenants</td>\n",
       "      <td>484145977</td>\n",
       "      <td>284428423</td>\n",
       "      <td>199717554</td>\n",
       "      <td>NaN</td>\n",
       "      <td>11884.0</td>\n",
       "      <td>NaN</td>\n",
       "      <td>1742181.0</td>\n",
       "      <td>NaN</td>\n",
       "      <td>NaN</td>\n",
       "      <td>NaN</td>\n",
       "    </tr>\n",
       "  </tbody>\n",
       "</table>\n",
       "</div>"
      ],
      "text/plain": [
       "              IP     vlan  total_bytes  dowload_bytes  upload_bytes  \\\n",
       "0  192.168.3.246  tenants   6003659108     4339881106    1663778002   \n",
       "1  192.168.3.242  tenants    812834465      747345496      65488969   \n",
       "2  192.168.3.240  tenants   2093325722     1677547740     415777982   \n",
       "3  192.168.3.224  tenants  16712150047    16287480169     424669878   \n",
       "4  192.168.3.193  tenants    484145977      284428423     199717554   \n",
       "\n",
       "   Monday_avg_bytes  Tuesday_avg_bytes  Wednesday_avg_bytes  \\\n",
       "0          884371.0           731149.0             686591.0   \n",
       "1          110405.0            15476.0              70635.0   \n",
       "2           12195.0            25176.0             336888.0   \n",
       "3               NaN          9517041.0              24160.0   \n",
       "4               NaN            11884.0                  NaN   \n",
       "\n",
       "   Thursday_avg_bytes  Friday_avg_bytes  Saturday_avg_bytes  Sunday_avg_bytes  \n",
       "0                 NaN               NaN            132844.0         1143805.0  \n",
       "1             69328.0           23617.0             13800.0           16132.0  \n",
       "2            341015.0           11545.0             28055.0          351155.0  \n",
       "3           2962873.0            2897.0                 NaN               NaN  \n",
       "4           1742181.0               NaN                 NaN               NaN  "
      ]
     },
     "execution_count": 47,
     "metadata": {},
     "output_type": "execute_result"
    }
   ],
   "source": [
    "# calculate the average usage for each day of the week\n",
    "for i in range(0, 7):\n",
    "    df_dayofweek_usage = get_dayofweek_usage(df_minute_vlan, i+1)\n",
    "    df_users = df_users.merge(df_dayofweek_usage, on='IP', how='left')\n",
    "\n",
    "df_users.head()"
   ]
  },
  {
   "cell_type": "code",
   "execution_count": 48,
   "metadata": {},
   "outputs": [
    {
     "data": {
      "text/html": [
       "<div>\n",
       "<style scoped>\n",
       "    .dataframe tbody tr th:only-of-type {\n",
       "        vertical-align: middle;\n",
       "    }\n",
       "\n",
       "    .dataframe tbody tr th {\n",
       "        vertical-align: top;\n",
       "    }\n",
       "\n",
       "    .dataframe thead th {\n",
       "        text-align: right;\n",
       "    }\n",
       "</style>\n",
       "<table border=\"1\" class=\"dataframe\">\n",
       "  <thead>\n",
       "    <tr style=\"text-align: right;\">\n",
       "      <th></th>\n",
       "      <th>IP</th>\n",
       "      <th>vlan</th>\n",
       "      <th>total_bytes</th>\n",
       "      <th>dowload_bytes</th>\n",
       "      <th>upload_bytes</th>\n",
       "      <th>Monday_avg_bytes</th>\n",
       "      <th>Tuesday_avg_bytes</th>\n",
       "      <th>Wednesday_avg_bytes</th>\n",
       "      <th>Thursday_avg_bytes</th>\n",
       "      <th>Friday_avg_bytes</th>\n",
       "      <th>Saturday_avg_bytes</th>\n",
       "      <th>Sunday_avg_bytes</th>\n",
       "    </tr>\n",
       "  </thead>\n",
       "  <tbody>\n",
       "    <tr>\n",
       "      <th>0</th>\n",
       "      <td>192.168.3.246</td>\n",
       "      <td>tenants</td>\n",
       "      <td>6003659108</td>\n",
       "      <td>4339881106</td>\n",
       "      <td>1663778002</td>\n",
       "      <td>884371.0</td>\n",
       "      <td>731149.0</td>\n",
       "      <td>686591.0</td>\n",
       "      <td>0.0</td>\n",
       "      <td>0.0</td>\n",
       "      <td>132844.0</td>\n",
       "      <td>1143805.0</td>\n",
       "    </tr>\n",
       "    <tr>\n",
       "      <th>1</th>\n",
       "      <td>192.168.3.242</td>\n",
       "      <td>tenants</td>\n",
       "      <td>812834465</td>\n",
       "      <td>747345496</td>\n",
       "      <td>65488969</td>\n",
       "      <td>110405.0</td>\n",
       "      <td>15476.0</td>\n",
       "      <td>70635.0</td>\n",
       "      <td>69328.0</td>\n",
       "      <td>23617.0</td>\n",
       "      <td>13800.0</td>\n",
       "      <td>16132.0</td>\n",
       "    </tr>\n",
       "    <tr>\n",
       "      <th>2</th>\n",
       "      <td>192.168.3.240</td>\n",
       "      <td>tenants</td>\n",
       "      <td>2093325722</td>\n",
       "      <td>1677547740</td>\n",
       "      <td>415777982</td>\n",
       "      <td>12195.0</td>\n",
       "      <td>25176.0</td>\n",
       "      <td>336888.0</td>\n",
       "      <td>341015.0</td>\n",
       "      <td>11545.0</td>\n",
       "      <td>28055.0</td>\n",
       "      <td>351155.0</td>\n",
       "    </tr>\n",
       "    <tr>\n",
       "      <th>3</th>\n",
       "      <td>192.168.3.224</td>\n",
       "      <td>tenants</td>\n",
       "      <td>16712150047</td>\n",
       "      <td>16287480169</td>\n",
       "      <td>424669878</td>\n",
       "      <td>0.0</td>\n",
       "      <td>9517041.0</td>\n",
       "      <td>24160.0</td>\n",
       "      <td>2962873.0</td>\n",
       "      <td>2897.0</td>\n",
       "      <td>0.0</td>\n",
       "      <td>0.0</td>\n",
       "    </tr>\n",
       "    <tr>\n",
       "      <th>4</th>\n",
       "      <td>192.168.3.193</td>\n",
       "      <td>tenants</td>\n",
       "      <td>484145977</td>\n",
       "      <td>284428423</td>\n",
       "      <td>199717554</td>\n",
       "      <td>0.0</td>\n",
       "      <td>11884.0</td>\n",
       "      <td>0.0</td>\n",
       "      <td>1742181.0</td>\n",
       "      <td>0.0</td>\n",
       "      <td>0.0</td>\n",
       "      <td>0.0</td>\n",
       "    </tr>\n",
       "  </tbody>\n",
       "</table>\n",
       "</div>"
      ],
      "text/plain": [
       "              IP     vlan  total_bytes  dowload_bytes  upload_bytes  \\\n",
       "0  192.168.3.246  tenants   6003659108     4339881106    1663778002   \n",
       "1  192.168.3.242  tenants    812834465      747345496      65488969   \n",
       "2  192.168.3.240  tenants   2093325722     1677547740     415777982   \n",
       "3  192.168.3.224  tenants  16712150047    16287480169     424669878   \n",
       "4  192.168.3.193  tenants    484145977      284428423     199717554   \n",
       "\n",
       "   Monday_avg_bytes  Tuesday_avg_bytes  Wednesday_avg_bytes  \\\n",
       "0          884371.0           731149.0             686591.0   \n",
       "1          110405.0            15476.0              70635.0   \n",
       "2           12195.0            25176.0             336888.0   \n",
       "3               0.0          9517041.0              24160.0   \n",
       "4               0.0            11884.0                  0.0   \n",
       "\n",
       "   Thursday_avg_bytes  Friday_avg_bytes  Saturday_avg_bytes  Sunday_avg_bytes  \n",
       "0                 0.0               0.0            132844.0         1143805.0  \n",
       "1             69328.0           23617.0             13800.0           16132.0  \n",
       "2            341015.0           11545.0             28055.0          351155.0  \n",
       "3           2962873.0            2897.0                 0.0               0.0  \n",
       "4           1742181.0               0.0                 0.0               0.0  "
      ]
     },
     "execution_count": 48,
     "metadata": {},
     "output_type": "execute_result"
    }
   ],
   "source": [
    "# replace the NaN values with 0\n",
    "df_users.fillna(0, inplace=True)\n",
    "df_users.head()"
   ]
  },
  {
   "cell_type": "markdown",
   "metadata": {},
   "source": [
    "##### Visualize the top 10 to see if they will be separable"
   ]
  },
  {
   "cell_type": "code",
   "execution_count": 49,
   "metadata": {},
   "outputs": [
    {
     "data": {
      "text/html": [
       "<div>\n",
       "<style scoped>\n",
       "    .dataframe tbody tr th:only-of-type {\n",
       "        vertical-align: middle;\n",
       "    }\n",
       "\n",
       "    .dataframe tbody tr th {\n",
       "        vertical-align: top;\n",
       "    }\n",
       "\n",
       "    .dataframe thead th {\n",
       "        text-align: right;\n",
       "    }\n",
       "</style>\n",
       "<table border=\"1\" class=\"dataframe\">\n",
       "  <thead>\n",
       "    <tr style=\"text-align: right;\">\n",
       "      <th></th>\n",
       "      <th>IP</th>\n",
       "      <th>vlan</th>\n",
       "      <th>total_bytes</th>\n",
       "      <th>dowload_bytes</th>\n",
       "      <th>upload_bytes</th>\n",
       "      <th>day_of_week</th>\n",
       "      <th>avg_bytes</th>\n",
       "    </tr>\n",
       "  </thead>\n",
       "  <tbody>\n",
       "    <tr>\n",
       "      <th>34</th>\n",
       "      <td>192.168.3.103</td>\n",
       "      <td>tenants</td>\n",
       "      <td>15230307004</td>\n",
       "      <td>14071146437</td>\n",
       "      <td>1159160567</td>\n",
       "      <td>Thursday</td>\n",
       "      <td>0.0</td>\n",
       "    </tr>\n",
       "    <tr>\n",
       "      <th>48</th>\n",
       "      <td>192.168.1.186</td>\n",
       "      <td>private</td>\n",
       "      <td>8987459005</td>\n",
       "      <td>6405309706</td>\n",
       "      <td>2582149299</td>\n",
       "      <td>Friday</td>\n",
       "      <td>1570980.0</td>\n",
       "    </tr>\n",
       "    <tr>\n",
       "      <th>28</th>\n",
       "      <td>192.168.1.186</td>\n",
       "      <td>private</td>\n",
       "      <td>8987459005</td>\n",
       "      <td>6405309706</td>\n",
       "      <td>2582149299</td>\n",
       "      <td>Wednesday</td>\n",
       "      <td>1639463.0</td>\n",
       "    </tr>\n",
       "    <tr>\n",
       "      <th>67</th>\n",
       "      <td>192.168.3.125</td>\n",
       "      <td>tenants</td>\n",
       "      <td>10485606483</td>\n",
       "      <td>10118050227</td>\n",
       "      <td>367556256</td>\n",
       "      <td>Sunday</td>\n",
       "      <td>801647.0</td>\n",
       "    </tr>\n",
       "    <tr>\n",
       "      <th>10</th>\n",
       "      <td>192.168.3.126</td>\n",
       "      <td>tenants</td>\n",
       "      <td>39796089043</td>\n",
       "      <td>38335747650</td>\n",
       "      <td>1460341393</td>\n",
       "      <td>Tuesday</td>\n",
       "      <td>4359285.0</td>\n",
       "    </tr>\n",
       "  </tbody>\n",
       "</table>\n",
       "</div>"
      ],
      "text/plain": [
       "               IP     vlan  total_bytes  dowload_bytes  upload_bytes  \\\n",
       "34  192.168.3.103  tenants  15230307004    14071146437    1159160567   \n",
       "48  192.168.1.186  private   8987459005     6405309706    2582149299   \n",
       "28  192.168.1.186  private   8987459005     6405309706    2582149299   \n",
       "67  192.168.3.125  tenants  10485606483    10118050227     367556256   \n",
       "10  192.168.3.126  tenants  39796089043    38335747650    1460341393   \n",
       "\n",
       "   day_of_week  avg_bytes  \n",
       "34    Thursday        0.0  \n",
       "48      Friday  1570980.0  \n",
       "28   Wednesday  1639463.0  \n",
       "67      Sunday   801647.0  \n",
       "10     Tuesday  4359285.0  "
      ]
     },
     "execution_count": 49,
     "metadata": {},
     "output_type": "execute_result"
    }
   ],
   "source": [
    "# create a dataframe suitable for creating the plot\n",
    "df_day_plot = df_users \\\n",
    "    .rename(columns=lambda x: x.replace('_avg_bytes', '')) \\\n",
    "    .sort_values('total_bytes', ascending=False) \\\n",
    "    .head(10)\n",
    "\n",
    "df_day_plot = df_day_plot.melt(\n",
    "    id_vars=list(df_users.columns)[:-7], \n",
    "    var_name='day_of_week', \n",
    "    value_name='avg_bytes')\n",
    "\n",
    "df_day_plot.sample(n=5, random_state=5)"
   ]
  },
  {
   "cell_type": "code",
   "execution_count": 50,
   "metadata": {},
   "outputs": [
    {
     "data": {
      "image/png": "[encoded data removed]",
      "text/plain": [
       "<Figure size 1080x396 with 1 Axes>"
      ]
     },
     "metadata": {
      "needs_background": "light"
     },
     "output_type": "display_data"
    }
   ],
   "source": [
    "\n",
    "fig_dims = (15, 5.5)\n",
    "fig, ax = plt.subplots(figsize=fig_dims)\n",
    "\n",
    "sns.lineplot(\n",
    "    data=df_day_plot,\n",
    "    x='day_of_week',\n",
    "    y='avg_bytes',\n",
    "    hue='IP',\n",
    "    style='vlan',\n",
    "    ax=ax\n",
    ").set(\n",
    "    title='Average Bandwidth Usage by Day of the Week',\n",
    "    xlabel='Day of the Week',\n",
    "    ylabel='Usage in Bytes')\n",
    "\n",
    "sns.move_legend(ax, \"upper left\", bbox_to_anchor=(1, 1))\n",
    "plt.show()\n"
   ]
  },
  {
   "cell_type": "markdown",
   "metadata": {},
   "source": [
    "##### Add number of days connected\n",
    "\n",
    "Visitors are not connected everyday, thus an additional feature that might be useful is a count on each day of the week the user was connected."
   ]
  },
  {
   "cell_type": "markdown",
   "metadata": {},
   "source": [
    "## III. Modeling"
   ]
  },
  {
   "cell_type": "markdown",
   "metadata": {},
   "source": [
    "### 1. Clustering Users"
   ]
  },
  {
   "cell_type": "markdown",
   "metadata": {},
   "source": [
    "##### Select the data to use for clustering"
   ]
  },
  {
   "cell_type": "code",
   "execution_count": 51,
   "metadata": {},
   "outputs": [
    {
     "name": "stdout",
     "output_type": "stream",
     "text": [
      "root\n",
      " |-- IP: string (nullable = true)\n",
      " |-- vlan: string (nullable = true)\n",
      " |-- total_bytes: long (nullable = true)\n",
      " |-- dowload_bytes: long (nullable = true)\n",
      " |-- upload_bytes: long (nullable = true)\n",
      " |-- Monday_avg_bytes: double (nullable = true)\n",
      " |-- Tuesday_avg_bytes: double (nullable = true)\n",
      " |-- Wednesday_avg_bytes: double (nullable = true)\n",
      " |-- Thursday_avg_bytes: double (nullable = true)\n",
      " |-- Friday_avg_bytes: double (nullable = true)\n",
      " |-- Saturday_avg_bytes: double (nullable = true)\n",
      " |-- Sunday_avg_bytes: double (nullable = true)\n",
      "\n"
     ]
    }
   ],
   "source": [
    "# get the dataframe to perform the clustering on\n",
    "df_clustering = spark.createDataFrame(df_users)\n",
    "df_clustering.printSchema()"
   ]
  },
  {
   "cell_type": "code",
   "execution_count": 52,
   "metadata": {},
   "outputs": [
    {
     "data": {
      "text/html": [
       "<div>\n",
       "<style scoped>\n",
       "    .dataframe tbody tr th:only-of-type {\n",
       "        vertical-align: middle;\n",
       "    }\n",
       "\n",
       "    .dataframe tbody tr th {\n",
       "        vertical-align: top;\n",
       "    }\n",
       "\n",
       "    .dataframe thead th {\n",
       "        text-align: right;\n",
       "    }\n",
       "</style>\n",
       "<table border=\"1\" class=\"dataframe\">\n",
       "  <thead>\n",
       "    <tr style=\"text-align: right;\">\n",
       "      <th></th>\n",
       "      <th>summary</th>\n",
       "      <th>IP</th>\n",
       "      <th>vlan</th>\n",
       "      <th>total_bytes</th>\n",
       "      <th>dowload_bytes</th>\n",
       "      <th>upload_bytes</th>\n",
       "      <th>Monday_avg_bytes</th>\n",
       "      <th>Tuesday_avg_bytes</th>\n",
       "      <th>Wednesday_avg_bytes</th>\n",
       "      <th>Thursday_avg_bytes</th>\n",
       "      <th>Friday_avg_bytes</th>\n",
       "      <th>Saturday_avg_bytes</th>\n",
       "      <th>Sunday_avg_bytes</th>\n",
       "    </tr>\n",
       "  </thead>\n",
       "  <tbody>\n",
       "    <tr>\n",
       "      <th>0</th>\n",
       "      <td>count</td>\n",
       "      <td>33</td>\n",
       "      <td>33</td>\n",
       "      <td>33</td>\n",
       "      <td>33</td>\n",
       "      <td>33</td>\n",
       "      <td>33</td>\n",
       "      <td>33</td>\n",
       "      <td>33</td>\n",
       "      <td>33</td>\n",
       "      <td>33</td>\n",
       "      <td>33</td>\n",
       "      <td>33</td>\n",
       "    </tr>\n",
       "    <tr>\n",
       "      <th>1</th>\n",
       "      <td>mean</td>\n",
       "      <td>None</td>\n",
       "      <td>None</td>\n",
       "      <td>6.488460290606061E9</td>\n",
       "      <td>5.707816485454545E9</td>\n",
       "      <td>7.806438051515151E8</td>\n",
       "      <td>731885.696969697</td>\n",
       "      <td>914032.9696969697</td>\n",
       "      <td>599808.8787878788</td>\n",
       "      <td>805921.7575757576</td>\n",
       "      <td>479149.8181818182</td>\n",
       "      <td>270722.1818181818</td>\n",
       "      <td>451945.0606060606</td>\n",
       "    </tr>\n",
       "    <tr>\n",
       "      <th>2</th>\n",
       "      <td>stddev</td>\n",
       "      <td>None</td>\n",
       "      <td>None</td>\n",
       "      <td>1.0215726899904043E10</td>\n",
       "      <td>9.324975483930826E9</td>\n",
       "      <td>1.8970411310552776E9</td>\n",
       "      <td>1457591.7600239075</td>\n",
       "      <td>1830341.7439860015</td>\n",
       "      <td>931400.7755956468</td>\n",
       "      <td>1398505.7588772657</td>\n",
       "      <td>947231.5644485862</td>\n",
       "      <td>791959.0417754197</td>\n",
       "      <td>868238.2027252782</td>\n",
       "    </tr>\n",
       "    <tr>\n",
       "      <th>3</th>\n",
       "      <td>min</td>\n",
       "      <td>192.168.1.107</td>\n",
       "      <td>private</td>\n",
       "      <td>98327</td>\n",
       "      <td>57256</td>\n",
       "      <td>41071</td>\n",
       "      <td>0.0</td>\n",
       "      <td>0.0</td>\n",
       "      <td>0.0</td>\n",
       "      <td>0.0</td>\n",
       "      <td>0.0</td>\n",
       "      <td>0.0</td>\n",
       "      <td>0.0</td>\n",
       "    </tr>\n",
       "    <tr>\n",
       "      <th>4</th>\n",
       "      <td>max</td>\n",
       "      <td>192.168.3.246</td>\n",
       "      <td>tenants</td>\n",
       "      <td>39796089043</td>\n",
       "      <td>38335747650</td>\n",
       "      <td>10754635077</td>\n",
       "      <td>5142721.0</td>\n",
       "      <td>9517041.0</td>\n",
       "      <td>3835025.0</td>\n",
       "      <td>5843865.0</td>\n",
       "      <td>3527929.0</td>\n",
       "      <td>3580179.0</td>\n",
       "      <td>3709756.0</td>\n",
       "    </tr>\n",
       "  </tbody>\n",
       "</table>\n",
       "</div>"
      ],
      "text/plain": [
       "  summary             IP     vlan            total_bytes        dowload_bytes  \\\n",
       "0   count             33       33                     33                   33   \n",
       "1    mean           None     None    6.488460290606061E9  5.707816485454545E9   \n",
       "2  stddev           None     None  1.0215726899904043E10  9.324975483930826E9   \n",
       "3     min  192.168.1.107  private                  98327                57256   \n",
       "4     max  192.168.3.246  tenants            39796089043          38335747650   \n",
       "\n",
       "           upload_bytes    Monday_avg_bytes   Tuesday_avg_bytes  \\\n",
       "0                    33                  33                  33   \n",
       "1   7.806438051515151E8    731885.696969697   914032.9696969697   \n",
       "2  1.8970411310552776E9  1457591.7600239075  1830341.7439860015   \n",
       "3                 41071                 0.0                 0.0   \n",
       "4           10754635077           5142721.0           9517041.0   \n",
       "\n",
       "  Wednesday_avg_bytes  Thursday_avg_bytes   Friday_avg_bytes  \\\n",
       "0                  33                  33                 33   \n",
       "1   599808.8787878788   805921.7575757576  479149.8181818182   \n",
       "2   931400.7755956468  1398505.7588772657  947231.5644485862   \n",
       "3                 0.0                 0.0                0.0   \n",
       "4           3835025.0           5843865.0          3527929.0   \n",
       "\n",
       "  Saturday_avg_bytes   Sunday_avg_bytes  \n",
       "0                 33                 33  \n",
       "1  270722.1818181818  451945.0606060606  \n",
       "2  791959.0417754197  868238.2027252782  \n",
       "3                0.0                0.0  \n",
       "4          3580179.0          3709756.0  "
      ]
     },
     "execution_count": 52,
     "metadata": {},
     "output_type": "execute_result"
    }
   ],
   "source": [
    "df_clustering.describe().toPandas()"
   ]
  },
  {
   "cell_type": "markdown",
   "metadata": {},
   "source": [
    "##### Create a feature vector"
   ]
  },
  {
   "cell_type": "code",
   "execution_count": 53,
   "metadata": {},
   "outputs": [
    {
     "data": {
      "text/html": [
       "<div>\n",
       "<style scoped>\n",
       "    .dataframe tbody tr th:only-of-type {\n",
       "        vertical-align: middle;\n",
       "    }\n",
       "\n",
       "    .dataframe tbody tr th {\n",
       "        vertical-align: top;\n",
       "    }\n",
       "\n",
       "    .dataframe thead th {\n",
       "        text-align: right;\n",
       "    }\n",
       "</style>\n",
       "<table border=\"1\" class=\"dataframe\">\n",
       "  <thead>\n",
       "    <tr style=\"text-align: right;\">\n",
       "      <th></th>\n",
       "      <th>IP</th>\n",
       "      <th>vlan</th>\n",
       "      <th>total_bytes</th>\n",
       "      <th>dowload_bytes</th>\n",
       "      <th>upload_bytes</th>\n",
       "      <th>Monday_avg_bytes</th>\n",
       "      <th>Tuesday_avg_bytes</th>\n",
       "      <th>Wednesday_avg_bytes</th>\n",
       "      <th>Thursday_avg_bytes</th>\n",
       "      <th>Friday_avg_bytes</th>\n",
       "      <th>Saturday_avg_bytes</th>\n",
       "      <th>Sunday_avg_bytes</th>\n",
       "      <th>features</th>\n",
       "    </tr>\n",
       "  </thead>\n",
       "  <tbody>\n",
       "    <tr>\n",
       "      <th>0</th>\n",
       "      <td>192.168.3.246</td>\n",
       "      <td>tenants</td>\n",
       "      <td>6003659108</td>\n",
       "      <td>4339881106</td>\n",
       "      <td>1663778002</td>\n",
       "      <td>884371.0</td>\n",
       "      <td>731149.0</td>\n",
       "      <td>686591.0</td>\n",
       "      <td>0.0</td>\n",
       "      <td>0.0</td>\n",
       "      <td>132844.0</td>\n",
       "      <td>1143805.0</td>\n",
       "      <td>[6003659108.0, 4339881106.0, 1663778002.0, 884...</td>\n",
       "    </tr>\n",
       "    <tr>\n",
       "      <th>1</th>\n",
       "      <td>192.168.3.242</td>\n",
       "      <td>tenants</td>\n",
       "      <td>812834465</td>\n",
       "      <td>747345496</td>\n",
       "      <td>65488969</td>\n",
       "      <td>110405.0</td>\n",
       "      <td>15476.0</td>\n",
       "      <td>70635.0</td>\n",
       "      <td>69328.0</td>\n",
       "      <td>23617.0</td>\n",
       "      <td>13800.0</td>\n",
       "      <td>16132.0</td>\n",
       "      <td>[812834465.0, 747345496.0, 65488969.0, 110405....</td>\n",
       "    </tr>\n",
       "    <tr>\n",
       "      <th>2</th>\n",
       "      <td>192.168.3.240</td>\n",
       "      <td>tenants</td>\n",
       "      <td>2093325722</td>\n",
       "      <td>1677547740</td>\n",
       "      <td>415777982</td>\n",
       "      <td>12195.0</td>\n",
       "      <td>25176.0</td>\n",
       "      <td>336888.0</td>\n",
       "      <td>341015.0</td>\n",
       "      <td>11545.0</td>\n",
       "      <td>28055.0</td>\n",
       "      <td>351155.0</td>\n",
       "      <td>[2093325722.0, 1677547740.0, 415777982.0, 1219...</td>\n",
       "    </tr>\n",
       "  </tbody>\n",
       "</table>\n",
       "</div>"
      ],
      "text/plain": [
       "              IP     vlan  total_bytes  dowload_bytes  upload_bytes  \\\n",
       "0  192.168.3.246  tenants   6003659108     4339881106    1663778002   \n",
       "1  192.168.3.242  tenants    812834465      747345496      65488969   \n",
       "2  192.168.3.240  tenants   2093325722     1677547740     415777982   \n",
       "\n",
       "   Monday_avg_bytes  Tuesday_avg_bytes  Wednesday_avg_bytes  \\\n",
       "0          884371.0           731149.0             686591.0   \n",
       "1          110405.0            15476.0              70635.0   \n",
       "2           12195.0            25176.0             336888.0   \n",
       "\n",
       "   Thursday_avg_bytes  Friday_avg_bytes  Saturday_avg_bytes  Sunday_avg_bytes  \\\n",
       "0                 0.0               0.0            132844.0         1143805.0   \n",
       "1             69328.0           23617.0             13800.0           16132.0   \n",
       "2            341015.0           11545.0             28055.0          351155.0   \n",
       "\n",
       "                                            features  \n",
       "0  [6003659108.0, 4339881106.0, 1663778002.0, 884...  \n",
       "1  [812834465.0, 747345496.0, 65488969.0, 110405....  \n",
       "2  [2093325722.0, 1677547740.0, 415777982.0, 1219...  "
      ]
     },
     "execution_count": 53,
     "metadata": {},
     "output_type": "execute_result"
    }
   ],
   "source": [
    "# Create a feature vector\n",
    "assemble = VectorAssembler(\n",
    "    inputCols=[\n",
    "        'total_bytes', \n",
    "        'dowload_bytes', \n",
    "        'upload_bytes',\n",
    "        'Monday_avg_bytes', \n",
    "        'Tuesday_avg_bytes', \n",
    "        'Wednesday_avg_bytes',\n",
    "        'Thursday_avg_bytes', \n",
    "        'Friday_avg_bytes', \n",
    "        'Saturday_avg_bytes',\n",
    "        'Sunday_avg_bytes'        \n",
    "    ],\n",
    "    outputCol='features')\n",
    "\n",
    "assembled_data = assemble.transform(df_clustering)\n",
    "assembled_data.limit(3).toPandas()"
   ]
  },
  {
   "cell_type": "code",
   "execution_count": 54,
   "metadata": {},
   "outputs": [
    {
     "data": {
      "text/html": [
       "<div>\n",
       "<style scoped>\n",
       "    .dataframe tbody tr th:only-of-type {\n",
       "        vertical-align: middle;\n",
       "    }\n",
       "\n",
       "    .dataframe tbody tr th {\n",
       "        vertical-align: top;\n",
       "    }\n",
       "\n",
       "    .dataframe thead th {\n",
       "        text-align: right;\n",
       "    }\n",
       "</style>\n",
       "<table border=\"1\" class=\"dataframe\">\n",
       "  <thead>\n",
       "    <tr style=\"text-align: right;\">\n",
       "      <th></th>\n",
       "      <th>IP</th>\n",
       "      <th>vlan</th>\n",
       "      <th>total_bytes</th>\n",
       "      <th>dowload_bytes</th>\n",
       "      <th>upload_bytes</th>\n",
       "      <th>Monday_avg_bytes</th>\n",
       "      <th>Tuesday_avg_bytes</th>\n",
       "      <th>Wednesday_avg_bytes</th>\n",
       "      <th>Thursday_avg_bytes</th>\n",
       "      <th>Friday_avg_bytes</th>\n",
       "      <th>Saturday_avg_bytes</th>\n",
       "      <th>Sunday_avg_bytes</th>\n",
       "      <th>features</th>\n",
       "      <th>standardized</th>\n",
       "    </tr>\n",
       "  </thead>\n",
       "  <tbody>\n",
       "    <tr>\n",
       "      <th>0</th>\n",
       "      <td>192.168.3.246</td>\n",
       "      <td>tenants</td>\n",
       "      <td>6003659108</td>\n",
       "      <td>4339881106</td>\n",
       "      <td>1663778002</td>\n",
       "      <td>884371.0</td>\n",
       "      <td>731149.0</td>\n",
       "      <td>686591.0</td>\n",
       "      <td>0.0</td>\n",
       "      <td>0.0</td>\n",
       "      <td>132844.0</td>\n",
       "      <td>1143805.0</td>\n",
       "      <td>[6003659108.0, 4339881106.0, 1663778002.0, 884...</td>\n",
       "      <td>[0.5876879018815971, 0.4654040231503727, 0.877...</td>\n",
       "    </tr>\n",
       "    <tr>\n",
       "      <th>1</th>\n",
       "      <td>192.168.3.242</td>\n",
       "      <td>tenants</td>\n",
       "      <td>812834465</td>\n",
       "      <td>747345496</td>\n",
       "      <td>65488969</td>\n",
       "      <td>110405.0</td>\n",
       "      <td>15476.0</td>\n",
       "      <td>70635.0</td>\n",
       "      <td>69328.0</td>\n",
       "      <td>23617.0</td>\n",
       "      <td>13800.0</td>\n",
       "      <td>16132.0</td>\n",
       "      <td>[812834465.0, 747345496.0, 65488969.0, 110405....</td>\n",
       "      <td>[0.07956697286099484, 0.08014449982070794, 0.0...</td>\n",
       "    </tr>\n",
       "    <tr>\n",
       "      <th>2</th>\n",
       "      <td>192.168.3.240</td>\n",
       "      <td>tenants</td>\n",
       "      <td>2093325722</td>\n",
       "      <td>1677547740</td>\n",
       "      <td>415777982</td>\n",
       "      <td>12195.0</td>\n",
       "      <td>25176.0</td>\n",
       "      <td>336888.0</td>\n",
       "      <td>341015.0</td>\n",
       "      <td>11545.0</td>\n",
       "      <td>28055.0</td>\n",
       "      <td>351155.0</td>\n",
       "      <td>[2093325722.0, 1677547740.0, 415777982.0, 1219...</td>\n",
       "      <td>[0.20491206768846404, 0.17989835393034737, 0.2...</td>\n",
       "    </tr>\n",
       "  </tbody>\n",
       "</table>\n",
       "</div>"
      ],
      "text/plain": [
       "              IP     vlan  total_bytes  dowload_bytes  upload_bytes  \\\n",
       "0  192.168.3.246  tenants   6003659108     4339881106    1663778002   \n",
       "1  192.168.3.242  tenants    812834465      747345496      65488969   \n",
       "2  192.168.3.240  tenants   2093325722     1677547740     415777982   \n",
       "\n",
       "   Monday_avg_bytes  Tuesday_avg_bytes  Wednesday_avg_bytes  \\\n",
       "0          884371.0           731149.0             686591.0   \n",
       "1          110405.0            15476.0              70635.0   \n",
       "2           12195.0            25176.0             336888.0   \n",
       "\n",
       "   Thursday_avg_bytes  Friday_avg_bytes  Saturday_avg_bytes  Sunday_avg_bytes  \\\n",
       "0                 0.0               0.0            132844.0         1143805.0   \n",
       "1             69328.0           23617.0             13800.0           16132.0   \n",
       "2            341015.0           11545.0             28055.0          351155.0   \n",
       "\n",
       "                                            features  \\\n",
       "0  [6003659108.0, 4339881106.0, 1663778002.0, 884...   \n",
       "1  [812834465.0, 747345496.0, 65488969.0, 110405....   \n",
       "2  [2093325722.0, 1677547740.0, 415777982.0, 1219...   \n",
       "\n",
       "                                        standardized  \n",
       "0  [0.5876879018815971, 0.4654040231503727, 0.877...  \n",
       "1  [0.07956697286099484, 0.08014449982070794, 0.0...  \n",
       "2  [0.20491206768846404, 0.17989835393034737, 0.2...  "
      ]
     },
     "execution_count": 54,
     "metadata": {},
     "output_type": "execute_result"
    }
   ],
   "source": [
    "# scale the features\n",
    "scale = StandardScaler(inputCol='features',outputCol='standardized')\n",
    "data_scale = scale.fit(assembled_data)\n",
    "data_scale_output = data_scale.transform(assembled_data)\n",
    "data_scale_output.limit(3).toPandas()"
   ]
  },
  {
   "cell_type": "markdown",
   "metadata": {},
   "source": [
    "##### Find the optimal number of clusters using the silhouette method"
   ]
  },
  {
   "cell_type": "code",
   "execution_count": 55,
   "metadata": {},
   "outputs": [
    {
     "name": "stdout",
     "output_type": "stream",
     "text": [
      "k=2\t : 0.83\n",
      "k=3\t : 0.72\n",
      "k=4\t : 0.71\n",
      "k=5\t : 0.69\n",
      "k=6\t : 0.68\n",
      "k=7\t : 0.65\n",
      "k=8\t : 0.48\n",
      "k=9\t : 0.50\n",
      "k=10\t : 0.28\n"
     ]
    }
   ],
   "source": [
    "silhouette_score=[]\n",
    "\n",
    "# create the evaluator\n",
    "evaluator = ClusteringEvaluator(\n",
    "    predictionCol='prediction', \n",
    "    featuresCol='standardized',\n",
    "    metricName='silhouette', \n",
    "    distanceMeasure='squaredEuclidean')\n",
    "\n",
    "# evaluate the silhouette score for each number of clusters\n",
    "for i in range(2,11):\n",
    "    KMeans_algo = KMeans(featuresCol='standardized', k=i)\n",
    "    KMeans_fit=KMeans_algo.fit(data_scale_output)\n",
    "    output=KMeans_fit.transform(data_scale_output)\n",
    "    \n",
    "    score=evaluator.evaluate(output)\n",
    "    silhouette_score.append(score)\n",
    "\n",
    "    print('k=%d\\t : %.2f' % (i, score))"
   ]
  },
  {
   "cell_type": "code",
   "execution_count": 56,
   "metadata": {},
   "outputs": [
    {
     "data": {
      "text/plain": [
       "[Text(0.5, 1.0, 'Silhouette Score by Number of Clusters'), Text(0.5, 0, 'K')]"
      ]
     },
     "execution_count": 56,
     "metadata": {},
     "output_type": "execute_result"
    },
    {
     "data": {
      "image/png": "[encoded data removed]",
      "text/plain": [
       "<Figure size 432x288 with 1 Axes>"
      ]
     },
     "metadata": {
      "needs_background": "light"
     },
     "output_type": "display_data"
    }
   ],
   "source": [
    "# visualizing the silhouette scores\n",
    "sns.lineplot(\n",
    "    x=range(2,11),\n",
    "    y=silhouette_score,\n",
    "    label='Silhouette Score'\n",
    ").set(\n",
    "    title='Silhouette Score by Number of Clusters',\n",
    "    xlabel='K')"
   ]
  },
  {
   "cell_type": "markdown",
   "metadata": {},
   "source": [
    "##### Build the K-Means Clustering model"
   ]
  },
  {
   "cell_type": "code",
   "execution_count": 57,
   "metadata": {},
   "outputs": [],
   "source": [
    "# create the final model\n",
    "algo_kmeans = KMeans(featuresCol='standardized', k=3)\n",
    "model_kmeans = algo_kmeans.fit(data_scale_output)"
   ]
  },
  {
   "cell_type": "code",
   "execution_count": 58,
   "metadata": {},
   "outputs": [],
   "source": [
    "# assign clusters to the dataset\n",
    "cluster_assignment = model_kmeans.transform(data_scale_output)"
   ]
  },
  {
   "cell_type": "markdown",
   "metadata": {},
   "source": [
    "##### Plot the cluster distribution"
   ]
  },
  {
   "cell_type": "code",
   "execution_count": 59,
   "metadata": {},
   "outputs": [
    {
     "data": {
      "image/png": "[encoded data removed]",
      "text/plain": [
       "<Figure size 1080x396 with 1 Axes>"
      ]
     },
     "metadata": {
      "needs_background": "light"
     },
     "output_type": "display_data"
    }
   ],
   "source": [
    "# get the summary dataset to use for plotting\n",
    "df_cluster_distribution = cluster_assignment \\\n",
    "    .groupby('prediction') \\\n",
    "    .count() \\\n",
    "    .toPandas()\n",
    "\n",
    "# plot the cluster distribution\n",
    "fig_dims = (15, 5.5)\n",
    "fig, ax = plt.subplots(figsize=fig_dims)\n",
    "\n",
    "sns.barplot(\n",
    "    data=df_cluster_distribution,\n",
    "    x='prediction',\n",
    "    y='count',\n",
    "    ax=ax\n",
    ").set(\n",
    "    title='Cluster Distribution',\n",
    "    xlabel='Cluster')\n",
    "\n",
    "plt.show()"
   ]
  },
  {
   "cell_type": "code",
   "execution_count": 60,
   "metadata": {},
   "outputs": [
    {
     "data": {
      "text/html": [
       "<div>\n",
       "<style scoped>\n",
       "    .dataframe tbody tr th:only-of-type {\n",
       "        vertical-align: middle;\n",
       "    }\n",
       "\n",
       "    .dataframe tbody tr th {\n",
       "        vertical-align: top;\n",
       "    }\n",
       "\n",
       "    .dataframe thead th {\n",
       "        text-align: right;\n",
       "    }\n",
       "</style>\n",
       "<table border=\"1\" class=\"dataframe\">\n",
       "  <thead>\n",
       "    <tr style=\"text-align: right;\">\n",
       "      <th></th>\n",
       "      <th>IP</th>\n",
       "      <th>vlan</th>\n",
       "      <th>total_bytes</th>\n",
       "      <th>dowload_bytes</th>\n",
       "      <th>upload_bytes</th>\n",
       "      <th>Monday_avg_bytes</th>\n",
       "      <th>Tuesday_avg_bytes</th>\n",
       "      <th>Wednesday_avg_bytes</th>\n",
       "      <th>Thursday_avg_bytes</th>\n",
       "      <th>Friday_avg_bytes</th>\n",
       "      <th>Saturday_avg_bytes</th>\n",
       "      <th>Sunday_avg_bytes</th>\n",
       "      <th>prediction</th>\n",
       "    </tr>\n",
       "  </thead>\n",
       "  <tbody>\n",
       "    <tr>\n",
       "      <th>3</th>\n",
       "      <td>192.168.3.224</td>\n",
       "      <td>tenants</td>\n",
       "      <td>16712150047</td>\n",
       "      <td>16287480169</td>\n",
       "      <td>424669878</td>\n",
       "      <td>0.0</td>\n",
       "      <td>9517041.0</td>\n",
       "      <td>24160.0</td>\n",
       "      <td>2962873.0</td>\n",
       "      <td>2897.0</td>\n",
       "      <td>0.0</td>\n",
       "      <td>0.0</td>\n",
       "      <td>0</td>\n",
       "    </tr>\n",
       "    <tr>\n",
       "      <th>0</th>\n",
       "      <td>192.168.3.246</td>\n",
       "      <td>tenants</td>\n",
       "      <td>6003659108</td>\n",
       "      <td>4339881106</td>\n",
       "      <td>1663778002</td>\n",
       "      <td>884371.0</td>\n",
       "      <td>731149.0</td>\n",
       "      <td>686591.0</td>\n",
       "      <td>0.0</td>\n",
       "      <td>0.0</td>\n",
       "      <td>132844.0</td>\n",
       "      <td>1143805.0</td>\n",
       "      <td>1</td>\n",
       "    </tr>\n",
       "    <tr>\n",
       "      <th>30</th>\n",
       "      <td>192.168.1.11</td>\n",
       "      <td>private</td>\n",
       "      <td>436874067</td>\n",
       "      <td>395806116</td>\n",
       "      <td>41067951</td>\n",
       "      <td>11394.0</td>\n",
       "      <td>11500.0</td>\n",
       "      <td>11121.0</td>\n",
       "      <td>0.0</td>\n",
       "      <td>0.0</td>\n",
       "      <td>12649.0</td>\n",
       "      <td>124765.0</td>\n",
       "      <td>1</td>\n",
       "    </tr>\n",
       "    <tr>\n",
       "      <th>29</th>\n",
       "      <td>192.168.1.136</td>\n",
       "      <td>private</td>\n",
       "      <td>114978170</td>\n",
       "      <td>112869046</td>\n",
       "      <td>2109124</td>\n",
       "      <td>30.0</td>\n",
       "      <td>74220.0</td>\n",
       "      <td>178670.0</td>\n",
       "      <td>0.0</td>\n",
       "      <td>0.0</td>\n",
       "      <td>7.0</td>\n",
       "      <td>5905.0</td>\n",
       "      <td>1</td>\n",
       "    </tr>\n",
       "    <tr>\n",
       "      <th>28</th>\n",
       "      <td>192.168.1.142</td>\n",
       "      <td>private</td>\n",
       "      <td>5094550142</td>\n",
       "      <td>3599461678</td>\n",
       "      <td>1495088464</td>\n",
       "      <td>1251355.0</td>\n",
       "      <td>505715.0</td>\n",
       "      <td>441797.0</td>\n",
       "      <td>267092.0</td>\n",
       "      <td>208763.0</td>\n",
       "      <td>373898.0</td>\n",
       "      <td>555193.0</td>\n",
       "      <td>1</td>\n",
       "    </tr>\n",
       "    <tr>\n",
       "      <th>27</th>\n",
       "      <td>192.168.1.156</td>\n",
       "      <td>private</td>\n",
       "      <td>98327</td>\n",
       "      <td>57256</td>\n",
       "      <td>41071</td>\n",
       "      <td>593.0</td>\n",
       "      <td>1773.0</td>\n",
       "      <td>884.0</td>\n",
       "      <td>0.0</td>\n",
       "      <td>973.0</td>\n",
       "      <td>0.0</td>\n",
       "      <td>0.0</td>\n",
       "      <td>1</td>\n",
       "    </tr>\n",
       "    <tr>\n",
       "      <th>26</th>\n",
       "      <td>192.168.1.160</td>\n",
       "      <td>private</td>\n",
       "      <td>261972257</td>\n",
       "      <td>148409226</td>\n",
       "      <td>113563031</td>\n",
       "      <td>5195.0</td>\n",
       "      <td>3791.0</td>\n",
       "      <td>8916.0</td>\n",
       "      <td>32113.0</td>\n",
       "      <td>37973.0</td>\n",
       "      <td>1740.0</td>\n",
       "      <td>2573.0</td>\n",
       "      <td>1</td>\n",
       "    </tr>\n",
       "    <tr>\n",
       "      <th>25</th>\n",
       "      <td>192.168.1.179</td>\n",
       "      <td>private</td>\n",
       "      <td>1265626051</td>\n",
       "      <td>1101309488</td>\n",
       "      <td>164316563</td>\n",
       "      <td>47135.0</td>\n",
       "      <td>67095.0</td>\n",
       "      <td>129004.0</td>\n",
       "      <td>27421.0</td>\n",
       "      <td>332499.0</td>\n",
       "      <td>413887.0</td>\n",
       "      <td>52921.0</td>\n",
       "      <td>1</td>\n",
       "    </tr>\n",
       "    <tr>\n",
       "      <th>24</th>\n",
       "      <td>192.168.1.185</td>\n",
       "      <td>private</td>\n",
       "      <td>1351678794</td>\n",
       "      <td>1192626829</td>\n",
       "      <td>159051965</td>\n",
       "      <td>0.0</td>\n",
       "      <td>1433847.0</td>\n",
       "      <td>1542670.0</td>\n",
       "      <td>60760.0</td>\n",
       "      <td>28509.0</td>\n",
       "      <td>0.0</td>\n",
       "      <td>0.0</td>\n",
       "      <td>1</td>\n",
       "    </tr>\n",
       "    <tr>\n",
       "      <th>23</th>\n",
       "      <td>192.168.1.186</td>\n",
       "      <td>private</td>\n",
       "      <td>8987459005</td>\n",
       "      <td>6405309706</td>\n",
       "      <td>2582149299</td>\n",
       "      <td>0.0</td>\n",
       "      <td>1779040.0</td>\n",
       "      <td>1639463.0</td>\n",
       "      <td>1380640.0</td>\n",
       "      <td>1570980.0</td>\n",
       "      <td>0.0</td>\n",
       "      <td>0.0</td>\n",
       "      <td>1</td>\n",
       "    </tr>\n",
       "    <tr>\n",
       "      <th>22</th>\n",
       "      <td>192.168.1.189</td>\n",
       "      <td>private</td>\n",
       "      <td>13439564067</td>\n",
       "      <td>12067803785</td>\n",
       "      <td>1371760282</td>\n",
       "      <td>101313.0</td>\n",
       "      <td>725043.0</td>\n",
       "      <td>274103.0</td>\n",
       "      <td>1315468.0</td>\n",
       "      <td>1421110.0</td>\n",
       "      <td>1160104.0</td>\n",
       "      <td>1213848.0</td>\n",
       "      <td>1</td>\n",
       "    </tr>\n",
       "    <tr>\n",
       "      <th>21</th>\n",
       "      <td>192.168.3.103</td>\n",
       "      <td>tenants</td>\n",
       "      <td>15230307004</td>\n",
       "      <td>14071146437</td>\n",
       "      <td>1159160567</td>\n",
       "      <td>4756712.0</td>\n",
       "      <td>302430.0</td>\n",
       "      <td>14632.0</td>\n",
       "      <td>0.0</td>\n",
       "      <td>0.0</td>\n",
       "      <td>199772.0</td>\n",
       "      <td>226453.0</td>\n",
       "      <td>1</td>\n",
       "    </tr>\n",
       "    <tr>\n",
       "      <th>20</th>\n",
       "      <td>192.168.3.105</td>\n",
       "      <td>tenants</td>\n",
       "      <td>128097961</td>\n",
       "      <td>93120179</td>\n",
       "      <td>34977782</td>\n",
       "      <td>328333.0</td>\n",
       "      <td>131131.0</td>\n",
       "      <td>0.0</td>\n",
       "      <td>0.0</td>\n",
       "      <td>0.0</td>\n",
       "      <td>0.0</td>\n",
       "      <td>60744.0</td>\n",
       "      <td>1</td>\n",
       "    </tr>\n",
       "    <tr>\n",
       "      <th>19</th>\n",
       "      <td>192.168.3.111</td>\n",
       "      <td>tenants</td>\n",
       "      <td>11545142181</td>\n",
       "      <td>11215610586</td>\n",
       "      <td>329531595</td>\n",
       "      <td>774019.0</td>\n",
       "      <td>1807649.0</td>\n",
       "      <td>3865.0</td>\n",
       "      <td>3398069.0</td>\n",
       "      <td>3473479.0</td>\n",
       "      <td>0.0</td>\n",
       "      <td>7543.0</td>\n",
       "      <td>1</td>\n",
       "    </tr>\n",
       "    <tr>\n",
       "      <th>18</th>\n",
       "      <td>192.168.3.116</td>\n",
       "      <td>tenants</td>\n",
       "      <td>1809610645</td>\n",
       "      <td>1153728016</td>\n",
       "      <td>655882629</td>\n",
       "      <td>454059.0</td>\n",
       "      <td>183741.0</td>\n",
       "      <td>193003.0</td>\n",
       "      <td>256401.0</td>\n",
       "      <td>963468.0</td>\n",
       "      <td>0.0</td>\n",
       "      <td>300915.0</td>\n",
       "      <td>1</td>\n",
       "    </tr>\n",
       "    <tr>\n",
       "      <th>17</th>\n",
       "      <td>192.168.3.124</td>\n",
       "      <td>tenants</td>\n",
       "      <td>3262389558</td>\n",
       "      <td>3138844740</td>\n",
       "      <td>123544818</td>\n",
       "      <td>5142721.0</td>\n",
       "      <td>0.0</td>\n",
       "      <td>2413150.0</td>\n",
       "      <td>5843865.0</td>\n",
       "      <td>0.0</td>\n",
       "      <td>0.0</td>\n",
       "      <td>0.0</td>\n",
       "      <td>1</td>\n",
       "    </tr>\n",
       "    <tr>\n",
       "      <th>16</th>\n",
       "      <td>192.168.3.125</td>\n",
       "      <td>tenants</td>\n",
       "      <td>10485606483</td>\n",
       "      <td>10118050227</td>\n",
       "      <td>367556256</td>\n",
       "      <td>9095.0</td>\n",
       "      <td>1392616.0</td>\n",
       "      <td>893499.0</td>\n",
       "      <td>1674501.0</td>\n",
       "      <td>236810.0</td>\n",
       "      <td>32662.0</td>\n",
       "      <td>801647.0</td>\n",
       "      <td>1</td>\n",
       "    </tr>\n",
       "    <tr>\n",
       "      <th>14</th>\n",
       "      <td>192.168.3.128</td>\n",
       "      <td>tenants</td>\n",
       "      <td>2504206091</td>\n",
       "      <td>2091664400</td>\n",
       "      <td>412541691</td>\n",
       "      <td>234663.0</td>\n",
       "      <td>109391.0</td>\n",
       "      <td>288451.0</td>\n",
       "      <td>382973.0</td>\n",
       "      <td>439117.0</td>\n",
       "      <td>93003.0</td>\n",
       "      <td>192973.0</td>\n",
       "      <td>1</td>\n",
       "    </tr>\n",
       "    <tr>\n",
       "      <th>13</th>\n",
       "      <td>192.168.3.134</td>\n",
       "      <td>tenants</td>\n",
       "      <td>3238309706</td>\n",
       "      <td>3198763792</td>\n",
       "      <td>39545914</td>\n",
       "      <td>38196.0</td>\n",
       "      <td>156374.0</td>\n",
       "      <td>878255.0</td>\n",
       "      <td>45109.0</td>\n",
       "      <td>186824.0</td>\n",
       "      <td>1227.0</td>\n",
       "      <td>1956.0</td>\n",
       "      <td>1</td>\n",
       "    </tr>\n",
       "    <tr>\n",
       "      <th>12</th>\n",
       "      <td>192.168.3.144</td>\n",
       "      <td>tenants</td>\n",
       "      <td>2922514437</td>\n",
       "      <td>1870677407</td>\n",
       "      <td>1051837030</td>\n",
       "      <td>0.0</td>\n",
       "      <td>1595224.0</td>\n",
       "      <td>1940669.0</td>\n",
       "      <td>0.0</td>\n",
       "      <td>192675.0</td>\n",
       "      <td>0.0</td>\n",
       "      <td>0.0</td>\n",
       "      <td>1</td>\n",
       "    </tr>\n",
       "    <tr>\n",
       "      <th>11</th>\n",
       "      <td>192.168.3.152</td>\n",
       "      <td>tenants</td>\n",
       "      <td>459897915</td>\n",
       "      <td>389096846</td>\n",
       "      <td>70801069</td>\n",
       "      <td>2343.0</td>\n",
       "      <td>41843.0</td>\n",
       "      <td>62998.0</td>\n",
       "      <td>29459.0</td>\n",
       "      <td>43145.0</td>\n",
       "      <td>64873.0</td>\n",
       "      <td>27091.0</td>\n",
       "      <td>1</td>\n",
       "    </tr>\n",
       "    <tr>\n",
       "      <th>10</th>\n",
       "      <td>192.168.3.168</td>\n",
       "      <td>tenants</td>\n",
       "      <td>855178271</td>\n",
       "      <td>651916686</td>\n",
       "      <td>203261585</td>\n",
       "      <td>203661.0</td>\n",
       "      <td>14684.0</td>\n",
       "      <td>0.0</td>\n",
       "      <td>79352.0</td>\n",
       "      <td>8507.0</td>\n",
       "      <td>5135.0</td>\n",
       "      <td>502842.0</td>\n",
       "      <td>1</td>\n",
       "    </tr>\n",
       "    <tr>\n",
       "      <th>9</th>\n",
       "      <td>192.168.3.174</td>\n",
       "      <td>tenants</td>\n",
       "      <td>727584547</td>\n",
       "      <td>668463395</td>\n",
       "      <td>59121152</td>\n",
       "      <td>0.0</td>\n",
       "      <td>644193.0</td>\n",
       "      <td>0.0</td>\n",
       "      <td>0.0</td>\n",
       "      <td>77987.0</td>\n",
       "      <td>0.0</td>\n",
       "      <td>0.0</td>\n",
       "      <td>1</td>\n",
       "    </tr>\n",
       "    <tr>\n",
       "      <th>8</th>\n",
       "      <td>192.168.3.178</td>\n",
       "      <td>tenants</td>\n",
       "      <td>540382287</td>\n",
       "      <td>520417869</td>\n",
       "      <td>19964418</td>\n",
       "      <td>0.0</td>\n",
       "      <td>0.0</td>\n",
       "      <td>0.0</td>\n",
       "      <td>0.0</td>\n",
       "      <td>0.0</td>\n",
       "      <td>0.0</td>\n",
       "      <td>1174744.0</td>\n",
       "      <td>1</td>\n",
       "    </tr>\n",
       "    <tr>\n",
       "      <th>7</th>\n",
       "      <td>192.168.3.179</td>\n",
       "      <td>tenants</td>\n",
       "      <td>30482126</td>\n",
       "      <td>24614818</td>\n",
       "      <td>5867308</td>\n",
       "      <td>65304.0</td>\n",
       "      <td>0.0</td>\n",
       "      <td>28636.0</td>\n",
       "      <td>0.0</td>\n",
       "      <td>0.0</td>\n",
       "      <td>0.0</td>\n",
       "      <td>15014.0</td>\n",
       "      <td>1</td>\n",
       "    </tr>\n",
       "    <tr>\n",
       "      <th>5</th>\n",
       "      <td>192.168.3.188</td>\n",
       "      <td>tenants</td>\n",
       "      <td>1273735</td>\n",
       "      <td>626214</td>\n",
       "      <td>647521</td>\n",
       "      <td>76.0</td>\n",
       "      <td>66.0</td>\n",
       "      <td>82.0</td>\n",
       "      <td>75.0</td>\n",
       "      <td>72.0</td>\n",
       "      <td>71.0</td>\n",
       "      <td>93.0</td>\n",
       "      <td>1</td>\n",
       "    </tr>\n",
       "    <tr>\n",
       "      <th>4</th>\n",
       "      <td>192.168.3.193</td>\n",
       "      <td>tenants</td>\n",
       "      <td>484145977</td>\n",
       "      <td>284428423</td>\n",
       "      <td>199717554</td>\n",
       "      <td>0.0</td>\n",
       "      <td>11884.0</td>\n",
       "      <td>0.0</td>\n",
       "      <td>1742181.0</td>\n",
       "      <td>0.0</td>\n",
       "      <td>0.0</td>\n",
       "      <td>0.0</td>\n",
       "      <td>1</td>\n",
       "    </tr>\n",
       "    <tr>\n",
       "      <th>2</th>\n",
       "      <td>192.168.3.240</td>\n",
       "      <td>tenants</td>\n",
       "      <td>2093325722</td>\n",
       "      <td>1677547740</td>\n",
       "      <td>415777982</td>\n",
       "      <td>12195.0</td>\n",
       "      <td>25176.0</td>\n",
       "      <td>336888.0</td>\n",
       "      <td>341015.0</td>\n",
       "      <td>11545.0</td>\n",
       "      <td>28055.0</td>\n",
       "      <td>351155.0</td>\n",
       "      <td>1</td>\n",
       "    </tr>\n",
       "    <tr>\n",
       "      <th>1</th>\n",
       "      <td>192.168.3.242</td>\n",
       "      <td>tenants</td>\n",
       "      <td>812834465</td>\n",
       "      <td>747345496</td>\n",
       "      <td>65488969</td>\n",
       "      <td>110405.0</td>\n",
       "      <td>15476.0</td>\n",
       "      <td>70635.0</td>\n",
       "      <td>69328.0</td>\n",
       "      <td>23617.0</td>\n",
       "      <td>13800.0</td>\n",
       "      <td>16132.0</td>\n",
       "      <td>1</td>\n",
       "    </tr>\n",
       "    <tr>\n",
       "      <th>32</th>\n",
       "      <td>192.168.1.107</td>\n",
       "      <td>private</td>\n",
       "      <td>14088795</td>\n",
       "      <td>11658798</td>\n",
       "      <td>2429997</td>\n",
       "      <td>811.0</td>\n",
       "      <td>801.0</td>\n",
       "      <td>905.0</td>\n",
       "      <td>920.0</td>\n",
       "      <td>1002.0</td>\n",
       "      <td>850.0</td>\n",
       "      <td>813.0</td>\n",
       "      <td>1</td>\n",
       "    </tr>\n",
       "    <tr>\n",
       "      <th>15</th>\n",
       "      <td>192.168.3.126</td>\n",
       "      <td>tenants</td>\n",
       "      <td>39796089043</td>\n",
       "      <td>38335747650</td>\n",
       "      <td>1460341393</td>\n",
       "      <td>4309172.0</td>\n",
       "      <td>4359285.0</td>\n",
       "      <td>3835025.0</td>\n",
       "      <td>3993398.0</td>\n",
       "      <td>3527929.0</td>\n",
       "      <td>3580179.0</td>\n",
       "      <td>3709756.0</td>\n",
       "      <td>2</td>\n",
       "    </tr>\n",
       "    <tr>\n",
       "      <th>6</th>\n",
       "      <td>192.168.3.185</td>\n",
       "      <td>tenants</td>\n",
       "      <td>31226504678</td>\n",
       "      <td>20471869601</td>\n",
       "      <td>10754635077</td>\n",
       "      <td>2667768.0</td>\n",
       "      <td>2463609.0</td>\n",
       "      <td>1753571.0</td>\n",
       "      <td>1542065.0</td>\n",
       "      <td>2319920.0</td>\n",
       "      <td>2818099.0</td>\n",
       "      <td>1313205.0</td>\n",
       "      <td>2</td>\n",
       "    </tr>\n",
       "    <tr>\n",
       "      <th>31</th>\n",
       "      <td>192.168.1.108</td>\n",
       "      <td>private</td>\n",
       "      <td>32282607928</td>\n",
       "      <td>31971590295</td>\n",
       "      <td>311017633</td>\n",
       "      <td>2741309.0</td>\n",
       "      <td>2057301.0</td>\n",
       "      <td>2142050.0</td>\n",
       "      <td>1150340.0</td>\n",
       "      <td>702143.0</td>\n",
       "      <td>977.0</td>\n",
       "      <td>3112101.0</td>\n",
       "      <td>2</td>\n",
       "    </tr>\n",
       "  </tbody>\n",
       "</table>\n",
       "</div>"
      ],
      "text/plain": [
       "               IP     vlan  total_bytes  dowload_bytes  upload_bytes  \\\n",
       "3   192.168.3.224  tenants  16712150047    16287480169     424669878   \n",
       "0   192.168.3.246  tenants   6003659108     4339881106    1663778002   \n",
       "30   192.168.1.11  private    436874067      395806116      41067951   \n",
       "29  192.168.1.136  private    114978170      112869046       2109124   \n",
       "28  192.168.1.142  private   5094550142     3599461678    1495088464   \n",
       "27  192.168.1.156  private        98327          57256         41071   \n",
       "26  192.168.1.160  private    261972257      148409226     113563031   \n",
       "25  192.168.1.179  private   1265626051     1101309488     164316563   \n",
       "24  192.168.1.185  private   1351678794     1192626829     159051965   \n",
       "23  192.168.1.186  private   8987459005     6405309706    2582149299   \n",
       "22  192.168.1.189  private  13439564067    12067803785    1371760282   \n",
       "21  192.168.3.103  tenants  15230307004    14071146437    1159160567   \n",
       "20  192.168.3.105  tenants    128097961       93120179      34977782   \n",
       "19  192.168.3.111  tenants  11545142181    11215610586     329531595   \n",
       "18  192.168.3.116  tenants   1809610645     1153728016     655882629   \n",
       "17  192.168.3.124  tenants   3262389558     3138844740     123544818   \n",
       "16  192.168.3.125  tenants  10485606483    10118050227     367556256   \n",
       "14  192.168.3.128  tenants   2504206091     2091664400     412541691   \n",
       "13  192.168.3.134  tenants   3238309706     3198763792      39545914   \n",
       "12  192.168.3.144  tenants   2922514437     1870677407    1051837030   \n",
       "11  192.168.3.152  tenants    459897915      389096846      70801069   \n",
       "10  192.168.3.168  tenants    855178271      651916686     203261585   \n",
       "9   192.168.3.174  tenants    727584547      668463395      59121152   \n",
       "8   192.168.3.178  tenants    540382287      520417869      19964418   \n",
       "7   192.168.3.179  tenants     30482126       24614818       5867308   \n",
       "5   192.168.3.188  tenants      1273735         626214        647521   \n",
       "4   192.168.3.193  tenants    484145977      284428423     199717554   \n",
       "2   192.168.3.240  tenants   2093325722     1677547740     415777982   \n",
       "1   192.168.3.242  tenants    812834465      747345496      65488969   \n",
       "32  192.168.1.107  private     14088795       11658798       2429997   \n",
       "15  192.168.3.126  tenants  39796089043    38335747650    1460341393   \n",
       "6   192.168.3.185  tenants  31226504678    20471869601   10754635077   \n",
       "31  192.168.1.108  private  32282607928    31971590295     311017633   \n",
       "\n",
       "    Monday_avg_bytes  Tuesday_avg_bytes  Wednesday_avg_bytes  \\\n",
       "3                0.0          9517041.0              24160.0   \n",
       "0           884371.0           731149.0             686591.0   \n",
       "30           11394.0            11500.0              11121.0   \n",
       "29              30.0            74220.0             178670.0   \n",
       "28         1251355.0           505715.0             441797.0   \n",
       "27             593.0             1773.0                884.0   \n",
       "26            5195.0             3791.0               8916.0   \n",
       "25           47135.0            67095.0             129004.0   \n",
       "24               0.0          1433847.0            1542670.0   \n",
       "23               0.0          1779040.0            1639463.0   \n",
       "22          101313.0           725043.0             274103.0   \n",
       "21         4756712.0           302430.0              14632.0   \n",
       "20          328333.0           131131.0                  0.0   \n",
       "19          774019.0          1807649.0               3865.0   \n",
       "18          454059.0           183741.0             193003.0   \n",
       "17         5142721.0                0.0            2413150.0   \n",
       "16            9095.0          1392616.0             893499.0   \n",
       "14          234663.0           109391.0             288451.0   \n",
       "13           38196.0           156374.0             878255.0   \n",
       "12               0.0          1595224.0            1940669.0   \n",
       "11            2343.0            41843.0              62998.0   \n",
       "10          203661.0            14684.0                  0.0   \n",
       "9                0.0           644193.0                  0.0   \n",
       "8                0.0                0.0                  0.0   \n",
       "7            65304.0                0.0              28636.0   \n",
       "5               76.0               66.0                 82.0   \n",
       "4                0.0            11884.0                  0.0   \n",
       "2            12195.0            25176.0             336888.0   \n",
       "1           110405.0            15476.0              70635.0   \n",
       "32             811.0              801.0                905.0   \n",
       "15         4309172.0          4359285.0            3835025.0   \n",
       "6          2667768.0          2463609.0            1753571.0   \n",
       "31         2741309.0          2057301.0            2142050.0   \n",
       "\n",
       "    Thursday_avg_bytes  Friday_avg_bytes  Saturday_avg_bytes  \\\n",
       "3            2962873.0            2897.0                 0.0   \n",
       "0                  0.0               0.0            132844.0   \n",
       "30                 0.0               0.0             12649.0   \n",
       "29                 0.0               0.0                 7.0   \n",
       "28            267092.0          208763.0            373898.0   \n",
       "27                 0.0             973.0                 0.0   \n",
       "26             32113.0           37973.0              1740.0   \n",
       "25             27421.0          332499.0            413887.0   \n",
       "24             60760.0           28509.0                 0.0   \n",
       "23           1380640.0         1570980.0                 0.0   \n",
       "22           1315468.0         1421110.0           1160104.0   \n",
       "21                 0.0               0.0            199772.0   \n",
       "20                 0.0               0.0                 0.0   \n",
       "19           3398069.0         3473479.0                 0.0   \n",
       "18            256401.0          963468.0                 0.0   \n",
       "17           5843865.0               0.0                 0.0   \n",
       "16           1674501.0          236810.0             32662.0   \n",
       "14            382973.0          439117.0             93003.0   \n",
       "13             45109.0          186824.0              1227.0   \n",
       "12                 0.0          192675.0                 0.0   \n",
       "11             29459.0           43145.0             64873.0   \n",
       "10             79352.0            8507.0              5135.0   \n",
       "9                  0.0           77987.0                 0.0   \n",
       "8                  0.0               0.0                 0.0   \n",
       "7                  0.0               0.0                 0.0   \n",
       "5                 75.0              72.0                71.0   \n",
       "4            1742181.0               0.0                 0.0   \n",
       "2             341015.0           11545.0             28055.0   \n",
       "1              69328.0           23617.0             13800.0   \n",
       "32               920.0            1002.0               850.0   \n",
       "15           3993398.0         3527929.0           3580179.0   \n",
       "6            1542065.0         2319920.0           2818099.0   \n",
       "31           1150340.0          702143.0               977.0   \n",
       "\n",
       "    Sunday_avg_bytes  prediction  \n",
       "3                0.0           0  \n",
       "0          1143805.0           1  \n",
       "30          124765.0           1  \n",
       "29            5905.0           1  \n",
       "28          555193.0           1  \n",
       "27               0.0           1  \n",
       "26            2573.0           1  \n",
       "25           52921.0           1  \n",
       "24               0.0           1  \n",
       "23               0.0           1  \n",
       "22         1213848.0           1  \n",
       "21          226453.0           1  \n",
       "20           60744.0           1  \n",
       "19            7543.0           1  \n",
       "18          300915.0           1  \n",
       "17               0.0           1  \n",
       "16          801647.0           1  \n",
       "14          192973.0           1  \n",
       "13            1956.0           1  \n",
       "12               0.0           1  \n",
       "11           27091.0           1  \n",
       "10          502842.0           1  \n",
       "9                0.0           1  \n",
       "8          1174744.0           1  \n",
       "7            15014.0           1  \n",
       "5               93.0           1  \n",
       "4                0.0           1  \n",
       "2           351155.0           1  \n",
       "1            16132.0           1  \n",
       "32             813.0           1  \n",
       "15         3709756.0           2  \n",
       "6          1313205.0           2  \n",
       "31         3112101.0           2  "
      ]
     },
     "execution_count": 60,
     "metadata": {},
     "output_type": "execute_result"
    }
   ],
   "source": [
    "df_evaluate = cluster_assignment.toPandas().sort_values('prediction').drop(['features', 'standardized'], axis=1)\n",
    "df_evaluate"
   ]
  }
 ],
 "metadata": {
  "interpreter": {
   "hash": "429f3e8d45833d845e6e031dbf3e229703adf0bd2129019c99d8da7ba46dd29e"
  },
  "kernelspec": {
   "display_name": "Python 3.8.12 ('dsm010')",
   "language": "python",
   "name": "python3"
  },
  "language_info": {
   "codemirror_mode": {
    "name": "ipython",
    "version": 3
   },
   "file_extension": ".py",
   "mimetype": "text/x-python",
   "name": "python",
   "nbconvert_exporter": "python",
   "pygments_lexer": "ipython3",
   "version": "3.8.12"
  },
  "orig_nbformat": 4
 },
 "nbformat": 4,
 "nbformat_minor": 2
}
