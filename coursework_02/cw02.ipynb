{
 "cells": [
  {
   "cell_type": "markdown",
   "metadata": {},
   "source": [
    "## Web References\n",
    "\n",
    "### System\n",
    "\n",
    "- [How to copy a file without using scp inside an ssh session?](https://superuser.com/questions/291423/how-to-copy-a-file-without-using-scp-inside-an-ssh-session)\n",
    "\n",
    "### PySpark\n",
    "\n",
    "- [Complete Machine Learning Project with PySpark MLlib Tutorial](https://www.youtube.com/watch?v=1a7bB1ZcZ3k)\n",
    "- [The ONLY PySpark Tutorial You Will Ever Need.](https://www.youtube.com/watch?v=cZS5xYYIPzk)\n",
    "- [PySpark When Otherwise | SQL Case When Usage](https://sparkbyexamples.com/pyspark/pyspark-when-otherwise/)\n",
    "- [Spark rlike() Working with Regex Matching Examples](https://sparkbyexamples.com/spark/spark-rlike-regex-matching-examples/)\n",
    "- [spark dataframe drop duplicates and keep first](https://stackoverflow.com/questions/38687212/spark-dataframe-drop-duplicates-and-keep-first)\n",
    "\n",
    "### Anomaly Detection\n",
    "\n",
    "- [How to Build an Anomaly Detection Engine with Spark, Akka and Cassandra](https://learning.oreilly.com/videos/how-to-build/9781491955253/9781491955253-video244545/)\n",
    "- [Real Time Detection of Anomalies in the Database Infrastructure using Apache Spark](https://www.youtube.com/watch?v=1IsMMmug5q0)\n",
    "\n",
    "### Other\n",
    "\n",
    "- [What is CRISP DM?](https://www.datascience-pm.com/crisp-dm-2/)\n",
    "\n",
    "### Internet Traffic\n",
    "\n",
    "- [Data mining approach for predicting the daily Internet data traffic of a smart university](https://journalofbigdata.springeropen.com/articles/10.1186/s40537-019-0176-5)"
   ]
  },
  {
   "cell_type": "markdown",
   "metadata": {},
   "source": [
    "## Import Libraries"
   ]
  },
  {
   "cell_type": "code",
   "execution_count": 1,
   "metadata": {},
   "outputs": [],
   "source": [
    "import pyspark\n",
    "from pyspark.sql import SparkSession\n",
    "from pyspark.sql.functions import when, asc, desc, col"
   ]
  },
  {
   "cell_type": "markdown",
   "metadata": {},
   "source": [
    "## HDFS Preparation"
   ]
  },
  {
   "cell_type": "code",
   "execution_count": 2,
   "metadata": {},
   "outputs": [
    {
     "name": "stdout",
     "output_type": "stream",
     "text": [
      "Found 72 items\n",
      "-rw-r--r--   3 jfoul001 users     150806 2022-03-05 10:07 router/raw/20220304T2210.csv.gz\n",
      "-rw-r--r--   3 jfoul001 users     149945 2022-03-05 10:07 router/raw/20220304T2220.csv.gz\n",
      "-rw-r--r--   3 jfoul001 users     149142 2022-03-05 10:07 router/raw/20220304T2230.csv.gz\n",
      "-rw-r--r--   3 jfoul001 users     151781 2022-03-05 10:07 router/raw/20220304T2240.csv.gz\n",
      "-rw-r--r--   3 jfoul001 users     150343 2022-03-05 10:07 router/raw/20220304T2250.csv.gz\n",
      "-rw-r--r--   3 jfoul001 users     149798 2022-03-05 10:07 router/raw/20220304T2300.csv.gz\n",
      "-rw-r--r--   3 jfoul001 users     148781 2022-03-05 10:07 router/raw/20220304T2310.csv.gz\n",
      "-rw-r--r--   3 jfoul001 users     148639 2022-03-05 10:07 router/raw/20220304T2320.csv.gz\n",
      "-rw-r--r--   3 jfoul001 users     149012 2022-03-05 10:07 router/raw/20220304T2330.csv.gz\n",
      "-rw-r--r--   3 jfoul001 users     150019 2022-03-05 10:07 router/raw/20220304T2340.csv.gz\n",
      "-rw-r--r--   3 jfoul001 users     150122 2022-03-05 10:07 router/raw/20220304T2350.csv.gz\n",
      "-rw-r--r--   3 jfoul001 users     148466 2022-03-05 10:07 router/raw/20220305T0000.csv.gz\n",
      "-rw-r--r--   3 jfoul001 users     149572 2022-03-05 10:07 router/raw/20220305T0010.csv.gz\n",
      "-rw-r--r--   3 jfoul001 users     149117 2022-03-05 10:07 router/raw/20220305T0020.csv.gz\n",
      "-rw-r--r--   3 jfoul001 users     150633 2022-03-05 10:07 router/raw/20220305T0030.csv.gz\n",
      "-rw-r--r--   3 jfoul001 users     149751 2022-03-05 10:07 router/raw/20220305T0040.csv.gz\n",
      "-rw-r--r--   3 jfoul001 users     149384 2022-03-05 10:07 router/raw/20220305T0050.csv.gz\n",
      "-rw-r--r--   3 jfoul001 users     149429 2022-03-05 10:07 router/raw/20220305T0100.csv.gz\n",
      "-rw-r--r--   3 jfoul001 users     149745 2022-03-05 10:07 router/raw/20220305T0110.csv.gz\n",
      "-rw-r--r--   3 jfoul001 users     149230 2022-03-05 10:07 router/raw/20220305T0120.csv.gz\n",
      "-rw-r--r--   3 jfoul001 users     149787 2022-03-05 10:07 router/raw/20220305T0130.csv.gz\n",
      "-rw-r--r--   3 jfoul001 users     150254 2022-03-05 10:07 router/raw/20220305T0140.csv.gz\n",
      "-rw-r--r--   3 jfoul001 users     150412 2022-03-05 10:07 router/raw/20220305T0150.csv.gz\n",
      "-rw-r--r--   3 jfoul001 users     150247 2022-03-05 10:07 router/raw/20220305T0200.csv.gz\n",
      "-rw-r--r--   3 jfoul001 users     152423 2022-03-05 10:07 router/raw/20220305T0210.csv.gz\n",
      "-rw-r--r--   3 jfoul001 users     155029 2022-03-05 10:07 router/raw/20220305T0220.csv.gz\n",
      "-rw-r--r--   3 jfoul001 users     156469 2022-03-05 10:07 router/raw/20220305T0230.csv.gz\n",
      "-rw-r--r--   3 jfoul001 users     156428 2022-03-05 10:07 router/raw/20220305T0240.csv.gz\n",
      "-rw-r--r--   3 jfoul001 users     151269 2022-03-05 10:07 router/raw/20220305T0250.csv.gz\n",
      "-rw-r--r--   3 jfoul001 users     150988 2022-03-05 10:07 router/raw/20220305T0300.csv.gz\n",
      "-rw-r--r--   3 jfoul001 users     152224 2022-03-05 10:07 router/raw/20220305T0310.csv.gz\n",
      "-rw-r--r--   3 jfoul001 users     152422 2022-03-05 10:07 router/raw/20220305T0320.csv.gz\n",
      "-rw-r--r--   3 jfoul001 users     152106 2022-03-05 10:07 router/raw/20220305T0330.csv.gz\n",
      "-rw-r--r--   3 jfoul001 users     152702 2022-03-05 10:07 router/raw/20220305T0340.csv.gz\n",
      "-rw-r--r--   3 jfoul001 users     154715 2022-03-05 10:07 router/raw/20220305T0350.csv.gz\n",
      "-rw-r--r--   3 jfoul001 users     151086 2022-03-05 10:07 router/raw/20220305T0400.csv.gz\n",
      "-rw-r--r--   3 jfoul001 users     148169 2022-03-05 10:07 router/raw/20220305T0410.csv.gz\n",
      "-rw-r--r--   3 jfoul001 users     147754 2022-03-05 10:07 router/raw/20220305T0420.csv.gz\n",
      "-rw-r--r--   3 jfoul001 users     149344 2022-03-05 10:07 router/raw/20220305T0430.csv.gz\n",
      "-rw-r--r--   3 jfoul001 users     151565 2022-03-05 10:07 router/raw/20220305T0440.csv.gz\n",
      "-rw-r--r--   3 jfoul001 users     151212 2022-03-05 10:07 router/raw/20220305T0450.csv.gz\n",
      "-rw-r--r--   3 jfoul001 users     153478 2022-03-05 10:07 router/raw/20220305T0500.csv.gz\n",
      "-rw-r--r--   3 jfoul001 users     151665 2022-03-05 10:07 router/raw/20220305T0510.csv.gz\n",
      "-rw-r--r--   3 jfoul001 users     151976 2022-03-05 10:07 router/raw/20220305T0520.csv.gz\n",
      "-rw-r--r--   3 jfoul001 users     153737 2022-03-05 10:07 router/raw/20220305T0530.csv.gz\n",
      "-rw-r--r--   3 jfoul001 users     153328 2022-03-05 10:07 router/raw/20220305T0540.csv.gz\n",
      "-rw-r--r--   3 jfoul001 users     151783 2022-03-05 10:07 router/raw/20220305T0550.csv.gz\n",
      "-rw-r--r--   3 jfoul001 users     151811 2022-03-05 10:07 router/raw/20220305T0600.csv.gz\n",
      "-rw-r--r--   3 jfoul001 users     154805 2022-03-05 10:07 router/raw/20220305T0610.csv.gz\n",
      "-rw-r--r--   3 jfoul001 users     154065 2022-03-05 10:07 router/raw/20220305T0620.csv.gz\n",
      "-rw-r--r--   3 jfoul001 users     153444 2022-03-05 10:07 router/raw/20220305T0630.csv.gz\n",
      "-rw-r--r--   3 jfoul001 users     155495 2022-03-05 10:07 router/raw/20220305T0640.csv.gz\n",
      "-rw-r--r--   3 jfoul001 users     153745 2022-03-05 10:07 router/raw/20220305T0650.csv.gz\n",
      "-rw-r--r--   3 jfoul001 users     155269 2022-03-05 10:07 router/raw/20220305T0700.csv.gz\n",
      "-rw-r--r--   3 jfoul001 users     153760 2022-03-05 10:07 router/raw/20220305T0710.csv.gz\n",
      "-rw-r--r--   3 jfoul001 users     154329 2022-03-05 10:07 router/raw/20220305T0720.csv.gz\n",
      "-rw-r--r--   3 jfoul001 users     154454 2022-03-05 10:07 router/raw/20220305T0730.csv.gz\n",
      "-rw-r--r--   3 jfoul001 users     154526 2022-03-05 10:07 router/raw/20220305T0740.csv.gz\n",
      "-rw-r--r--   3 jfoul001 users     156101 2022-03-05 10:07 router/raw/20220305T0750.csv.gz\n",
      "-rw-r--r--   3 jfoul001 users     156462 2022-03-05 10:07 router/raw/20220305T0800.csv.gz\n",
      "-rw-r--r--   3 jfoul001 users     158494 2022-03-05 10:07 router/raw/20220305T0810.csv.gz\n",
      "-rw-r--r--   3 jfoul001 users     160655 2022-03-05 10:07 router/raw/20220305T0820.csv.gz\n",
      "-rw-r--r--   3 jfoul001 users     159607 2022-03-05 10:07 router/raw/20220305T0830.csv.gz\n",
      "-rw-r--r--   3 jfoul001 users     157366 2022-03-05 10:07 router/raw/20220305T0840.csv.gz\n",
      "-rw-r--r--   3 jfoul001 users     154619 2022-03-05 10:07 router/raw/20220305T0850.csv.gz\n",
      "-rw-r--r--   3 jfoul001 users     155107 2022-03-05 10:07 router/raw/20220305T0900.csv.gz\n",
      "-rw-r--r--   3 jfoul001 users     153603 2022-03-05 10:07 router/raw/20220305T0910.csv.gz\n",
      "-rw-r--r--   3 jfoul001 users     153976 2022-03-05 10:07 router/raw/20220305T0920.csv.gz\n",
      "-rw-r--r--   3 jfoul001 users     152813 2022-03-05 10:07 router/raw/20220305T0930.csv.gz\n",
      "-rw-r--r--   3 jfoul001 users     151488 2022-03-05 10:07 router/raw/20220305T0940.csv.gz\n",
      "-rw-r--r--   3 jfoul001 users     151467 2022-03-05 10:07 router/raw/20220305T0950.csv.gz\n",
      "-rw-r--r--   3 jfoul001 users     151671 2022-03-05 10:07 router/raw/20220305T1000.csv.gz\n"
     ]
    }
   ],
   "source": [
    "%%bash\n",
    "#!/bin/bash\n",
    "\n",
    "# delete the \n",
    "if hadoop fs -test -d router; then\n",
    "    # delete the output directory\n",
    "    hadoop fs -rm -r router/output\n",
    "\n",
    "    # create a new output directory\n",
    "    hadoop fs -mkdir router/output\n",
    "else\n",
    "    # create the router directory and upload the input files\n",
    "    hadoop fs -mkdir router\n",
    "    hadoop fs -mkdir router/sample\n",
    "    hadoop fs -put data/bandwidth.csv router/sample/\n",
    "\n",
    "    hadoop fs -put data/raw router/raw\n",
    "\n",
    "    # create the output directory\n",
    "    hadoop fs -mkdir router/output\n",
    "fi\n",
    "\n",
    "hadoop fs -ls router/raw"
   ]
  },
  {
   "cell_type": "markdown",
   "metadata": {},
   "source": [
    "## Initialize the Spark Session"
   ]
  },
  {
   "cell_type": "code",
   "execution_count": 3,
   "metadata": {},
   "outputs": [
    {
     "name": "stderr",
     "output_type": "stream",
     "text": [
      "WARNING: An illegal reflective access operation has occurred\n",
      "WARNING: Illegal reflective access by org.apache.spark.unsafe.Platform (file:/opt/spark/spark-3.0.1-bin-hadoop3.2/jars/spark-unsafe_2.12-3.0.1.jar) to constructor java.nio.DirectByteBuffer(long,int)\n",
      "WARNING: Please consider reporting this to the maintainers of org.apache.spark.unsafe.Platform\n",
      "WARNING: Use --illegal-access=warn to enable warnings of further illegal reflective access operations\n",
      "WARNING: All illegal access operations will be denied in a future release\n",
      "Setting default log level to \"ERROR\".\n",
      "To adjust logging level use sc.setLogLevel(newLevel). For SparkR, use setLogLevel(newLevel).\n"
     ]
    },
    {
     "data": {
      "text/html": [
       "\n",
       "            <div>\n",
       "                <p><b>SparkSession - in-memory</b></p>\n",
       "                \n",
       "        <div>\n",
       "            <p><b>SparkContext</b></p>\n",
       "\n",
       "            <p><a href=\"http://lena-master:4057\">Spark UI</a></p>\n",
       "\n",
       "            <dl>\n",
       "              <dt>Version</dt>\n",
       "                <dd><code>v3.0.1</code></dd>\n",
       "              <dt>Master</dt>\n",
       "                <dd><code>yarn</code></dd>\n",
       "              <dt>AppName</dt>\n",
       "                <dd><code>cw02</code></dd>\n",
       "            </dl>\n",
       "        </div>\n",
       "        \n",
       "            </div>\n",
       "        "
      ],
      "text/plain": [
       "<pyspark.sql.session.SparkSession at 0x7f538c9fc040>"
      ]
     },
     "execution_count": 3,
     "metadata": {},
     "output_type": "execute_result"
    }
   ],
   "source": [
    "spark = SparkSession.builder.appName('cw02').getOrCreate()\n",
    "spark"
   ]
  },
  {
   "cell_type": "markdown",
   "metadata": {},
   "source": [
    "## I. Data Understanding\n",
    "\n",
    "Identify, collect, and analyze the data sets that will help accomplish the project goals"
   ]
  },
  {
   "cell_type": "markdown",
   "metadata": {},
   "source": [
    "### A. Collect Initial Data"
   ]
  },
  {
   "cell_type": "code",
   "execution_count": 4,
   "metadata": {},
   "outputs": [
    {
     "name": "stderr",
     "output_type": "stream",
     "text": [
      "                                                                                \r"
     ]
    }
   ],
   "source": [
    "# read the full batch to process\n",
    "df_batch = spark.read.csv('router/raw/', header=False, inferSchema=True).toDF('Direction','Interval Length','Intervals Saved','IP','Interval Start','Interval End','Bytes Used')"
   ]
  },
  {
   "cell_type": "code",
   "execution_count": 5,
   "metadata": {},
   "outputs": [],
   "source": [
    "# drop the intervals saved column\n",
    "df_batch = df_batch.drop('Intervals Saved')"
   ]
  },
  {
   "cell_type": "markdown",
   "metadata": {},
   "source": [
    "### B. Describe data\n",
    "\n",
    "Examine the data and document its surface properties like data format, number of records, or field identities."
   ]
  },
  {
   "cell_type": "markdown",
   "metadata": {},
   "source": [
    "#### 1. Data Format"
   ]
  },
  {
   "cell_type": "code",
   "execution_count": 6,
   "metadata": {},
   "outputs": [
    {
     "name": "stdout",
     "output_type": "stream",
     "text": [
      "root\n",
      " |-- Direction: string (nullable = true)\n",
      " |-- Interval Length: string (nullable = true)\n",
      " |-- IP: string (nullable = true)\n",
      " |-- Interval Start: string (nullable = true)\n",
      " |-- Interval End: integer (nullable = true)\n",
      " |-- Bytes Used: long (nullable = true)\n",
      "\n"
     ]
    }
   ],
   "source": [
    "df_batch.printSchema()"
   ]
  },
  {
   "cell_type": "code",
   "execution_count": 7,
   "metadata": {},
   "outputs": [
    {
     "name": "stderr",
     "output_type": "stream",
     "text": [
      "                                                                                \r"
     ]
    },
    {
     "data": {
      "text/plain": [
       "1487304"
      ]
     },
     "execution_count": 7,
     "metadata": {},
     "output_type": "execute_result"
    }
   ],
   "source": [
    "df_batch.count()"
   ]
  },
  {
   "cell_type": "markdown",
   "metadata": {},
   "source": [
    "#### 2. Remove Duplicates\n",
    "\n",
    "Many duplicate records are present in the raw data since the data snapshots overlaps."
   ]
  },
  {
   "cell_type": "code",
   "execution_count": 8,
   "metadata": {},
   "outputs": [
    {
     "name": "stderr",
     "output_type": "stream",
     "text": [
      "                                                                                \r"
     ]
    },
    {
     "data": {
      "text/plain": [
       "397016"
      ]
     },
     "execution_count": 8,
     "metadata": {},
     "output_type": "execute_result"
    }
   ],
   "source": [
    "# drop duplicates\n",
    "df_unique = df_batch.drop_duplicates()\n",
    "df_unique.count()"
   ]
  },
  {
   "cell_type": "markdown",
   "metadata": {},
   "source": [
    "There are duplicates where only the `Bytes Used` field is different due to when the data snapshot was taken."
   ]
  },
  {
   "cell_type": "code",
   "execution_count": 9,
   "metadata": {},
   "outputs": [
    {
     "name": "stderr",
     "output_type": "stream",
     "text": [
      "                                                                                \r"
     ]
    },
    {
     "data": {
      "text/plain": [
       "385863"
      ]
     },
     "execution_count": 9,
     "metadata": {},
     "output_type": "execute_result"
    }
   ],
   "source": [
    "#df_max_bytes = df_unique.groupBy('IP').agg({\"Bytes Used\": \"max\"})\n",
    "df_unique = df_unique.groupBy(['Direction','Interval Length','IP','Interval Start','Interval End']) \\\n",
    "    .max('Bytes Used') \\\n",
    "    .withColumnRenamed('max(Bytes Used)', 'Bytes Used')\n",
    "\n",
    "df_unique.count()"
   ]
  },
  {
   "cell_type": "code",
   "execution_count": 10,
   "metadata": {},
   "outputs": [
    {
     "name": "stderr",
     "output_type": "stream",
     "text": [
      "[Stage 13:=====================================================>(199 + 1) / 200]\r"
     ]
    },
    {
     "name": "stdout",
     "output_type": "stream",
     "text": [
      "+---------+---------------+-------------+--------------+------------+----------+\n",
      "|Direction|Interval Length|           IP|Interval Start|Interval End|Bytes Used|\n",
      "+---------+---------------+-------------+--------------+------------+----------+\n",
      "| download|         minute|192.168.3.152|    1646456160|  1646456220|         0|\n",
      "|     down|       dclass_5|          449|      COMBINED|  1646439806|1646439808|\n",
      "|     down|       dclass_5|          449|      COMBINED|  1646444020|1646444022|\n",
      "|     down|       dclass_1|          449|      COMBINED|  1646436902|1646436904|\n",
      "|     down|       dclass_8|          449|      COMBINED|  1646434402|1646434404|\n",
      "+---------+---------------+-------------+--------------+------------+----------+\n",
      "only showing top 5 rows\n",
      "\n"
     ]
    },
    {
     "name": "stderr",
     "output_type": "stream",
     "text": [
      "                                                                                \r"
     ]
    }
   ],
   "source": [
    "df_unique.show(5)"
   ]
  },
  {
   "cell_type": "markdown",
   "metadata": {},
   "source": [
    "#### 2. Unique Categories"
   ]
  },
  {
   "cell_type": "code",
   "execution_count": 11,
   "metadata": {},
   "outputs": [
    {
     "name": "stderr",
     "output_type": "stream",
     "text": [
      "                                                                                \r"
     ]
    },
    {
     "name": "stdout",
     "output_type": "stream",
     "text": [
      "+-------------+------+\n",
      "|interval_type| count|\n",
      "+-------------+------+\n",
      "|           15|  5257|\n",
      "|           31|   325|\n",
      "|          449|148959|\n",
      "|           24|   824|\n",
      "|           IP|181600|\n",
      "|           12|    71|\n",
      "|     COMBINED| 48827|\n",
      "+-------------+------+\n",
      "\n"
     ]
    }
   ],
   "source": [
    "# if an IP address is stored in the IP column recode it as simply 'IP'\n",
    "df_interval_type = df_unique.withColumn('interval_type', \n",
    "    when(df_unique['IP']\n",
    "    .rlike('^((25[0-5]|2[0-4][0-9]|[01]?[0-9][0-9]?)\\.){3}(25[0-5]|2[0-4][0-9]|[01]?[0-9][0-9]?)$'), 'IP')\n",
    "    .otherwise(df_unique['IP'])\n",
    ")\n",
    "\n",
    "df_interval_type.groupBy(['interval_type']).count().show()"
   ]
  },
  {
   "cell_type": "code",
   "execution_count": 12,
   "metadata": {},
   "outputs": [
    {
     "name": "stderr",
     "output_type": "stream",
     "text": [
      "[Stage 41:================================================>     (178 + 2) / 200]\r"
     ]
    },
    {
     "name": "stdout",
     "output_type": "stream",
     "text": [
      "+---------------+-------------+------+\n",
      "|Interval Length|interval_type| count|\n",
      "+---------------+-------------+------+\n",
      "|            180|     COMBINED|  1066|\n",
      "|              2|     COMBINED| 43665|\n",
      "|              2|           IP|135533|\n",
      "|           7200|     COMBINED|   744|\n",
      "|            900|     COMBINED|   242|\n",
      "|            900|           IP|  5803|\n",
      "|            day|     COMBINED|   732|\n",
      "|            day|           IP|  3412|\n",
      "|       dclass_1|           12|    13|\n",
      "|       dclass_1|           15|   726|\n",
      "|       dclass_1|           24|    79|\n",
      "|       dclass_1|           31|    32|\n",
      "|       dclass_1|          449| 21751|\n",
      "|       dclass_2|           12|    13|\n",
      "|       dclass_2|           15|   726|\n",
      "|       dclass_2|           24|    79|\n",
      "|       dclass_2|           31|    32|\n",
      "|       dclass_2|          449| 21751|\n",
      "|       dclass_3|           12|     3|\n",
      "|       dclass_3|           15|    72|\n",
      "|       dclass_3|           24|    65|\n",
      "|       dclass_3|           31|    32|\n",
      "|       dclass_3|          449|    72|\n",
      "|       dclass_4|           12|     3|\n",
      "|       dclass_4|           15|   721|\n",
      "|       dclass_4|           24|    79|\n",
      "|       dclass_4|           31|    32|\n",
      "|       dclass_4|          449| 21755|\n",
      "|       dclass_5|           12|     3|\n",
      "|       dclass_5|           15|   690|\n",
      "|       dclass_5|           24|    78|\n",
      "|       dclass_5|           31|    32|\n",
      "|       dclass_5|          449| 20554|\n",
      "|       dclass_6|           12|     3|\n",
      "|       dclass_6|           15|    72|\n",
      "|       dclass_6|           24|    49|\n",
      "|       dclass_6|           31|    32|\n",
      "|       dclass_6|          449|    72|\n",
      "|       dclass_7|           12|     3|\n",
      "|       dclass_7|           15|    72|\n",
      "|       dclass_7|           24|    79|\n",
      "|       dclass_7|           31|    32|\n",
      "|       dclass_7|          449|    72|\n",
      "|       dclass_8|           12|     1|\n",
      "|       dclass_8|           15|   654|\n",
      "|       dclass_8|           24|    79|\n",
      "|       dclass_8|           31|     5|\n",
      "|       dclass_8|          449| 19358|\n",
      "|           hour|     COMBINED|    74|\n",
      "|           hour|           IP|  2082|\n",
      "|         minute|     COMBINED|  2282|\n",
      "|         minute|           IP| 31885|\n",
      "|          month|     COMBINED|    22|\n",
      "|          month|           IP|  2885|\n",
      "|       uclass_1|           12|    13|\n",
      "|       uclass_1|           15|   726|\n",
      "|       uclass_1|           24|    79|\n",
      "|       uclass_1|           31|    32|\n",
      "|       uclass_1|          449| 21751|\n",
      "|       uclass_2|           12|    13|\n",
      "|       uclass_2|           15|   726|\n",
      "|       uclass_2|           24|    79|\n",
      "|       uclass_2|           31|    32|\n",
      "|       uclass_2|          449| 21751|\n",
      "|       uclass_3|           12|     3|\n",
      "|       uclass_3|           15|    72|\n",
      "|       uclass_3|           24|    79|\n",
      "|       uclass_3|           31|    32|\n",
      "|       uclass_3|          449|    72|\n",
      "+---------------+-------------+------+\n",
      "\n"
     ]
    },
    {
     "name": "stderr",
     "output_type": "stream",
     "text": [
      "                                                                                \r"
     ]
    }
   ],
   "source": [
    "# record count per catergory\n",
    "df_interval_type.groupBy(['Interval Length', 'interval_type']) \\\n",
    "    .count() \\\n",
    "    .orderBy(['Interval Length', 'interval_type',], ascending=True) \\\n",
    "    .show(df_interval_type.count())"
   ]
  },
  {
   "cell_type": "markdown",
   "metadata": {},
   "source": [
    "#### 3. How many intervals are available for the various intervals?\n",
    "\n",
    "This number should be less as for every interval there could be multiple IP addresses (where `interval_type == 'IP'`)."
   ]
  },
  {
   "cell_type": "code",
   "execution_count": 13,
   "metadata": {},
   "outputs": [
    {
     "name": "stderr",
     "output_type": "stream",
     "text": [
      "[Stage 50:==============================================>       (173 + 2) / 200]\r"
     ]
    },
    {
     "name": "stdout",
     "output_type": "stream",
     "text": [
      "+---------------+-------------+-----+\n",
      "|Interval Length|interval_type|count|\n",
      "+---------------+-------------+-----+\n",
      "|            180|     COMBINED| 1066|\n",
      "|              2|     COMBINED|43665|\n",
      "|              2|           IP|43688|\n",
      "|           7200|     COMBINED|  744|\n",
      "|            900|     COMBINED|  242|\n",
      "|            900|           IP|  242|\n",
      "|            day|     COMBINED|  732|\n",
      "|            day|           IP|   64|\n",
      "|       dclass_1|           12|   13|\n",
      "|       dclass_1|           15|  726|\n",
      "|       dclass_1|           24|   79|\n",
      "|       dclass_1|           31|   32|\n",
      "|       dclass_1|          449|21751|\n",
      "|       dclass_2|           12|   13|\n",
      "|       dclass_2|           15|  726|\n",
      "|       dclass_2|           24|   79|\n",
      "|       dclass_2|           31|   32|\n",
      "|       dclass_2|          449|21751|\n",
      "|       dclass_3|           12|    3|\n",
      "|       dclass_3|           15|   72|\n",
      "|       dclass_3|           24|   65|\n",
      "|       dclass_3|           31|   32|\n",
      "|       dclass_3|          449|   72|\n",
      "|       dclass_4|           12|    3|\n",
      "|       dclass_4|           15|  721|\n",
      "|       dclass_4|           24|   79|\n",
      "|       dclass_4|           31|   32|\n",
      "|       dclass_4|          449|21755|\n",
      "|       dclass_5|           12|    3|\n",
      "|       dclass_5|           15|  690|\n",
      "|       dclass_5|           24|   78|\n",
      "|       dclass_5|           31|   32|\n",
      "|       dclass_5|          449|20554|\n",
      "|       dclass_6|           12|    3|\n",
      "|       dclass_6|           15|   72|\n",
      "|       dclass_6|           24|   49|\n",
      "|       dclass_6|           31|   32|\n",
      "|       dclass_6|          449|   72|\n",
      "|       dclass_7|           12|    3|\n",
      "|       dclass_7|           15|   72|\n",
      "|       dclass_7|           24|   79|\n",
      "|       dclass_7|           31|   32|\n",
      "|       dclass_7|          449|   72|\n",
      "|       dclass_8|           12|    1|\n",
      "|       dclass_8|           15|  654|\n",
      "|       dclass_8|           24|   79|\n",
      "|       dclass_8|           31|    5|\n",
      "|       dclass_8|          449|19358|\n",
      "|           hour|     COMBINED|   74|\n",
      "|           hour|           IP|   74|\n",
      "|         minute|     COMBINED| 2282|\n",
      "|         minute|           IP| 1594|\n",
      "|          month|     COMBINED|   22|\n",
      "|          month|           IP|   28|\n",
      "|       uclass_1|           12|   13|\n",
      "|       uclass_1|           15|  726|\n",
      "|       uclass_1|           24|   79|\n",
      "|       uclass_1|           31|   32|\n",
      "|       uclass_1|          449|21751|\n",
      "|       uclass_2|           12|   13|\n",
      "|       uclass_2|           15|  726|\n",
      "|       uclass_2|           24|   79|\n",
      "|       uclass_2|           31|   32|\n",
      "|       uclass_2|          449|21751|\n",
      "|       uclass_3|           12|    3|\n",
      "|       uclass_3|           15|   72|\n",
      "|       uclass_3|           24|   79|\n",
      "|       uclass_3|           31|   32|\n",
      "|       uclass_3|          449|   72|\n",
      "+---------------+-------------+-----+\n",
      "\n"
     ]
    },
    {
     "name": "stderr",
     "output_type": "stream",
     "text": [
      "                                                                                \r"
     ]
    }
   ],
   "source": [
    "df_interval_type.drop_duplicates(['Direction', 'Interval Length', 'interval_type', 'Interval Start', 'Interval End']) \\\n",
    "    .groupBy(['Interval Length', 'interval_type']) \\\n",
    "    .count() \\\n",
    "    .orderBy(['Interval Length', 'interval_type',], ascending=True) \\\n",
    "    .show(df_interval_type.count())"
   ]
  }
 ],
 "metadata": {
  "interpreter": {
   "hash": "429f3e8d45833d845e6e031dbf3e229703adf0bd2129019c99d8da7ba46dd29e"
  },
  "kernelspec": {
   "display_name": "Python 3.8.12 ('dsm010')",
   "language": "python",
   "name": "python3"
  },
  "language_info": {
   "codemirror_mode": {
    "name": "ipython",
    "version": 3
   },
   "file_extension": ".py",
   "mimetype": "text/x-python",
   "name": "python",
   "nbconvert_exporter": "python",
   "pygments_lexer": "ipython3",
   "version": "3.8.12"
  },
  "orig_nbformat": 4
 },
 "nbformat": 4,
 "nbformat_minor": 2
}
