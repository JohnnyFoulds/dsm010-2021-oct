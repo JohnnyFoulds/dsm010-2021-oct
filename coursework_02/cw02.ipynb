{
 "cells": [
  {
   "cell_type": "markdown",
   "metadata": {},
   "source": [
    "## Web References\n",
    "\n",
    "### System\n",
    "\n",
    "- [How to copy a file without using scp inside an ssh session?](https://superuser.com/questions/291423/how-to-copy-a-file-without-using-scp-inside-an-ssh-session)\n",
    "\n",
    "### PySpark\n",
    "\n",
    "- [Complete Machine Learning Project with PySpark MLlib Tutorial](https://www.youtube.com/watch?v=1a7bB1ZcZ3k)\n",
    "- [The ONLY PySpark Tutorial You Will Ever Need.](https://www.youtube.com/watch?v=cZS5xYYIPzk)\n",
    "- [PySpark When Otherwise | SQL Case When Usage](https://sparkbyexamples.com/pyspark/pyspark-when-otherwise/)\n",
    "- [Spark rlike() Working with Regex Matching Examples](https://sparkbyexamples.com/spark/spark-rlike-regex-matching-examples/)\n",
    "- [spark dataframe drop duplicates and keep first](https://stackoverflow.com/questions/38687212/spark-dataframe-drop-duplicates-and-keep-first)\n",
    "- [Spark SQL Window functions using plain SQL](https://www.linkedin.com/pulse/spark-sql-window-functions-using-plain-ram-ghadiyaram/)\n",
    "- [Calculate difference with previous row in PySpark](https://www.arundhaj.com/blog/calculate-difference-with-previous-row-in-pyspark.html)\n",
    "- [forward fill with last observation for a DataFrame](https://stackoverflow.com/questions/36019847/pyspark-forward-fill-with-last-observation-for-a-dataframe)\n",
    "- [Imputer](https://spark.apache.org/docs/latest/api/python/reference/api/pyspark.ml.feature.Imputer.html)\n",
    "\n",
    "### Pandas\n",
    "\n",
    "- [Pandas resample() tricks you should know for manipulating time-series data](https://towardsdatascience.com/pandas-resample-tricks-you-should-know-for-manipulating-time-series-data-7e9643a7e7f3)\n",
    "- [Resample with categories in pandas, keep non-numerical columns](https://stackoverflow.com/questions/56001927/resample-with-categories-in-pandas-keep-non-numerical-columns)\n",
    "\n",
    "### Time Series\n",
    "\n",
    "- [Time Series Analysis with Spark](https://www.youtube.com/watch?v=tKkneWcAIqU)\n",
    "- [Time Series Stream Processing with Spark and Cassandra](https://www.youtube.com/watch?v=fBWLzB0FMX4)\n",
    "- [Spark Basics: Missing Data and Time Series](https://www.youtube.com/watch?v=kvLCxHvL7U0)\n",
    "- [Spark Resampling, Spark UDFs, Resampling Time Series Data with Spark](https://www.youtube.com/watch?v=uFws-jPywmc)\n",
    "\n",
    "### Anomaly Detection\n",
    "\n",
    "- [How to Build an Anomaly Detection Engine with Spark, Akka and Cassandra](https://learning.oreilly.com/videos/how-to-build/9781491955253/9781491955253-video244545/)\n",
    "- [Real Time Detection of Anomalies in the Database Infrastructure using Apache Spark](https://www.youtube.com/watch?v=1IsMMmug5q0)\n",
    "\n",
    "### Other\n",
    "\n",
    "- [What is CRISP DM?](https://www.datascience-pm.com/crisp-dm-2/)\n",
    "\n",
    "### Internet Traffic\n",
    "\n",
    "- [Data mining approach for predicting the daily Internet data traffic of a smart university](https://journalofbigdata.springeropen.com/articles/10.1186/s40537-019-0176-5)"
   ]
  },
  {
   "cell_type": "markdown",
   "metadata": {},
   "source": [
    "## Import Libraries"
   ]
  },
  {
   "cell_type": "code",
   "execution_count": 1,
   "metadata": {},
   "outputs": [],
   "source": [
    "import datetime\n",
    "import calendar\n",
    "import pandas as pd\n",
    "import pyspark\n",
    "from pyspark.sql import SparkSession\n",
    "from pyspark.sql.functions import when, asc, desc, col, lag, isnull, from_unixtime, year, month, dayofmonth, dayofweek, hour, minute\n",
    "from pyspark.sql.window import Window\n",
    "\n",
    "import matplotlib.pyplot as plt\n",
    "import seaborn as sns"
   ]
  },
  {
   "cell_type": "markdown",
   "metadata": {},
   "source": [
    "## HDFS Preparation"
   ]
  },
  {
   "cell_type": "code",
   "execution_count": 2,
   "metadata": {},
   "outputs": [
    {
     "name": "stdout",
     "output_type": "stream",
     "text": [
      "Deleted router/output\n",
      "Found 770 items\n",
      "-rw-r--r--   3 jfoul001 users     150806 2022-03-10 06:46 router/raw/20220304T2210.csv.gz\n",
      "-rw-r--r--   3 jfoul001 users     149945 2022-03-10 06:46 router/raw/20220304T2220.csv.gz\n",
      "-rw-r--r--   3 jfoul001 users     149142 2022-03-10 06:46 router/raw/20220304T2230.csv.gz\n",
      "-rw-r--r--   3 jfoul001 users     151781 2022-03-10 06:46 router/raw/20220304T2240.csv.gz\n",
      "-rw-r--r--   3 jfoul001 users     150343 2022-03-10 06:46 router/raw/20220304T2250.csv.gz\n",
      "-rw-r--r--   3 jfoul001 users     149798 2022-03-10 06:46 router/raw/20220304T2300.csv.gz\n",
      "-rw-r--r--   3 jfoul001 users     148781 2022-03-10 06:46 router/raw/20220304T2310.csv.gz\n",
      "-rw-r--r--   3 jfoul001 users     148639 2022-03-10 06:46 router/raw/20220304T2320.csv.gz\n",
      "-rw-r--r--   3 jfoul001 users     149012 2022-03-10 06:46 router/raw/20220304T2330.csv.gz\n",
      "-rw-r--r--   3 jfoul001 users     150019 2022-03-10 06:46 router/raw/20220304T2340.csv.gz\n",
      "-rw-r--r--   3 jfoul001 users     150122 2022-03-10 06:46 router/raw/20220304T2350.csv.gz\n",
      "-rw-r--r--   3 jfoul001 users     148466 2022-03-10 06:46 router/raw/20220305T0000.csv.gz\n",
      "-rw-r--r--   3 jfoul001 users     149572 2022-03-10 06:46 router/raw/20220305T0010.csv.gz\n",
      "-rw-r--r--   3 jfoul001 users     149117 2022-03-10 06:46 router/raw/20220305T0020.csv.gz\n",
      "-rw-r--r--   3 jfoul001 users     150633 2022-03-10 06:46 router/raw/20220305T0030.csv.gz\n",
      "-rw-r--r--   3 jfoul001 users     149751 2022-03-10 06:46 router/raw/20220305T0040.csv.gz\n",
      "-rw-r--r--   3 jfoul001 users     149384 2022-03-10 06:46 router/raw/20220305T0050.csv.gz\n",
      "-rw-r--r--   3 jfoul001 users     149429 2022-03-10 06:46 router/raw/20220305T0100.csv.gz\n",
      "-rw-r--r--   3 jfoul001 users     149745 2022-03-10 06:46 router/raw/20220305T0110.csv.gz\n",
      "-rw-r--r--   3 jfoul001 users     149230 2022-03-10 06:46 router/raw/20220305T0120.csv.gz\n",
      "-rw-r--r--   3 jfoul001 users     149787 2022-03-10 06:46 router/raw/20220305T0130.csv.gz\n",
      "-rw-r--r--   3 jfoul001 users     150254 2022-03-10 06:46 router/raw/20220305T0140.csv.gz\n",
      "-rw-r--r--   3 jfoul001 users     150412 2022-03-10 06:46 router/raw/20220305T0150.csv.gz\n",
      "-rw-r--r--   3 jfoul001 users     150247 2022-03-10 06:46 router/raw/20220305T0200.csv.gz\n",
      "-rw-r--r--   3 jfoul001 users     152423 2022-03-10 06:46 router/raw/20220305T0210.csv.gz\n",
      "-rw-r--r--   3 jfoul001 users     155029 2022-03-10 06:46 router/raw/20220305T0220.csv.gz\n",
      "-rw-r--r--   3 jfoul001 users     156469 2022-03-10 06:46 router/raw/20220305T0230.csv.gz\n",
      "-rw-r--r--   3 jfoul001 users     156428 2022-03-10 06:46 router/raw/20220305T0240.csv.gz\n",
      "-rw-r--r--   3 jfoul001 users     151269 2022-03-10 06:46 router/raw/20220305T0250.csv.gz\n",
      "-rw-r--r--   3 jfoul001 users     150988 2022-03-10 06:46 router/raw/20220305T0300.csv.gz\n",
      "-rw-r--r--   3 jfoul001 users     152224 2022-03-10 06:46 router/raw/20220305T0310.csv.gz\n",
      "-rw-r--r--   3 jfoul001 users     152422 2022-03-10 06:46 router/raw/20220305T0320.csv.gz\n",
      "-rw-r--r--   3 jfoul001 users     152106 2022-03-10 06:46 router/raw/20220305T0330.csv.gz\n",
      "-rw-r--r--   3 jfoul001 users     152702 2022-03-10 06:46 router/raw/20220305T0340.csv.gz\n",
      "-rw-r--r--   3 jfoul001 users     154715 2022-03-10 06:46 router/raw/20220305T0350.csv.gz\n",
      "-rw-r--r--   3 jfoul001 users     151086 2022-03-10 06:46 router/raw/20220305T0400.csv.gz\n",
      "-rw-r--r--   3 jfoul001 users     148169 2022-03-10 06:46 router/raw/20220305T0410.csv.gz\n",
      "-rw-r--r--   3 jfoul001 users     147754 2022-03-10 06:46 router/raw/20220305T0420.csv.gz\n",
      "-rw-r--r--   3 jfoul001 users     149344 2022-03-10 06:46 router/raw/20220305T0430.csv.gz\n",
      "-rw-r--r--   3 jfoul001 users     151565 2022-03-10 06:46 router/raw/20220305T0440.csv.gz\n",
      "-rw-r--r--   3 jfoul001 users     151212 2022-03-10 06:46 router/raw/20220305T0450.csv.gz\n",
      "-rw-r--r--   3 jfoul001 users     153478 2022-03-10 06:46 router/raw/20220305T0500.csv.gz\n",
      "-rw-r--r--   3 jfoul001 users     151665 2022-03-10 06:46 router/raw/20220305T0510.csv.gz\n",
      "-rw-r--r--   3 jfoul001 users     151976 2022-03-10 06:46 router/raw/20220305T0520.csv.gz\n",
      "-rw-r--r--   3 jfoul001 users     153737 2022-03-10 06:46 router/raw/20220305T0530.csv.gz\n",
      "-rw-r--r--   3 jfoul001 users     153328 2022-03-10 06:46 router/raw/20220305T0540.csv.gz\n",
      "-rw-r--r--   3 jfoul001 users     151783 2022-03-10 06:46 router/raw/20220305T0550.csv.gz\n",
      "-rw-r--r--   3 jfoul001 users     151811 2022-03-10 06:46 router/raw/20220305T0600.csv.gz\n",
      "-rw-r--r--   3 jfoul001 users     154805 2022-03-10 06:46 router/raw/20220305T0610.csv.gz\n",
      "-rw-r--r--   3 jfoul001 users     154065 2022-03-10 06:46 router/raw/20220305T0620.csv.gz\n",
      "-rw-r--r--   3 jfoul001 users     153444 2022-03-10 06:46 router/raw/20220305T0630.csv.gz\n",
      "-rw-r--r--   3 jfoul001 users     155495 2022-03-10 06:46 router/raw/20220305T0640.csv.gz\n",
      "-rw-r--r--   3 jfoul001 users     153745 2022-03-10 06:46 router/raw/20220305T0650.csv.gz\n",
      "-rw-r--r--   3 jfoul001 users     155269 2022-03-10 06:46 router/raw/20220305T0700.csv.gz\n",
      "-rw-r--r--   3 jfoul001 users     153760 2022-03-10 06:46 router/raw/20220305T0710.csv.gz\n",
      "-rw-r--r--   3 jfoul001 users     154329 2022-03-10 06:46 router/raw/20220305T0720.csv.gz\n",
      "-rw-r--r--   3 jfoul001 users     154454 2022-03-10 06:46 router/raw/20220305T0730.csv.gz\n",
      "-rw-r--r--   3 jfoul001 users     154526 2022-03-10 06:46 router/raw/20220305T0740.csv.gz\n",
      "-rw-r--r--   3 jfoul001 users     156101 2022-03-10 06:46 router/raw/20220305T0750.csv.gz\n",
      "-rw-r--r--   3 jfoul001 users     156462 2022-03-10 06:46 router/raw/20220305T0800.csv.gz\n",
      "-rw-r--r--   3 jfoul001 users     158494 2022-03-10 06:46 router/raw/20220305T0810.csv.gz\n",
      "-rw-r--r--   3 jfoul001 users     160655 2022-03-10 06:46 router/raw/20220305T0820.csv.gz\n",
      "-rw-r--r--   3 jfoul001 users     159607 2022-03-10 06:46 router/raw/20220305T0830.csv.gz\n",
      "-rw-r--r--   3 jfoul001 users     157366 2022-03-10 06:46 router/raw/20220305T0840.csv.gz\n",
      "-rw-r--r--   3 jfoul001 users     154619 2022-03-10 06:46 router/raw/20220305T0850.csv.gz\n",
      "-rw-r--r--   3 jfoul001 users     155107 2022-03-10 06:46 router/raw/20220305T0900.csv.gz\n",
      "-rw-r--r--   3 jfoul001 users     153603 2022-03-10 06:46 router/raw/20220305T0910.csv.gz\n",
      "-rw-r--r--   3 jfoul001 users     153976 2022-03-10 06:46 router/raw/20220305T0920.csv.gz\n",
      "-rw-r--r--   3 jfoul001 users     152813 2022-03-10 06:46 router/raw/20220305T0930.csv.gz\n",
      "-rw-r--r--   3 jfoul001 users     151488 2022-03-10 06:46 router/raw/20220305T0940.csv.gz\n",
      "-rw-r--r--   3 jfoul001 users     151467 2022-03-10 06:46 router/raw/20220305T0950.csv.gz\n",
      "-rw-r--r--   3 jfoul001 users     151671 2022-03-10 06:46 router/raw/20220305T1000.csv.gz\n",
      "-rw-r--r--   3 jfoul001 users     151959 2022-03-10 06:46 router/raw/20220305T1010.csv.gz\n",
      "-rw-r--r--   3 jfoul001 users     153689 2022-03-10 06:46 router/raw/20220305T1020.csv.gz\n",
      "-rw-r--r--   3 jfoul001 users     157171 2022-03-10 06:46 router/raw/20220305T1030.csv.gz\n",
      "-rw-r--r--   3 jfoul001 users     159320 2022-03-10 06:46 router/raw/20220305T1040.csv.gz\n",
      "-rw-r--r--   3 jfoul001 users     157625 2022-03-10 06:46 router/raw/20220305T1050.csv.gz\n",
      "-rw-r--r--   3 jfoul001 users     156650 2022-03-10 06:46 router/raw/20220305T1100.csv.gz\n",
      "-rw-r--r--   3 jfoul001 users     157905 2022-03-10 06:46 router/raw/20220305T1110.csv.gz\n",
      "-rw-r--r--   3 jfoul001 users     157379 2022-03-10 06:46 router/raw/20220305T1120.csv.gz\n",
      "-rw-r--r--   3 jfoul001 users     157232 2022-03-10 06:46 router/raw/20220305T1130.csv.gz\n",
      "-rw-r--r--   3 jfoul001 users     157567 2022-03-10 06:46 router/raw/20220305T1140.csv.gz\n",
      "-rw-r--r--   3 jfoul001 users     160104 2022-03-10 06:46 router/raw/20220305T1150.csv.gz\n",
      "-rw-r--r--   3 jfoul001 users     157205 2022-03-10 06:46 router/raw/20220305T1200.csv.gz\n",
      "-rw-r--r--   3 jfoul001 users     156972 2022-03-10 06:46 router/raw/20220305T1210.csv.gz\n",
      "-rw-r--r--   3 jfoul001 users     156441 2022-03-10 06:46 router/raw/20220305T1220.csv.gz\n",
      "-rw-r--r--   3 jfoul001 users     155951 2022-03-10 06:46 router/raw/20220305T1230.csv.gz\n",
      "-rw-r--r--   3 jfoul001 users     157741 2022-03-10 06:46 router/raw/20220305T1240.csv.gz\n",
      "-rw-r--r--   3 jfoul001 users     158328 2022-03-10 06:46 router/raw/20220305T1250.csv.gz\n",
      "-rw-r--r--   3 jfoul001 users     157998 2022-03-10 06:46 router/raw/20220305T1300.csv.gz\n",
      "-rw-r--r--   3 jfoul001 users     158248 2022-03-10 06:46 router/raw/20220305T1310.csv.gz\n",
      "-rw-r--r--   3 jfoul001 users     158960 2022-03-10 06:46 router/raw/20220305T1320.csv.gz\n",
      "-rw-r--r--   3 jfoul001 users     160363 2022-03-10 06:46 router/raw/20220305T1330.csv.gz\n",
      "-rw-r--r--   3 jfoul001 users     158917 2022-03-10 06:46 router/raw/20220305T1340.csv.gz\n",
      "-rw-r--r--   3 jfoul001 users     158822 2022-03-10 06:46 router/raw/20220305T1350.csv.gz\n",
      "-rw-r--r--   3 jfoul001 users     157462 2022-03-10 06:46 router/raw/20220305T1400.csv.gz\n",
      "-rw-r--r--   3 jfoul001 users     156323 2022-03-10 06:46 router/raw/20220305T1410.csv.gz\n",
      "-rw-r--r--   3 jfoul001 users     157473 2022-03-10 06:46 router/raw/20220305T1420.csv.gz\n",
      "-rw-r--r--   3 jfoul001 users     158139 2022-03-10 06:46 router/raw/20220305T1430.csv.gz\n",
      "-rw-r--r--   3 jfoul001 users     157713 2022-03-10 06:46 router/raw/20220305T1440.csv.gz\n",
      "-rw-r--r--   3 jfoul001 users     154980 2022-03-10 06:46 router/raw/20220305T1450.csv.gz\n",
      "-rw-r--r--   3 jfoul001 users     153937 2022-03-10 06:46 router/raw/20220305T1500.csv.gz\n",
      "-rw-r--r--   3 jfoul001 users     154933 2022-03-10 06:46 router/raw/20220305T1510.csv.gz\n",
      "-rw-r--r--   3 jfoul001 users     153950 2022-03-10 06:46 router/raw/20220305T1520.csv.gz\n",
      "-rw-r--r--   3 jfoul001 users     152868 2022-03-10 06:46 router/raw/20220305T1530.csv.gz\n",
      "-rw-r--r--   3 jfoul001 users     151193 2022-03-10 06:46 router/raw/20220305T1540.csv.gz\n",
      "-rw-r--r--   3 jfoul001 users     151321 2022-03-10 06:46 router/raw/20220305T1550.csv.gz\n",
      "-rw-r--r--   3 jfoul001 users     151277 2022-03-10 06:46 router/raw/20220305T1600.csv.gz\n",
      "-rw-r--r--   3 jfoul001 users     152178 2022-03-10 06:46 router/raw/20220305T1610.csv.gz\n",
      "-rw-r--r--   3 jfoul001 users     152779 2022-03-10 06:46 router/raw/20220305T1620.csv.gz\n",
      "-rw-r--r--   3 jfoul001 users     152801 2022-03-10 06:46 router/raw/20220305T1630.csv.gz\n",
      "-rw-r--r--   3 jfoul001 users     154878 2022-03-10 06:46 router/raw/20220305T1640.csv.gz\n",
      "-rw-r--r--   3 jfoul001 users     153582 2022-03-10 06:46 router/raw/20220305T1650.csv.gz\n",
      "-rw-r--r--   3 jfoul001 users     155151 2022-03-10 06:46 router/raw/20220305T1700.csv.gz\n",
      "-rw-r--r--   3 jfoul001 users     157191 2022-03-10 06:46 router/raw/20220305T1710.csv.gz\n",
      "-rw-r--r--   3 jfoul001 users     157762 2022-03-10 06:46 router/raw/20220305T1720.csv.gz\n",
      "-rw-r--r--   3 jfoul001 users     159322 2022-03-10 06:46 router/raw/20220305T1730.csv.gz\n",
      "-rw-r--r--   3 jfoul001 users     157985 2022-03-10 06:46 router/raw/20220305T1740.csv.gz\n",
      "-rw-r--r--   3 jfoul001 users     158301 2022-03-10 06:46 router/raw/20220305T1750.csv.gz\n",
      "-rw-r--r--   3 jfoul001 users     159329 2022-03-10 06:46 router/raw/20220305T1800.csv.gz\n",
      "-rw-r--r--   3 jfoul001 users     158887 2022-03-10 06:46 router/raw/20220305T1810.csv.gz\n",
      "-rw-r--r--   3 jfoul001 users     159188 2022-03-10 06:46 router/raw/20220305T1820.csv.gz\n",
      "-rw-r--r--   3 jfoul001 users     158559 2022-03-10 06:46 router/raw/20220305T1830.csv.gz\n",
      "-rw-r--r--   3 jfoul001 users     160791 2022-03-10 06:46 router/raw/20220305T1840.csv.gz\n",
      "-rw-r--r--   3 jfoul001 users     156027 2022-03-10 06:46 router/raw/20220305T1850.csv.gz\n",
      "-rw-r--r--   3 jfoul001 users     155494 2022-03-10 06:46 router/raw/20220305T1900.csv.gz\n",
      "-rw-r--r--   3 jfoul001 users     156273 2022-03-10 06:46 router/raw/20220305T1910.csv.gz\n",
      "-rw-r--r--   3 jfoul001 users     155975 2022-03-10 06:46 router/raw/20220305T1920.csv.gz\n",
      "-rw-r--r--   3 jfoul001 users     155939 2022-03-10 06:46 router/raw/20220305T1930.csv.gz\n",
      "-rw-r--r--   3 jfoul001 users     156125 2022-03-10 06:46 router/raw/20220305T1940.csv.gz\n",
      "-rw-r--r--   3 jfoul001 users     157894 2022-03-10 06:46 router/raw/20220305T1950.csv.gz\n",
      "-rw-r--r--   3 jfoul001 users     155497 2022-03-10 06:46 router/raw/20220305T2000.csv.gz\n",
      "-rw-r--r--   3 jfoul001 users     156605 2022-03-10 06:46 router/raw/20220305T2010.csv.gz\n",
      "-rw-r--r--   3 jfoul001 users     157122 2022-03-10 06:46 router/raw/20220305T2020.csv.gz\n",
      "-rw-r--r--   3 jfoul001 users     156705 2022-03-10 06:46 router/raw/20220305T2030.csv.gz\n",
      "-rw-r--r--   3 jfoul001 users     157238 2022-03-10 06:46 router/raw/20220305T2040.csv.gz\n",
      "-rw-r--r--   3 jfoul001 users     158065 2022-03-10 06:46 router/raw/20220305T2050.csv.gz\n",
      "-rw-r--r--   3 jfoul001 users     157259 2022-03-10 06:46 router/raw/20220305T2100.csv.gz\n",
      "-rw-r--r--   3 jfoul001 users     156104 2022-03-10 06:46 router/raw/20220305T2110.csv.gz\n",
      "-rw-r--r--   3 jfoul001 users     156074 2022-03-10 06:46 router/raw/20220305T2120.csv.gz\n",
      "-rw-r--r--   3 jfoul001 users     157526 2022-03-10 06:46 router/raw/20220305T2130.csv.gz\n",
      "-rw-r--r--   3 jfoul001 users     155981 2022-03-10 06:46 router/raw/20220305T2140.csv.gz\n",
      "-rw-r--r--   3 jfoul001 users     155715 2022-03-10 06:46 router/raw/20220305T2150.csv.gz\n",
      "-rw-r--r--   3 jfoul001 users     154730 2022-03-10 06:46 router/raw/20220305T2200.csv.gz\n",
      "-rw-r--r--   3 jfoul001 users     154768 2022-03-10 06:46 router/raw/20220305T2210.csv.gz\n",
      "-rw-r--r--   3 jfoul001 users     153884 2022-03-10 06:46 router/raw/20220305T2220.csv.gz\n",
      "-rw-r--r--   3 jfoul001 users     154008 2022-03-10 06:46 router/raw/20220305T2230.csv.gz\n",
      "-rw-r--r--   3 jfoul001 users     155043 2022-03-10 06:46 router/raw/20220305T2240.csv.gz\n",
      "-rw-r--r--   3 jfoul001 users     154097 2022-03-10 06:46 router/raw/20220305T2250.csv.gz\n",
      "-rw-r--r--   3 jfoul001 users     154371 2022-03-10 06:46 router/raw/20220305T2300.csv.gz\n",
      "-rw-r--r--   3 jfoul001 users     154842 2022-03-10 06:46 router/raw/20220305T2310.csv.gz\n",
      "-rw-r--r--   3 jfoul001 users     154076 2022-03-10 06:46 router/raw/20220305T2320.csv.gz\n",
      "-rw-r--r--   3 jfoul001 users     153700 2022-03-10 06:46 router/raw/20220305T2330.csv.gz\n",
      "-rw-r--r--   3 jfoul001 users     153664 2022-03-10 06:46 router/raw/20220305T2340.csv.gz\n",
      "-rw-r--r--   3 jfoul001 users     153663 2022-03-10 06:46 router/raw/20220305T2350.csv.gz\n",
      "-rw-r--r--   3 jfoul001 users     152568 2022-03-10 06:46 router/raw/20220306T0000.csv.gz\n",
      "-rw-r--r--   3 jfoul001 users     153652 2022-03-10 06:46 router/raw/20220306T0010.csv.gz\n",
      "-rw-r--r--   3 jfoul001 users     154563 2022-03-10 06:46 router/raw/20220306T0020.csv.gz\n",
      "-rw-r--r--   3 jfoul001 users     153658 2022-03-10 06:46 router/raw/20220306T0030.csv.gz\n",
      "-rw-r--r--   3 jfoul001 users     154036 2022-03-10 06:46 router/raw/20220306T0040.csv.gz\n",
      "-rw-r--r--   3 jfoul001 users     154072 2022-03-10 06:46 router/raw/20220306T0050.csv.gz\n",
      "-rw-r--r--   3 jfoul001 users     154944 2022-03-10 06:46 router/raw/20220306T0100.csv.gz\n",
      "-rw-r--r--   3 jfoul001 users     154153 2022-03-10 06:46 router/raw/20220306T0110.csv.gz\n",
      "-rw-r--r--   3 jfoul001 users     154591 2022-03-10 06:46 router/raw/20220306T0120.csv.gz\n",
      "-rw-r--r--   3 jfoul001 users     154402 2022-03-10 06:46 router/raw/20220306T0130.csv.gz\n",
      "-rw-r--r--   3 jfoul001 users     154164 2022-03-10 06:46 router/raw/20220306T0140.csv.gz\n",
      "-rw-r--r--   3 jfoul001 users     154623 2022-03-10 06:46 router/raw/20220306T0150.csv.gz\n",
      "-rw-r--r--   3 jfoul001 users     153625 2022-03-10 06:46 router/raw/20220306T0200.csv.gz\n",
      "-rw-r--r--   3 jfoul001 users     153627 2022-03-10 06:46 router/raw/20220306T0210.csv.gz\n",
      "-rw-r--r--   3 jfoul001 users     153480 2022-03-10 06:46 router/raw/20220306T0220.csv.gz\n",
      "-rw-r--r--   3 jfoul001 users     153730 2022-03-10 06:46 router/raw/20220306T0230.csv.gz\n",
      "-rw-r--r--   3 jfoul001 users     156323 2022-03-10 06:46 router/raw/20220306T0240.csv.gz\n",
      "-rw-r--r--   3 jfoul001 users     153860 2022-03-10 06:46 router/raw/20220306T0250.csv.gz\n",
      "-rw-r--r--   3 jfoul001 users     153404 2022-03-10 06:46 router/raw/20220306T0300.csv.gz\n",
      "-rw-r--r--   3 jfoul001 users     154839 2022-03-10 06:46 router/raw/20220306T0310.csv.gz\n",
      "-rw-r--r--   3 jfoul001 users     153681 2022-03-10 06:46 router/raw/20220306T0320.csv.gz\n",
      "-rw-r--r--   3 jfoul001 users     153324 2022-03-10 06:46 router/raw/20220306T0330.csv.gz\n",
      "-rw-r--r--   3 jfoul001 users     155369 2022-03-10 06:46 router/raw/20220306T0340.csv.gz\n",
      "-rw-r--r--   3 jfoul001 users     153030 2022-03-10 06:46 router/raw/20220306T0350.csv.gz\n",
      "-rw-r--r--   3 jfoul001 users     150413 2022-03-10 06:46 router/raw/20220306T0400.csv.gz\n",
      "-rw-r--r--   3 jfoul001 users     150752 2022-03-10 06:46 router/raw/20220306T0410.csv.gz\n",
      "-rw-r--r--   3 jfoul001 users     152562 2022-03-10 06:46 router/raw/20220306T0420.csv.gz\n",
      "-rw-r--r--   3 jfoul001 users     151828 2022-03-10 06:46 router/raw/20220306T0430.csv.gz\n",
      "-rw-r--r--   3 jfoul001 users     151695 2022-03-10 06:46 router/raw/20220306T0440.csv.gz\n",
      "-rw-r--r--   3 jfoul001 users     152029 2022-03-10 06:46 router/raw/20220306T0450.csv.gz\n",
      "-rw-r--r--   3 jfoul001 users     151920 2022-03-10 06:46 router/raw/20220306T0500.csv.gz\n",
      "-rw-r--r--   3 jfoul001 users     151865 2022-03-10 06:46 router/raw/20220306T0510.csv.gz\n",
      "-rw-r--r--   3 jfoul001 users     151757 2022-03-10 06:46 router/raw/20220306T0520.csv.gz\n",
      "-rw-r--r--   3 jfoul001 users     154124 2022-03-10 06:46 router/raw/20220306T0530.csv.gz\n",
      "-rw-r--r--   3 jfoul001 users     152882 2022-03-10 06:46 router/raw/20220306T0540.csv.gz\n",
      "-rw-r--r--   3 jfoul001 users     154261 2022-03-10 06:46 router/raw/20220306T0550.csv.gz\n",
      "-rw-r--r--   3 jfoul001 users     153770 2022-03-10 06:46 router/raw/20220306T0600.csv.gz\n",
      "-rw-r--r--   3 jfoul001 users     153103 2022-03-10 06:46 router/raw/20220306T0610.csv.gz\n",
      "-rw-r--r--   3 jfoul001 users     154333 2022-03-10 06:46 router/raw/20220306T0620.csv.gz\n",
      "-rw-r--r--   3 jfoul001 users     154919 2022-03-10 06:46 router/raw/20220306T0630.csv.gz\n",
      "-rw-r--r--   3 jfoul001 users     154234 2022-03-10 06:46 router/raw/20220306T0640.csv.gz\n",
      "-rw-r--r--   3 jfoul001 users     154735 2022-03-10 06:46 router/raw/20220306T0650.csv.gz\n",
      "-rw-r--r--   3 jfoul001 users     155060 2022-03-10 06:46 router/raw/20220306T0700.csv.gz\n",
      "-rw-r--r--   3 jfoul001 users     155677 2022-03-10 06:46 router/raw/20220306T0710.csv.gz\n",
      "-rw-r--r--   3 jfoul001 users     153885 2022-03-10 06:46 router/raw/20220306T0720.csv.gz\n",
      "-rw-r--r--   3 jfoul001 users     153524 2022-03-10 06:46 router/raw/20220306T0730.csv.gz\n",
      "-rw-r--r--   3 jfoul001 users     153203 2022-03-10 06:46 router/raw/20220306T0740.csv.gz\n",
      "-rw-r--r--   3 jfoul001 users     152050 2022-03-10 06:46 router/raw/20220306T0750.csv.gz\n",
      "-rw-r--r--   3 jfoul001 users     152141 2022-03-10 06:46 router/raw/20220306T0800.csv.gz\n",
      "-rw-r--r--   3 jfoul001 users     152233 2022-03-10 06:46 router/raw/20220306T0810.csv.gz\n",
      "-rw-r--r--   3 jfoul001 users     154014 2022-03-10 06:46 router/raw/20220306T0820.csv.gz\n",
      "-rw-r--r--   3 jfoul001 users     154009 2022-03-10 06:46 router/raw/20220306T0830.csv.gz\n",
      "-rw-r--r--   3 jfoul001 users     154217 2022-03-10 06:46 router/raw/20220306T0840.csv.gz\n",
      "-rw-r--r--   3 jfoul001 users     155951 2022-03-10 06:46 router/raw/20220306T0850.csv.gz\n",
      "-rw-r--r--   3 jfoul001 users     157124 2022-03-10 06:46 router/raw/20220306T0900.csv.gz\n",
      "-rw-r--r--   3 jfoul001 users     156964 2022-03-10 06:46 router/raw/20220306T0910.csv.gz\n",
      "-rw-r--r--   3 jfoul001 users     154664 2022-03-10 06:46 router/raw/20220306T0920.csv.gz\n",
      "-rw-r--r--   3 jfoul001 users     158019 2022-03-10 06:46 router/raw/20220306T0930.csv.gz\n",
      "-rw-r--r--   3 jfoul001 users     154684 2022-03-10 06:46 router/raw/20220306T0940.csv.gz\n",
      "-rw-r--r--   3 jfoul001 users     154543 2022-03-10 06:46 router/raw/20220306T0950.csv.gz\n",
      "-rw-r--r--   3 jfoul001 users     154920 2022-03-10 06:46 router/raw/20220306T1000.csv.gz\n",
      "-rw-r--r--   3 jfoul001 users     154184 2022-03-10 06:46 router/raw/20220306T1010.csv.gz\n",
      "-rw-r--r--   3 jfoul001 users     152611 2022-03-10 06:46 router/raw/20220306T1020.csv.gz\n",
      "-rw-r--r--   3 jfoul001 users     154455 2022-03-10 06:46 router/raw/20220306T1030.csv.gz\n",
      "-rw-r--r--   3 jfoul001 users     154480 2022-03-10 06:46 router/raw/20220306T1040.csv.gz\n",
      "-rw-r--r--   3 jfoul001 users     154316 2022-03-10 06:46 router/raw/20220306T1050.csv.gz\n",
      "-rw-r--r--   3 jfoul001 users     153645 2022-03-10 06:46 router/raw/20220306T1100.csv.gz\n",
      "-rw-r--r--   3 jfoul001 users     155478 2022-03-10 06:46 router/raw/20220306T1110.csv.gz\n",
      "-rw-r--r--   3 jfoul001 users     153561 2022-03-10 06:46 router/raw/20220306T1120.csv.gz\n",
      "-rw-r--r--   3 jfoul001 users     152950 2022-03-10 06:46 router/raw/20220306T1130.csv.gz\n",
      "-rw-r--r--   3 jfoul001 users     152224 2022-03-10 06:46 router/raw/20220306T1140.csv.gz\n",
      "-rw-r--r--   3 jfoul001 users     149924 2022-03-10 06:46 router/raw/20220306T1150.csv.gz\n",
      "-rw-r--r--   3 jfoul001 users     149112 2022-03-10 06:46 router/raw/20220306T1200.csv.gz\n",
      "-rw-r--r--   3 jfoul001 users     150088 2022-03-10 06:46 router/raw/20220306T1210.csv.gz\n",
      "-rw-r--r--   3 jfoul001 users     152939 2022-03-10 06:46 router/raw/20220306T1220.csv.gz\n",
      "-rw-r--r--   3 jfoul001 users     149237 2022-03-10 06:46 router/raw/20220306T1230.csv.gz\n",
      "-rw-r--r--   3 jfoul001 users     145760 2022-03-10 06:46 router/raw/20220306T1240.csv.gz\n",
      "-rw-r--r--   3 jfoul001 users     145707 2022-03-10 06:46 router/raw/20220306T1250.csv.gz\n",
      "-rw-r--r--   3 jfoul001 users     145832 2022-03-10 06:46 router/raw/20220306T1300.csv.gz\n",
      "-rw-r--r--   3 jfoul001 users     149245 2022-03-10 06:46 router/raw/20220306T1310.csv.gz\n",
      "-rw-r--r--   3 jfoul001 users     149309 2022-03-10 06:46 router/raw/20220306T1320.csv.gz\n",
      "-rw-r--r--   3 jfoul001 users     150609 2022-03-10 06:46 router/raw/20220306T1330.csv.gz\n",
      "-rw-r--r--   3 jfoul001 users     150932 2022-03-10 06:46 router/raw/20220306T1340.csv.gz\n",
      "-rw-r--r--   3 jfoul001 users     151325 2022-03-10 06:46 router/raw/20220306T1350.csv.gz\n",
      "-rw-r--r--   3 jfoul001 users     149950 2022-03-10 06:46 router/raw/20220306T1410.csv.gz\n",
      "-rw-r--r--   3 jfoul001 users     149156 2022-03-10 06:46 router/raw/20220306T1420.csv.gz\n",
      "-rw-r--r--   3 jfoul001 users     149215 2022-03-10 06:46 router/raw/20220306T1430.csv.gz\n",
      "-rw-r--r--   3 jfoul001 users     151296 2022-03-10 06:46 router/raw/20220306T1440.csv.gz\n",
      "-rw-r--r--   3 jfoul001 users     153704 2022-03-10 06:46 router/raw/20220306T1450.csv.gz\n",
      "-rw-r--r--   3 jfoul001 users     156175 2022-03-10 06:46 router/raw/20220306T1500.csv.gz\n",
      "-rw-r--r--   3 jfoul001 users     158254 2022-03-10 06:46 router/raw/20220306T1510.csv.gz\n",
      "-rw-r--r--   3 jfoul001 users     158082 2022-03-10 06:46 router/raw/20220306T1520.csv.gz\n",
      "-rw-r--r--   3 jfoul001 users     158791 2022-03-10 06:46 router/raw/20220306T1530.csv.gz\n",
      "-rw-r--r--   3 jfoul001 users     158251 2022-03-10 06:46 router/raw/20220306T1540.csv.gz\n",
      "-rw-r--r--   3 jfoul001 users     157857 2022-03-10 06:46 router/raw/20220306T1550.csv.gz\n",
      "-rw-r--r--   3 jfoul001 users     159124 2022-03-10 06:46 router/raw/20220306T1600.csv.gz\n",
      "-rw-r--r--   3 jfoul001 users     161510 2022-03-10 06:46 router/raw/20220306T1610.csv.gz\n",
      "-rw-r--r--   3 jfoul001 users     164521 2022-03-10 06:46 router/raw/20220306T1620.csv.gz\n",
      "-rw-r--r--   3 jfoul001 users     160034 2022-03-10 06:46 router/raw/20220306T1630.csv.gz\n",
      "-rw-r--r--   3 jfoul001 users     158938 2022-03-10 06:46 router/raw/20220306T1640.csv.gz\n",
      "-rw-r--r--   3 jfoul001 users     162165 2022-03-10 06:46 router/raw/20220306T1650.csv.gz\n",
      "-rw-r--r--   3 jfoul001 users     163944 2022-03-10 06:46 router/raw/20220306T1700.csv.gz\n",
      "-rw-r--r--   3 jfoul001 users     163926 2022-03-10 06:46 router/raw/20220306T1710.csv.gz\n",
      "-rw-r--r--   3 jfoul001 users     162621 2022-03-10 06:46 router/raw/20220306T1720.csv.gz\n",
      "-rw-r--r--   3 jfoul001 users     163602 2022-03-10 06:46 router/raw/20220306T1730.csv.gz\n",
      "-rw-r--r--   3 jfoul001 users     165300 2022-03-10 06:46 router/raw/20220306T1740.csv.gz\n",
      "-rw-r--r--   3 jfoul001 users     167631 2022-03-10 06:46 router/raw/20220306T1750.csv.gz\n",
      "-rw-r--r--   3 jfoul001 users     168753 2022-03-10 06:46 router/raw/20220306T1800.csv.gz\n",
      "-rw-r--r--   3 jfoul001 users     167521 2022-03-10 06:46 router/raw/20220306T1810.csv.gz\n",
      "-rw-r--r--   3 jfoul001 users     165796 2022-03-10 06:46 router/raw/20220306T1820.csv.gz\n",
      "-rw-r--r--   3 jfoul001 users     165727 2022-03-10 06:46 router/raw/20220306T1830.csv.gz\n",
      "-rw-r--r--   3 jfoul001 users     160855 2022-03-10 06:46 router/raw/20220306T1840.csv.gz\n",
      "-rw-r--r--   3 jfoul001 users     161019 2022-03-10 06:46 router/raw/20220306T1850.csv.gz\n",
      "-rw-r--r--   3 jfoul001 users     159671 2022-03-10 06:46 router/raw/20220306T1900.csv.gz\n",
      "-rw-r--r--   3 jfoul001 users     162791 2022-03-10 06:46 router/raw/20220306T1910.csv.gz\n",
      "-rw-r--r--   3 jfoul001 users     160544 2022-03-10 06:46 router/raw/20220306T1920.csv.gz\n",
      "-rw-r--r--   3 jfoul001 users     160509 2022-03-10 06:46 router/raw/20220306T1930.csv.gz\n",
      "-rw-r--r--   3 jfoul001 users     159293 2022-03-10 06:46 router/raw/20220306T1940.csv.gz\n",
      "-rw-r--r--   3 jfoul001 users     157422 2022-03-10 06:46 router/raw/20220306T1950.csv.gz\n",
      "-rw-r--r--   3 jfoul001 users     157896 2022-03-10 06:46 router/raw/20220306T2000.csv.gz\n",
      "-rw-r--r--   3 jfoul001 users     160422 2022-03-10 06:46 router/raw/20220306T2010.csv.gz\n",
      "-rw-r--r--   3 jfoul001 users     160645 2022-03-10 06:46 router/raw/20220306T2020.csv.gz\n",
      "-rw-r--r--   3 jfoul001 users     160405 2022-03-10 06:46 router/raw/20220306T2030.csv.gz\n",
      "-rw-r--r--   3 jfoul001 users     160586 2022-03-10 06:46 router/raw/20220306T2040.csv.gz\n",
      "-rw-r--r--   3 jfoul001 users     161449 2022-03-10 06:46 router/raw/20220306T2050.csv.gz\n",
      "-rw-r--r--   3 jfoul001 users     159302 2022-03-10 06:46 router/raw/20220306T2100.csv.gz\n",
      "-rw-r--r--   3 jfoul001 users     158657 2022-03-10 06:46 router/raw/20220306T2110.csv.gz\n",
      "-rw-r--r--   3 jfoul001 users     157781 2022-03-10 06:46 router/raw/20220306T2120.csv.gz\n",
      "-rw-r--r--   3 jfoul001 users     159041 2022-03-10 06:46 router/raw/20220306T2130.csv.gz\n",
      "-rw-r--r--   3 jfoul001 users     160649 2022-03-10 06:46 router/raw/20220306T2140.csv.gz\n",
      "-rw-r--r--   3 jfoul001 users     159054 2022-03-10 06:46 router/raw/20220306T2150.csv.gz\n",
      "-rw-r--r--   3 jfoul001 users     157023 2022-03-10 06:46 router/raw/20220306T2200.csv.gz\n",
      "-rw-r--r--   3 jfoul001 users     153344 2022-03-10 06:46 router/raw/20220306T2210.csv.gz\n",
      "-rw-r--r--   3 jfoul001 users     150284 2022-03-10 06:46 router/raw/20220306T2220.csv.gz\n",
      "-rw-r--r--   3 jfoul001 users     150649 2022-03-10 06:46 router/raw/20220306T2230.csv.gz\n",
      "-rw-r--r--   3 jfoul001 users     150563 2022-03-10 06:46 router/raw/20220306T2240.csv.gz\n",
      "-rw-r--r--   3 jfoul001 users     150019 2022-03-10 06:46 router/raw/20220306T2250.csv.gz\n",
      "-rw-r--r--   3 jfoul001 users     149683 2022-03-10 06:46 router/raw/20220306T2300.csv.gz\n",
      "-rw-r--r--   3 jfoul001 users     153841 2022-03-10 06:46 router/raw/20220306T2310.csv.gz\n",
      "-rw-r--r--   3 jfoul001 users     150774 2022-03-10 06:46 router/raw/20220306T2320.csv.gz\n",
      "-rw-r--r--   3 jfoul001 users     150349 2022-03-10 06:46 router/raw/20220306T2330.csv.gz\n",
      "-rw-r--r--   3 jfoul001 users     151677 2022-03-10 06:46 router/raw/20220306T2340.csv.gz\n",
      "-rw-r--r--   3 jfoul001 users     150865 2022-03-10 06:46 router/raw/20220306T2350.csv.gz\n",
      "-rw-r--r--   3 jfoul001 users     150324 2022-03-10 06:46 router/raw/20220307T0000.csv.gz\n",
      "-rw-r--r--   3 jfoul001 users     149830 2022-03-10 06:46 router/raw/20220307T0010.csv.gz\n",
      "-rw-r--r--   3 jfoul001 users     149832 2022-03-10 06:46 router/raw/20220307T0020.csv.gz\n",
      "-rw-r--r--   3 jfoul001 users     149447 2022-03-10 06:46 router/raw/20220307T0030.csv.gz\n",
      "-rw-r--r--   3 jfoul001 users     149892 2022-03-10 06:46 router/raw/20220307T0040.csv.gz\n",
      "-rw-r--r--   3 jfoul001 users     151062 2022-03-10 06:46 router/raw/20220307T0050.csv.gz\n",
      "-rw-r--r--   3 jfoul001 users     148594 2022-03-10 06:46 router/raw/20220307T0100.csv.gz\n",
      "-rw-r--r--   3 jfoul001 users     148815 2022-03-10 06:46 router/raw/20220307T0110.csv.gz\n",
      "-rw-r--r--   3 jfoul001 users     148810 2022-03-10 06:46 router/raw/20220307T0120.csv.gz\n",
      "-rw-r--r--   3 jfoul001 users     148741 2022-03-10 06:46 router/raw/20220307T0130.csv.gz\n",
      "-rw-r--r--   3 jfoul001 users     149093 2022-03-10 06:46 router/raw/20220307T0140.csv.gz\n",
      "-rw-r--r--   3 jfoul001 users     148893 2022-03-10 06:46 router/raw/20220307T0150.csv.gz\n",
      "-rw-r--r--   3 jfoul001 users     150150 2022-03-10 06:46 router/raw/20220307T0200.csv.gz\n",
      "-rw-r--r--   3 jfoul001 users     148345 2022-03-10 06:46 router/raw/20220307T0210.csv.gz\n",
      "-rw-r--r--   3 jfoul001 users     148839 2022-03-10 06:46 router/raw/20220307T0220.csv.gz\n",
      "-rw-r--r--   3 jfoul001 users     147131 2022-03-10 06:46 router/raw/20220307T0230.csv.gz\n",
      "-rw-r--r--   3 jfoul001 users     147049 2022-03-10 06:46 router/raw/20220307T0240.csv.gz\n",
      "-rw-r--r--   3 jfoul001 users     147608 2022-03-10 06:46 router/raw/20220307T0250.csv.gz\n",
      "-rw-r--r--   3 jfoul001 users     147581 2022-03-10 06:46 router/raw/20220307T0300.csv.gz\n",
      "-rw-r--r--   3 jfoul001 users     150709 2022-03-10 06:46 router/raw/20220307T0310.csv.gz\n",
      "-rw-r--r--   3 jfoul001 users     147716 2022-03-10 06:46 router/raw/20220307T0320.csv.gz\n",
      "-rw-r--r--   3 jfoul001 users     147420 2022-03-10 06:46 router/raw/20220307T0330.csv.gz\n",
      "-rw-r--r--   3 jfoul001 users     148688 2022-03-10 06:46 router/raw/20220307T0340.csv.gz\n",
      "-rw-r--r--   3 jfoul001 users     147702 2022-03-10 06:46 router/raw/20220307T0350.csv.gz\n",
      "-rw-r--r--   3 jfoul001 users     147077 2022-03-10 06:46 router/raw/20220307T0400.csv.gz\n",
      "-rw-r--r--   3 jfoul001 users     147297 2022-03-10 06:46 router/raw/20220307T0410.csv.gz\n",
      "-rw-r--r--   3 jfoul001 users     146428 2022-03-10 06:46 router/raw/20220307T0420.csv.gz\n",
      "-rw-r--r--   3 jfoul001 users     148968 2022-03-10 06:46 router/raw/20220307T0430.csv.gz\n",
      "-rw-r--r--   3 jfoul001 users     151253 2022-03-10 06:46 router/raw/20220307T0440.csv.gz\n",
      "-rw-r--r--   3 jfoul001 users     155113 2022-03-10 06:46 router/raw/20220307T0450.csv.gz\n",
      "-rw-r--r--   3 jfoul001 users     154180 2022-03-10 06:46 router/raw/20220307T0500.csv.gz\n",
      "-rw-r--r--   3 jfoul001 users     152526 2022-03-10 06:46 router/raw/20220307T0510.csv.gz\n",
      "-rw-r--r--   3 jfoul001 users     152242 2022-03-10 06:46 router/raw/20220307T0520.csv.gz\n",
      "-rw-r--r--   3 jfoul001 users     151798 2022-03-10 06:46 router/raw/20220307T0530.csv.gz\n",
      "-rw-r--r--   3 jfoul001 users     152529 2022-03-10 06:46 router/raw/20220307T0540.csv.gz\n",
      "-rw-r--r--   3 jfoul001 users     157290 2022-03-10 06:46 router/raw/20220307T0550.csv.gz\n",
      "-rw-r--r--   3 jfoul001 users     161314 2022-03-10 06:46 router/raw/20220307T0600.csv.gz\n",
      "-rw-r--r--   3 jfoul001 users     159312 2022-03-10 06:46 router/raw/20220307T0610.csv.gz\n",
      "-rw-r--r--   3 jfoul001 users     160289 2022-03-10 06:46 router/raw/20220307T0620.csv.gz\n",
      "-rw-r--r--   3 jfoul001 users     162558 2022-03-10 06:46 router/raw/20220307T0630.csv.gz\n",
      "-rw-r--r--   3 jfoul001 users     162643 2022-03-10 06:46 router/raw/20220307T0640.csv.gz\n",
      "-rw-r--r--   3 jfoul001 users     160348 2022-03-10 06:46 router/raw/20220307T0650.csv.gz\n",
      "-rw-r--r--   3 jfoul001 users     161479 2022-03-10 06:46 router/raw/20220307T0700.csv.gz\n",
      "-rw-r--r--   3 jfoul001 users     162957 2022-03-10 06:46 router/raw/20220307T0710.csv.gz\n",
      "-rw-r--r--   3 jfoul001 users     163562 2022-03-10 06:46 router/raw/20220307T0720.csv.gz\n",
      "-rw-r--r--   3 jfoul001 users     163648 2022-03-10 06:46 router/raw/20220307T0730.csv.gz\n",
      "-rw-r--r--   3 jfoul001 users     164459 2022-03-10 06:46 router/raw/20220307T0740.csv.gz\n",
      "-rw-r--r--   3 jfoul001 users     164288 2022-03-10 06:46 router/raw/20220307T0750.csv.gz\n",
      "-rw-r--r--   3 jfoul001 users     164408 2022-03-10 06:46 router/raw/20220307T0800.csv.gz\n",
      "-rw-r--r--   3 jfoul001 users     165065 2022-03-10 06:46 router/raw/20220307T0810.csv.gz\n",
      "-rw-r--r--   3 jfoul001 users     164649 2022-03-10 06:46 router/raw/20220307T0820.csv.gz\n",
      "-rw-r--r--   3 jfoul001 users     164606 2022-03-10 06:46 router/raw/20220307T0830.csv.gz\n",
      "-rw-r--r--   3 jfoul001 users     164783 2022-03-10 06:46 router/raw/20220307T0840.csv.gz\n",
      "-rw-r--r--   3 jfoul001 users     168267 2022-03-10 06:46 router/raw/20220307T0850.csv.gz\n",
      "-rw-r--r--   3 jfoul001 users     164977 2022-03-10 06:46 router/raw/20220307T0900.csv.gz\n",
      "-rw-r--r--   3 jfoul001 users     163560 2022-03-10 06:46 router/raw/20220307T0910.csv.gz\n",
      "-rw-r--r--   3 jfoul001 users     163701 2022-03-10 06:46 router/raw/20220307T0920.csv.gz\n",
      "-rw-r--r--   3 jfoul001 users     163514 2022-03-10 06:46 router/raw/20220307T0930.csv.gz\n",
      "-rw-r--r--   3 jfoul001 users     164238 2022-03-10 06:46 router/raw/20220307T0940.csv.gz\n",
      "-rw-r--r--   3 jfoul001 users     164070 2022-03-10 06:46 router/raw/20220307T0950.csv.gz\n",
      "-rw-r--r--   3 jfoul001 users     165562 2022-03-10 06:46 router/raw/20220307T1000.csv.gz\n",
      "-rw-r--r--   3 jfoul001 users     163124 2022-03-10 06:46 router/raw/20220307T1010.csv.gz\n",
      "-rw-r--r--   3 jfoul001 users     165119 2022-03-10 06:46 router/raw/20220307T1020.csv.gz\n",
      "-rw-r--r--   3 jfoul001 users     166146 2022-03-10 06:46 router/raw/20220307T1030.csv.gz\n",
      "-rw-r--r--   3 jfoul001 users     166045 2022-03-10 06:46 router/raw/20220307T1040.csv.gz\n",
      "-rw-r--r--   3 jfoul001 users     164992 2022-03-10 06:46 router/raw/20220307T1050.csv.gz\n",
      "-rw-r--r--   3 jfoul001 users     165112 2022-03-10 06:46 router/raw/20220307T1100.csv.gz\n",
      "-rw-r--r--   3 jfoul001 users     166041 2022-03-10 06:46 router/raw/20220307T1110.csv.gz\n",
      "-rw-r--r--   3 jfoul001 users     167526 2022-03-10 06:46 router/raw/20220307T1120.csv.gz\n",
      "-rw-r--r--   3 jfoul001 users     166427 2022-03-10 06:46 router/raw/20220307T1130.csv.gz\n",
      "-rw-r--r--   3 jfoul001 users     168349 2022-03-10 06:46 router/raw/20220307T1140.csv.gz\n",
      "-rw-r--r--   3 jfoul001 users     166909 2022-03-10 06:46 router/raw/20220307T1150.csv.gz\n",
      "-rw-r--r--   3 jfoul001 users     166703 2022-03-10 06:46 router/raw/20220307T1200.csv.gz\n",
      "-rw-r--r--   3 jfoul001 users     166875 2022-03-10 06:46 router/raw/20220307T1210.csv.gz\n",
      "-rw-r--r--   3 jfoul001 users     167345 2022-03-10 06:46 router/raw/20220307T1220.csv.gz\n",
      "-rw-r--r--   3 jfoul001 users     167319 2022-03-10 06:46 router/raw/20220307T1230.csv.gz\n",
      "-rw-r--r--   3 jfoul001 users     164957 2022-03-10 06:46 router/raw/20220307T1240.csv.gz\n",
      "-rw-r--r--   3 jfoul001 users     167421 2022-03-10 06:46 router/raw/20220307T1250.csv.gz\n",
      "-rw-r--r--   3 jfoul001 users     165655 2022-03-10 06:46 router/raw/20220307T1300.csv.gz\n",
      "-rw-r--r--   3 jfoul001 users     164045 2022-03-10 06:46 router/raw/20220307T1310.csv.gz\n",
      "-rw-r--r--   3 jfoul001 users     166263 2022-03-10 06:46 router/raw/20220307T1320.csv.gz\n",
      "-rw-r--r--   3 jfoul001 users     165187 2022-03-10 06:46 router/raw/20220307T1330.csv.gz\n",
      "-rw-r--r--   3 jfoul001 users     164406 2022-03-10 06:46 router/raw/20220307T1340.csv.gz\n",
      "-rw-r--r--   3 jfoul001 users     164622 2022-03-10 06:46 router/raw/20220307T1350.csv.gz\n",
      "-rw-r--r--   3 jfoul001 users     161583 2022-03-10 06:46 router/raw/20220307T1400.csv.gz\n",
      "-rw-r--r--   3 jfoul001 users     163636 2022-03-10 06:46 router/raw/20220307T1410.csv.gz\n",
      "-rw-r--r--   3 jfoul001 users     164673 2022-03-10 06:46 router/raw/20220307T1420.csv.gz\n",
      "-rw-r--r--   3 jfoul001 users     165363 2022-03-10 06:46 router/raw/20220307T1430.csv.gz\n",
      "-rw-r--r--   3 jfoul001 users     162878 2022-03-10 06:46 router/raw/20220307T1440.csv.gz\n",
      "-rw-r--r--   3 jfoul001 users     161535 2022-03-10 06:46 router/raw/20220307T1450.csv.gz\n",
      "-rw-r--r--   3 jfoul001 users     160980 2022-03-10 06:46 router/raw/20220307T1500.csv.gz\n",
      "-rw-r--r--   3 jfoul001 users     162500 2022-03-10 06:46 router/raw/20220307T1510.csv.gz\n",
      "-rw-r--r--   3 jfoul001 users     163633 2022-03-10 06:46 router/raw/20220307T1520.csv.gz\n",
      "-rw-r--r--   3 jfoul001 users     164162 2022-03-10 06:46 router/raw/20220307T1530.csv.gz\n",
      "-rw-r--r--   3 jfoul001 users     162867 2022-03-10 06:46 router/raw/20220307T1540.csv.gz\n",
      "-rw-r--r--   3 jfoul001 users     163868 2022-03-10 06:46 router/raw/20220307T1550.csv.gz\n",
      "-rw-r--r--   3 jfoul001 users     163097 2022-03-10 06:46 router/raw/20220307T1600.csv.gz\n",
      "-rw-r--r--   3 jfoul001 users     161908 2022-03-10 06:46 router/raw/20220307T1610.csv.gz\n",
      "-rw-r--r--   3 jfoul001 users     165027 2022-03-10 06:46 router/raw/20220307T1620.csv.gz\n",
      "-rw-r--r--   3 jfoul001 users     163390 2022-03-10 06:46 router/raw/20220307T1630.csv.gz\n",
      "-rw-r--r--   3 jfoul001 users     163279 2022-03-10 06:46 router/raw/20220307T1640.csv.gz\n",
      "-rw-r--r--   3 jfoul001 users     162772 2022-03-10 06:46 router/raw/20220307T1650.csv.gz\n",
      "-rw-r--r--   3 jfoul001 users     162898 2022-03-10 06:46 router/raw/20220307T1700.csv.gz\n",
      "-rw-r--r--   3 jfoul001 users     164194 2022-03-10 06:46 router/raw/20220307T1710.csv.gz\n",
      "-rw-r--r--   3 jfoul001 users     164906 2022-03-10 06:46 router/raw/20220307T1720.csv.gz\n",
      "-rw-r--r--   3 jfoul001 users     164833 2022-03-10 06:46 router/raw/20220307T1730.csv.gz\n",
      "-rw-r--r--   3 jfoul001 users     163654 2022-03-10 06:46 router/raw/20220307T1740.csv.gz\n",
      "-rw-r--r--   3 jfoul001 users     162754 2022-03-10 06:46 router/raw/20220307T1750.csv.gz\n",
      "-rw-r--r--   3 jfoul001 users     162415 2022-03-10 06:46 router/raw/20220307T1800.csv.gz\n",
      "-rw-r--r--   3 jfoul001 users     165042 2022-03-10 06:46 router/raw/20220307T1810.csv.gz\n",
      "-rw-r--r--   3 jfoul001 users     167000 2022-03-10 06:46 router/raw/20220307T1820.csv.gz\n",
      "-rw-r--r--   3 jfoul001 users     167102 2022-03-10 06:46 router/raw/20220307T1830.csv.gz\n",
      "-rw-r--r--   3 jfoul001 users     167662 2022-03-10 06:46 router/raw/20220307T1840.csv.gz\n",
      "-rw-r--r--   3 jfoul001 users     165449 2022-03-10 06:46 router/raw/20220307T1850.csv.gz\n",
      "-rw-r--r--   3 jfoul001 users     158259 2022-03-10 06:46 router/raw/20220307T1900.csv.gz\n",
      "-rw-r--r--   3 jfoul001 users     159736 2022-03-10 06:46 router/raw/20220307T1910.csv.gz\n",
      "-rw-r--r--   3 jfoul001 users     160918 2022-03-10 06:46 router/raw/20220307T1920.csv.gz\n",
      "-rw-r--r--   3 jfoul001 users     161084 2022-03-10 06:46 router/raw/20220307T1930.csv.gz\n",
      "-rw-r--r--   3 jfoul001 users     163642 2022-03-10 06:46 router/raw/20220307T1940.csv.gz\n",
      "-rw-r--r--   3 jfoul001 users     158230 2022-03-10 06:46 router/raw/20220307T1950.csv.gz\n",
      "-rw-r--r--   3 jfoul001 users     159831 2022-03-10 06:46 router/raw/20220307T2000.csv.gz\n",
      "-rw-r--r--   3 jfoul001 users     161017 2022-03-10 06:46 router/raw/20220307T2010.csv.gz\n",
      "-rw-r--r--   3 jfoul001 users     158905 2022-03-10 06:46 router/raw/20220307T2020.csv.gz\n",
      "-rw-r--r--   3 jfoul001 users     158909 2022-03-10 06:46 router/raw/20220307T2030.csv.gz\n",
      "-rw-r--r--   3 jfoul001 users     157355 2022-03-10 06:46 router/raw/20220307T2040.csv.gz\n",
      "-rw-r--r--   3 jfoul001 users     158717 2022-03-10 06:46 router/raw/20220307T2050.csv.gz\n",
      "-rw-r--r--   3 jfoul001 users     158154 2022-03-10 06:46 router/raw/20220307T2100.csv.gz\n",
      "-rw-r--r--   3 jfoul001 users     158299 2022-03-10 06:46 router/raw/20220307T2110.csv.gz\n",
      "-rw-r--r--   3 jfoul001 users     156648 2022-03-10 06:46 router/raw/20220307T2120.csv.gz\n",
      "-rw-r--r--   3 jfoul001 users     153259 2022-03-10 06:46 router/raw/20220307T2130.csv.gz\n",
      "-rw-r--r--   3 jfoul001 users     152483 2022-03-10 06:46 router/raw/20220307T2140.csv.gz\n",
      "-rw-r--r--   3 jfoul001 users     153137 2022-03-10 06:46 router/raw/20220307T2150.csv.gz\n",
      "-rw-r--r--   3 jfoul001 users     151125 2022-03-10 06:46 router/raw/20220307T2200.csv.gz\n",
      "-rw-r--r--   3 jfoul001 users     152437 2022-03-10 06:46 router/raw/20220307T2210.csv.gz\n",
      "-rw-r--r--   3 jfoul001 users     152539 2022-03-10 06:46 router/raw/20220307T2220.csv.gz\n",
      "-rw-r--r--   3 jfoul001 users     153221 2022-03-10 06:46 router/raw/20220307T2230.csv.gz\n",
      "-rw-r--r--   3 jfoul001 users     152534 2022-03-10 06:46 router/raw/20220307T2240.csv.gz\n",
      "-rw-r--r--   3 jfoul001 users     150786 2022-03-10 06:46 router/raw/20220307T2250.csv.gz\n",
      "-rw-r--r--   3 jfoul001 users     148750 2022-03-10 06:46 router/raw/20220307T2300.csv.gz\n",
      "-rw-r--r--   3 jfoul001 users     151757 2022-03-10 06:46 router/raw/20220307T2310.csv.gz\n",
      "-rw-r--r--   3 jfoul001 users     149456 2022-03-10 06:46 router/raw/20220307T2320.csv.gz\n",
      "-rw-r--r--   3 jfoul001 users     149120 2022-03-10 06:46 router/raw/20220307T2330.csv.gz\n",
      "-rw-r--r--   3 jfoul001 users     151398 2022-03-10 06:46 router/raw/20220307T2340.csv.gz\n",
      "-rw-r--r--   3 jfoul001 users     149128 2022-03-10 06:46 router/raw/20220307T2350.csv.gz\n",
      "-rw-r--r--   3 jfoul001 users     148248 2022-03-10 06:46 router/raw/20220308T0000.csv.gz\n",
      "-rw-r--r--   3 jfoul001 users     152229 2022-03-10 06:46 router/raw/20220308T0010.csv.gz\n",
      "-rw-r--r--   3 jfoul001 users     150553 2022-03-10 06:46 router/raw/20220308T0020.csv.gz\n",
      "-rw-r--r--   3 jfoul001 users     149760 2022-03-10 06:46 router/raw/20220308T0030.csv.gz\n",
      "-rw-r--r--   3 jfoul001 users     151315 2022-03-10 06:46 router/raw/20220308T0040.csv.gz\n",
      "-rw-r--r--   3 jfoul001 users     152986 2022-03-10 06:46 router/raw/20220308T0050.csv.gz\n",
      "-rw-r--r--   3 jfoul001 users     150483 2022-03-10 06:46 router/raw/20220308T0100.csv.gz\n",
      "-rw-r--r--   3 jfoul001 users     151830 2022-03-10 06:46 router/raw/20220308T0110.csv.gz\n",
      "-rw-r--r--   3 jfoul001 users     153872 2022-03-10 06:46 router/raw/20220308T0120.csv.gz\n",
      "-rw-r--r--   3 jfoul001 users     146995 2022-03-10 06:46 router/raw/20220308T0130.csv.gz\n",
      "-rw-r--r--   3 jfoul001 users     148493 2022-03-10 06:46 router/raw/20220308T0140.csv.gz\n",
      "-rw-r--r--   3 jfoul001 users     150273 2022-03-10 06:46 router/raw/20220308T0150.csv.gz\n",
      "-rw-r--r--   3 jfoul001 users     147317 2022-03-10 06:46 router/raw/20220308T0200.csv.gz\n",
      "-rw-r--r--   3 jfoul001 users     147914 2022-03-10 06:46 router/raw/20220308T0210.csv.gz\n",
      "-rw-r--r--   3 jfoul001 users     149624 2022-03-10 06:46 router/raw/20220308T0220.csv.gz\n",
      "-rw-r--r--   3 jfoul001 users     148694 2022-03-10 06:46 router/raw/20220308T0230.csv.gz\n",
      "-rw-r--r--   3 jfoul001 users     148708 2022-03-10 06:46 router/raw/20220308T0240.csv.gz\n",
      "-rw-r--r--   3 jfoul001 users     151889 2022-03-10 06:46 router/raw/20220308T0250.csv.gz\n",
      "-rw-r--r--   3 jfoul001 users     150714 2022-03-10 06:46 router/raw/20220308T0300.csv.gz\n",
      "-rw-r--r--   3 jfoul001 users     149985 2022-03-10 06:46 router/raw/20220308T0310.csv.gz\n",
      "-rw-r--r--   3 jfoul001 users     151776 2022-03-10 06:46 router/raw/20220308T0320.csv.gz\n",
      "-rw-r--r--   3 jfoul001 users     149555 2022-03-10 06:46 router/raw/20220308T0330.csv.gz\n",
      "-rw-r--r--   3 jfoul001 users     150473 2022-03-10 06:46 router/raw/20220308T0340.csv.gz\n",
      "-rw-r--r--   3 jfoul001 users     152152 2022-03-10 06:46 router/raw/20220308T0350.csv.gz\n",
      "-rw-r--r--   3 jfoul001 users     149729 2022-03-10 06:46 router/raw/20220308T0400.csv.gz\n",
      "-rw-r--r--   3 jfoul001 users     152145 2022-03-10 06:46 router/raw/20220308T0410.csv.gz\n",
      "-rw-r--r--   3 jfoul001 users     152443 2022-03-10 06:46 router/raw/20220308T0420.csv.gz\n",
      "-rw-r--r--   3 jfoul001 users     149611 2022-03-10 06:46 router/raw/20220308T0430.csv.gz\n",
      "-rw-r--r--   3 jfoul001 users     152308 2022-03-10 06:46 router/raw/20220308T0440.csv.gz\n",
      "-rw-r--r--   3 jfoul001 users     156719 2022-03-10 06:46 router/raw/20220308T0450.csv.gz\n",
      "-rw-r--r--   3 jfoul001 users     154674 2022-03-10 06:46 router/raw/20220308T0500.csv.gz\n",
      "-rw-r--r--   3 jfoul001 users     154737 2022-03-10 06:46 router/raw/20220308T0510.csv.gz\n",
      "-rw-r--r--   3 jfoul001 users     158141 2022-03-10 06:46 router/raw/20220308T0520.csv.gz\n",
      "-rw-r--r--   3 jfoul001 users     154350 2022-03-10 06:46 router/raw/20220308T0530.csv.gz\n",
      "-rw-r--r--   3 jfoul001 users     155983 2022-03-10 06:46 router/raw/20220308T0540.csv.gz\n",
      "-rw-r--r--   3 jfoul001 users     154057 2022-03-10 06:46 router/raw/20220308T0550.csv.gz\n",
      "-rw-r--r--   3 jfoul001 users     152323 2022-03-10 06:46 router/raw/20220308T0600.csv.gz\n",
      "-rw-r--r--   3 jfoul001 users     151082 2022-03-10 06:46 router/raw/20220308T0610.csv.gz\n",
      "-rw-r--r--   3 jfoul001 users     146849 2022-03-10 06:46 router/raw/20220308T0620.csv.gz\n",
      "-rw-r--r--   3 jfoul001 users     144800 2022-03-10 06:46 router/raw/20220308T0630.csv.gz\n",
      "-rw-r--r--   3 jfoul001 users     141791 2022-03-10 06:46 router/raw/20220308T0640.csv.gz\n",
      "-rw-r--r--   3 jfoul001 users     145940 2022-03-10 06:46 router/raw/20220308T0650.csv.gz\n",
      "-rw-r--r--   3 jfoul001 users     148654 2022-03-10 06:46 router/raw/20220308T0700.csv.gz\n",
      "-rw-r--r--   3 jfoul001 users     150312 2022-03-10 06:46 router/raw/20220308T0710.csv.gz\n",
      "-rw-r--r--   3 jfoul001 users     152005 2022-03-10 06:46 router/raw/20220308T0720.csv.gz\n",
      "-rw-r--r--   3 jfoul001 users     154182 2022-03-10 06:46 router/raw/20220308T0730.csv.gz\n",
      "-rw-r--r--   3 jfoul001 users     149169 2022-03-10 06:46 router/raw/20220308T0740.csv.gz\n",
      "-rw-r--r--   3 jfoul001 users     149042 2022-03-10 06:46 router/raw/20220308T0750.csv.gz\n",
      "-rw-r--r--   3 jfoul001 users     150449 2022-03-10 06:46 router/raw/20220308T0800.csv.gz\n",
      "-rw-r--r--   3 jfoul001 users     153683 2022-03-10 06:46 router/raw/20220308T0810.csv.gz\n",
      "-rw-r--r--   3 jfoul001 users     160079 2022-03-10 06:46 router/raw/20220308T0820.csv.gz\n",
      "-rw-r--r--   3 jfoul001 users     156405 2022-03-10 06:46 router/raw/20220308T0830.csv.gz\n",
      "-rw-r--r--   3 jfoul001 users     156327 2022-03-10 06:46 router/raw/20220308T0840.csv.gz\n",
      "-rw-r--r--   3 jfoul001 users     155397 2022-03-10 06:46 router/raw/20220308T0850.csv.gz\n",
      "-rw-r--r--   3 jfoul001 users     153667 2022-03-10 06:46 router/raw/20220308T0900.csv.gz\n",
      "-rw-r--r--   3 jfoul001 users     153574 2022-03-10 06:46 router/raw/20220308T0910.csv.gz\n",
      "-rw-r--r--   3 jfoul001 users     153489 2022-03-10 06:46 router/raw/20220308T0920.csv.gz\n",
      "-rw-r--r--   3 jfoul001 users     153399 2022-03-10 06:46 router/raw/20220308T0930.csv.gz\n",
      "-rw-r--r--   3 jfoul001 users     152676 2022-03-10 06:46 router/raw/20220308T0940.csv.gz\n",
      "-rw-r--r--   3 jfoul001 users     153307 2022-03-10 06:46 router/raw/20220308T0950.csv.gz\n",
      "-rw-r--r--   3 jfoul001 users     151077 2022-03-10 06:46 router/raw/20220308T1000.csv.gz\n",
      "-rw-r--r--   3 jfoul001 users     151510 2022-03-10 06:46 router/raw/20220308T1010.csv.gz\n",
      "-rw-r--r--   3 jfoul001 users     152491 2022-03-10 06:46 router/raw/20220308T1020.csv.gz\n",
      "-rw-r--r--   3 jfoul001 users     151228 2022-03-10 06:46 router/raw/20220308T1030.csv.gz\n",
      "-rw-r--r--   3 jfoul001 users     151579 2022-03-10 06:46 router/raw/20220308T1040.csv.gz\n",
      "-rw-r--r--   3 jfoul001 users     151283 2022-03-10 06:46 router/raw/20220308T1050.csv.gz\n",
      "-rw-r--r--   3 jfoul001 users     150730 2022-03-10 06:46 router/raw/20220308T1100.csv.gz\n",
      "-rw-r--r--   3 jfoul001 users     153585 2022-03-10 06:46 router/raw/20220308T1110.csv.gz\n",
      "-rw-r--r--   3 jfoul001 users     153599 2022-03-10 06:46 router/raw/20220308T1120.csv.gz\n",
      "-rw-r--r--   3 jfoul001 users     153338 2022-03-10 06:46 router/raw/20220308T1130.csv.gz\n",
      "-rw-r--r--   3 jfoul001 users     153276 2022-03-10 06:46 router/raw/20220308T1140.csv.gz\n",
      "-rw-r--r--   3 jfoul001 users     152287 2022-03-10 06:46 router/raw/20220308T1150.csv.gz\n",
      "-rw-r--r--   3 jfoul001 users     150646 2022-03-10 06:46 router/raw/20220308T1200.csv.gz\n",
      "-rw-r--r--   3 jfoul001 users     151027 2022-03-10 06:46 router/raw/20220308T1210.csv.gz\n",
      "-rw-r--r--   3 jfoul001 users     153100 2022-03-10 06:46 router/raw/20220308T1220.csv.gz\n",
      "-rw-r--r--   3 jfoul001 users     152680 2022-03-10 06:46 router/raw/20220308T1230.csv.gz\n",
      "-rw-r--r--   3 jfoul001 users     153010 2022-03-10 06:46 router/raw/20220308T1240.csv.gz\n",
      "-rw-r--r--   3 jfoul001 users     152365 2022-03-10 06:46 router/raw/20220308T1250.csv.gz\n",
      "-rw-r--r--   3 jfoul001 users     151732 2022-03-10 06:46 router/raw/20220308T1300.csv.gz\n",
      "-rw-r--r--   3 jfoul001 users     153178 2022-03-10 06:46 router/raw/20220308T1310.csv.gz\n",
      "-rw-r--r--   3 jfoul001 users     154068 2022-03-10 06:46 router/raw/20220308T1320.csv.gz\n",
      "-rw-r--r--   3 jfoul001 users     155302 2022-03-10 06:46 router/raw/20220308T1330.csv.gz\n",
      "-rw-r--r--   3 jfoul001 users     156432 2022-03-10 06:46 router/raw/20220308T1340.csv.gz\n",
      "-rw-r--r--   3 jfoul001 users     157846 2022-03-10 06:46 router/raw/20220308T1350.csv.gz\n",
      "-rw-r--r--   3 jfoul001 users     155803 2022-03-10 06:46 router/raw/20220308T1400.csv.gz\n",
      "-rw-r--r--   3 jfoul001 users     154886 2022-03-10 06:46 router/raw/20220308T1410.csv.gz\n",
      "-rw-r--r--   3 jfoul001 users     154346 2022-03-10 06:46 router/raw/20220308T1420.csv.gz\n",
      "-rw-r--r--   3 jfoul001 users     154010 2022-03-10 06:46 router/raw/20220308T1430.csv.gz\n",
      "-rw-r--r--   3 jfoul001 users     147828 2022-03-10 06:46 router/raw/20220308T1440.csv.gz\n",
      "-rw-r--r--   3 jfoul001 users     143284 2022-03-10 06:46 router/raw/20220308T1450.csv.gz\n",
      "-rw-r--r--   3 jfoul001 users     134949 2022-03-10 06:46 router/raw/20220308T1500.csv.gz\n",
      "-rw-r--r--   3 jfoul001 users     133889 2022-03-10 06:46 router/raw/20220308T1510.csv.gz\n",
      "-rw-r--r--   3 jfoul001 users     134739 2022-03-10 06:46 router/raw/20220308T1520.csv.gz\n",
      "-rw-r--r--   3 jfoul001 users     133422 2022-03-10 06:46 router/raw/20220308T1530.csv.gz\n",
      "-rw-r--r--   3 jfoul001 users     133674 2022-03-10 06:46 router/raw/20220308T1540.csv.gz\n",
      "-rw-r--r--   3 jfoul001 users     136690 2022-03-10 06:46 router/raw/20220308T1550.csv.gz\n",
      "-rw-r--r--   3 jfoul001 users     133969 2022-03-10 06:46 router/raw/20220308T1600.csv.gz\n",
      "-rw-r--r--   3 jfoul001 users     137345 2022-03-10 06:46 router/raw/20220308T1610.csv.gz\n",
      "-rw-r--r--   3 jfoul001 users     146623 2022-03-10 06:46 router/raw/20220308T1620.csv.gz\n",
      "-rw-r--r--   3 jfoul001 users     143812 2022-03-10 06:46 router/raw/20220308T1630.csv.gz\n",
      "-rw-r--r--   3 jfoul001 users     151245 2022-03-10 06:46 router/raw/20220308T1640.csv.gz\n",
      "-rw-r--r--   3 jfoul001 users     152566 2022-03-10 06:46 router/raw/20220308T1650.csv.gz\n",
      "-rw-r--r--   3 jfoul001 users     152080 2022-03-10 06:46 router/raw/20220308T1700.csv.gz\n",
      "-rw-r--r--   3 jfoul001 users     154172 2022-03-10 06:46 router/raw/20220308T1710.csv.gz\n",
      "-rw-r--r--   3 jfoul001 users     153176 2022-03-10 06:46 router/raw/20220308T1720.csv.gz\n",
      "-rw-r--r--   3 jfoul001 users     153662 2022-03-10 06:46 router/raw/20220308T1730.csv.gz\n",
      "-rw-r--r--   3 jfoul001 users     154497 2022-03-10 06:46 router/raw/20220308T1740.csv.gz\n",
      "-rw-r--r--   3 jfoul001 users     152483 2022-03-10 06:46 router/raw/20220308T1750.csv.gz\n",
      "-rw-r--r--   3 jfoul001 users     154375 2022-03-10 06:46 router/raw/20220308T1800.csv.gz\n",
      "-rw-r--r--   3 jfoul001 users     153378 2022-03-10 06:46 router/raw/20220308T1810.csv.gz\n",
      "-rw-r--r--   3 jfoul001 users     151081 2022-03-10 06:46 router/raw/20220308T1820.csv.gz\n",
      "-rw-r--r--   3 jfoul001 users     155930 2022-03-10 06:46 router/raw/20220308T1830.csv.gz\n",
      "-rw-r--r--   3 jfoul001 users     161358 2022-03-10 06:46 router/raw/20220308T1840.csv.gz\n",
      "-rw-r--r--   3 jfoul001 users     161744 2022-03-10 06:46 router/raw/20220308T1850.csv.gz\n",
      "-rw-r--r--   3 jfoul001 users     156191 2022-03-10 06:46 router/raw/20220308T1900.csv.gz\n",
      "-rw-r--r--   3 jfoul001 users     154495 2022-03-10 06:46 router/raw/20220308T1910.csv.gz\n",
      "-rw-r--r--   3 jfoul001 users     157208 2022-03-10 06:46 router/raw/20220308T1920.csv.gz\n",
      "-rw-r--r--   3 jfoul001 users     156326 2022-03-10 06:46 router/raw/20220308T1930.csv.gz\n",
      "-rw-r--r--   3 jfoul001 users     156843 2022-03-10 06:46 router/raw/20220308T1940.csv.gz\n",
      "-rw-r--r--   3 jfoul001 users     152591 2022-03-10 06:46 router/raw/20220308T1950.csv.gz\n",
      "-rw-r--r--   3 jfoul001 users     151156 2022-03-10 06:46 router/raw/20220308T2000.csv.gz\n",
      "-rw-r--r--   3 jfoul001 users     151469 2022-03-10 06:46 router/raw/20220308T2010.csv.gz\n",
      "-rw-r--r--   3 jfoul001 users     150899 2022-03-10 06:46 router/raw/20220308T2020.csv.gz\n",
      "-rw-r--r--   3 jfoul001 users     149631 2022-03-10 06:46 router/raw/20220308T2030.csv.gz\n",
      "-rw-r--r--   3 jfoul001 users     148513 2022-03-10 06:46 router/raw/20220308T2040.csv.gz\n",
      "-rw-r--r--   3 jfoul001 users     147595 2022-03-10 06:46 router/raw/20220308T2050.csv.gz\n",
      "-rw-r--r--   3 jfoul001 users     142253 2022-03-10 06:46 router/raw/20220308T2100.csv.gz\n",
      "-rw-r--r--   3 jfoul001 users     143883 2022-03-10 06:46 router/raw/20220308T2110.csv.gz\n",
      "-rw-r--r--   3 jfoul001 users     145101 2022-03-10 06:46 router/raw/20220308T2120.csv.gz\n",
      "-rw-r--r--   3 jfoul001 users     143068 2022-03-10 06:46 router/raw/20220308T2130.csv.gz\n",
      "-rw-r--r--   3 jfoul001 users     142870 2022-03-10 06:46 router/raw/20220308T2140.csv.gz\n",
      "-rw-r--r--   3 jfoul001 users     143780 2022-03-10 06:46 router/raw/20220308T2150.csv.gz\n",
      "-rw-r--r--   3 jfoul001 users     142950 2022-03-10 06:46 router/raw/20220308T2200.csv.gz\n",
      "-rw-r--r--   3 jfoul001 users     143034 2022-03-10 06:46 router/raw/20220308T2210.csv.gz\n",
      "-rw-r--r--   3 jfoul001 users     143611 2022-03-10 06:46 router/raw/20220308T2220.csv.gz\n",
      "-rw-r--r--   3 jfoul001 users     143294 2022-03-10 06:46 router/raw/20220308T2230.csv.gz\n",
      "-rw-r--r--   3 jfoul001 users     142910 2022-03-10 06:46 router/raw/20220308T2240.csv.gz\n",
      "-rw-r--r--   3 jfoul001 users     142035 2022-03-10 06:46 router/raw/20220308T2250.csv.gz\n",
      "-rw-r--r--   3 jfoul001 users     140444 2022-03-10 06:46 router/raw/20220308T2300.csv.gz\n",
      "-rw-r--r--   3 jfoul001 users     141805 2022-03-10 06:46 router/raw/20220308T2310.csv.gz\n",
      "-rw-r--r--   3 jfoul001 users     142483 2022-03-10 06:46 router/raw/20220308T2320.csv.gz\n",
      "-rw-r--r--   3 jfoul001 users     141528 2022-03-10 06:46 router/raw/20220308T2330.csv.gz\n",
      "-rw-r--r--   3 jfoul001 users     140594 2022-03-10 06:46 router/raw/20220308T2340.csv.gz\n",
      "-rw-r--r--   3 jfoul001 users     141686 2022-03-10 06:46 router/raw/20220308T2350.csv.gz\n",
      "-rw-r--r--   3 jfoul001 users     142000 2022-03-10 06:46 router/raw/20220309T0000.csv.gz\n",
      "-rw-r--r--   3 jfoul001 users     142745 2022-03-10 06:46 router/raw/20220309T0010.csv.gz\n",
      "-rw-r--r--   3 jfoul001 users     142135 2022-03-10 06:46 router/raw/20220309T0020.csv.gz\n",
      "-rw-r--r--   3 jfoul001 users     141751 2022-03-10 06:46 router/raw/20220309T0030.csv.gz\n",
      "-rw-r--r--   3 jfoul001 users     139732 2022-03-10 06:46 router/raw/20220309T0040.csv.gz\n",
      "-rw-r--r--   3 jfoul001 users     140978 2022-03-10 06:46 router/raw/20220309T0050.csv.gz\n",
      "-rw-r--r--   3 jfoul001 users     139572 2022-03-10 06:46 router/raw/20220309T0100.csv.gz\n",
      "-rw-r--r--   3 jfoul001 users     139790 2022-03-10 06:46 router/raw/20220309T0110.csv.gz\n",
      "-rw-r--r--   3 jfoul001 users     138639 2022-03-10 06:46 router/raw/20220309T0120.csv.gz\n",
      "-rw-r--r--   3 jfoul001 users     139220 2022-03-10 06:46 router/raw/20220309T0130.csv.gz\n",
      "-rw-r--r--   3 jfoul001 users     140142 2022-03-10 06:46 router/raw/20220309T0140.csv.gz\n",
      "-rw-r--r--   3 jfoul001 users     139713 2022-03-10 06:46 router/raw/20220309T0150.csv.gz\n",
      "-rw-r--r--   3 jfoul001 users     138029 2022-03-10 06:46 router/raw/20220309T0200.csv.gz\n",
      "-rw-r--r--   3 jfoul001 users     138781 2022-03-10 06:46 router/raw/20220309T0210.csv.gz\n",
      "-rw-r--r--   3 jfoul001 users     139463 2022-03-10 06:46 router/raw/20220309T0220.csv.gz\n",
      "-rw-r--r--   3 jfoul001 users     140621 2022-03-10 06:46 router/raw/20220309T0230.csv.gz\n",
      "-rw-r--r--   3 jfoul001 users     139224 2022-03-10 06:46 router/raw/20220309T0240.csv.gz\n",
      "-rw-r--r--   3 jfoul001 users     138173 2022-03-10 06:46 router/raw/20220309T0250.csv.gz\n",
      "-rw-r--r--   3 jfoul001 users     136781 2022-03-10 06:46 router/raw/20220309T0300.csv.gz\n",
      "-rw-r--r--   3 jfoul001 users     139520 2022-03-10 06:46 router/raw/20220309T0310.csv.gz\n",
      "-rw-r--r--   3 jfoul001 users     140082 2022-03-10 06:46 router/raw/20220309T0320.csv.gz\n",
      "-rw-r--r--   3 jfoul001 users     139979 2022-03-10 06:46 router/raw/20220309T0330.csv.gz\n",
      "-rw-r--r--   3 jfoul001 users     138586 2022-03-10 06:46 router/raw/20220309T0340.csv.gz\n",
      "-rw-r--r--   3 jfoul001 users     136892 2022-03-10 06:46 router/raw/20220309T0350.csv.gz\n",
      "-rw-r--r--   3 jfoul001 users     136915 2022-03-10 06:46 router/raw/20220309T0400.csv.gz\n",
      "-rw-r--r--   3 jfoul001 users     137980 2022-03-10 06:46 router/raw/20220309T0410.csv.gz\n",
      "-rw-r--r--   3 jfoul001 users     138220 2022-03-10 06:46 router/raw/20220309T0420.csv.gz\n",
      "-rw-r--r--   3 jfoul001 users     137012 2022-03-10 06:46 router/raw/20220309T0430.csv.gz\n",
      "-rw-r--r--   3 jfoul001 users     141321 2022-03-10 06:46 router/raw/20220309T0440.csv.gz\n",
      "-rw-r--r--   3 jfoul001 users     148495 2022-03-10 06:46 router/raw/20220309T0450.csv.gz\n",
      "-rw-r--r--   3 jfoul001 users     148972 2022-03-10 06:46 router/raw/20220309T0500.csv.gz\n",
      "-rw-r--r--   3 jfoul001 users     148490 2022-03-10 06:46 router/raw/20220309T0510.csv.gz\n",
      "-rw-r--r--   3 jfoul001 users     147949 2022-03-10 06:46 router/raw/20220309T0520.csv.gz\n",
      "-rw-r--r--   3 jfoul001 users     147984 2022-03-10 06:46 router/raw/20220309T0530.csv.gz\n",
      "-rw-r--r--   3 jfoul001 users     148972 2022-03-10 06:46 router/raw/20220309T0540.csv.gz\n",
      "-rw-r--r--   3 jfoul001 users     155117 2022-03-10 06:46 router/raw/20220309T0550.csv.gz\n",
      "-rw-r--r--   3 jfoul001 users     156034 2022-03-10 06:46 router/raw/20220309T0600.csv.gz\n",
      "-rw-r--r--   3 jfoul001 users     154007 2022-03-10 06:46 router/raw/20220309T0610.csv.gz\n",
      "-rw-r--r--   3 jfoul001 users     150994 2022-03-10 06:46 router/raw/20220309T0620.csv.gz\n",
      "-rw-r--r--   3 jfoul001 users     150981 2022-03-10 06:46 router/raw/20220309T0630.csv.gz\n",
      "-rw-r--r--   3 jfoul001 users     150944 2022-03-10 06:46 router/raw/20220309T0640.csv.gz\n",
      "-rw-r--r--   3 jfoul001 users     151600 2022-03-10 06:46 router/raw/20220309T0650.csv.gz\n",
      "-rw-r--r--   3 jfoul001 users     151313 2022-03-10 06:46 router/raw/20220309T0700.csv.gz\n",
      "-rw-r--r--   3 jfoul001 users     151979 2022-03-10 06:46 router/raw/20220309T0710.csv.gz\n",
      "-rw-r--r--   3 jfoul001 users     152603 2022-03-10 06:46 router/raw/20220309T0720.csv.gz\n",
      "-rw-r--r--   3 jfoul001 users     151444 2022-03-10 06:46 router/raw/20220309T0730.csv.gz\n",
      "-rw-r--r--   3 jfoul001 users     150203 2022-03-10 06:46 router/raw/20220309T0740.csv.gz\n",
      "-rw-r--r--   3 jfoul001 users     150861 2022-03-10 06:46 router/raw/20220309T0750.csv.gz\n",
      "-rw-r--r--   3 jfoul001 users     150856 2022-03-10 06:46 router/raw/20220309T0800.csv.gz\n",
      "-rw-r--r--   3 jfoul001 users     151214 2022-03-10 06:46 router/raw/20220309T0810.csv.gz\n",
      "-rw-r--r--   3 jfoul001 users     150951 2022-03-10 06:46 router/raw/20220309T0820.csv.gz\n",
      "-rw-r--r--   3 jfoul001 users     152488 2022-03-10 06:46 router/raw/20220309T0830.csv.gz\n",
      "-rw-r--r--   3 jfoul001 users     151252 2022-03-10 06:46 router/raw/20220309T0840.csv.gz\n",
      "-rw-r--r--   3 jfoul001 users     152278 2022-03-10 06:46 router/raw/20220309T0850.csv.gz\n",
      "-rw-r--r--   3 jfoul001 users     151834 2022-03-10 06:46 router/raw/20220309T0900.csv.gz\n",
      "-rw-r--r--   3 jfoul001 users     152263 2022-03-10 06:46 router/raw/20220309T0910.csv.gz\n",
      "-rw-r--r--   3 jfoul001 users     151199 2022-03-10 06:46 router/raw/20220309T0920.csv.gz\n",
      "-rw-r--r--   3 jfoul001 users     149482 2022-03-10 06:46 router/raw/20220309T0930.csv.gz\n",
      "-rw-r--r--   3 jfoul001 users     149668 2022-03-10 06:46 router/raw/20220309T0940.csv.gz\n",
      "-rw-r--r--   3 jfoul001 users     150572 2022-03-10 06:46 router/raw/20220309T0950.csv.gz\n",
      "-rw-r--r--   3 jfoul001 users     149901 2022-03-10 06:46 router/raw/20220309T1000.csv.gz\n",
      "-rw-r--r--   3 jfoul001 users     149551 2022-03-10 06:46 router/raw/20220309T1010.csv.gz\n",
      "-rw-r--r--   3 jfoul001 users     150318 2022-03-10 06:46 router/raw/20220309T1020.csv.gz\n",
      "-rw-r--r--   3 jfoul001 users     153816 2022-03-10 06:46 router/raw/20220309T1030.csv.gz\n",
      "-rw-r--r--   3 jfoul001 users     156095 2022-03-10 06:46 router/raw/20220309T1040.csv.gz\n",
      "-rw-r--r--   3 jfoul001 users     152820 2022-03-10 06:46 router/raw/20220309T1050.csv.gz\n",
      "-rw-r--r--   3 jfoul001 users     151162 2022-03-10 06:46 router/raw/20220309T1100.csv.gz\n",
      "-rw-r--r--   3 jfoul001 users     152384 2022-03-10 06:46 router/raw/20220309T1110.csv.gz\n",
      "-rw-r--r--   3 jfoul001 users     150669 2022-03-10 06:46 router/raw/20220309T1120.csv.gz\n",
      "-rw-r--r--   3 jfoul001 users     150474 2022-03-10 06:46 router/raw/20220309T1130.csv.gz\n",
      "-rw-r--r--   3 jfoul001 users     153456 2022-03-10 06:46 router/raw/20220309T1140.csv.gz\n",
      "-rw-r--r--   3 jfoul001 users     155613 2022-03-10 06:46 router/raw/20220309T1150.csv.gz\n",
      "-rw-r--r--   3 jfoul001 users     155408 2022-03-10 06:46 router/raw/20220309T1200.csv.gz\n",
      "-rw-r--r--   3 jfoul001 users     155744 2022-03-10 06:46 router/raw/20220309T1210.csv.gz\n",
      "-rw-r--r--   3 jfoul001 users     151102 2022-03-10 06:46 router/raw/20220309T1220.csv.gz\n",
      "-rw-r--r--   3 jfoul001 users     149033 2022-03-10 06:46 router/raw/20220309T1230.csv.gz\n",
      "-rw-r--r--   3 jfoul001 users     148688 2022-03-10 06:46 router/raw/20220309T1240.csv.gz\n",
      "-rw-r--r--   3 jfoul001 users     146767 2022-03-10 06:46 router/raw/20220309T1250.csv.gz\n",
      "-rw-r--r--   3 jfoul001 users     145042 2022-03-10 06:46 router/raw/20220309T1300.csv.gz\n",
      "-rw-r--r--   3 jfoul001 users     146887 2022-03-10 06:46 router/raw/20220309T1310.csv.gz\n",
      "-rw-r--r--   3 jfoul001 users     146839 2022-03-10 06:46 router/raw/20220309T1320.csv.gz\n",
      "-rw-r--r--   3 jfoul001 users     147310 2022-03-10 06:46 router/raw/20220309T1330.csv.gz\n",
      "-rw-r--r--   3 jfoul001 users     147186 2022-03-10 06:46 router/raw/20220309T1340.csv.gz\n",
      "-rw-r--r--   3 jfoul001 users     148089 2022-03-10 06:46 router/raw/20220309T1350.csv.gz\n",
      "-rw-r--r--   3 jfoul001 users     147151 2022-03-10 06:46 router/raw/20220309T1400.csv.gz\n",
      "-rw-r--r--   3 jfoul001 users     146767 2022-03-10 06:46 router/raw/20220309T1410.csv.gz\n",
      "-rw-r--r--   3 jfoul001 users     144326 2022-03-10 06:46 router/raw/20220309T1420.csv.gz\n",
      "-rw-r--r--   3 jfoul001 users     148722 2022-03-10 06:46 router/raw/20220309T1430.csv.gz\n",
      "-rw-r--r--   3 jfoul001 users     151757 2022-03-10 06:46 router/raw/20220309T1440.csv.gz\n",
      "-rw-r--r--   3 jfoul001 users     149827 2022-03-10 06:46 router/raw/20220309T1450.csv.gz\n",
      "-rw-r--r--   3 jfoul001 users     149215 2022-03-10 06:46 router/raw/20220309T1500.csv.gz\n",
      "-rw-r--r--   3 jfoul001 users     150237 2022-03-10 06:46 router/raw/20220309T1510.csv.gz\n",
      "-rw-r--r--   3 jfoul001 users     151218 2022-03-10 06:46 router/raw/20220309T1520.csv.gz\n",
      "-rw-r--r--   3 jfoul001 users     149558 2022-03-10 06:46 router/raw/20220309T1530.csv.gz\n",
      "-rw-r--r--   3 jfoul001 users     150691 2022-03-10 06:46 router/raw/20220309T1540.csv.gz\n",
      "-rw-r--r--   3 jfoul001 users     152048 2022-03-10 06:46 router/raw/20220309T1550.csv.gz\n",
      "-rw-r--r--   3 jfoul001 users     155826 2022-03-10 06:46 router/raw/20220309T1600.csv.gz\n",
      "-rw-r--r--   3 jfoul001 users     158386 2022-03-10 06:46 router/raw/20220309T1610.csv.gz\n",
      "-rw-r--r--   3 jfoul001 users     160283 2022-03-10 06:46 router/raw/20220309T1620.csv.gz\n",
      "-rw-r--r--   3 jfoul001 users     157411 2022-03-10 06:46 router/raw/20220309T1630.csv.gz\n",
      "-rw-r--r--   3 jfoul001 users     157285 2022-03-10 06:46 router/raw/20220309T1640.csv.gz\n",
      "-rw-r--r--   3 jfoul001 users     159506 2022-03-10 06:46 router/raw/20220309T1650.csv.gz\n",
      "-rw-r--r--   3 jfoul001 users     160692 2022-03-10 06:46 router/raw/20220309T1700.csv.gz\n",
      "-rw-r--r--   3 jfoul001 users     162556 2022-03-10 06:46 router/raw/20220309T1710.csv.gz\n",
      "-rw-r--r--   3 jfoul001 users     159500 2022-03-10 06:46 router/raw/20220309T1720.csv.gz\n",
      "-rw-r--r--   3 jfoul001 users     159908 2022-03-10 06:46 router/raw/20220309T1730.csv.gz\n",
      "-rw-r--r--   3 jfoul001 users     159264 2022-03-10 06:46 router/raw/20220309T1740.csv.gz\n",
      "-rw-r--r--   3 jfoul001 users     159391 2022-03-10 06:46 router/raw/20220309T1750.csv.gz\n",
      "-rw-r--r--   3 jfoul001 users     161208 2022-03-10 06:46 router/raw/20220309T1800.csv.gz\n",
      "-rw-r--r--   3 jfoul001 users     161746 2022-03-10 06:46 router/raw/20220309T1810.csv.gz\n",
      "-rw-r--r--   3 jfoul001 users     160975 2022-03-10 06:46 router/raw/20220309T1820.csv.gz\n",
      "-rw-r--r--   3 jfoul001 users     162531 2022-03-10 06:46 router/raw/20220309T1830.csv.gz\n",
      "-rw-r--r--   3 jfoul001 users     161429 2022-03-10 06:46 router/raw/20220309T1840.csv.gz\n",
      "-rw-r--r--   3 jfoul001 users     160912 2022-03-10 06:46 router/raw/20220309T1850.csv.gz\n",
      "-rw-r--r--   3 jfoul001 users     160124 2022-03-10 06:46 router/raw/20220309T1900.csv.gz\n",
      "-rw-r--r--   3 jfoul001 users     160376 2022-03-10 06:46 router/raw/20220309T1910.csv.gz\n",
      "-rw-r--r--   3 jfoul001 users     160097 2022-03-10 06:46 router/raw/20220309T1920.csv.gz\n",
      "-rw-r--r--   3 jfoul001 users     158041 2022-03-10 06:46 router/raw/20220309T1930.csv.gz\n",
      "-rw-r--r--   3 jfoul001 users     156738 2022-03-10 06:46 router/raw/20220309T1940.csv.gz\n",
      "-rw-r--r--   3 jfoul001 users     157383 2022-03-10 06:46 router/raw/20220309T1950.csv.gz\n",
      "-rw-r--r--   3 jfoul001 users     155996 2022-03-10 06:46 router/raw/20220309T2000.csv.gz\n",
      "-rw-r--r--   3 jfoul001 users     149634 2022-03-10 06:46 router/raw/20220309T2010.csv.gz\n",
      "-rw-r--r--   3 jfoul001 users     144003 2022-03-10 06:46 router/raw/20220309T2020.csv.gz\n",
      "-rw-r--r--   3 jfoul001 users     138034 2022-03-10 06:46 router/raw/20220309T2030.csv.gz\n",
      "-rw-r--r--   3 jfoul001 users     136362 2022-03-10 06:46 router/raw/20220309T2040.csv.gz\n",
      "-rw-r--r--   3 jfoul001 users     137813 2022-03-10 06:46 router/raw/20220309T2050.csv.gz\n",
      "-rw-r--r--   3 jfoul001 users     140377 2022-03-10 06:46 router/raw/20220309T2100.csv.gz\n",
      "-rw-r--r--   3 jfoul001 users     138663 2022-03-10 06:46 router/raw/20220309T2110.csv.gz\n",
      "-rw-r--r--   3 jfoul001 users     139636 2022-03-10 06:46 router/raw/20220309T2120.csv.gz\n",
      "-rw-r--r--   3 jfoul001 users     139999 2022-03-10 06:46 router/raw/20220309T2130.csv.gz\n",
      "-rw-r--r--   3 jfoul001 users     140218 2022-03-10 06:46 router/raw/20220309T2140.csv.gz\n",
      "-rw-r--r--   3 jfoul001 users     140037 2022-03-10 06:46 router/raw/20220309T2150.csv.gz\n",
      "-rw-r--r--   3 jfoul001 users     138226 2022-03-10 06:46 router/raw/20220309T2200.csv.gz\n",
      "-rw-r--r--   3 jfoul001 users     136435 2022-03-10 06:46 router/raw/20220309T2210.csv.gz\n",
      "-rw-r--r--   3 jfoul001 users     133092 2022-03-10 06:46 router/raw/20220309T2220.csv.gz\n",
      "-rw-r--r--   3 jfoul001 users     143649 2022-03-10 06:46 router/raw/20220309T2230.csv.gz\n",
      "-rw-r--r--   3 jfoul001 users     149978 2022-03-10 06:46 router/raw/20220309T2240.csv.gz\n",
      "-rw-r--r--   3 jfoul001 users     148300 2022-03-10 06:46 router/raw/20220309T2250.csv.gz\n",
      "-rw-r--r--   3 jfoul001 users     142587 2022-03-10 06:46 router/raw/20220309T2300.csv.gz\n",
      "-rw-r--r--   3 jfoul001 users     141960 2022-03-10 06:46 router/raw/20220309T2310.csv.gz\n",
      "-rw-r--r--   3 jfoul001 users     143192 2022-03-10 06:46 router/raw/20220309T2320.csv.gz\n",
      "-rw-r--r--   3 jfoul001 users     142828 2022-03-10 06:46 router/raw/20220309T2330.csv.gz\n",
      "-rw-r--r--   3 jfoul001 users     141095 2022-03-10 06:46 router/raw/20220309T2340.csv.gz\n",
      "-rw-r--r--   3 jfoul001 users     140559 2022-03-10 06:46 router/raw/20220309T2350.csv.gz\n",
      "-rw-r--r--   3 jfoul001 users     139916 2022-03-10 06:46 router/raw/20220310T0000.csv.gz\n",
      "-rw-r--r--   3 jfoul001 users     142827 2022-03-10 06:46 router/raw/20220310T0010.csv.gz\n",
      "-rw-r--r--   3 jfoul001 users     147006 2022-03-10 06:46 router/raw/20220310T0020.csv.gz\n",
      "-rw-r--r--   3 jfoul001 users     147460 2022-03-10 06:46 router/raw/20220310T0030.csv.gz\n",
      "-rw-r--r--   3 jfoul001 users     145805 2022-03-10 06:46 router/raw/20220310T0040.csv.gz\n",
      "-rw-r--r--   3 jfoul001 users     145049 2022-03-10 06:46 router/raw/20220310T0050.csv.gz\n",
      "-rw-r--r--   3 jfoul001 users     146281 2022-03-10 06:46 router/raw/20220310T0100.csv.gz\n",
      "-rw-r--r--   3 jfoul001 users     146784 2022-03-10 06:46 router/raw/20220310T0110.csv.gz\n",
      "-rw-r--r--   3 jfoul001 users     146102 2022-03-10 06:46 router/raw/20220310T0120.csv.gz\n",
      "-rw-r--r--   3 jfoul001 users     144473 2022-03-10 06:46 router/raw/20220310T0130.csv.gz\n",
      "-rw-r--r--   3 jfoul001 users     148371 2022-03-10 06:46 router/raw/20220310T0140.csv.gz\n",
      "-rw-r--r--   3 jfoul001 users     149617 2022-03-10 06:46 router/raw/20220310T0150.csv.gz\n",
      "-rw-r--r--   3 jfoul001 users     145169 2022-03-10 06:46 router/raw/20220310T0200.csv.gz\n",
      "-rw-r--r--   3 jfoul001 users     143027 2022-03-10 06:46 router/raw/20220310T0210.csv.gz\n",
      "-rw-r--r--   3 jfoul001 users     144413 2022-03-10 06:46 router/raw/20220310T0220.csv.gz\n",
      "-rw-r--r--   3 jfoul001 users     146335 2022-03-10 06:46 router/raw/20220310T0230.csv.gz\n",
      "-rw-r--r--   3 jfoul001 users     145994 2022-03-10 06:46 router/raw/20220310T0240.csv.gz\n",
      "-rw-r--r--   3 jfoul001 users     143615 2022-03-10 06:46 router/raw/20220310T0250.csv.gz\n",
      "-rw-r--r--   3 jfoul001 users     143659 2022-03-10 06:46 router/raw/20220310T0300.csv.gz\n",
      "-rw-r--r--   3 jfoul001 users     145371 2022-03-10 06:46 router/raw/20220310T0310.csv.gz\n",
      "-rw-r--r--   3 jfoul001 users     145036 2022-03-10 06:46 router/raw/20220310T0320.csv.gz\n",
      "-rw-r--r--   3 jfoul001 users     143377 2022-03-10 06:46 router/raw/20220310T0330.csv.gz\n",
      "-rw-r--r--   3 jfoul001 users     143856 2022-03-10 06:46 router/raw/20220310T0340.csv.gz\n",
      "-rw-r--r--   3 jfoul001 users     145169 2022-03-10 06:46 router/raw/20220310T0350.csv.gz\n",
      "-rw-r--r--   3 jfoul001 users     145326 2022-03-10 06:46 router/raw/20220310T0400.csv.gz\n",
      "-rw-r--r--   3 jfoul001 users     144864 2022-03-10 06:46 router/raw/20220310T0410.csv.gz\n",
      "-rw-r--r--   3 jfoul001 users     141034 2022-03-10 06:46 router/raw/20220310T0420.csv.gz\n",
      "-rw-r--r--   3 jfoul001 users     137516 2022-03-10 06:46 router/raw/20220310T0430.csv.gz\n",
      "-rw-r--r--   3 jfoul001 users     138844 2022-03-10 06:46 router/raw/20220310T0440.csv.gz\n",
      "-rw-r--r--   3 jfoul001 users     137415 2022-03-10 06:46 router/raw/20220310T0450.csv.gz\n",
      "-rw-r--r--   3 jfoul001 users     132340 2022-03-10 06:46 router/raw/20220310T0500.csv.gz\n",
      "-rw-r--r--   3 jfoul001 users     135888 2022-03-10 06:46 router/raw/20220310T0510.csv.gz\n",
      "-rw-r--r--   3 jfoul001 users     133468 2022-03-10 06:46 router/raw/20220310T0520.csv.gz\n",
      "-rw-r--r--   3 jfoul001 users     132715 2022-03-10 06:46 router/raw/20220310T0530.csv.gz\n",
      "-rw-r--r--   3 jfoul001 users     134332 2022-03-10 06:46 router/raw/20220310T0540.csv.gz\n",
      "-rw-r--r--   3 jfoul001 users     137439 2022-03-10 06:46 router/raw/20220310T0550.csv.gz\n",
      "-rw-r--r--   3 jfoul001 users     134458 2022-03-10 06:46 router/raw/20220310T0600.csv.gz\n",
      "-rw-r--r--   3 jfoul001 users     139948 2022-03-10 06:46 router/raw/20220310T0610.csv.gz\n",
      "-rw-r--r--   3 jfoul001 users     140598 2022-03-10 06:46 router/raw/20220310T0620.csv.gz\n",
      "-rw-r--r--   3 jfoul001 users     148960 2022-03-10 06:46 router/raw/20220310T0630.csv.gz\n"
     ]
    }
   ],
   "source": [
    "%%bash\n",
    "#!/bin/bash\n",
    "\n",
    "# delete the \n",
    "if hadoop fs -test -d router; then\n",
    "    # delete the output directory\n",
    "    hadoop fs -rm -r router/output\n",
    "\n",
    "    # create a new output directory\n",
    "    hadoop fs -mkdir router/output\n",
    "else\n",
    "    # create the router directory and upload the input files\n",
    "    hadoop fs -mkdir router\n",
    "    hadoop fs -mkdir router/sample\n",
    "    hadoop fs -put data/bandwidth.csv router/sample/\n",
    "\n",
    "    hadoop fs -put data/raw router/raw\n",
    "\n",
    "    # create the output directory\n",
    "    hadoop fs -mkdir router/output\n",
    "fi\n",
    "\n",
    "hadoop fs -ls router/raw"
   ]
  },
  {
   "cell_type": "markdown",
   "metadata": {},
   "source": [
    "## Initialize the Spark Session"
   ]
  },
  {
   "cell_type": "code",
   "execution_count": 3,
   "metadata": {},
   "outputs": [
    {
     "name": "stderr",
     "output_type": "stream",
     "text": [
      "WARNING: An illegal reflective access operation has occurred\n",
      "WARNING: Illegal reflective access by org.apache.spark.unsafe.Platform (file:/opt/spark/spark-3.0.1-bin-hadoop3.2/jars/spark-unsafe_2.12-3.0.1.jar) to constructor java.nio.DirectByteBuffer(long,int)\n",
      "WARNING: Please consider reporting this to the maintainers of org.apache.spark.unsafe.Platform\n",
      "WARNING: Use --illegal-access=warn to enable warnings of further illegal reflective access operations\n",
      "WARNING: All illegal access operations will be denied in a future release\n",
      "Setting default log level to \"ERROR\".\n",
      "To adjust logging level use sc.setLogLevel(newLevel). For SparkR, use setLogLevel(newLevel).\n"
     ]
    },
    {
     "data": {
      "text/html": [
       "\n",
       "            <div>\n",
       "                <p><b>SparkSession - in-memory</b></p>\n",
       "                \n",
       "        <div>\n",
       "            <p><b>SparkContext</b></p>\n",
       "\n",
       "            <p><a href=\"http://lena-master:4040\">Spark UI</a></p>\n",
       "\n",
       "            <dl>\n",
       "              <dt>Version</dt>\n",
       "                <dd><code>v3.0.1</code></dd>\n",
       "              <dt>Master</dt>\n",
       "                <dd><code>yarn</code></dd>\n",
       "              <dt>AppName</dt>\n",
       "                <dd><code>cw02</code></dd>\n",
       "            </dl>\n",
       "        </div>\n",
       "        \n",
       "            </div>\n",
       "        "
      ],
      "text/plain": [
       "<pyspark.sql.session.SparkSession at 0x7f89f5471e80>"
      ]
     },
     "execution_count": 3,
     "metadata": {},
     "output_type": "execute_result"
    }
   ],
   "source": [
    "spark = SparkSession.builder.appName('cw02').getOrCreate()\n",
    "spark"
   ]
  },
  {
   "cell_type": "markdown",
   "metadata": {},
   "source": [
    "## I. Data Understanding\n",
    "\n",
    "Identify, collect, and analyze the data sets that will help accomplish the project goals"
   ]
  },
  {
   "cell_type": "markdown",
   "metadata": {},
   "source": [
    "### A. Collect Initial Data"
   ]
  },
  {
   "cell_type": "code",
   "execution_count": 4,
   "metadata": {},
   "outputs": [
    {
     "name": "stderr",
     "output_type": "stream",
     "text": [
      "                                                                                \r"
     ]
    }
   ],
   "source": [
    "#input_path = 'router/sample/bandwidth.csv'\n",
    "input_path = 'router/raw/'\n",
    "\n",
    "# read the full batch to process\n",
    "df_batch = spark.read.csv(input_path, header=False, inferSchema=True) \\\n",
    "    .toDF('direction','interval_length','intervals_saved','ip','interval_start','interval_end','bytes_used')"
   ]
  },
  {
   "cell_type": "code",
   "execution_count": 5,
   "metadata": {},
   "outputs": [
    {
     "name": "stderr",
     "output_type": "stream",
     "text": [
      "[Stage 3:======================================================>  (24 + 1) / 25]\r"
     ]
    },
    {
     "name": "stdout",
     "output_type": "stream",
     "text": [
      "Row Count: 15,860,678\n"
     ]
    },
    {
     "name": "stderr",
     "output_type": "stream",
     "text": [
      "                                                                                \r"
     ]
    }
   ],
   "source": [
    "# drop the intervals saved column\n",
    "df_batch = df_batch.drop('intervals_saved')\n",
    "print(f'Row Count: {df_batch.count():,}')"
   ]
  },
  {
   "cell_type": "markdown",
   "metadata": {},
   "source": [
    "Remove records related to a specific upload or download class. This is done because this information is not relevant to the project, and have an additional column that will complicate data processing."
   ]
  },
  {
   "cell_type": "code",
   "execution_count": 6,
   "metadata": {},
   "outputs": [
    {
     "name": "stderr",
     "output_type": "stream",
     "text": [
      "[Stage 5:======================================================>  (24 + 1) / 25]\r"
     ]
    },
    {
     "name": "stdout",
     "output_type": "stream",
     "text": [
      "Row Count: 12,968,172\n"
     ]
    },
    {
     "name": "stderr",
     "output_type": "stream",
     "text": [
      "                                                                                \r"
     ]
    }
   ],
   "source": [
    "df_batch_preproc = df_batch.where(df_batch['interval_length'].contains('class_') == False)\n",
    "print(f'Row Count: {df_batch_preproc.count():,}')"
   ]
  },
  {
   "cell_type": "markdown",
   "metadata": {},
   "source": [
    "### B. Describe data\n",
    "\n",
    "Examine the data and document its surface properties like data format, number of records, or field identities."
   ]
  },
  {
   "cell_type": "markdown",
   "metadata": {},
   "source": [
    "#### 1. Data Format"
   ]
  },
  {
   "cell_type": "code",
   "execution_count": 7,
   "metadata": {},
   "outputs": [
    {
     "name": "stdout",
     "output_type": "stream",
     "text": [
      "root\n",
      " |-- direction: string (nullable = true)\n",
      " |-- interval_length: string (nullable = true)\n",
      " |-- ip: string (nullable = true)\n",
      " |-- interval_start: string (nullable = true)\n",
      " |-- interval_end: integer (nullable = true)\n",
      " |-- bytes_used: long (nullable = true)\n",
      "\n"
     ]
    }
   ],
   "source": [
    "df_batch_preproc.printSchema()"
   ]
  },
  {
   "cell_type": "code",
   "execution_count": 8,
   "metadata": {},
   "outputs": [
    {
     "name": "stderr",
     "output_type": "stream",
     "text": [
      "[Stage 7:======================================================>  (24 + 1) / 25]\r"
     ]
    },
    {
     "name": "stdout",
     "output_type": "stream",
     "text": [
      "Row Count: 12,968,172\n"
     ]
    },
    {
     "name": "stderr",
     "output_type": "stream",
     "text": [
      "                                                                                \r"
     ]
    }
   ],
   "source": [
    "print(f'Row Count: {df_batch_preproc.count():,}')"
   ]
  },
  {
   "cell_type": "markdown",
   "metadata": {},
   "source": [
    "#### 2. Remove Duplicates\n",
    "\n",
    "Many duplicate records are present in the raw data since the data snapshots overlaps."
   ]
  },
  {
   "cell_type": "code",
   "execution_count": 9,
   "metadata": {},
   "outputs": [
    {
     "name": "stderr",
     "output_type": "stream",
     "text": [
      "[Stage 10:================================================>     (180 + 2) / 200]\r"
     ]
    },
    {
     "name": "stdout",
     "output_type": "stream",
     "text": [
      "Row Count: 2,386,532\n"
     ]
    },
    {
     "name": "stderr",
     "output_type": "stream",
     "text": [
      "                                                                                \r"
     ]
    }
   ],
   "source": [
    "# drop duplicates\n",
    "df_unique = df_batch_preproc.drop_duplicates()\n",
    "print(f'Row Count: {df_unique.count():,}')"
   ]
  },
  {
   "cell_type": "markdown",
   "metadata": {},
   "source": [
    "There are duplicates where only the `Bytes Used` field is different due to when the data snapshot was taken."
   ]
  },
  {
   "cell_type": "code",
   "execution_count": 10,
   "metadata": {},
   "outputs": [
    {
     "name": "stderr",
     "output_type": "stream",
     "text": [
      "[Stage 14:===============================================>      (175 + 2) / 200]\r"
     ]
    },
    {
     "name": "stdout",
     "output_type": "stream",
     "text": [
      "Row Count: 2,296,176\n"
     ]
    },
    {
     "name": "stderr",
     "output_type": "stream",
     "text": [
      "                                                                                \r"
     ]
    }
   ],
   "source": [
    "df_unique = df_unique.groupBy(['direction','interval_length','ip','interval_start','interval_end']) \\\n",
    "    .max('bytes_used') \\\n",
    "    .withColumnRenamed('max(bytes_used)', 'bytes_used')\n",
    "\n",
    "print(f'Row Count: {df_unique.count():,}')"
   ]
  },
  {
   "cell_type": "code",
   "execution_count": 11,
   "metadata": {},
   "outputs": [
    {
     "name": "stderr",
     "output_type": "stream",
     "text": [
      "[Stage 17:==================================================>   (188 + 2) / 200]\r"
     ]
    },
    {
     "name": "stdout",
     "output_type": "stream",
     "text": [
      "+---------+---------------+-------------+--------------+------------+----------+\n",
      "|direction|interval_length|           ip|interval_start|interval_end|bytes_used|\n",
      "+---------+---------------+-------------+--------------+------------+----------+\n",
      "|   upload|              2|192.168.1.108|    1646652812|  1646652814|         0|\n",
      "|   upload|              2| 192.168.1.11|    1646642370|  1646642372|      4280|\n",
      "| download|         minute|192.168.3.224|    1646676600|  1646676660|         0|\n",
      "|   upload|              2| 192.168.1.11|    1646653978|  1646653980|         0|\n",
      "| download|              2|192.168.1.108|    1646647972|  1646647974|         0|\n",
      "+---------+---------------+-------------+--------------+------------+----------+\n",
      "only showing top 5 rows\n",
      "\n"
     ]
    },
    {
     "name": "stderr",
     "output_type": "stream",
     "text": [
      "                                                                                \r"
     ]
    }
   ],
   "source": [
    "df_unique.show(5)"
   ]
  },
  {
   "cell_type": "markdown",
   "metadata": {},
   "source": [
    "### C. Explore data\n",
    "\n",
    "Dig deeper into the data. Query it, visualize it, and identify relationships among the data."
   ]
  },
  {
   "cell_type": "markdown",
   "metadata": {},
   "source": [
    "#### 1. Unique Categories"
   ]
  },
  {
   "cell_type": "code",
   "execution_count": 12,
   "metadata": {},
   "outputs": [
    {
     "name": "stderr",
     "output_type": "stream",
     "text": [
      "                                                                                \r"
     ]
    },
    {
     "name": "stdout",
     "output_type": "stream",
     "text": [
      "+-------------+-------+\n",
      "|interval_type|  count|\n",
      "+-------------+-------+\n",
      "|           IP|1801786|\n",
      "|     COMBINED| 494390|\n",
      "+-------------+-------+\n",
      "\n"
     ]
    }
   ],
   "source": [
    "# if an IP address is stored in the IP column recode it as simply 'IP'\n",
    "df_interval_type = df_unique.withColumn('interval_type', \n",
    "    when(df_unique['ip']\n",
    "    .rlike('^((25[0-5]|2[0-4][0-9]|[01]?[0-9][0-9]?)\\.){3}(25[0-5]|2[0-4][0-9]|[01]?[0-9][0-9]?)$'), 'IP')\n",
    "    .otherwise(df_unique['ip'])\n",
    ")\n",
    "\n",
    "df_interval_type.groupBy(['interval_type']).count().show()"
   ]
  },
  {
   "cell_type": "code",
   "execution_count": 13,
   "metadata": {},
   "outputs": [
    {
     "name": "stderr",
     "output_type": "stream",
     "text": [
      "[Stage 46:==========================================>           (158 + 2) / 200]\r"
     ]
    },
    {
     "name": "stdout",
     "output_type": "stream",
     "text": [
      "+---------------+-------------+-------+\n",
      "|interval_length|interval_type|  count|\n",
      "+---------------+-------------+-------+\n",
      "|            180|     COMBINED|   8072|\n",
      "|              2|     COMBINED| 464266|\n",
      "|              2|           IP|1442975|\n",
      "|           7200|     COMBINED|    976|\n",
      "|            900|     COMBINED|   2106|\n",
      "|            900|           IP|  48166|\n",
      "|            day|     COMBINED|    752|\n",
      "|            day|           IP|   4452|\n",
      "|           hour|     COMBINED|    538|\n",
      "|           hour|           IP|  15046|\n",
      "|         minute|     COMBINED|  17658|\n",
      "|         minute|           IP| 288262|\n",
      "|          month|     COMBINED|     22|\n",
      "|          month|           IP|   2885|\n",
      "+---------------+-------------+-------+\n",
      "\n"
     ]
    },
    {
     "name": "stderr",
     "output_type": "stream",
     "text": [
      "                                                                                \r"
     ]
    }
   ],
   "source": [
    "# record count per catergory\n",
    "df_interval_type.groupBy(['interval_length', 'interval_type']) \\\n",
    "    .count() \\\n",
    "    .orderBy(['interval_length', 'interval_type',], ascending=True) \\\n",
    "    .show(df_interval_type.count())"
   ]
  },
  {
   "cell_type": "markdown",
   "metadata": {},
   "source": [
    "#### 2. How many intervals are available for the various categories?\n",
    "\n",
    "This number should be less as for every interval there could be multiple IP addresses (where `interval_type == 'IP'`)."
   ]
  },
  {
   "cell_type": "code",
   "execution_count": 14,
   "metadata": {},
   "outputs": [
    {
     "name": "stderr",
     "output_type": "stream",
     "text": [
      "[Stage 55:===========================================>          (161 + 2) / 200]\r"
     ]
    },
    {
     "name": "stdout",
     "output_type": "stream",
     "text": [
      "+---------------+-------------+------+\n",
      "|interval_length|interval_type| count|\n",
      "+---------------+-------------+------+\n",
      "|            180|     COMBINED|  8072|\n",
      "|              2|     COMBINED|464266|\n",
      "|              2|           IP|464465|\n",
      "|           7200|     COMBINED|   976|\n",
      "|            900|     COMBINED|  2106|\n",
      "|            900|           IP|  2106|\n",
      "|            day|     COMBINED|   752|\n",
      "|            day|           IP|    84|\n",
      "|           hour|     COMBINED|   538|\n",
      "|           hour|           IP|   538|\n",
      "|         minute|     COMBINED| 17658|\n",
      "|         minute|           IP| 16960|\n",
      "|          month|     COMBINED|    22|\n",
      "|          month|           IP|    28|\n",
      "+---------------+-------------+------+\n",
      "\n"
     ]
    },
    {
     "name": "stderr",
     "output_type": "stream",
     "text": [
      "                                                                                \r"
     ]
    }
   ],
   "source": [
    "df_interval_type.drop_duplicates(['direction', 'interval_length', 'interval_type', 'interval_start', 'interval_end']) \\\n",
    "    .groupBy(['interval_length', 'interval_type']) \\\n",
    "    .count() \\\n",
    "    .orderBy(['interval_length', 'interval_type',], ascending=True) \\\n",
    "    .show(df_interval_type.count())"
   ]
  },
  {
   "cell_type": "markdown",
   "metadata": {},
   "source": [
    "#### 3. Minute Plot\n",
    "\n",
    "Group the minute data by interval and show a line plot of the first twho hours for a visual overview of the data."
   ]
  },
  {
   "cell_type": "code",
   "execution_count": 15,
   "metadata": {},
   "outputs": [
    {
     "name": "stderr",
     "output_type": "stream",
     "text": [
      "                                                                                \r"
     ]
    },
    {
     "data": {
      "text/html": [
       "<div>\n",
       "<style scoped>\n",
       "    .dataframe tbody tr th:only-of-type {\n",
       "        vertical-align: middle;\n",
       "    }\n",
       "\n",
       "    .dataframe tbody tr th {\n",
       "        vertical-align: top;\n",
       "    }\n",
       "\n",
       "    .dataframe thead th {\n",
       "        text-align: right;\n",
       "    }\n",
       "</style>\n",
       "<table border=\"1\" class=\"dataframe\">\n",
       "  <thead>\n",
       "    <tr style=\"text-align: right;\">\n",
       "      <th></th>\n",
       "      <th>bytes_used</th>\n",
       "    </tr>\n",
       "  </thead>\n",
       "  <tbody>\n",
       "    <tr>\n",
       "      <th>count</th>\n",
       "      <td>1.200000e+02</td>\n",
       "    </tr>\n",
       "    <tr>\n",
       "      <th>mean</th>\n",
       "      <td>2.216871e+07</td>\n",
       "    </tr>\n",
       "    <tr>\n",
       "      <th>std</th>\n",
       "      <td>3.043667e+07</td>\n",
       "    </tr>\n",
       "    <tr>\n",
       "      <th>min</th>\n",
       "      <td>4.337154e+06</td>\n",
       "    </tr>\n",
       "    <tr>\n",
       "      <th>25%</th>\n",
       "      <td>7.530486e+06</td>\n",
       "    </tr>\n",
       "    <tr>\n",
       "      <th>50%</th>\n",
       "      <td>9.770354e+06</td>\n",
       "    </tr>\n",
       "    <tr>\n",
       "      <th>75%</th>\n",
       "      <td>1.722035e+07</td>\n",
       "    </tr>\n",
       "    <tr>\n",
       "      <th>max</th>\n",
       "      <td>1.445253e+08</td>\n",
       "    </tr>\n",
       "  </tbody>\n",
       "</table>\n",
       "</div>"
      ],
      "text/plain": [
       "         bytes_used\n",
       "count  1.200000e+02\n",
       "mean   2.216871e+07\n",
       "std    3.043667e+07\n",
       "min    4.337154e+06\n",
       "25%    7.530486e+06\n",
       "50%    9.770354e+06\n",
       "75%    1.722035e+07\n",
       "max    1.445253e+08"
      ]
     },
     "execution_count": 15,
     "metadata": {},
     "output_type": "execute_result"
    }
   ],
   "source": [
    "# get the summarized data\n",
    "df_interval_bandwidth = df_interval_type \\\n",
    "    .where((df_interval_type['interval_length'] == 'minute') & \n",
    "           (df_interval_type['interval_type'] == 'IP')) \\\n",
    "    .groupBy(['interval_start']) \\\n",
    "    .sum('bytes_used') \\\n",
    "    .orderBy(['interval_start'], ascending=True) \\\n",
    "    .withColumnRenamed('sum(bytes_used)', 'bytes_used') \\\n",
    "    .limit(2 * 60) \\\n",
    "    .toPandas()\n",
    "\n",
    "df_interval_bandwidth.describe()"
   ]
  },
  {
   "cell_type": "code",
   "execution_count": 16,
   "metadata": {},
   "outputs": [
    {
     "data": {
      "image/png": "[encoded data removed]",
      "text/plain": [
       "<Figure size 1080x396 with 1 Axes>"
      ]
     },
     "metadata": {
      "needs_background": "light"
     },
     "output_type": "display_data"
    }
   ],
   "source": [
    "# plot the data\n",
    "fig_dims = (15, 5.5)\n",
    "fig, ax = plt.subplots(figsize=fig_dims)\n",
    "\n",
    "sns.lineplot(\n",
    "    data=df_interval_bandwidth,\n",
    "    x='interval_start',\n",
    "    y='bytes_used',\n",
    "    ax=ax\n",
    ").set(\n",
    "    title='Bandwidth Usage: First Two Hours',\n",
    "    ylabel='Bytes Used',\n",
    "    xlabel='Time',\n",
    "    xticklabels=[])\n",
    "\n",
    "plt.show()"
   ]
  },
  {
   "cell_type": "markdown",
   "metadata": {},
   "source": [
    "#### 4. Number of IP addresses in the last two hours\n",
    "\n",
    "Notes:\n",
    "\n",
    "- To count the number of local IP addresses use the `startswith` filter of `192.`\n",
    "- The dataset contains incomplete intervals where `Interval End == 0` to indicate that the interval was not yet complete when the snapshot was taken."
   ]
  },
  {
   "cell_type": "code",
   "execution_count": 17,
   "metadata": {},
   "outputs": [
    {
     "name": "stderr",
     "output_type": "stream",
     "text": [
      "                                                                                \r"
     ]
    },
    {
     "data": {
      "text/html": [
       "<div>\n",
       "<style scoped>\n",
       "    .dataframe tbody tr th:only-of-type {\n",
       "        vertical-align: middle;\n",
       "    }\n",
       "\n",
       "    .dataframe tbody tr th {\n",
       "        vertical-align: top;\n",
       "    }\n",
       "\n",
       "    .dataframe thead th {\n",
       "        text-align: right;\n",
       "    }\n",
       "</style>\n",
       "<table border=\"1\" class=\"dataframe\">\n",
       "  <thead>\n",
       "    <tr style=\"text-align: right;\">\n",
       "      <th></th>\n",
       "      <th>count</th>\n",
       "    </tr>\n",
       "  </thead>\n",
       "  <tbody>\n",
       "    <tr>\n",
       "      <th>count</th>\n",
       "      <td>120.000000</td>\n",
       "    </tr>\n",
       "    <tr>\n",
       "      <th>mean</th>\n",
       "      <td>5.133333</td>\n",
       "    </tr>\n",
       "    <tr>\n",
       "      <th>std</th>\n",
       "      <td>2.637587</td>\n",
       "    </tr>\n",
       "    <tr>\n",
       "      <th>min</th>\n",
       "      <td>3.000000</td>\n",
       "    </tr>\n",
       "    <tr>\n",
       "      <th>25%</th>\n",
       "      <td>4.000000</td>\n",
       "    </tr>\n",
       "    <tr>\n",
       "      <th>50%</th>\n",
       "      <td>5.000000</td>\n",
       "    </tr>\n",
       "    <tr>\n",
       "      <th>75%</th>\n",
       "      <td>5.000000</td>\n",
       "    </tr>\n",
       "    <tr>\n",
       "      <th>max</th>\n",
       "      <td>16.000000</td>\n",
       "    </tr>\n",
       "  </tbody>\n",
       "</table>\n",
       "</div>"
      ],
      "text/plain": [
       "            count\n",
       "count  120.000000\n",
       "mean     5.133333\n",
       "std      2.637587\n",
       "min      3.000000\n",
       "25%      4.000000\n",
       "50%      5.000000\n",
       "75%      5.000000\n",
       "max     16.000000"
      ]
     },
     "execution_count": 17,
     "metadata": {},
     "output_type": "execute_result"
    }
   ],
   "source": [
    "# the filter on IP is to select only local IP addresses\n",
    "df_interval_clients = spark.createDataFrame(df_interval_type \\\n",
    "    .where((df_interval_type['interval_length'] == 'minute') & \n",
    "           (df_interval_type['interval_type'] == 'IP') &\n",
    "           (df_interval_type['ip'].startswith('192.')) &\n",
    "           (df_interval_type['interval_end'] > 0)) \\\n",
    "    .drop_duplicates(['ip', 'interval_start', 'interval_end']) \\\n",
    "    .groupBy(['interval_start']) \\\n",
    "    .count() \\\n",
    "    .orderBy(['interval_start'], ascending=True) \\\n",
    "    .tail(2 * 60)) \\\n",
    "    .toPandas()\n",
    "\n",
    "df_interval_clients.describe()"
   ]
  },
  {
   "cell_type": "code",
   "execution_count": 18,
   "metadata": {},
   "outputs": [
    {
     "data": {
      "image/png": "[encoded data removed]",
      "text/plain": [
       "<Figure size 1080x396 with 1 Axes>"
      ]
     },
     "metadata": {
      "needs_background": "light"
     },
     "output_type": "display_data"
    }
   ],
   "source": [
    "# plot the data\n",
    "fig_dims = (15, 5.5)\n",
    "fig, ax = plt.subplots(figsize=fig_dims)\n",
    "\n",
    "sns.lineplot(\n",
    "    data=df_interval_clients,\n",
    "    x='interval_start',\n",
    "    y='count',\n",
    "    ax=ax\n",
    ").set(\n",
    "    title='Number of IP Addresses: Last Two Hours',\n",
    "    xlabel='Time',\n",
    "    xticklabels=[])\n",
    "\n",
    "plt.show()"
   ]
  },
  {
   "cell_type": "markdown",
   "metadata": {},
   "source": [
    "### D. Verify data quality"
   ]
  },
  {
   "cell_type": "markdown",
   "metadata": {},
   "source": [
    "#### 1. Select only data by minute with an IP address"
   ]
  },
  {
   "cell_type": "code",
   "execution_count": 19,
   "metadata": {},
   "outputs": [
    {
     "name": "stderr",
     "output_type": "stream",
     "text": [
      "[Stage 80:==============================================>       (173 + 2) / 200]\r"
     ]
    },
    {
     "name": "stdout",
     "output_type": "stream",
     "text": [
      "Row Count: 261,741\n"
     ]
    },
    {
     "name": "stderr",
     "output_type": "stream",
     "text": [
      "                                                                                \r"
     ]
    }
   ],
   "source": [
    "df_minute = df_interval_type \\\n",
    "    .where((df_interval_type['interval_length'] == 'minute') & \n",
    "           (df_interval_type['interval_type'] == 'IP') &\n",
    "           ((df_interval_type['interval_end'] > 0))) \n",
    "\n",
    "print(f'Row Count: {df_minute.count():,}')"
   ]
  },
  {
   "cell_type": "code",
   "execution_count": 20,
   "metadata": {},
   "outputs": [
    {
     "name": "stderr",
     "output_type": "stream",
     "text": [
      "                                                                                \r"
     ]
    }
   ],
   "source": [
    "# verify that no null values are present in the dataset\n",
    "assert df_minute.count() == df_minute.dropna().count()"
   ]
  },
  {
   "cell_type": "code",
   "execution_count": 21,
   "metadata": {},
   "outputs": [
    {
     "name": "stderr",
     "output_type": "stream",
     "text": [
      "                                                                                \r"
     ]
    }
   ],
   "source": [
    "# save the dataset to HDFS\n",
    "df_minute.write.parquet('router/output/minute', mode='overwrite', compression='gzip')"
   ]
  },
  {
   "cell_type": "markdown",
   "metadata": {},
   "source": [
    "#### 2. Find data gaps"
   ]
  },
  {
   "cell_type": "code",
   "execution_count": 22,
   "metadata": {},
   "outputs": [
    {
     "name": "stderr",
     "output_type": "stream",
     "text": [
      "[Stage 96:=======================================>              (147 + 2) / 200]\r"
     ]
    },
    {
     "name": "stdout",
     "output_type": "stream",
     "text": [
      "+--------------+-------------------+----+\n",
      "|interval_start|prev_interval_start|diff|\n",
      "+--------------+-------------------+----+\n",
      "|    1646430900|               null| 0.0|\n",
      "|    1646430960|         1646430900|60.0|\n",
      "|    1646431020|         1646430960|60.0|\n",
      "|    1646431080|         1646431020|60.0|\n",
      "|    1646431140|         1646431080|60.0|\n",
      "|    1646431200|         1646431140|60.0|\n",
      "|    1646431260|         1646431200|60.0|\n",
      "|    1646431320|         1646431260|60.0|\n",
      "|    1646431380|         1646431320|60.0|\n",
      "|    1646431440|         1646431380|60.0|\n",
      "+--------------+-------------------+----+\n",
      "only showing top 10 rows\n",
      "\n"
     ]
    },
    {
     "name": "stderr",
     "output_type": "stream",
     "text": [
      "                                                                                \r"
     ]
    }
   ],
   "source": [
    "# get the unique intervals\n",
    "df_unique_intervals = df_minute \\\n",
    "    .drop_duplicates(['interval_start', 'interval_end']) \\\n",
    "    .drop('direction') \\\n",
    "    .drop('interval_length') \\\n",
    "    .drop('interval_end') \\\n",
    "    .drop('ip') \\\n",
    "    .drop('bytes_used') \\\n",
    "    .drop('interval_type')\n",
    "\n",
    "interval_window = Window.partitionBy().orderBy('interval_start')\n",
    "\n",
    "# add the previous interval start value\n",
    "df_prev = df_unique_intervals \\\n",
    "    .withColumn('prev_interval_start', lag('interval_start', 1).over(interval_window))\n",
    "\n",
    "# calculate the difference\n",
    "df_prev = df_prev \\\n",
    "    .withColumn('diff', when(isnull(df_prev.prev_interval_start), 0) \\\n",
    "                       .otherwise(df_prev['interval_start'] - df_prev['prev_interval_start']))\n",
    "\n",
    "\n",
    "df_prev.show(10)\n"
   ]
  },
  {
   "cell_type": "code",
   "execution_count": 23,
   "metadata": {},
   "outputs": [
    {
     "name": "stderr",
     "output_type": "stream",
     "text": [
      "[Stage 101:================================================>    (182 + 2) / 200]\r"
     ]
    },
    {
     "name": "stdout",
     "output_type": "stream",
     "text": [
      "+-------+------------------+\n",
      "|summary|              diff|\n",
      "+-------+------------------+\n",
      "|  count|              7710|\n",
      "|   mean| 60.03112840466926|\n",
      "| stddev|3.4843483623995377|\n",
      "|    min|               0.0|\n",
      "|    25%|              60.0|\n",
      "|    50%|              60.0|\n",
      "|    75%|             360.0|\n",
      "|    max|             360.0|\n",
      "+-------+------------------+\n",
      "\n"
     ]
    },
    {
     "name": "stderr",
     "output_type": "stream",
     "text": [
      "                                                                                \r"
     ]
    }
   ],
   "source": [
    "df_prev.select('diff').summary().show()"
   ]
  },
  {
   "cell_type": "code",
   "execution_count": 24,
   "metadata": {},
   "outputs": [
    {
     "name": "stderr",
     "output_type": "stream",
     "text": [
      "[Stage 105:=================================================>   (187 + 2) / 200]\r"
     ]
    },
    {
     "name": "stdout",
     "output_type": "stream",
     "text": [
      "+--------------+-------------------+-----+\n",
      "|interval_start|prev_interval_start| diff|\n",
      "+--------------+-------------------+-----+\n",
      "|    1646574900|         1646574540|360.0|\n",
      "+--------------+-------------------+-----+\n",
      "\n"
     ]
    },
    {
     "name": "stderr",
     "output_type": "stream",
     "text": [
      "                                                                                \r"
     ]
    }
   ],
   "source": [
    "df_prev.where('diff > 60').show()"
   ]
  },
  {
   "cell_type": "markdown",
   "metadata": {},
   "source": [
    "## II. Data Preparation"
   ]
  },
  {
   "cell_type": "markdown",
   "metadata": {},
   "source": [
    "### A. Select Data"
   ]
  },
  {
   "cell_type": "code",
   "execution_count": 25,
   "metadata": {},
   "outputs": [
    {
     "name": "stdout",
     "output_type": "stream",
     "text": [
      "Row Count: 261,741\n"
     ]
    },
    {
     "name": "stderr",
     "output_type": "stream",
     "text": [
      "                                                                                \r"
     ]
    }
   ],
   "source": [
    "# load the dataset form the previous section\n",
    "df_source = spark.read.parquet('router/output/minute')\n",
    "print(f'Row Count: {df_source.count():,}')"
   ]
  },
  {
   "cell_type": "code",
   "execution_count": 26,
   "metadata": {},
   "outputs": [
    {
     "name": "stdout",
     "output_type": "stream",
     "text": [
      "root\n",
      " |-- direction: string (nullable = true)\n",
      " |-- interval_length: string (nullable = true)\n",
      " |-- ip: string (nullable = true)\n",
      " |-- interval_start: string (nullable = true)\n",
      " |-- interval_end: integer (nullable = true)\n",
      " |-- bytes_used: long (nullable = true)\n",
      " |-- interval_type: string (nullable = true)\n",
      "\n"
     ]
    }
   ],
   "source": [
    "df_source.printSchema()"
   ]
  },
  {
   "cell_type": "markdown",
   "metadata": {},
   "source": [
    "### B. Clean Data"
   ]
  },
  {
   "cell_type": "markdown",
   "metadata": {},
   "source": [
    "#### 1. Remove the `interval_type` and `interval_length` columns"
   ]
  },
  {
   "cell_type": "code",
   "execution_count": 27,
   "metadata": {},
   "outputs": [
    {
     "name": "stdout",
     "output_type": "stream",
     "text": [
      "+---------+-------------+--------------+------------+----------+\n",
      "|direction|           ip|interval_start|interval_end|bytes_used|\n",
      "+---------+-------------+--------------+------------+----------+\n",
      "|   upload|192.168.3.242|    1646599020|  1646599080|    468664|\n",
      "|   upload|192.168.3.125|    1646530380|  1646530440|      4531|\n",
      "|   upload|192.168.3.168|    1646604420|  1646604480|         0|\n",
      "|   upload| 192.168.1.11|    1646571960|  1646572020|      5348|\n",
      "| download|192.168.3.246|    1646522820|  1646522880|      4755|\n",
      "+---------+-------------+--------------+------------+----------+\n",
      "only showing top 5 rows\n",
      "\n"
     ]
    }
   ],
   "source": [
    "df_minute = df_source \\\n",
    "    .drop('interval_type') \\\n",
    "    .drop('interval_length')\n",
    "\n",
    "df_minute.show(5)"
   ]
  },
  {
   "cell_type": "markdown",
   "metadata": {},
   "source": [
    "#### 2. Add a `time` columns from the interval start end end epoch"
   ]
  },
  {
   "cell_type": "code",
   "execution_count": 28,
   "metadata": {},
   "outputs": [
    {
     "name": "stdout",
     "output_type": "stream",
     "text": [
      "+---------+-------------+--------------+------------+----------+-------------------+-------------------+\n",
      "|direction|           ip|interval_start|interval_end|bytes_used|interval_start_time|  interval_end_time|\n",
      "+---------+-------------+--------------+------------+----------+-------------------+-------------------+\n",
      "|   upload|192.168.3.242|    1646599020|  1646599080|    468664|2022-03-06 20:37:00|2022-03-06 20:38:00|\n",
      "|   upload|192.168.3.125|    1646530380|  1646530440|      4531|2022-03-06 01:33:00|2022-03-06 01:34:00|\n",
      "|   upload|192.168.3.168|    1646604420|  1646604480|         0|2022-03-06 22:07:00|2022-03-06 22:08:00|\n",
      "|   upload| 192.168.1.11|    1646571960|  1646572020|      5348|2022-03-06 13:06:00|2022-03-06 13:07:00|\n",
      "| download|192.168.3.246|    1646522820|  1646522880|      4755|2022-03-05 23:27:00|2022-03-05 23:28:00|\n",
      "+---------+-------------+--------------+------------+----------+-------------------+-------------------+\n",
      "only showing top 5 rows\n",
      "\n"
     ]
    }
   ],
   "source": [
    "# convert epoch columns to datetime\n",
    "df_minute = df_minute \\\n",
    "    .withColumn('interval_start_time', from_unixtime(df_minute['interval_start'])) \\\n",
    "    .withColumn('interval_end_time', from_unixtime(df_minute['interval_end']))\n",
    "\n",
    "df_minute.show(5)"
   ]
  },
  {
   "cell_type": "markdown",
   "metadata": {},
   "source": [
    "### C. Construct Data"
   ]
  },
  {
   "cell_type": "markdown",
   "metadata": {},
   "source": [
    "#### 1. Add Date Features"
   ]
  },
  {
   "cell_type": "code",
   "execution_count": 29,
   "metadata": {},
   "outputs": [
    {
     "name": "stdout",
     "output_type": "stream",
     "text": [
      "+---------+-------------+--------------+------------+----------+-------------------+-------------------+----+-----+---+-----------+----+------+\n",
      "|direction|           ip|interval_start|interval_end|bytes_used|interval_start_time|  interval_end_time|year|month|day|day_of_week|hour|minute|\n",
      "+---------+-------------+--------------+------------+----------+-------------------+-------------------+----+-----+---+-----------+----+------+\n",
      "|   upload|192.168.3.242|    1646599020|  1646599080|    468664|2022-03-06 20:37:00|2022-03-06 20:38:00|2022|    3|  6|          1|  20|    37|\n",
      "|   upload|192.168.3.125|    1646530380|  1646530440|      4531|2022-03-06 01:33:00|2022-03-06 01:34:00|2022|    3|  6|          1|   1|    33|\n",
      "|   upload|192.168.3.168|    1646604420|  1646604480|         0|2022-03-06 22:07:00|2022-03-06 22:08:00|2022|    3|  6|          1|  22|     7|\n",
      "|   upload| 192.168.1.11|    1646571960|  1646572020|      5348|2022-03-06 13:06:00|2022-03-06 13:07:00|2022|    3|  6|          1|  13|     6|\n",
      "| download|192.168.3.246|    1646522820|  1646522880|      4755|2022-03-05 23:27:00|2022-03-05 23:28:00|2022|    3|  5|          7|  23|    27|\n",
      "+---------+-------------+--------------+------------+----------+-------------------+-------------------+----+-----+---+-----------+----+------+\n",
      "only showing top 5 rows\n",
      "\n"
     ]
    }
   ],
   "source": [
    "df_minute_date = df_minute \\\n",
    "    .withColumn('year', year(df_minute['interval_start_time'])) \\\n",
    "    .withColumn('month', month(df_minute['interval_start_time'])) \\\n",
    "    .withColumn('day', dayofmonth(df_minute['interval_start_time'])) \\\n",
    "    .withColumn('day_of_week', dayofweek(df_minute['interval_start_time'])) \\\n",
    "    .withColumn('hour', hour(df_minute['interval_start_time'])) \\\n",
    "    .withColumn('minute', minute(df_minute['interval_start_time']))\n",
    "\n",
    "df_minute_date.show(5)"
   ]
  },
  {
   "cell_type": "markdown",
   "metadata": {},
   "source": [
    "#### 2. VLAN Feature"
   ]
  },
  {
   "cell_type": "code",
   "execution_count": 30,
   "metadata": {},
   "outputs": [
    {
     "name": "stdout",
     "output_type": "stream",
     "text": [
      "+---------+-------------+--------------+------------+----------+-------------------+-------------------+----+-----+---+-----------+----+------+-------+\n",
      "|direction|           ip|interval_start|interval_end|bytes_used|interval_start_time|  interval_end_time|year|month|day|day_of_week|hour|minute|   vlan|\n",
      "+---------+-------------+--------------+------------+----------+-------------------+-------------------+----+-----+---+-----------+----+------+-------+\n",
      "|   upload|192.168.3.242|    1646599020|  1646599080|    468664|2022-03-06 20:37:00|2022-03-06 20:38:00|2022|    3|  6|          1|  20|    37|tenants|\n",
      "|   upload|192.168.3.125|    1646530380|  1646530440|      4531|2022-03-06 01:33:00|2022-03-06 01:34:00|2022|    3|  6|          1|   1|    33|tenants|\n",
      "|   upload|192.168.3.168|    1646604420|  1646604480|         0|2022-03-06 22:07:00|2022-03-06 22:08:00|2022|    3|  6|          1|  22|     7|tenants|\n",
      "|   upload| 192.168.1.11|    1646571960|  1646572020|      5348|2022-03-06 13:06:00|2022-03-06 13:07:00|2022|    3|  6|          1|  13|     6|private|\n",
      "| download|192.168.3.246|    1646522820|  1646522880|      4755|2022-03-05 23:27:00|2022-03-05 23:28:00|2022|    3|  5|          7|  23|    27|tenants|\n",
      "+---------+-------------+--------------+------------+----------+-------------------+-------------------+----+-----+---+-----------+----+------+-------+\n",
      "only showing top 5 rows\n",
      "\n"
     ]
    }
   ],
   "source": [
    "df_minute_vlan_all = df_minute_date \\\n",
    "    .withColumn('vlan', when(df_minute_date['ip'].startswith('192.168.1'), 'private') \\\n",
    "                        .when(df_minute_date['ip'].startswith('192.168.3'), 'tenants') \\\n",
    "                        .when(df_minute_date['ip'].startswith('192.168'), 'other') \\\n",
    "                        .otherwise('internal'))\n",
    "\n",
    "df_minute_vlan_all.show(5)"
   ]
  },
  {
   "cell_type": "code",
   "execution_count": 31,
   "metadata": {},
   "outputs": [
    {
     "name": "stdout",
     "output_type": "stream",
     "text": [
      "+--------+-----+\n",
      "|    vlan|count|\n",
      "+--------+-----+\n",
      "| tenants|   22|\n",
      "|internal|    2|\n",
      "| private|   11|\n",
      "+--------+-----+\n",
      "\n"
     ]
    }
   ],
   "source": [
    "# summary of networks in the dataset\n",
    "df_distinct_ip = df_minute_vlan_all \\\n",
    "    .select('ip', 'vlan') \\\n",
    "    .distinct()\n",
    "\n",
    "df_distinct_ip.groupBy('vlan').count().show()"
   ]
  },
  {
   "cell_type": "markdown",
   "metadata": {},
   "source": [
    "- `197.95.152.171` is the public IP of the switch.\n",
    "- `172.17.0.2` is the internal IP address of the router."
   ]
  },
  {
   "cell_type": "code",
   "execution_count": 32,
   "metadata": {},
   "outputs": [
    {
     "name": "stdout",
     "output_type": "stream",
     "text": [
      "+--------------+--------+\n",
      "|            ip|    vlan|\n",
      "+--------------+--------+\n",
      "|197.94.242.117|internal|\n",
      "|    172.17.0.2|internal|\n",
      "+--------------+--------+\n",
      "\n"
     ]
    }
   ],
   "source": [
    "df_distinct_ip.where('vlan == \"internal\"').show()"
   ]
  },
  {
   "cell_type": "code",
   "execution_count": 33,
   "metadata": {},
   "outputs": [
    {
     "name": "stderr",
     "output_type": "stream",
     "text": [
      "[Stage 140:================================>                        (4 + 2) / 7]\r"
     ]
    },
    {
     "name": "stdout",
     "output_type": "stream",
     "text": [
      "+---------+--------+---------------+\n",
      "|direction|    vlan|sum(bytes_used)|\n",
      "+---------+--------+---------------+\n",
      "| download|internal|       94137372|\n",
      "| download| private|    52091745442|\n",
      "| download| tenants|   118013924491|\n",
      "|   upload|internal|       40795153|\n",
      "|   upload| private|     5201201786|\n",
      "|   upload| tenants|    17504683089|\n",
      "+---------+--------+---------------+\n",
      "\n"
     ]
    },
    {
     "name": "stderr",
     "output_type": "stream",
     "text": [
      "                                                                                \r"
     ]
    }
   ],
   "source": [
    "# how much data are used by the vlan categories\n",
    "df_summary_vlan = df_minute_vlan_all \\\n",
    "    .groupBy('direction', 'vlan') \\\n",
    "    .sum('bytes_used') \\\n",
    "    .orderBy('direction', 'vlan') \\\n",
    "\n",
    "\n",
    "df_summary_vlan.show()\n"
   ]
  },
  {
   "cell_type": "code",
   "execution_count": 34,
   "metadata": {},
   "outputs": [
    {
     "name": "stderr",
     "output_type": "stream",
     "text": [
      "                                                                                \r"
     ]
    },
    {
     "data": {
      "text/plain": [
       "[Text(0.5, 1.0, 'Bandwidth Usage by VLAN'),\n",
       " Text(0, 0.5, 'Bytes Used'),\n",
       " Text(0.5, 0, 'VLAN')]"
      ]
     },
     "execution_count": 34,
     "metadata": {},
     "output_type": "execute_result"
    },
    {
     "data": {
      "image/png": "[encoded data removed]",
      "text/plain": [
       "<Figure size 432x288 with 1 Axes>"
      ]
     },
     "metadata": {
      "needs_background": "light"
     },
     "output_type": "display_data"
    }
   ],
   "source": [
    "# plot the vlan summary\n",
    "sns.barplot(\n",
    "    data=df_summary_vlan.toPandas(),\n",
    "    x='vlan',\n",
    "    y='sum(bytes_used)',\n",
    "    hue='direction'\n",
    ").set(\n",
    "    title='Bandwidth Usage by VLAN',\n",
    "    ylabel='Bytes Used',\n",
    "    xlabel='VLAN'\n",
    ")"
   ]
  },
  {
   "cell_type": "code",
   "execution_count": 35,
   "metadata": {},
   "outputs": [
    {
     "name": "stdout",
     "output_type": "stream",
     "text": [
      "Row Count: 244,931\n"
     ]
    },
    {
     "name": "stderr",
     "output_type": "stream",
     "text": [
      "                                                                                \r"
     ]
    }
   ],
   "source": [
    "# remove the internal ip addresses form the dataset\n",
    "df_minute_vlan = df_minute_vlan_all \\\n",
    "    .where('vlan != \"internal\"')\n",
    "\n",
    "print(f'Row Count: {df_minute_vlan.count():,}')"
   ]
  },
  {
   "cell_type": "markdown",
   "metadata": {},
   "source": [
    "##### Daily Bandwidth Usage"
   ]
  },
  {
   "cell_type": "code",
   "execution_count": 36,
   "metadata": {},
   "outputs": [
    {
     "name": "stderr",
     "output_type": "stream",
     "text": [
      "                                                                                \r"
     ]
    },
    {
     "data": {
      "text/html": [
       "<div>\n",
       "<style scoped>\n",
       "    .dataframe tbody tr th:only-of-type {\n",
       "        vertical-align: middle;\n",
       "    }\n",
       "\n",
       "    .dataframe tbody tr th {\n",
       "        vertical-align: top;\n",
       "    }\n",
       "\n",
       "    .dataframe thead th {\n",
       "        text-align: right;\n",
       "    }\n",
       "</style>\n",
       "<table border=\"1\" class=\"dataframe\">\n",
       "  <thead>\n",
       "    <tr style=\"text-align: right;\">\n",
       "      <th></th>\n",
       "      <th>year</th>\n",
       "      <th>month</th>\n",
       "      <th>day</th>\n",
       "      <th>vlan</th>\n",
       "      <th>sum(bytes_used)</th>\n",
       "    </tr>\n",
       "  </thead>\n",
       "  <tbody>\n",
       "    <tr>\n",
       "      <th>0</th>\n",
       "      <td>2022</td>\n",
       "      <td>3</td>\n",
       "      <td>4</td>\n",
       "      <td>private</td>\n",
       "      <td>138364651</td>\n",
       "    </tr>\n",
       "    <tr>\n",
       "      <th>1</th>\n",
       "      <td>2022</td>\n",
       "      <td>3</td>\n",
       "      <td>4</td>\n",
       "      <td>tenants</td>\n",
       "      <td>2518310329</td>\n",
       "    </tr>\n",
       "    <tr>\n",
       "      <th>2</th>\n",
       "      <td>2022</td>\n",
       "      <td>3</td>\n",
       "      <td>5</td>\n",
       "      <td>private</td>\n",
       "      <td>13337844087</td>\n",
       "    </tr>\n",
       "    <tr>\n",
       "      <th>3</th>\n",
       "      <td>2022</td>\n",
       "      <td>3</td>\n",
       "      <td>5</td>\n",
       "      <td>tenants</td>\n",
       "      <td>21974716480</td>\n",
       "    </tr>\n",
       "    <tr>\n",
       "      <th>4</th>\n",
       "      <td>2022</td>\n",
       "      <td>3</td>\n",
       "      <td>6</td>\n",
       "      <td>private</td>\n",
       "      <td>9746012979</td>\n",
       "    </tr>\n",
       "  </tbody>\n",
       "</table>\n",
       "</div>"
      ],
      "text/plain": [
       "   year  month  day     vlan  sum(bytes_used)\n",
       "0  2022      3    4  private        138364651\n",
       "1  2022      3    4  tenants       2518310329\n",
       "2  2022      3    5  private      13337844087\n",
       "3  2022      3    5  tenants      21974716480\n",
       "4  2022      3    6  private       9746012979"
      ]
     },
     "execution_count": 36,
     "metadata": {},
     "output_type": "execute_result"
    }
   ],
   "source": [
    "# get the summary data\n",
    "df_daily_summary = df_minute_vlan \\\n",
    "    .groupBy('year', 'month', 'day', 'vlan') \\\n",
    "    .sum('bytes_used') \\\n",
    "    .orderBy('year', 'month', 'day', 'vlan').toPandas()\n",
    "\n",
    "df_daily_summary.head()"
   ]
  },
  {
   "cell_type": "code",
   "execution_count": 37,
   "metadata": {},
   "outputs": [
    {
     "data": {
      "text/html": [
       "<div>\n",
       "<style scoped>\n",
       "    .dataframe tbody tr th:only-of-type {\n",
       "        vertical-align: middle;\n",
       "    }\n",
       "\n",
       "    .dataframe tbody tr th {\n",
       "        vertical-align: top;\n",
       "    }\n",
       "\n",
       "    .dataframe thead th {\n",
       "        text-align: right;\n",
       "    }\n",
       "</style>\n",
       "<table border=\"1\" class=\"dataframe\">\n",
       "  <thead>\n",
       "    <tr style=\"text-align: right;\">\n",
       "      <th></th>\n",
       "      <th>vlan</th>\n",
       "      <th>sum(bytes_used)</th>\n",
       "      <th>date</th>\n",
       "    </tr>\n",
       "  </thead>\n",
       "  <tbody>\n",
       "    <tr>\n",
       "      <th>0</th>\n",
       "      <td>private</td>\n",
       "      <td>138364651</td>\n",
       "      <td>2022-03-04</td>\n",
       "    </tr>\n",
       "    <tr>\n",
       "      <th>1</th>\n",
       "      <td>tenants</td>\n",
       "      <td>2518310329</td>\n",
       "      <td>2022-03-04</td>\n",
       "    </tr>\n",
       "    <tr>\n",
       "      <th>2</th>\n",
       "      <td>private</td>\n",
       "      <td>13337844087</td>\n",
       "      <td>2022-03-05</td>\n",
       "    </tr>\n",
       "    <tr>\n",
       "      <th>3</th>\n",
       "      <td>tenants</td>\n",
       "      <td>21974716480</td>\n",
       "      <td>2022-03-05</td>\n",
       "    </tr>\n",
       "    <tr>\n",
       "      <th>4</th>\n",
       "      <td>private</td>\n",
       "      <td>9746012979</td>\n",
       "      <td>2022-03-06</td>\n",
       "    </tr>\n",
       "  </tbody>\n",
       "</table>\n",
       "</div>"
      ],
      "text/plain": [
       "      vlan  sum(bytes_used)       date\n",
       "0  private        138364651 2022-03-04\n",
       "1  tenants       2518310329 2022-03-04\n",
       "2  private      13337844087 2022-03-05\n",
       "3  tenants      21974716480 2022-03-05\n",
       "4  private       9746012979 2022-03-06"
      ]
     },
     "execution_count": 37,
     "metadata": {},
     "output_type": "execute_result"
    }
   ],
   "source": [
    "# add a date column\n",
    "df_daily_summary['date'] = pd.to_datetime(df_daily_summary[['year', 'month', 'day']])\n",
    "df_daily_summary.drop(columns=['year', 'month', 'day'], inplace=True)\n",
    "\n",
    "df_daily_summary.head()"
   ]
  },
  {
   "cell_type": "code",
   "execution_count": 38,
   "metadata": {},
   "outputs": [
    {
     "data": {
      "text/html": [
       "<div>\n",
       "<style scoped>\n",
       "    .dataframe tbody tr th:only-of-type {\n",
       "        vertical-align: middle;\n",
       "    }\n",
       "\n",
       "    .dataframe tbody tr th {\n",
       "        vertical-align: top;\n",
       "    }\n",
       "\n",
       "    .dataframe thead th {\n",
       "        text-align: right;\n",
       "    }\n",
       "</style>\n",
       "<table border=\"1\" class=\"dataframe\">\n",
       "  <thead>\n",
       "    <tr style=\"text-align: right;\">\n",
       "      <th></th>\n",
       "      <th>vlan</th>\n",
       "      <th>date</th>\n",
       "      <th>sum(bytes_used)</th>\n",
       "      <th>gigabytes</th>\n",
       "    </tr>\n",
       "  </thead>\n",
       "  <tbody>\n",
       "    <tr>\n",
       "      <th>0</th>\n",
       "      <td>private</td>\n",
       "      <td>2022-03-04</td>\n",
       "      <td>138364651</td>\n",
       "      <td>0.138365</td>\n",
       "    </tr>\n",
       "    <tr>\n",
       "      <th>1</th>\n",
       "      <td>private</td>\n",
       "      <td>2022-03-05</td>\n",
       "      <td>13337844087</td>\n",
       "      <td>13.337844</td>\n",
       "    </tr>\n",
       "    <tr>\n",
       "      <th>2</th>\n",
       "      <td>private</td>\n",
       "      <td>2022-03-06</td>\n",
       "      <td>9746012979</td>\n",
       "      <td>9.746013</td>\n",
       "    </tr>\n",
       "    <tr>\n",
       "      <th>3</th>\n",
       "      <td>private</td>\n",
       "      <td>2022-03-07</td>\n",
       "      <td>12818470359</td>\n",
       "      <td>12.818470</td>\n",
       "    </tr>\n",
       "    <tr>\n",
       "      <th>4</th>\n",
       "      <td>private</td>\n",
       "      <td>2022-03-08</td>\n",
       "      <td>9636907707</td>\n",
       "      <td>9.636908</td>\n",
       "    </tr>\n",
       "    <tr>\n",
       "      <th>5</th>\n",
       "      <td>private</td>\n",
       "      <td>2022-03-09</td>\n",
       "      <td>9629446249</td>\n",
       "      <td>9.629446</td>\n",
       "    </tr>\n",
       "    <tr>\n",
       "      <th>6</th>\n",
       "      <td>private</td>\n",
       "      <td>2022-03-10</td>\n",
       "      <td>1985901196</td>\n",
       "      <td>1.985901</td>\n",
       "    </tr>\n",
       "    <tr>\n",
       "      <th>7</th>\n",
       "      <td>tenants</td>\n",
       "      <td>2022-03-04</td>\n",
       "      <td>2518310329</td>\n",
       "      <td>2.518310</td>\n",
       "    </tr>\n",
       "    <tr>\n",
       "      <th>8</th>\n",
       "      <td>tenants</td>\n",
       "      <td>2022-03-05</td>\n",
       "      <td>21974716480</td>\n",
       "      <td>21.974716</td>\n",
       "    </tr>\n",
       "    <tr>\n",
       "      <th>9</th>\n",
       "      <td>tenants</td>\n",
       "      <td>2022-03-06</td>\n",
       "      <td>36606105290</td>\n",
       "      <td>36.606105</td>\n",
       "    </tr>\n",
       "  </tbody>\n",
       "</table>\n",
       "</div>"
      ],
      "text/plain": [
       "      vlan       date  sum(bytes_used)  gigabytes\n",
       "0  private 2022-03-04        138364651   0.138365\n",
       "1  private 2022-03-05      13337844087  13.337844\n",
       "2  private 2022-03-06       9746012979   9.746013\n",
       "3  private 2022-03-07      12818470359  12.818470\n",
       "4  private 2022-03-08       9636907707   9.636908\n",
       "5  private 2022-03-09       9629446249   9.629446\n",
       "6  private 2022-03-10       1985901196   1.985901\n",
       "7  tenants 2022-03-04       2518310329   2.518310\n",
       "8  tenants 2022-03-05      21974716480  21.974716\n",
       "9  tenants 2022-03-06      36606105290  36.606105"
      ]
     },
     "execution_count": 38,
     "metadata": {},
     "output_type": "execute_result"
    }
   ],
   "source": [
    "# resample the data to fill gaps if present\n",
    "df_daily_summary_resampled = df_daily_summary \\\n",
    "    .set_index('date') \\\n",
    "    .groupby('vlan') \\\n",
    "    .resample('D') \\\n",
    "    .sum() \\\n",
    "    .ffill() \\\n",
    "    .reset_index()\n",
    "\n",
    "# add a gigabytes column\n",
    "df_daily_summary_resampled['gigabytes'] = df_daily_summary_resampled['sum(bytes_used)'] / 1e9\n",
    "#df_daily_summary_resampled.sort_values('vlan', inplace=True)\n",
    "\n",
    "df_daily_summary_resampled.head(10)"
   ]
  },
  {
   "cell_type": "code",
   "execution_count": 39,
   "metadata": {},
   "outputs": [
    {
     "data": {
      "image/png": "[encoded data removed]",
      "text/plain": [
       "<Figure size 1080x396 with 1 Axes>"
      ]
     },
     "metadata": {
      "needs_background": "light"
     },
     "output_type": "display_data"
    }
   ],
   "source": [
    "# configure the plot\n",
    "fig_dims = (15, 5.5)\n",
    "fig, ax = plt.subplots(figsize=fig_dims)\n",
    "\n",
    "# get x tick labels\n",
    "x_dates = df_daily_summary_resampled['date'].dt.strftime('%Y-%m-%d').sort_values().unique()\n",
    "\n",
    "sns.lineplot(\n",
    "    data=df_daily_summary_resampled,\n",
    "    x='date',\n",
    "    y='gigabytes',\n",
    "    hue='vlan',\n",
    "    ax=ax\n",
    ").set(\n",
    "    title='Bandwidth Usage by VLAN',\n",
    "    ylabel='Usage in GB',\n",
    "    xticks=df_daily_summary_resampled.date.unique()\n",
    ")\n",
    "\n",
    "plt.show()"
   ]
  },
  {
   "cell_type": "markdown",
   "metadata": {},
   "source": [
    "##### Summarize by IP and total bytes used"
   ]
  },
  {
   "cell_type": "code",
   "execution_count": 40,
   "metadata": {},
   "outputs": [
    {
     "name": "stderr",
     "output_type": "stream",
     "text": [
      "                                                                                \r"
     ]
    },
    {
     "data": {
      "text/html": [
       "<div>\n",
       "<style scoped>\n",
       "    .dataframe tbody tr th:only-of-type {\n",
       "        vertical-align: middle;\n",
       "    }\n",
       "\n",
       "    .dataframe tbody tr th {\n",
       "        vertical-align: top;\n",
       "    }\n",
       "\n",
       "    .dataframe thead th {\n",
       "        text-align: right;\n",
       "    }\n",
       "</style>\n",
       "<table border=\"1\" class=\"dataframe\">\n",
       "  <thead>\n",
       "    <tr style=\"text-align: right;\">\n",
       "      <th></th>\n",
       "      <th>IP</th>\n",
       "      <th>vlan</th>\n",
       "      <th>sum(bytes_used)</th>\n",
       "      <th>gigabytes</th>\n",
       "    </tr>\n",
       "  </thead>\n",
       "  <tbody>\n",
       "    <tr>\n",
       "      <th>0</th>\n",
       "      <td>192.168.3.126</td>\n",
       "      <td>tenants</td>\n",
       "      <td>34991308752</td>\n",
       "      <td>34.991309</td>\n",
       "    </tr>\n",
       "    <tr>\n",
       "      <th>1</th>\n",
       "      <td>192.168.1.108</td>\n",
       "      <td>private</td>\n",
       "      <td>31372581033</td>\n",
       "      <td>31.372581</td>\n",
       "    </tr>\n",
       "    <tr>\n",
       "      <th>2</th>\n",
       "      <td>192.168.3.185</td>\n",
       "      <td>tenants</td>\n",
       "      <td>26657317151</td>\n",
       "      <td>26.657317</td>\n",
       "    </tr>\n",
       "    <tr>\n",
       "      <th>3</th>\n",
       "      <td>192.168.3.224</td>\n",
       "      <td>tenants</td>\n",
       "      <td>16712013950</td>\n",
       "      <td>16.712014</td>\n",
       "    </tr>\n",
       "    <tr>\n",
       "      <th>4</th>\n",
       "      <td>192.168.3.103</td>\n",
       "      <td>tenants</td>\n",
       "      <td>15230307004</td>\n",
       "      <td>15.230307</td>\n",
       "    </tr>\n",
       "    <tr>\n",
       "      <th>5</th>\n",
       "      <td>192.168.1.189</td>\n",
       "      <td>private</td>\n",
       "      <td>11234166644</td>\n",
       "      <td>11.234167</td>\n",
       "    </tr>\n",
       "    <tr>\n",
       "      <th>6</th>\n",
       "      <td>192.168.3.125</td>\n",
       "      <td>tenants</td>\n",
       "      <td>10361077935</td>\n",
       "      <td>10.361078</td>\n",
       "    </tr>\n",
       "    <tr>\n",
       "      <th>7</th>\n",
       "      <td>192.168.3.111</td>\n",
       "      <td>tenants</td>\n",
       "      <td>7339077740</td>\n",
       "      <td>7.339078</td>\n",
       "    </tr>\n",
       "    <tr>\n",
       "      <th>8</th>\n",
       "      <td>192.168.1.186</td>\n",
       "      <td>private</td>\n",
       "      <td>7096251946</td>\n",
       "      <td>7.096252</td>\n",
       "    </tr>\n",
       "    <tr>\n",
       "      <th>9</th>\n",
       "      <td>192.168.3.246</td>\n",
       "      <td>tenants</td>\n",
       "      <td>6003659108</td>\n",
       "      <td>6.003659</td>\n",
       "    </tr>\n",
       "  </tbody>\n",
       "</table>\n",
       "</div>"
      ],
      "text/plain": [
       "              IP     vlan  sum(bytes_used)  gigabytes\n",
       "0  192.168.3.126  tenants      34991308752  34.991309\n",
       "1  192.168.1.108  private      31372581033  31.372581\n",
       "2  192.168.3.185  tenants      26657317151  26.657317\n",
       "3  192.168.3.224  tenants      16712013950  16.712014\n",
       "4  192.168.3.103  tenants      15230307004  15.230307\n",
       "5  192.168.1.189  private      11234166644  11.234167\n",
       "6  192.168.3.125  tenants      10361077935  10.361078\n",
       "7  192.168.3.111  tenants       7339077740   7.339078\n",
       "8  192.168.1.186  private       7096251946   7.096252\n",
       "9  192.168.3.246  tenants       6003659108   6.003659"
      ]
     },
     "execution_count": 40,
     "metadata": {},
     "output_type": "execute_result"
    }
   ],
   "source": [
    "# get the summarized data\n",
    "df_total_usage = df_minute_vlan \\\n",
    "    .select('IP', 'vlan', 'bytes_used') \\\n",
    "    .groupBy('IP', 'vlan')\\\n",
    "    .sum() \\\n",
    "    .sort('sum(bytes_used)', ascending=False) \\\n",
    "    .toPandas()\n",
    "\n",
    "df_total_usage['gigabytes'] = df_total_usage['sum(bytes_used)'] / 1e9\n",
    "df_total_usage.head(10)"
   ]
  },
  {
   "cell_type": "code",
   "execution_count": 41,
   "metadata": {},
   "outputs": [
    {
     "data": {
      "image/png": "[encoded data removed]",
      "text/plain": [
       "<Figure size 1080x396 with 1 Axes>"
      ]
     },
     "metadata": {
      "needs_background": "light"
     },
     "output_type": "display_data"
    }
   ],
   "source": [
    "# plot the results\n",
    "fig_dims = (15, 5.5)\n",
    "fig, ax = plt.subplots(figsize=fig_dims)\n",
    "\n",
    "sns.barplot(\n",
    "    data=df_total_usage,\n",
    "    x='IP',\n",
    "    y='gigabytes',\n",
    "    palette='Blues_d',\n",
    "    ax=ax\n",
    ").set(\n",
    "    title='Bandwidth Usage by IP Address',\n",
    "    ylabel='Usage in GB',\n",
    "    xlabel='IP Address'\n",
    ")\n",
    "\n",
    "ax.tick_params(axis='x', rotation=90)\n",
    "plt.show()"
   ]
  },
  {
   "cell_type": "markdown",
   "metadata": {},
   "source": [
    "#### 3. Create Features for each IP Address"
   ]
  },
  {
   "cell_type": "code",
   "execution_count": 42,
   "metadata": {},
   "outputs": [
    {
     "name": "stdout",
     "output_type": "stream",
     "text": [
      "root\n",
      " |-- direction: string (nullable = true)\n",
      " |-- ip: string (nullable = true)\n",
      " |-- interval_start: string (nullable = true)\n",
      " |-- interval_end: integer (nullable = true)\n",
      " |-- bytes_used: long (nullable = true)\n",
      " |-- interval_start_time: string (nullable = true)\n",
      " |-- interval_end_time: string (nullable = true)\n",
      " |-- year: integer (nullable = true)\n",
      " |-- month: integer (nullable = true)\n",
      " |-- day: integer (nullable = true)\n",
      " |-- day_of_week: integer (nullable = true)\n",
      " |-- hour: integer (nullable = true)\n",
      " |-- minute: integer (nullable = true)\n",
      " |-- vlan: string (nullable = false)\n",
      "\n"
     ]
    }
   ],
   "source": [
    "df_minute_vlan.printSchema()"
   ]
  },
  {
   "cell_type": "code",
   "execution_count": 43,
   "metadata": {},
   "outputs": [
    {
     "name": "stderr",
     "output_type": "stream",
     "text": [
      "                                                                                \r"
     ]
    },
    {
     "name": "stdout",
     "output_type": "stream",
     "text": [
      "Row Count: 33\n"
     ]
    }
   ],
   "source": [
    "# create the base users table\n",
    "df_users = df_minute_vlan \\\n",
    "    .select('IP', 'vlan', 'bytes_used') \\\n",
    "    .groupBy('IP', 'vlan') \\\n",
    "    .sum() \\\n",
    "    .withColumnRenamed('sum(bytes_used)', 'total_bytes') \\\n",
    "    .sort('IP', ascending=False).toPandas()\n",
    "\n",
    "print(f'Row Count: {df_users.shape[0]:,}')"
   ]
  },
  {
   "cell_type": "code",
   "execution_count": 44,
   "metadata": {},
   "outputs": [
    {
     "name": "stderr",
     "output_type": "stream",
     "text": [
      "                                                                                \r"
     ]
    },
    {
     "data": {
      "text/html": [
       "<div>\n",
       "<style scoped>\n",
       "    .dataframe tbody tr th:only-of-type {\n",
       "        vertical-align: middle;\n",
       "    }\n",
       "\n",
       "    .dataframe tbody tr th {\n",
       "        vertical-align: top;\n",
       "    }\n",
       "\n",
       "    .dataframe thead th {\n",
       "        text-align: right;\n",
       "    }\n",
       "</style>\n",
       "<table border=\"1\" class=\"dataframe\">\n",
       "  <thead>\n",
       "    <tr style=\"text-align: right;\">\n",
       "      <th></th>\n",
       "      <th>IP</th>\n",
       "      <th>vlan</th>\n",
       "      <th>total_bytes</th>\n",
       "      <th>dowload_bytes</th>\n",
       "    </tr>\n",
       "  </thead>\n",
       "  <tbody>\n",
       "    <tr>\n",
       "      <th>0</th>\n",
       "      <td>192.168.3.246</td>\n",
       "      <td>tenants</td>\n",
       "      <td>6003659108</td>\n",
       "      <td>4339881106</td>\n",
       "    </tr>\n",
       "    <tr>\n",
       "      <th>1</th>\n",
       "      <td>192.168.3.242</td>\n",
       "      <td>tenants</td>\n",
       "      <td>765143345</td>\n",
       "      <td>708025871</td>\n",
       "    </tr>\n",
       "    <tr>\n",
       "      <th>2</th>\n",
       "      <td>192.168.3.240</td>\n",
       "      <td>tenants</td>\n",
       "      <td>2074016853</td>\n",
       "      <td>1662128633</td>\n",
       "    </tr>\n",
       "    <tr>\n",
       "      <th>3</th>\n",
       "      <td>192.168.3.224</td>\n",
       "      <td>tenants</td>\n",
       "      <td>16712013950</td>\n",
       "      <td>16287389724</td>\n",
       "    </tr>\n",
       "    <tr>\n",
       "      <th>4</th>\n",
       "      <td>192.168.3.193</td>\n",
       "      <td>tenants</td>\n",
       "      <td>484145977</td>\n",
       "      <td>284428423</td>\n",
       "    </tr>\n",
       "  </tbody>\n",
       "</table>\n",
       "</div>"
      ],
      "text/plain": [
       "              IP     vlan  total_bytes  dowload_bytes\n",
       "0  192.168.3.246  tenants   6003659108     4339881106\n",
       "1  192.168.3.242  tenants    765143345      708025871\n",
       "2  192.168.3.240  tenants   2074016853     1662128633\n",
       "3  192.168.3.224  tenants  16712013950    16287389724\n",
       "4  192.168.3.193  tenants    484145977      284428423"
      ]
     },
     "execution_count": 44,
     "metadata": {},
     "output_type": "execute_result"
    }
   ],
   "source": [
    "# calculate the download bytes used\n",
    "df_users_download = df_minute_vlan \\\n",
    "    .select('IP', 'bytes_used') \\\n",
    "    .where('direction == \"download\"') \\\n",
    "    .groupBy('IP') \\\n",
    "    .sum() \\\n",
    "    .withColumnRenamed('sum(bytes_used)', 'dowload_bytes') \\\n",
    "    .sort('IP', ascending=False).toPandas()\n",
    "\n",
    "df_users = df_users.merge(df_users_download, on='IP', how='left')\n",
    "df_users.head()"
   ]
  },
  {
   "cell_type": "code",
   "execution_count": 45,
   "metadata": {},
   "outputs": [
    {
     "name": "stderr",
     "output_type": "stream",
     "text": [
      "                                                                                \r"
     ]
    },
    {
     "data": {
      "text/html": [
       "<div>\n",
       "<style scoped>\n",
       "    .dataframe tbody tr th:only-of-type {\n",
       "        vertical-align: middle;\n",
       "    }\n",
       "\n",
       "    .dataframe tbody tr th {\n",
       "        vertical-align: top;\n",
       "    }\n",
       "\n",
       "    .dataframe thead th {\n",
       "        text-align: right;\n",
       "    }\n",
       "</style>\n",
       "<table border=\"1\" class=\"dataframe\">\n",
       "  <thead>\n",
       "    <tr style=\"text-align: right;\">\n",
       "      <th></th>\n",
       "      <th>IP</th>\n",
       "      <th>vlan</th>\n",
       "      <th>total_bytes</th>\n",
       "      <th>dowload_bytes</th>\n",
       "      <th>upload_bytes</th>\n",
       "    </tr>\n",
       "  </thead>\n",
       "  <tbody>\n",
       "    <tr>\n",
       "      <th>0</th>\n",
       "      <td>192.168.3.246</td>\n",
       "      <td>tenants</td>\n",
       "      <td>6003659108</td>\n",
       "      <td>4339881106</td>\n",
       "      <td>1663778002</td>\n",
       "    </tr>\n",
       "    <tr>\n",
       "      <th>1</th>\n",
       "      <td>192.168.3.242</td>\n",
       "      <td>tenants</td>\n",
       "      <td>765143345</td>\n",
       "      <td>708025871</td>\n",
       "      <td>57117474</td>\n",
       "    </tr>\n",
       "    <tr>\n",
       "      <th>2</th>\n",
       "      <td>192.168.3.240</td>\n",
       "      <td>tenants</td>\n",
       "      <td>2074016853</td>\n",
       "      <td>1662128633</td>\n",
       "      <td>411888220</td>\n",
       "    </tr>\n",
       "    <tr>\n",
       "      <th>3</th>\n",
       "      <td>192.168.3.224</td>\n",
       "      <td>tenants</td>\n",
       "      <td>16712013950</td>\n",
       "      <td>16287389724</td>\n",
       "      <td>424624226</td>\n",
       "    </tr>\n",
       "    <tr>\n",
       "      <th>4</th>\n",
       "      <td>192.168.3.193</td>\n",
       "      <td>tenants</td>\n",
       "      <td>484145977</td>\n",
       "      <td>284428423</td>\n",
       "      <td>199717554</td>\n",
       "    </tr>\n",
       "  </tbody>\n",
       "</table>\n",
       "</div>"
      ],
      "text/plain": [
       "              IP     vlan  total_bytes  dowload_bytes  upload_bytes\n",
       "0  192.168.3.246  tenants   6003659108     4339881106    1663778002\n",
       "1  192.168.3.242  tenants    765143345      708025871      57117474\n",
       "2  192.168.3.240  tenants   2074016853     1662128633     411888220\n",
       "3  192.168.3.224  tenants  16712013950    16287389724     424624226\n",
       "4  192.168.3.193  tenants    484145977      284428423     199717554"
      ]
     },
     "execution_count": 45,
     "metadata": {},
     "output_type": "execute_result"
    }
   ],
   "source": [
    "# calculate the upload bytes used\n",
    "df_users_upload = df_minute_vlan \\\n",
    "    .select('IP', 'bytes_used') \\\n",
    "    .where('direction == \"upload\"') \\\n",
    "    .groupBy('IP') \\\n",
    "    .sum() \\\n",
    "    .withColumnRenamed('sum(bytes_used)', 'upload_bytes') \\\n",
    "    .sort('IP', ascending=False).toPandas()\n",
    "\n",
    "df_users = df_users.merge(df_users_upload, on='IP', how='left')\n",
    "df_users.head()"
   ]
  },
  {
   "cell_type": "markdown",
   "metadata": {},
   "source": [
    "##### Bandwidth usage by day of week"
   ]
  },
  {
   "cell_type": "code",
   "execution_count": 46,
   "metadata": {},
   "outputs": [],
   "source": [
    "def get_dayofweek_usage(df_source, dayofweek):\n",
    "    \"\"\"\n",
    "    Get the usage for a specific day of the week\n",
    "\n",
    "    Parameters\n",
    "    ----------\n",
    "    df_source : pySpark dataframe\n",
    "        The source dataframe\n",
    "    dayofweek : int\n",
    "        The day of the week to get the usage for\n",
    "\n",
    "    Returns\n",
    "    -------\n",
    "    df_dayofweek : pySpark dataframe\n",
    "        The dataframe with the day of the week usage\n",
    "    \"\"\"\n",
    "    day_name = calendar.day_name[dayofweek - 1]\n",
    "\n",
    "    df_dayofweek_usage = df_source \\\n",
    "        .select('IP', 'bytes_used') \\\n",
    "        .where(f'day_of_week == \"{dayofweek}\"') \\\n",
    "        .groupBy('IP') \\\n",
    "        .avg() \\\n",
    "        .withColumnRenamed('avg(bytes_used)', f'{day_name}_avg_bytes') \\\n",
    "        .sort('IP', ascending=False).toPandas()\n",
    "\n",
    "    # change the average bytes to an integer\n",
    "    df_dayofweek_usage[f'{day_name}_avg_bytes'] = \\\n",
    "        df_dayofweek_usage[f'{day_name}_avg_bytes'].astype(int)\n",
    "\n",
    "    return df_dayofweek_usage"
   ]
  },
  {
   "cell_type": "code",
   "execution_count": 47,
   "metadata": {},
   "outputs": [
    {
     "name": "stderr",
     "output_type": "stream",
     "text": [
      "                                                                                \r"
     ]
    },
    {
     "data": {
      "text/html": [
       "<div>\n",
       "<style scoped>\n",
       "    .dataframe tbody tr th:only-of-type {\n",
       "        vertical-align: middle;\n",
       "    }\n",
       "\n",
       "    .dataframe tbody tr th {\n",
       "        vertical-align: top;\n",
       "    }\n",
       "\n",
       "    .dataframe thead th {\n",
       "        text-align: right;\n",
       "    }\n",
       "</style>\n",
       "<table border=\"1\" class=\"dataframe\">\n",
       "  <thead>\n",
       "    <tr style=\"text-align: right;\">\n",
       "      <th></th>\n",
       "      <th>IP</th>\n",
       "      <th>vlan</th>\n",
       "      <th>total_bytes</th>\n",
       "      <th>dowload_bytes</th>\n",
       "      <th>upload_bytes</th>\n",
       "      <th>Monday_avg_bytes</th>\n",
       "      <th>Tuesday_avg_bytes</th>\n",
       "      <th>Wednesday_avg_bytes</th>\n",
       "      <th>Thursday_avg_bytes</th>\n",
       "      <th>Friday_avg_bytes</th>\n",
       "      <th>Saturday_avg_bytes</th>\n",
       "      <th>Sunday_avg_bytes</th>\n",
       "    </tr>\n",
       "  </thead>\n",
       "  <tbody>\n",
       "    <tr>\n",
       "      <th>0</th>\n",
       "      <td>192.168.3.246</td>\n",
       "      <td>tenants</td>\n",
       "      <td>6003659108</td>\n",
       "      <td>4339881106</td>\n",
       "      <td>1663778002</td>\n",
       "      <td>884371.0</td>\n",
       "      <td>731149.0</td>\n",
       "      <td>686591.0</td>\n",
       "      <td>NaN</td>\n",
       "      <td>NaN</td>\n",
       "      <td>132844.0</td>\n",
       "      <td>1143805.0</td>\n",
       "    </tr>\n",
       "    <tr>\n",
       "      <th>1</th>\n",
       "      <td>192.168.3.242</td>\n",
       "      <td>tenants</td>\n",
       "      <td>765143345</td>\n",
       "      <td>708025871</td>\n",
       "      <td>57117474</td>\n",
       "      <td>110405.0</td>\n",
       "      <td>15476.0</td>\n",
       "      <td>70635.0</td>\n",
       "      <td>69328.0</td>\n",
       "      <td>19014.0</td>\n",
       "      <td>13308.0</td>\n",
       "      <td>16132.0</td>\n",
       "    </tr>\n",
       "    <tr>\n",
       "      <th>2</th>\n",
       "      <td>192.168.3.240</td>\n",
       "      <td>tenants</td>\n",
       "      <td>2074016853</td>\n",
       "      <td>1662128633</td>\n",
       "      <td>411888220</td>\n",
       "      <td>12195.0</td>\n",
       "      <td>25176.0</td>\n",
       "      <td>336888.0</td>\n",
       "      <td>341015.0</td>\n",
       "      <td>21219.0</td>\n",
       "      <td>65170.0</td>\n",
       "      <td>351155.0</td>\n",
       "    </tr>\n",
       "    <tr>\n",
       "      <th>3</th>\n",
       "      <td>192.168.3.224</td>\n",
       "      <td>tenants</td>\n",
       "      <td>16712013950</td>\n",
       "      <td>16287389724</td>\n",
       "      <td>424624226</td>\n",
       "      <td>NaN</td>\n",
       "      <td>9517041.0</td>\n",
       "      <td>24160.0</td>\n",
       "      <td>2962873.0</td>\n",
       "      <td>2210.0</td>\n",
       "      <td>NaN</td>\n",
       "      <td>NaN</td>\n",
       "    </tr>\n",
       "    <tr>\n",
       "      <th>4</th>\n",
       "      <td>192.168.3.193</td>\n",
       "      <td>tenants</td>\n",
       "      <td>484145977</td>\n",
       "      <td>284428423</td>\n",
       "      <td>199717554</td>\n",
       "      <td>NaN</td>\n",
       "      <td>11884.0</td>\n",
       "      <td>NaN</td>\n",
       "      <td>1742181.0</td>\n",
       "      <td>NaN</td>\n",
       "      <td>NaN</td>\n",
       "      <td>NaN</td>\n",
       "    </tr>\n",
       "  </tbody>\n",
       "</table>\n",
       "</div>"
      ],
      "text/plain": [
       "              IP     vlan  total_bytes  dowload_bytes  upload_bytes  \\\n",
       "0  192.168.3.246  tenants   6003659108     4339881106    1663778002   \n",
       "1  192.168.3.242  tenants    765143345      708025871      57117474   \n",
       "2  192.168.3.240  tenants   2074016853     1662128633     411888220   \n",
       "3  192.168.3.224  tenants  16712013950    16287389724     424624226   \n",
       "4  192.168.3.193  tenants    484145977      284428423     199717554   \n",
       "\n",
       "   Monday_avg_bytes  Tuesday_avg_bytes  Wednesday_avg_bytes  \\\n",
       "0          884371.0           731149.0             686591.0   \n",
       "1          110405.0            15476.0              70635.0   \n",
       "2           12195.0            25176.0             336888.0   \n",
       "3               NaN          9517041.0              24160.0   \n",
       "4               NaN            11884.0                  NaN   \n",
       "\n",
       "   Thursday_avg_bytes  Friday_avg_bytes  Saturday_avg_bytes  Sunday_avg_bytes  \n",
       "0                 NaN               NaN            132844.0         1143805.0  \n",
       "1             69328.0           19014.0             13308.0           16132.0  \n",
       "2            341015.0           21219.0             65170.0          351155.0  \n",
       "3           2962873.0            2210.0                 NaN               NaN  \n",
       "4           1742181.0               NaN                 NaN               NaN  "
      ]
     },
     "execution_count": 47,
     "metadata": {},
     "output_type": "execute_result"
    }
   ],
   "source": [
    "# calculate the average usage for each day of the week\n",
    "for i in range(0, 7):\n",
    "    df_dayofweek_usage = get_dayofweek_usage(df_minute_vlan, i+1)\n",
    "    df_users = df_users.merge(df_dayofweek_usage, on='IP', how='left')\n",
    "\n",
    "df_users.head()"
   ]
  },
  {
   "cell_type": "code",
   "execution_count": 48,
   "metadata": {},
   "outputs": [
    {
     "data": {
      "text/html": [
       "<div>\n",
       "<style scoped>\n",
       "    .dataframe tbody tr th:only-of-type {\n",
       "        vertical-align: middle;\n",
       "    }\n",
       "\n",
       "    .dataframe tbody tr th {\n",
       "        vertical-align: top;\n",
       "    }\n",
       "\n",
       "    .dataframe thead th {\n",
       "        text-align: right;\n",
       "    }\n",
       "</style>\n",
       "<table border=\"1\" class=\"dataframe\">\n",
       "  <thead>\n",
       "    <tr style=\"text-align: right;\">\n",
       "      <th></th>\n",
       "      <th>IP</th>\n",
       "      <th>vlan</th>\n",
       "      <th>total_bytes</th>\n",
       "      <th>dowload_bytes</th>\n",
       "      <th>upload_bytes</th>\n",
       "      <th>Monday_avg_bytes</th>\n",
       "      <th>Tuesday_avg_bytes</th>\n",
       "      <th>Wednesday_avg_bytes</th>\n",
       "      <th>Thursday_avg_bytes</th>\n",
       "      <th>Friday_avg_bytes</th>\n",
       "      <th>Saturday_avg_bytes</th>\n",
       "      <th>Sunday_avg_bytes</th>\n",
       "    </tr>\n",
       "  </thead>\n",
       "  <tbody>\n",
       "    <tr>\n",
       "      <th>0</th>\n",
       "      <td>192.168.3.246</td>\n",
       "      <td>tenants</td>\n",
       "      <td>6003659108</td>\n",
       "      <td>4339881106</td>\n",
       "      <td>1663778002</td>\n",
       "      <td>884371.0</td>\n",
       "      <td>731149.0</td>\n",
       "      <td>686591.0</td>\n",
       "      <td>0.0</td>\n",
       "      <td>0.0</td>\n",
       "      <td>132844.0</td>\n",
       "      <td>1143805.0</td>\n",
       "    </tr>\n",
       "    <tr>\n",
       "      <th>1</th>\n",
       "      <td>192.168.3.242</td>\n",
       "      <td>tenants</td>\n",
       "      <td>765143345</td>\n",
       "      <td>708025871</td>\n",
       "      <td>57117474</td>\n",
       "      <td>110405.0</td>\n",
       "      <td>15476.0</td>\n",
       "      <td>70635.0</td>\n",
       "      <td>69328.0</td>\n",
       "      <td>19014.0</td>\n",
       "      <td>13308.0</td>\n",
       "      <td>16132.0</td>\n",
       "    </tr>\n",
       "    <tr>\n",
       "      <th>2</th>\n",
       "      <td>192.168.3.240</td>\n",
       "      <td>tenants</td>\n",
       "      <td>2074016853</td>\n",
       "      <td>1662128633</td>\n",
       "      <td>411888220</td>\n",
       "      <td>12195.0</td>\n",
       "      <td>25176.0</td>\n",
       "      <td>336888.0</td>\n",
       "      <td>341015.0</td>\n",
       "      <td>21219.0</td>\n",
       "      <td>65170.0</td>\n",
       "      <td>351155.0</td>\n",
       "    </tr>\n",
       "    <tr>\n",
       "      <th>3</th>\n",
       "      <td>192.168.3.224</td>\n",
       "      <td>tenants</td>\n",
       "      <td>16712013950</td>\n",
       "      <td>16287389724</td>\n",
       "      <td>424624226</td>\n",
       "      <td>0.0</td>\n",
       "      <td>9517041.0</td>\n",
       "      <td>24160.0</td>\n",
       "      <td>2962873.0</td>\n",
       "      <td>2210.0</td>\n",
       "      <td>0.0</td>\n",
       "      <td>0.0</td>\n",
       "    </tr>\n",
       "    <tr>\n",
       "      <th>4</th>\n",
       "      <td>192.168.3.193</td>\n",
       "      <td>tenants</td>\n",
       "      <td>484145977</td>\n",
       "      <td>284428423</td>\n",
       "      <td>199717554</td>\n",
       "      <td>0.0</td>\n",
       "      <td>11884.0</td>\n",
       "      <td>0.0</td>\n",
       "      <td>1742181.0</td>\n",
       "      <td>0.0</td>\n",
       "      <td>0.0</td>\n",
       "      <td>0.0</td>\n",
       "    </tr>\n",
       "  </tbody>\n",
       "</table>\n",
       "</div>"
      ],
      "text/plain": [
       "              IP     vlan  total_bytes  dowload_bytes  upload_bytes  \\\n",
       "0  192.168.3.246  tenants   6003659108     4339881106    1663778002   \n",
       "1  192.168.3.242  tenants    765143345      708025871      57117474   \n",
       "2  192.168.3.240  tenants   2074016853     1662128633     411888220   \n",
       "3  192.168.3.224  tenants  16712013950    16287389724     424624226   \n",
       "4  192.168.3.193  tenants    484145977      284428423     199717554   \n",
       "\n",
       "   Monday_avg_bytes  Tuesday_avg_bytes  Wednesday_avg_bytes  \\\n",
       "0          884371.0           731149.0             686591.0   \n",
       "1          110405.0            15476.0              70635.0   \n",
       "2           12195.0            25176.0             336888.0   \n",
       "3               0.0          9517041.0              24160.0   \n",
       "4               0.0            11884.0                  0.0   \n",
       "\n",
       "   Thursday_avg_bytes  Friday_avg_bytes  Saturday_avg_bytes  Sunday_avg_bytes  \n",
       "0                 0.0               0.0            132844.0         1143805.0  \n",
       "1             69328.0           19014.0             13308.0           16132.0  \n",
       "2            341015.0           21219.0             65170.0          351155.0  \n",
       "3           2962873.0            2210.0                 0.0               0.0  \n",
       "4           1742181.0               0.0                 0.0               0.0  "
      ]
     },
     "execution_count": 48,
     "metadata": {},
     "output_type": "execute_result"
    }
   ],
   "source": [
    "# replace the NaN values with 0\n",
    "df_users.fillna(0, inplace=True)\n",
    "df_users.head()"
   ]
  },
  {
   "cell_type": "markdown",
   "metadata": {},
   "source": [
    "##### Visualize the top 10 to see if they will be separable"
   ]
  },
  {
   "cell_type": "code",
   "execution_count": 84,
   "metadata": {},
   "outputs": [
    {
     "data": {
      "text/html": [
       "<div>\n",
       "<style scoped>\n",
       "    .dataframe tbody tr th:only-of-type {\n",
       "        vertical-align: middle;\n",
       "    }\n",
       "\n",
       "    .dataframe tbody tr th {\n",
       "        vertical-align: top;\n",
       "    }\n",
       "\n",
       "    .dataframe thead th {\n",
       "        text-align: right;\n",
       "    }\n",
       "</style>\n",
       "<table border=\"1\" class=\"dataframe\">\n",
       "  <thead>\n",
       "    <tr style=\"text-align: right;\">\n",
       "      <th></th>\n",
       "      <th>IP</th>\n",
       "      <th>vlan</th>\n",
       "      <th>total_bytes</th>\n",
       "      <th>dowload_bytes</th>\n",
       "      <th>upload_bytes</th>\n",
       "      <th>day_of_week</th>\n",
       "      <th>avg_bytes</th>\n",
       "    </tr>\n",
       "  </thead>\n",
       "  <tbody>\n",
       "    <tr>\n",
       "      <th>34</th>\n",
       "      <td>192.168.3.193</td>\n",
       "      <td>tenants</td>\n",
       "      <td>484145977</td>\n",
       "      <td>284428423</td>\n",
       "      <td>199717554</td>\n",
       "      <td>Thursday</td>\n",
       "      <td>1742181.0</td>\n",
       "    </tr>\n",
       "    <tr>\n",
       "      <th>48</th>\n",
       "      <td>192.168.3.178</td>\n",
       "      <td>tenants</td>\n",
       "      <td>540382287</td>\n",
       "      <td>520417869</td>\n",
       "      <td>19964418</td>\n",
       "      <td>Friday</td>\n",
       "      <td>0.0</td>\n",
       "    </tr>\n",
       "    <tr>\n",
       "      <th>28</th>\n",
       "      <td>192.168.3.178</td>\n",
       "      <td>tenants</td>\n",
       "      <td>540382287</td>\n",
       "      <td>520417869</td>\n",
       "      <td>19964418</td>\n",
       "      <td>Wednesday</td>\n",
       "      <td>0.0</td>\n",
       "    </tr>\n",
       "    <tr>\n",
       "      <th>67</th>\n",
       "      <td>192.168.3.179</td>\n",
       "      <td>tenants</td>\n",
       "      <td>30482126</td>\n",
       "      <td>24614818</td>\n",
       "      <td>5867308</td>\n",
       "      <td>Sunday</td>\n",
       "      <td>15014.0</td>\n",
       "    </tr>\n",
       "    <tr>\n",
       "      <th>10</th>\n",
       "      <td>192.168.3.246</td>\n",
       "      <td>tenants</td>\n",
       "      <td>6003659108</td>\n",
       "      <td>4339881106</td>\n",
       "      <td>1663778002</td>\n",
       "      <td>Tuesday</td>\n",
       "      <td>731149.0</td>\n",
       "    </tr>\n",
       "  </tbody>\n",
       "</table>\n",
       "</div>"
      ],
      "text/plain": [
       "               IP     vlan  total_bytes  dowload_bytes  upload_bytes  \\\n",
       "34  192.168.3.193  tenants    484145977      284428423     199717554   \n",
       "48  192.168.3.178  tenants    540382287      520417869      19964418   \n",
       "28  192.168.3.178  tenants    540382287      520417869      19964418   \n",
       "67  192.168.3.179  tenants     30482126       24614818       5867308   \n",
       "10  192.168.3.246  tenants   6003659108     4339881106    1663778002   \n",
       "\n",
       "   day_of_week  avg_bytes  \n",
       "34    Thursday  1742181.0  \n",
       "48      Friday        0.0  \n",
       "28   Wednesday        0.0  \n",
       "67      Sunday    15014.0  \n",
       "10     Tuesday   731149.0  "
      ]
     },
     "execution_count": 84,
     "metadata": {},
     "output_type": "execute_result"
    }
   ],
   "source": [
    "# create a dataframe suitable for creating the plot\n",
    "df_day_plot = df_users.rename(columns=lambda x: x.replace('_avg_bytes', '')).head(10)\n",
    "\n",
    "df_day_plot = df_day_plot.melt(\n",
    "    id_vars=list(df_users.columns)[:-7], \n",
    "    var_name='day_of_week', \n",
    "    value_name='avg_bytes')\n",
    "\n",
    "df_day_plot.sample(n=5, random_state=5)"
   ]
  },
  {
   "cell_type": "code",
   "execution_count": 85,
   "metadata": {},
   "outputs": [
    {
     "data": {
      "image/png": "[encoded data removed]",
      "text/plain": [
       "<Figure size 1080x396 with 1 Axes>"
      ]
     },
     "metadata": {
      "needs_background": "light"
     },
     "output_type": "display_data"
    }
   ],
   "source": [
    "\n",
    "fig_dims = (15, 5.5)\n",
    "fig, ax = plt.subplots(figsize=fig_dims)\n",
    "\n",
    "sns.lineplot(\n",
    "    data=df_day_plot,\n",
    "    x='day_of_week',\n",
    "    y='avg_bytes',\n",
    "    hue='IP',\n",
    "    ax=ax\n",
    ").set(\n",
    "    title='Average Bandwidth Usage by Day of the Week',\n",
    "    ylabel='Usage in Bytes')\n",
    "\n",
    "sns.move_legend(ax, \"upper left\", bbox_to_anchor=(1, 1))\n",
    "plt.show()\n"
   ]
  }
 ],
 "metadata": {
  "interpreter": {
   "hash": "429f3e8d45833d845e6e031dbf3e229703adf0bd2129019c99d8da7ba46dd29e"
  },
  "kernelspec": {
   "display_name": "Python 3.8.12 ('dsm010')",
   "language": "python",
   "name": "python3"
  },
  "language_info": {
   "codemirror_mode": {
    "name": "ipython",
    "version": 3
   },
   "file_extension": ".py",
   "mimetype": "text/x-python",
   "name": "python",
   "nbconvert_exporter": "python",
   "pygments_lexer": "ipython3",
   "version": "3.8.12"
  },
  "orig_nbformat": 4
 },
 "nbformat": 4,
 "nbformat_minor": 2
}
